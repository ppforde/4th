{
 "cells": [
  {
   "cell_type": "code",
   "execution_count": null,
   "metadata": {},
   "outputs": [],
   "source": [
    "import pandas as pd\n",
    "import numpy as np\n",
    "import matplotlib.pyplot as plt"
   ]
  },
  {
   "cell_type": "code",
   "execution_count": null,
   "metadata": {},
   "outputs": [],
   "source": [
    "from matplotlib.ticker import FuncFormatter\n",
    "from matplotlib import rcParams\n",
    "\n",
    "rcParams['font.family'] = 'serif'\n",
    "rcParams['figure.figsize'] = (10, 5)\n",
    "\n",
    "plt.style.use('fast')"
   ]
  },
  {
   "cell_type": "code",
   "execution_count": null,
   "metadata": {},
   "outputs": [],
   "source": [
    "df = pd.DataFrame(\n",
    "    {\n",
    "        'Period':pd.date_range('20000101', periods = 11, freq='y'),\n",
    "        'United States':(105.54, 115.71, 140.29, 183.87, 223.29, 260.61, 334.95, 457.33, 649.68, 746.52, 887.62),\n",
    "        'Brazil':(183.89, 197.59, 216.93, 249.35, 251.72, 276.42, 307.31, 395.68, 486.35, 477.53, 527.32),\n",
    "        'Germany':(4.3, 5.4, 8.8, 14, 20.4, 35.8, 59.4, 63.8 ,65, 58, 62),\n",
    "        'India':(2.9, 3.0, 3.2, 3.3, 3.5, 3.9, 4.5, 4.7, 5.2, 7, 7),\n",
    "    }\n",
    ")\n",
    "\n",
    "df.set_index('Period', inplace=True)\n",
    "\n",
    "df"
   ]
  },
  {
   "cell_type": "code",
   "execution_count": null,
   "metadata": {},
   "outputs": [],
   "source": [
    "df.sum()"
   ]
  },
  {
   "cell_type": "code",
   "execution_count": null,
   "metadata": {},
   "outputs": [],
   "source": [
    "data = df.sum()\n",
    "\n",
    "color_map = np.where(data.index == 'Brazil', 'navy', 'gray')\n",
    "\n",
    "fig, ax = plt.subplots(figsize=(12,5))\n",
    "\n",
    "ax.bar(x=data.index, height=data.values, color=color_map, alpha=.75)\n",
    "\n",
    "ax.set_facecolor('white')\n",
    "\n",
    "ax.spines['top'].set_visible(False)\n",
    "ax.spines['right'].set_visible(False)\n",
    "ax.spines['bottom'].set_visible(True)\n",
    "ax.spines['left'].set_visible(False)\n",
    "\n",
    "ax.spines['bottom'].set_linewidth(2)\n",
    "\n",
    "ax.set_xticklabels(labels=data.index, fontdict={'fontsize':14})\n",
    "\n",
    "for index, value in enumerate(data.values):\n",
    "    plt.text(\n",
    "        x=index,\n",
    "        y=value + 100,\n",
    "        ha='center',\n",
    "        fontdict={'fontsize':14, 'color':'crimson'},\n",
    "        s='{:,.1f}'.format(value)\n",
    "    )\n",
    "    \n",
    "plt.xticks(rotation=0)\n",
    "\n",
    "plt.yticks([])\n",
    "\n",
    "plt.ylim(top=data.values.max() + 500)\n",
    "\n",
    "plt.grid(False)\n",
    "\n",
    "title_font={\n",
    "    'fontsize':18,\n",
    "    'color':'blue'\n",
    "}\n",
    "\n",
    "plt.title('Biofuel Production Totals', fontdict=title_font);"
   ]
  },
  {
   "cell_type": "code",
   "execution_count": null,
   "metadata": {},
   "outputs": [],
   "source": [
    "xval = df.index\n",
    "yval = df.sum(axis=1)\n",
    "\n",
    "plt.figure(figsize=(12,6))\n",
    "plt.plot(xval, yval, lw=4, alpha=0.3, marker='s', label='Sum')\n",
    "plt.ylim(0, yval.max() + 500)\n",
    "plt.hlines(y=np.mean(yval), xmin=min(xval), xmax=max(xval), ls='dotted', color='r', label='Avg')\n",
    "\n",
    "for i, x in enumerate(yval):\n",
    "    plt.text(x=xval[i], va='bottom', ha='center', y=yval[i] + 40, s='{:,.1f}'.format(x), fontdict={'fontsize':11, 'fontstyle':'italic'})\n",
    "    plt.legend(loc='upper left', borderaxespad=2)\n",
    "    \n",
    "plt.grid(True, alpha=.2)    \n",
    "plt.title('Biofuels Production', fontsize=18)\n",
    "plt.xlabel('Years', fontsize=16)\n",
    "plt.ylabel('GWh', fontsize=16)\n",
    "plt.yticks([])\n",
    "\n",
    "plt.show();"
   ]
  },
  {
   "cell_type": "code",
   "execution_count": null,
   "metadata": {},
   "outputs": [],
   "source": [
    "data = df.sum()\n",
    "\n",
    "explode=(0,0.1,0,0)\n",
    "\n",
    "fig, ax = plt.subplots(figsize=(6,6), subplot_kw=dict(aspect='equal'))\n",
    "\n",
    "wedges, texts, autotexts = ax.pie(data.values, autopct='%0.1f%%', shadow=True, explode=explode, textprops=dict(color='w'))\n",
    "\n",
    "ax.legend(\n",
    "    wedges,\n",
    "    data.index,\n",
    "    title='locations',\n",
    "    loc='center left',\n",
    "    bbox_to_anchor=(1,0,0.5,1)\n",
    ")\n",
    "\n",
    "plt.setp(autotexts, size=10, weight='normal')\n",
    "\n",
    "ax.set_title(\"Biofuels Production\")\n",
    "\n",
    "plt.show();"
   ]
  },
  {
   "cell_type": "code",
   "execution_count": null,
   "metadata": {},
   "outputs": [],
   "source": [
    "symbol = 'ULTA'\n",
    "\n",
    "df = pd.read_csv(f'https://www.quandl.com/api/v3/datasets/WIKI/{symbol}.csv', parse_dates=['Date'], index_col=0)\n",
    "\n",
    "df.info()"
   ]
  },
  {
   "cell_type": "code",
   "execution_count": null,
   "metadata": {},
   "outputs": [],
   "source": [
    "plt.figure(figsize=(14,5))\n",
    "\n",
    "df['Avg'] = df['Close'].mean()\n",
    "df['Close'].plot(color='b', ls='solid', lw=.5)\n",
    "df['Avg'].plot(color='r', ls='-.')\n",
    "plt.title('Symbol = {}, Highest = \\${:,.2f}, Lowest = \\${:,.2f}'\n",
    "          .format(symbol, df['Close'].max(), df['Close'].min()))\n",
    "plt.fill_between(df.index, df['Close'], df['Avg'], color='b', alpha=0.1)\n",
    "plt.legend()\n",
    "plt.grid(alpha=0.2)\n",
    "plt.show();"
   ]
  },
  {
   "cell_type": "code",
   "execution_count": null,
   "metadata": {},
   "outputs": [],
   "source": [
    "def currency(x, pos):\n",
    "    if x >= 1e9:\n",
    "        return '${:,.0f}T'.format(x * 1e-9)\n",
    "    elif x >= 1e6:\n",
    "        return '${:,.0f}M'.format(x * 1e-6)\n",
    "    return '${:,.0f}K'.format(x * 1e-3)\n",
    "\n",
    "def number(x, pos):\n",
    "    if x >= 1e9:\n",
    "        return '{:,}T'.format(x * 1e-9)\n",
    "    elif x >= 1e6:\n",
    "        return '{:,}M'.format(x * 1e-6)\n",
    "    return '{:,}K'.format(x * 1e-3)"
   ]
  },
  {
   "cell_type": "code",
   "execution_count": null,
   "metadata": {
    "scrolled": false
   },
   "outputs": [],
   "source": [
    "fig, ax = plt.subplots()\n",
    "\n",
    "plt.hist(x = df['Volume'], color='navy', alpha=.5)\n",
    "\n",
    "formatterx = FuncFormatter(currency)\n",
    "formattery = FuncFormatter(number)\n",
    "\n",
    "ax.spines['top'].set_visible(False)\n",
    "ax.spines['right'].set_visible(False)\n",
    "ax.spines['bottom'].set_visible(True)\n",
    "ax.spines['left'].set_visible(True)\n",
    "\n",
    "ax.axvline(x=np.mean(df['Volume']), color='k', ls='--')\n",
    "\n",
    "ax.xaxis.set_major_formatter(formatterx)\n",
    "ax.yaxis.set_major_formatter(formattery)\n",
    "\n",
    "title_font={\n",
    "    'fontsize':14,\n",
    "    'color':'grey'\n",
    "}\n",
    "\n",
    "plt.title(f'Histogram of volumes for {symbol}', fontdict=title_font);\n",
    "plt.xlabel(\"Volumes\")\n",
    "plt.ylabel(\"Frequency\")\n",
    "plt.show();"
   ]
  },
  {
   "cell_type": "code",
   "execution_count": null,
   "metadata": {},
   "outputs": [],
   "source": []
  }
 ],
 "metadata": {
  "kernelspec": {
   "display_name": "Python 3",
   "language": "python",
   "name": "python3"
  },
  "language_info": {
   "codemirror_mode": {
    "name": "ipython",
    "version": 3
   },
   "file_extension": ".py",
   "mimetype": "text/x-python",
   "name": "python",
   "nbconvert_exporter": "python",
   "pygments_lexer": "ipython3",
   "version": "3.8.3"
  }
 },
 "nbformat": 4,
 "nbformat_minor": 4
}
