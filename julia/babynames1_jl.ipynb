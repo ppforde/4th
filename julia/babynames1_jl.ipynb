{
 "cells": [
  {
   "cell_type": "code",
   "execution_count": 1,
   "metadata": {},
   "outputs": [],
   "source": [
    "using Queryverse"
   ]
  },
  {
   "cell_type": "code",
   "execution_count": 5,
   "metadata": {},
   "outputs": [],
   "source": [
    "using CSV"
   ]
  },
  {
   "cell_type": "code",
   "execution_count": null,
   "metadata": {},
   "outputs": [],
   "source": [
    "using DataFrames"
   ]
  },
  {
   "cell_type": "code",
   "execution_count": null,
   "metadata": {},
   "outputs": [],
   "source": [
    "using Plots"
   ]
  },
  {
   "cell_type": "code",
   "execution_count": null,
   "metadata": {},
   "outputs": [],
   "source": [
    ";ls"
   ]
  },
  {
   "cell_type": "code",
   "execution_count": null,
   "metadata": {},
   "outputs": [],
   "source": [
    ";curl -o namesbystate.zip https://www.ssa.gov/oact/babynames/state/namesbystate.zip"
   ]
  },
  {
   "cell_type": "code",
   "execution_count": null,
   "metadata": {},
   "outputs": [],
   "source": [
    ";unzip namesbystate.zip -d baby_data"
   ]
  },
  {
   "cell_type": "code",
   "execution_count": null,
   "metadata": {},
   "outputs": [],
   "source": [
    ";head baby_data/WY.TXT"
   ]
  },
  {
   "cell_type": "code",
   "execution_count": null,
   "metadata": {},
   "outputs": [],
   "source": [
    ";tail baby_data/AL.TXT"
   ]
  },
  {
   "cell_type": "code",
   "execution_count": null,
   "metadata": {},
   "outputs": [],
   "source": [
    ";grep -n -i -w Gregg baby_data/AL.TXT"
   ]
  },
  {
   "cell_type": "code",
   "execution_count": 2,
   "metadata": {},
   "outputs": [],
   "source": [
    "using Glob"
   ]
  },
  {
   "cell_type": "code",
   "execution_count": 3,
   "metadata": {},
   "outputs": [
    {
     "data": {
      "text/plain": [
       "51-element Array{String,1}:\n",
       " \"baby_data/AK.TXT\"\n",
       " \"baby_data/AL.TXT\"\n",
       " \"baby_data/AR.TXT\"\n",
       " \"baby_data/AZ.TXT\"\n",
       " \"baby_data/CA.TXT\"\n",
       " \"baby_data/CO.TXT\"\n",
       " \"baby_data/CT.TXT\"\n",
       " \"baby_data/DC.TXT\"\n",
       " \"baby_data/DE.TXT\"\n",
       " \"baby_data/FL.TXT\"\n",
       " \"baby_data/GA.TXT\"\n",
       " \"baby_data/HI.TXT\"\n",
       " \"baby_data/IA.TXT\"\n",
       " ⋮\n",
       " \"baby_data/RI.TXT\"\n",
       " \"baby_data/SC.TXT\"\n",
       " \"baby_data/SD.TXT\"\n",
       " \"baby_data/TN.TXT\"\n",
       " \"baby_data/TX.TXT\"\n",
       " \"baby_data/UT.TXT\"\n",
       " \"baby_data/VA.TXT\"\n",
       " \"baby_data/VT.TXT\"\n",
       " \"baby_data/WA.TXT\"\n",
       " \"baby_data/WI.TXT\"\n",
       " \"baby_data/WV.TXT\"\n",
       " \"baby_data/WY.TXT\""
      ]
     },
     "execution_count": 3,
     "metadata": {},
     "output_type": "execute_result"
    }
   ],
   "source": [
    "files = glob(\"baby_data/*.TXT\")"
   ]
  },
  {
   "cell_type": "code",
   "execution_count": null,
   "metadata": {},
   "outputs": [],
   "source": [
    "df = DataFrame.(CSV.File.(files[1], header=false))"
   ]
  },
  {
   "cell_type": "code",
   "execution_count": null,
   "metadata": {},
   "outputs": [],
   "source": [
    "typeof(df)"
   ]
  },
  {
   "cell_type": "code",
   "execution_count": 6,
   "metadata": {
    "scrolled": false
   },
   "outputs": [],
   "source": [
    "df = DataFrame()\n",
    "\n",
    "for file in files\n",
    "    xf = DataFrame(CSV.File.(file, header=false))\n",
    "    df = append!(df, xf)\n",
    "end"
   ]
  },
  {
   "cell_type": "code",
   "execution_count": 7,
   "metadata": {},
   "outputs": [
    {
     "data": {
      "text/plain": [
       "DataFrame"
      ]
     },
     "execution_count": 7,
     "metadata": {},
     "output_type": "execute_result"
    }
   ],
   "source": [
    "typeof(df)"
   ]
  },
  {
   "cell_type": "code",
   "execution_count": 8,
   "metadata": {},
   "outputs": [
    {
     "data": {
      "text/html": [
       "<table class=\"data-frame\"><thead><tr><th></th><th>Column1</th><th>Column2</th><th>Column3</th><th>Column4</th><th>Column5</th></tr><tr><th></th><th>String</th><th>String</th><th>Int64</th><th>String</th><th>Int64</th></tr></thead><tbody><p>6 rows × 5 columns</p><tr><th>1</th><td>AK</td><td>F</td><td>1910</td><td>Mary</td><td>14</td></tr><tr><th>2</th><td>AK</td><td>F</td><td>1910</td><td>Annie</td><td>12</td></tr><tr><th>3</th><td>AK</td><td>F</td><td>1910</td><td>Anna</td><td>10</td></tr><tr><th>4</th><td>AK</td><td>F</td><td>1910</td><td>Margaret</td><td>8</td></tr><tr><th>5</th><td>AK</td><td>F</td><td>1910</td><td>Helen</td><td>7</td></tr><tr><th>6</th><td>AK</td><td>F</td><td>1910</td><td>Elsie</td><td>6</td></tr></tbody></table>"
      ],
      "text/latex": [
       "\\begin{tabular}{r|ccccc}\n",
       "\t& Column1 & Column2 & Column3 & Column4 & Column5\\\\\n",
       "\t\\hline\n",
       "\t& String & String & Int64 & String & Int64\\\\\n",
       "\t\\hline\n",
       "\t1 & AK & F & 1910 & Mary & 14 \\\\\n",
       "\t2 & AK & F & 1910 & Annie & 12 \\\\\n",
       "\t3 & AK & F & 1910 & Anna & 10 \\\\\n",
       "\t4 & AK & F & 1910 & Margaret & 8 \\\\\n",
       "\t5 & AK & F & 1910 & Helen & 7 \\\\\n",
       "\t6 & AK & F & 1910 & Elsie & 6 \\\\\n",
       "\\end{tabular}\n"
      ],
      "text/plain": [
       "6×5 DataFrame\n",
       "│ Row │ Column1 │ Column2 │ Column3 │ Column4  │ Column5 │\n",
       "│     │ \u001b[90mString\u001b[39m  │ \u001b[90mString\u001b[39m  │ \u001b[90mInt64\u001b[39m   │ \u001b[90mString\u001b[39m   │ \u001b[90mInt64\u001b[39m   │\n",
       "├─────┼─────────┼─────────┼─────────┼──────────┼─────────┤\n",
       "│ 1   │ AK      │ F       │ 1910    │ Mary     │ 14      │\n",
       "│ 2   │ AK      │ F       │ 1910    │ Annie    │ 12      │\n",
       "│ 3   │ AK      │ F       │ 1910    │ Anna     │ 10      │\n",
       "│ 4   │ AK      │ F       │ 1910    │ Margaret │ 8       │\n",
       "│ 5   │ AK      │ F       │ 1910    │ Helen    │ 7       │\n",
       "│ 6   │ AK      │ F       │ 1910    │ Elsie    │ 6       │"
      ]
     },
     "execution_count": 8,
     "metadata": {},
     "output_type": "execute_result"
    }
   ],
   "source": [
    "head(df)"
   ]
  },
  {
   "cell_type": "code",
   "execution_count": 9,
   "metadata": {},
   "outputs": [
    {
     "data": {
      "text/html": [
       "<table class=\"data-frame\"><thead><tr><th></th><th>Column1</th><th>Column2</th><th>Column3</th><th>Column4</th><th>Column5</th></tr><tr><th></th><th>String</th><th>String</th><th>Int64</th><th>String</th><th>Int64</th></tr></thead><tbody><p>6 rows × 5 columns</p><tr><th>1</th><td>WY</td><td>M</td><td>2019</td><td>Tate</td><td>5</td></tr><tr><th>2</th><td>WY</td><td>M</td><td>2019</td><td>Theo</td><td>5</td></tr><tr><th>3</th><td>WY</td><td>M</td><td>2019</td><td>Tristan</td><td>5</td></tr><tr><th>4</th><td>WY</td><td>M</td><td>2019</td><td>Vincent</td><td>5</td></tr><tr><th>5</th><td>WY</td><td>M</td><td>2019</td><td>Warren</td><td>5</td></tr><tr><th>6</th><td>WY</td><td>M</td><td>2019</td><td>Waylon</td><td>5</td></tr></tbody></table>"
      ],
      "text/latex": [
       "\\begin{tabular}{r|ccccc}\n",
       "\t& Column1 & Column2 & Column3 & Column4 & Column5\\\\\n",
       "\t\\hline\n",
       "\t& String & String & Int64 & String & Int64\\\\\n",
       "\t\\hline\n",
       "\t1 & WY & M & 2019 & Tate & 5 \\\\\n",
       "\t2 & WY & M & 2019 & Theo & 5 \\\\\n",
       "\t3 & WY & M & 2019 & Tristan & 5 \\\\\n",
       "\t4 & WY & M & 2019 & Vincent & 5 \\\\\n",
       "\t5 & WY & M & 2019 & Warren & 5 \\\\\n",
       "\t6 & WY & M & 2019 & Waylon & 5 \\\\\n",
       "\\end{tabular}\n"
      ],
      "text/plain": [
       "6×5 DataFrame\n",
       "│ Row │ Column1 │ Column2 │ Column3 │ Column4 │ Column5 │\n",
       "│     │ \u001b[90mString\u001b[39m  │ \u001b[90mString\u001b[39m  │ \u001b[90mInt64\u001b[39m   │ \u001b[90mString\u001b[39m  │ \u001b[90mInt64\u001b[39m   │\n",
       "├─────┼─────────┼─────────┼─────────┼─────────┼─────────┤\n",
       "│ 1   │ WY      │ M       │ 2019    │ Tate    │ 5       │\n",
       "│ 2   │ WY      │ M       │ 2019    │ Theo    │ 5       │\n",
       "│ 3   │ WY      │ M       │ 2019    │ Tristan │ 5       │\n",
       "│ 4   │ WY      │ M       │ 2019    │ Vincent │ 5       │\n",
       "│ 5   │ WY      │ M       │ 2019    │ Warren  │ 5       │\n",
       "│ 6   │ WY      │ M       │ 2019    │ Waylon  │ 5       │"
      ]
     },
     "execution_count": 9,
     "metadata": {},
     "output_type": "execute_result"
    }
   ],
   "source": [
    "tail(df)"
   ]
  },
  {
   "cell_type": "code",
   "execution_count": 10,
   "metadata": {},
   "outputs": [
    {
     "data": {
      "text/plain": [
       "(6122890, 5)"
      ]
     },
     "execution_count": 10,
     "metadata": {},
     "output_type": "execute_result"
    }
   ],
   "source": [
    "size(df)"
   ]
  },
  {
   "cell_type": "code",
   "execution_count": 11,
   "metadata": {},
   "outputs": [
    {
     "data": {
      "text/html": [
       "<table class=\"data-frame\"><thead><tr><th></th><th>State</th><th>Gender</th><th>Period</th><th>Name</th><th>Total</th></tr><tr><th></th><th>String</th><th>String</th><th>Int64</th><th>String</th><th>Int64</th></tr></thead><tbody><p>6,122,890 rows × 5 columns</p><tr><th>1</th><td>AK</td><td>F</td><td>1910</td><td>Mary</td><td>14</td></tr><tr><th>2</th><td>AK</td><td>F</td><td>1910</td><td>Annie</td><td>12</td></tr><tr><th>3</th><td>AK</td><td>F</td><td>1910</td><td>Anna</td><td>10</td></tr><tr><th>4</th><td>AK</td><td>F</td><td>1910</td><td>Margaret</td><td>8</td></tr><tr><th>5</th><td>AK</td><td>F</td><td>1910</td><td>Helen</td><td>7</td></tr><tr><th>6</th><td>AK</td><td>F</td><td>1910</td><td>Elsie</td><td>6</td></tr><tr><th>7</th><td>AK</td><td>F</td><td>1910</td><td>Lucy</td><td>6</td></tr><tr><th>8</th><td>AK</td><td>F</td><td>1910</td><td>Dorothy</td><td>5</td></tr><tr><th>9</th><td>AK</td><td>F</td><td>1911</td><td>Mary</td><td>12</td></tr><tr><th>10</th><td>AK</td><td>F</td><td>1911</td><td>Margaret</td><td>7</td></tr><tr><th>11</th><td>AK</td><td>F</td><td>1911</td><td>Ruth</td><td>7</td></tr><tr><th>12</th><td>AK</td><td>F</td><td>1911</td><td>Annie</td><td>6</td></tr><tr><th>13</th><td>AK</td><td>F</td><td>1911</td><td>Elizabeth</td><td>6</td></tr><tr><th>14</th><td>AK</td><td>F</td><td>1911</td><td>Helen</td><td>6</td></tr><tr><th>15</th><td>AK</td><td>F</td><td>1912</td><td>Mary</td><td>9</td></tr><tr><th>16</th><td>AK</td><td>F</td><td>1912</td><td>Elsie</td><td>8</td></tr><tr><th>17</th><td>AK</td><td>F</td><td>1912</td><td>Agnes</td><td>7</td></tr><tr><th>18</th><td>AK</td><td>F</td><td>1912</td><td>Anna</td><td>7</td></tr><tr><th>19</th><td>AK</td><td>F</td><td>1912</td><td>Helen</td><td>7</td></tr><tr><th>20</th><td>AK</td><td>F</td><td>1912</td><td>Louise</td><td>7</td></tr><tr><th>21</th><td>AK</td><td>F</td><td>1912</td><td>Jean</td><td>6</td></tr><tr><th>22</th><td>AK</td><td>F</td><td>1912</td><td>Ruth</td><td>6</td></tr><tr><th>23</th><td>AK</td><td>F</td><td>1912</td><td>Alice</td><td>5</td></tr><tr><th>24</th><td>AK</td><td>F</td><td>1912</td><td>Esther</td><td>5</td></tr><tr><th>25</th><td>AK</td><td>F</td><td>1912</td><td>Ethel</td><td>5</td></tr><tr><th>26</th><td>AK</td><td>F</td><td>1912</td><td>Margaret</td><td>5</td></tr><tr><th>27</th><td>AK</td><td>F</td><td>1912</td><td>Marie</td><td>5</td></tr><tr><th>28</th><td>AK</td><td>F</td><td>1913</td><td>Mary</td><td>21</td></tr><tr><th>29</th><td>AK</td><td>F</td><td>1913</td><td>Elizabeth</td><td>9</td></tr><tr><th>30</th><td>AK</td><td>F</td><td>1913</td><td>Margaret</td><td>8</td></tr><tr><th>&vellip;</th><td>&vellip;</td><td>&vellip;</td><td>&vellip;</td><td>&vellip;</td><td>&vellip;</td></tr></tbody></table>"
      ],
      "text/latex": [
       "\\begin{tabular}{r|ccccc}\n",
       "\t& State & Gender & Period & Name & Total\\\\\n",
       "\t\\hline\n",
       "\t& String & String & Int64 & String & Int64\\\\\n",
       "\t\\hline\n",
       "\t1 & AK & F & 1910 & Mary & 14 \\\\\n",
       "\t2 & AK & F & 1910 & Annie & 12 \\\\\n",
       "\t3 & AK & F & 1910 & Anna & 10 \\\\\n",
       "\t4 & AK & F & 1910 & Margaret & 8 \\\\\n",
       "\t5 & AK & F & 1910 & Helen & 7 \\\\\n",
       "\t6 & AK & F & 1910 & Elsie & 6 \\\\\n",
       "\t7 & AK & F & 1910 & Lucy & 6 \\\\\n",
       "\t8 & AK & F & 1910 & Dorothy & 5 \\\\\n",
       "\t9 & AK & F & 1911 & Mary & 12 \\\\\n",
       "\t10 & AK & F & 1911 & Margaret & 7 \\\\\n",
       "\t11 & AK & F & 1911 & Ruth & 7 \\\\\n",
       "\t12 & AK & F & 1911 & Annie & 6 \\\\\n",
       "\t13 & AK & F & 1911 & Elizabeth & 6 \\\\\n",
       "\t14 & AK & F & 1911 & Helen & 6 \\\\\n",
       "\t15 & AK & F & 1912 & Mary & 9 \\\\\n",
       "\t16 & AK & F & 1912 & Elsie & 8 \\\\\n",
       "\t17 & AK & F & 1912 & Agnes & 7 \\\\\n",
       "\t18 & AK & F & 1912 & Anna & 7 \\\\\n",
       "\t19 & AK & F & 1912 & Helen & 7 \\\\\n",
       "\t20 & AK & F & 1912 & Louise & 7 \\\\\n",
       "\t21 & AK & F & 1912 & Jean & 6 \\\\\n",
       "\t22 & AK & F & 1912 & Ruth & 6 \\\\\n",
       "\t23 & AK & F & 1912 & Alice & 5 \\\\\n",
       "\t24 & AK & F & 1912 & Esther & 5 \\\\\n",
       "\t25 & AK & F & 1912 & Ethel & 5 \\\\\n",
       "\t26 & AK & F & 1912 & Margaret & 5 \\\\\n",
       "\t27 & AK & F & 1912 & Marie & 5 \\\\\n",
       "\t28 & AK & F & 1913 & Mary & 21 \\\\\n",
       "\t29 & AK & F & 1913 & Elizabeth & 9 \\\\\n",
       "\t30 & AK & F & 1913 & Margaret & 8 \\\\\n",
       "\t$\\dots$ & $\\dots$ & $\\dots$ & $\\dots$ & $\\dots$ & $\\dots$ \\\\\n",
       "\\end{tabular}\n"
      ],
      "text/plain": [
       "6122890×5 DataFrame\n",
       "│ Row     │ State  │ Gender │ Period │ Name     │ Total │\n",
       "│         │ \u001b[90mString\u001b[39m │ \u001b[90mString\u001b[39m │ \u001b[90mInt64\u001b[39m  │ \u001b[90mString\u001b[39m   │ \u001b[90mInt64\u001b[39m │\n",
       "├─────────┼────────┼────────┼────────┼──────────┼───────┤\n",
       "│ 1       │ AK     │ F      │ 1910   │ Mary     │ 14    │\n",
       "│ 2       │ AK     │ F      │ 1910   │ Annie    │ 12    │\n",
       "│ 3       │ AK     │ F      │ 1910   │ Anna     │ 10    │\n",
       "│ 4       │ AK     │ F      │ 1910   │ Margaret │ 8     │\n",
       "│ 5       │ AK     │ F      │ 1910   │ Helen    │ 7     │\n",
       "│ 6       │ AK     │ F      │ 1910   │ Elsie    │ 6     │\n",
       "│ 7       │ AK     │ F      │ 1910   │ Lucy     │ 6     │\n",
       "│ 8       │ AK     │ F      │ 1910   │ Dorothy  │ 5     │\n",
       "│ 9       │ AK     │ F      │ 1911   │ Mary     │ 12    │\n",
       "│ 10      │ AK     │ F      │ 1911   │ Margaret │ 7     │\n",
       "⋮\n",
       "│ 6122880 │ WY     │ M      │ 2019   │ Oakley   │ 5     │\n",
       "│ 6122881 │ WY     │ M      │ 2019   │ Paxton   │ 5     │\n",
       "│ 6122882 │ WY     │ M      │ 2019   │ Porter   │ 5     │\n",
       "│ 6122883 │ WY     │ M      │ 2019   │ Richard  │ 5     │\n",
       "│ 6122884 │ WY     │ M      │ 2019   │ Ronan    │ 5     │\n",
       "│ 6122885 │ WY     │ M      │ 2019   │ Tate     │ 5     │\n",
       "│ 6122886 │ WY     │ M      │ 2019   │ Theo     │ 5     │\n",
       "│ 6122887 │ WY     │ M      │ 2019   │ Tristan  │ 5     │\n",
       "│ 6122888 │ WY     │ M      │ 2019   │ Vincent  │ 5     │\n",
       "│ 6122889 │ WY     │ M      │ 2019   │ Warren   │ 5     │\n",
       "│ 6122890 │ WY     │ M      │ 2019   │ Waylon   │ 5     │"
      ]
     },
     "execution_count": 11,
     "metadata": {},
     "output_type": "execute_result"
    }
   ],
   "source": [
    "df = rename(df,\n",
    "    :Column1 => :State,\n",
    "    :Column2 => :Gender,\n",
    "    :Column3 => :Period,\n",
    "    :Column4 => :Name,\n",
    "    :Column5 => :Total\n",
    ")"
   ]
  },
  {
   "cell_type": "code",
   "execution_count": 12,
   "metadata": {},
   "outputs": [
    {
     "data": {
      "text/plain": [
       "2-element Array{String,1}:\n",
       " \"F\"\n",
       " \"M\""
      ]
     },
     "execution_count": 12,
     "metadata": {},
     "output_type": "execute_result"
    }
   ],
   "source": [
    "unique(df.Gender)"
   ]
  },
  {
   "cell_type": "code",
   "execution_count": 13,
   "metadata": {},
   "outputs": [
    {
     "data": {
      "text/plain": [
       "314092866"
      ]
     },
     "execution_count": 13,
     "metadata": {},
     "output_type": "execute_result"
    }
   ],
   "source": [
    "sum(df.Total)"
   ]
  },
  {
   "cell_type": "code",
   "execution_count": 14,
   "metadata": {},
   "outputs": [
    {
     "data": {
      "application/vnd.vegalite.v4+json": {
       "data": {
        "values": [
         {
          "SumTotal": 287,
          "Years": 1910
         },
         {
          "SumTotal": 279,
          "Years": 1911
         },
         {
          "SumTotal": 687,
          "Years": 1912
         },
         {
          "SumTotal": 837,
          "Years": 1913
         },
         {
          "SumTotal": 1102,
          "Years": 1914
         },
         {
          "SumTotal": 1434,
          "Years": 1915
         },
         {
          "SumTotal": 1381,
          "Years": 1916
         },
         {
          "SumTotal": 1487,
          "Years": 1917
         },
         {
          "SumTotal": 1690,
          "Years": 1918
         },
         {
          "SumTotal": 1582,
          "Years": 1919
         },
         {
          "SumTotal": 1606,
          "Years": 1920
         },
         {
          "SumTotal": 1704,
          "Years": 1921
         },
         {
          "SumTotal": 1600,
          "Years": 1922
         },
         {
          "SumTotal": 1625,
          "Years": 1923
         },
         {
          "SumTotal": 1748,
          "Years": 1924
         },
         {
          "SumTotal": 1576,
          "Years": 1925
         },
         {
          "SumTotal": 1547,
          "Years": 1926
         },
         {
          "SumTotal": 1502,
          "Years": 1927
         },
         {
          "SumTotal": 1421,
          "Years": 1928
         },
         {
          "SumTotal": 1300,
          "Years": 1929
         },
         {
          "SumTotal": 1305,
          "Years": 1930
         },
         {
          "SumTotal": 1227,
          "Years": 1931
         },
         {
          "SumTotal": 1198,
          "Years": 1932
         },
         {
          "SumTotal": 1218,
          "Years": 1933
         },
         {
          "SumTotal": 1258,
          "Years": 1934
         },
         {
          "SumTotal": 1304,
          "Years": 1935
         },
         {
          "SumTotal": 1368,
          "Years": 1936
         },
         {
          "SumTotal": 1341,
          "Years": 1937
         },
         {
          "SumTotal": 1370,
          "Years": 1938
         },
         {
          "SumTotal": 1407,
          "Years": 1939
         },
         {
          "SumTotal": 1555,
          "Years": 1940
         },
         {
          "SumTotal": 1995,
          "Years": 1941
         },
         {
          "SumTotal": 2527,
          "Years": 1942
         },
         {
          "SumTotal": 3006,
          "Years": 1943
         },
         {
          "SumTotal": 3137,
          "Years": 1944
         },
         {
          "SumTotal": 3654,
          "Years": 1945
         },
         {
          "SumTotal": 4259,
          "Years": 1946
         },
         {
          "SumTotal": 4639,
          "Years": 1947
         },
         {
          "SumTotal": 4509,
          "Years": 1948
         },
         {
          "SumTotal": 4605,
          "Years": 1949
         },
         {
          "SumTotal": 4438,
          "Years": 1950
         },
         {
          "SumTotal": 4824,
          "Years": 1951
         },
         {
          "SumTotal": 5921,
          "Years": 1952
         },
         {
          "SumTotal": 6185,
          "Years": 1953
         },
         {
          "SumTotal": 6374,
          "Years": 1954
         },
         {
          "SumTotal": 6624,
          "Years": 1955
         },
         {
          "SumTotal": 6426,
          "Years": 1956
         },
         {
          "SumTotal": 8198,
          "Years": 1957
         },
         {
          "SumTotal": 7939,
          "Years": 1958
         },
         {
          "SumTotal": 7388,
          "Years": 1959
         },
         {
          "SumTotal": 6903,
          "Years": 1960
         },
         {
          "SumTotal": 7286,
          "Years": 1961
         },
         {
          "SumTotal": 7418,
          "Years": 1962
         },
         {
          "SumTotal": 7401,
          "Years": 1963
         },
         {
          "SumTotal": 7031,
          "Years": 1964
         },
         {
          "SumTotal": 6278,
          "Years": 1965
         },
         {
          "SumTotal": 6215,
          "Years": 1966
         },
         {
          "SumTotal": 6371,
          "Years": 1967
         },
         {
          "SumTotal": 6280,
          "Years": 1968
         },
         {
          "SumTotal": 6845,
          "Years": 1969
         },
         {
          "SumTotal": 6621,
          "Years": 1970
         },
         {
          "SumTotal": 6086,
          "Years": 1971
         },
         {
          "SumTotal": 4990,
          "Years": 1972
         },
         {
          "SumTotal": 4715,
          "Years": 1973
         },
         {
          "SumTotal": 5122,
          "Years": 1974
         },
         {
          "SumTotal": 4754,
          "Years": 1975
         },
         {
          "SumTotal": 4792,
          "Years": 1976
         },
         {
          "SumTotal": 4817,
          "Years": 1977
         },
         {
          "SumTotal": 4827,
          "Years": 1978
         },
         {
          "SumTotal": 4989,
          "Years": 1979
         },
         {
          "SumTotal": 5246,
          "Years": 1980
         },
         {
          "SumTotal": 5386,
          "Years": 1981
         },
         {
          "SumTotal": 5365,
          "Years": 1982
         },
         {
          "SumTotal": 4623,
          "Years": 1983
         },
         {
          "SumTotal": 4129,
          "Years": 1984
         },
         {
          "SumTotal": 3891,
          "Years": 1985
         },
         {
          "SumTotal": 3540,
          "Years": 1986
         },
         {
          "SumTotal": 3422,
          "Years": 1987
         },
         {
          "SumTotal": 3355,
          "Years": 1988
         },
         {
          "SumTotal": 3112,
          "Years": 1989
         },
         {
          "SumTotal": 3063,
          "Years": 1990
         },
         {
          "SumTotal": 2785,
          "Years": 1991
         },
         {
          "SumTotal": 2642,
          "Years": 1992
         },
         {
          "SumTotal": 2414,
          "Years": 1993
         },
         {
          "SumTotal": 2533,
          "Years": 1994
         },
         {
          "SumTotal": 2428,
          "Years": 1995
         },
         {
          "SumTotal": 2775,
          "Years": 1996
         },
         {
          "SumTotal": 2899,
          "Years": 1997
         },
         {
          "SumTotal": 3138,
          "Years": 1998
         },
         {
          "SumTotal": 3386,
          "Years": 1999
         },
         {
          "SumTotal": 3690,
          "Years": 2000
         },
         {
          "SumTotal": 3664,
          "Years": 2001
         },
         {
          "SumTotal": 3530,
          "Years": 2002
         },
         {
          "SumTotal": 3678,
          "Years": 2003
         },
         {
          "SumTotal": 3526,
          "Years": 2004
         },
         {
          "SumTotal": 3168,
          "Years": 2005
         },
         {
          "SumTotal": 3040,
          "Years": 2006
         },
         {
          "SumTotal": 2708,
          "Years": 2007
         },
         {
          "SumTotal": 2338,
          "Years": 2008
         },
         {
          "SumTotal": 1989,
          "Years": 2009
         },
         {
          "SumTotal": 1572,
          "Years": 2010
         },
         {
          "SumTotal": 1286,
          "Years": 2011
         },
         {
          "SumTotal": 1202,
          "Years": 2012
         },
         {
          "SumTotal": 1094,
          "Years": 2013
         },
         {
          "SumTotal": 997,
          "Years": 2014
         },
         {
          "SumTotal": 871,
          "Years": 2015
         },
         {
          "SumTotal": 775,
          "Years": 2016
         },
         {
          "SumTotal": 680,
          "Years": 2017
         },
         {
          "SumTotal": 555,
          "Years": 2018
         },
         {
          "SumTotal": 535,
          "Years": 2019
         }
        ]
       },
       "encoding": {
        "x": {
         "field": "Years",
         "type": "quantitative"
        },
        "y": {
         "field": "SumTotal",
         "type": "quantitative"
        }
       },
       "mark": "line"
      },
      "image/png": "[encoded data removed]",
      "image/svg+xml": [
       "<?xml version=\"1.0\" encoding=\"utf-8\"?>\n",
       "<!DOCTYPE svg PUBLIC \"-//W3C//DTD SVG 1.1//EN\" \"http://www.w3.org/Graphics/SVG/1.1/DTD/svg11.dtd\">\n",
       "<svg class=\"marks\" width=\"260\" height=\"242\" viewBox=\"0 0 260 242\" version=\"1.1\" xmlns=\"http://www.w3.org/2000/svg\" xmlns:xlink=\"http://www.w3.org/1999/xlink\"><rect width=\"260\" height=\"242\" fill=\"white\"></rect><g fill=\"none\" stroke-miterlimit=\"10\" transform=\"translate(54,5)\"><g class=\"mark-group role-frame root\" role=\"graphics-object\" aria-roledescription=\"group mark container\"><g transform=\"translate(0,0)\"><path class=\"background\" aria-hidden=\"true\" d=\"M0.5,0.5h200v200h-200Z\" stroke=\"#ddd\"></path><g><g class=\"mark-group role-axis\" aria-hidden=\"true\"><g transform=\"translate(0.5,200.5)\"><path class=\"background\" aria-hidden=\"true\" d=\"M0,0h0v0h0Z\" pointer-events=\"none\"></path><g><g class=\"mark-rule role-axis-grid\" pointer-events=\"none\"><line transform=\"translate(18,-200)\" x2=\"0\" y2=\"200\" stroke=\"#ddd\" stroke-width=\"1\" opacity=\"1\"></line><line transform=\"translate(55,-200)\" x2=\"0\" y2=\"200\" stroke=\"#ddd\" stroke-width=\"1\" opacity=\"1\"></line><line transform=\"translate(91,-200)\" x2=\"0\" y2=\"200\" stroke=\"#ddd\" stroke-width=\"1\" opacity=\"1\"></line><line transform=\"translate(127,-200)\" x2=\"0\" y2=\"200\" stroke=\"#ddd\" stroke-width=\"1\" opacity=\"1\"></line><line transform=\"translate(164,-200)\" x2=\"0\" y2=\"200\" stroke=\"#ddd\" stroke-width=\"1\" opacity=\"1\"></line><line transform=\"translate(200,-200)\" x2=\"0\" y2=\"200\" stroke=\"#ddd\" stroke-width=\"1\" opacity=\"1\"></line></g></g><path class=\"foreground\" aria-hidden=\"true\" d=\"\" pointer-events=\"none\" display=\"none\"></path></g></g><g class=\"mark-group role-axis\" aria-hidden=\"true\"><g transform=\"translate(0.5,0.5)\"><path class=\"background\" aria-hidden=\"true\" d=\"M0,0h0v0h0Z\" pointer-events=\"none\"></path><g><g class=\"mark-rule role-axis-grid\" pointer-events=\"none\"><line transform=\"translate(0,200)\" x2=\"200\" y2=\"0\" stroke=\"#ddd\" stroke-width=\"1\" opacity=\"1\"></line><line transform=\"translate(0,156)\" x2=\"200\" y2=\"0\" stroke=\"#ddd\" stroke-width=\"1\" opacity=\"1\"></line><line transform=\"translate(0,111)\" x2=\"200\" y2=\"0\" stroke=\"#ddd\" stroke-width=\"1\" opacity=\"1\"></line><line transform=\"translate(0,67)\" x2=\"200\" y2=\"0\" stroke=\"#ddd\" stroke-width=\"1\" opacity=\"1\"></line><line transform=\"translate(0,22)\" x2=\"200\" y2=\"0\" stroke=\"#ddd\" stroke-width=\"1\" opacity=\"1\"></line></g></g><path class=\"foreground\" aria-hidden=\"true\" d=\"\" pointer-events=\"none\" display=\"none\"></path></g></g><g class=\"mark-group role-axis\" role=\"graphics-symbol\" aria-roledescription=\"axis\" aria-label=\"X-axis titled 'Years' for a linear scale with values from 1,910 to 2,020\"><g transform=\"translate(0.5,200.5)\"><path class=\"background\" aria-hidden=\"true\" d=\"M0,0h0v0h0Z\" pointer-events=\"none\"></path><g><g class=\"mark-rule role-axis-tick\" pointer-events=\"none\"><line transform=\"translate(18,0)\" x2=\"0\" y2=\"5\" stroke=\"#888\" stroke-width=\"1\" opacity=\"1\"></line><line transform=\"translate(55,0)\" x2=\"0\" y2=\"5\" stroke=\"#888\" stroke-width=\"1\" opacity=\"1\"></line><line transform=\"translate(91,0)\" x2=\"0\" y2=\"5\" stroke=\"#888\" stroke-width=\"1\" opacity=\"1\"></line><line transform=\"translate(127,0)\" x2=\"0\" y2=\"5\" stroke=\"#888\" stroke-width=\"1\" opacity=\"1\"></line><line transform=\"translate(164,0)\" x2=\"0\" y2=\"5\" stroke=\"#888\" stroke-width=\"1\" opacity=\"1\"></line><line transform=\"translate(200,0)\" x2=\"0\" y2=\"5\" stroke=\"#888\" stroke-width=\"1\" opacity=\"1\"></line></g><g class=\"mark-text role-axis-label\" pointer-events=\"none\"><text text-anchor=\"middle\" transform=\"translate(18.181818181818183,15)\" font-family=\"sans-serif\" font-size=\"10px\" fill=\"#000\" opacity=\"1\">1,920</text><text text-anchor=\"middle\" transform=\"translate(54.54545454545454,15)\" font-family=\"sans-serif\" font-size=\"10px\" fill=\"#000\" opacity=\"0\">1,940</text><text text-anchor=\"middle\" transform=\"translate(90.9090909090909,15)\" font-family=\"sans-serif\" font-size=\"10px\" fill=\"#000\" opacity=\"1\">1,960</text><text text-anchor=\"middle\" transform=\"translate(127.27272727272727,15)\" font-family=\"sans-serif\" font-size=\"10px\" fill=\"#000\" opacity=\"0\">1,980</text><text text-anchor=\"middle\" transform=\"translate(163.63636363636365,15)\" font-family=\"sans-serif\" font-size=\"10px\" fill=\"#000\" opacity=\"1\">2,000</text><text text-anchor=\"end\" transform=\"translate(200,15)\" font-family=\"sans-serif\" font-size=\"10px\" fill=\"#000\" opacity=\"0\">2,020</text></g><g class=\"mark-rule role-axis-domain\" pointer-events=\"none\"><line transform=\"translate(0,0)\" x2=\"200\" y2=\"0\" stroke=\"#888\" stroke-width=\"1\" opacity=\"1\"></line></g><g class=\"mark-text role-axis-title\" pointer-events=\"none\"><text text-anchor=\"middle\" transform=\"translate(100,30)\" font-family=\"sans-serif\" font-size=\"11px\" font-weight=\"bold\" fill=\"#000\" opacity=\"1\">Years</text></g></g><path class=\"foreground\" aria-hidden=\"true\" d=\"\" pointer-events=\"none\" display=\"none\"></path></g></g><g class=\"mark-group role-axis\" role=\"graphics-symbol\" aria-roledescription=\"axis\" aria-label=\"Y-axis titled 'SumTotal' for a linear scale with values from 0 to 9,000\"><g transform=\"translate(0.5,0.5)\"><path class=\"background\" aria-hidden=\"true\" d=\"M0,0h0v0h0Z\" pointer-events=\"none\"></path><g><g class=\"mark-rule role-axis-tick\" pointer-events=\"none\"><line transform=\"translate(0,200)\" x2=\"-5\" y2=\"0\" stroke=\"#888\" stroke-width=\"1\" opacity=\"1\"></line><line transform=\"translate(0,156)\" x2=\"-5\" y2=\"0\" stroke=\"#888\" stroke-width=\"1\" opacity=\"1\"></line><line transform=\"translate(0,111)\" x2=\"-5\" y2=\"0\" stroke=\"#888\" stroke-width=\"1\" opacity=\"1\"></line><line transform=\"translate(0,67)\" x2=\"-5\" y2=\"0\" stroke=\"#888\" stroke-width=\"1\" opacity=\"1\"></line><line transform=\"translate(0,22)\" x2=\"-5\" y2=\"0\" stroke=\"#888\" stroke-width=\"1\" opacity=\"1\"></line></g><g class=\"mark-text role-axis-label\" pointer-events=\"none\"><text text-anchor=\"end\" transform=\"translate(-7,203)\" font-family=\"sans-serif\" font-size=\"10px\" fill=\"#000\" opacity=\"1\">0</text><text text-anchor=\"end\" transform=\"translate(-7,158.55555555555557)\" font-family=\"sans-serif\" font-size=\"10px\" fill=\"#000\" opacity=\"1\">2,000</text><text text-anchor=\"end\" transform=\"translate(-7,114.11111111111111)\" font-family=\"sans-serif\" font-size=\"10px\" fill=\"#000\" opacity=\"1\">4,000</text><text text-anchor=\"end\" transform=\"translate(-7,69.66666666666667)\" font-family=\"sans-serif\" font-size=\"10px\" fill=\"#000\" opacity=\"1\">6,000</text><text text-anchor=\"end\" transform=\"translate(-7,25.222222222222232)\" font-family=\"sans-serif\" font-size=\"10px\" fill=\"#000\" opacity=\"1\">8,000</text></g><g class=\"mark-rule role-axis-domain\" pointer-events=\"none\"><line transform=\"translate(0,200)\" x2=\"0\" y2=\"-200\" stroke=\"#888\" stroke-width=\"1\" opacity=\"1\"></line></g><g class=\"mark-text role-axis-title\" pointer-events=\"none\"><text text-anchor=\"middle\" transform=\"translate(-38,100) rotate(-90) translate(0,-2)\" font-family=\"sans-serif\" font-size=\"11px\" font-weight=\"bold\" fill=\"#000\" opacity=\"1\">SumTotal</text></g></g><path class=\"foreground\" aria-hidden=\"true\" d=\"\" pointer-events=\"none\" display=\"none\"></path></g></g><g class=\"mark-line role-mark marks\" role=\"graphics-object\" aria-roledescription=\"line mark container\"><path aria-label=\"Years: 1910; SumTotal: 287\" role=\"graphics-symbol\" aria-roledescription=\"line mark\" d=\"M0,193.62222222222223L1.8181818181818181,193.79999999999998L3.6363636363636362,184.73333333333332L5.454545454545454,181.4L7.2727272727272725,175.51111111111112L9.090909090909092,168.13333333333333L10.909090909090908,169.3111111111111L12.727272727272727,166.95555555555558L14.545454545454545,162.44444444444443L16.363636363636363,164.84444444444443L18.181818181818183,164.31111111111113L20,162.13333333333333L21.818181818181817,164.44444444444443L23.636363636363637,163.88888888888889L25.454545454545453,161.15555555555557L27.27272727272727,164.9777777777778L29.09090909090909,165.62222222222223L30.909090909090907,166.62222222222223L32.72727272727273,168.42222222222222L34.54545454545455,171.11111111111111L36.36363636363637,171L38.18181818181819,172.73333333333335L40,173.37777777777777L41.81818181818181,172.93333333333334L43.63636363636363,172.04444444444445L45.45454545454545,171.02222222222224L47.27272727272727,169.6L49.09090909090909,170.2L50.90909090909091,169.55555555555554L52.72727272727272,168.73333333333335L54.54545454545454,165.44444444444443L56.36363636363636,155.66666666666666L58.18181818181818,143.84444444444443L60,133.2L61.81818181818181,130.2888888888889L63.63636363636363,118.8L65.45454545454545,105.35555555555555L67.27272727272727,96.9111111111111L69.0909090909091,99.8L70.9090909090909,97.66666666666666L72.72727272727273,101.3777777777778L74.54545454545455,92.8L76.36363636363637,68.42222222222223L78.18181818181819,62.555555555555564L80,58.35555555555556L81.81818181818183,52.800000000000004L83.63636363636363,57.2L85.45454545454545,17.82222222222223L87.27272727272727,23.577777777777786L89.0909090909091,35.82222222222222L90.9090909090909,46.599999999999994L92.72727272727272,38.08888888888888L94.54545454545455,35.155555555555566L96.36363636363636,35.53333333333333L98.18181818181819,43.755555555555546L100,60.48888888888888L101.81818181818181,61.888888888888886L103.63636363636364,58.42222222222222L105.45454545454544,60.444444444444436L107.27272727272728,47.88888888888889L109.09090909090908,52.86666666666666L110.9090909090909,64.75555555555556L112.72727272727272,89.11111111111111L114.54545454545455,95.22222222222223L116.36363636363636,86.17777777777778L118.18181818181819,94.35555555555555L120,93.5111111111111L121.81818181818183,92.95555555555555L123.63636363636363,92.73333333333333L125.45454545454547,89.13333333333333L127.27272727272727,83.42222222222222L129.0909090909091,80.31111111111112L130.9090909090909,80.77777777777777L132.72727272727275,97.26666666666665L134.54545454545453,108.24444444444445L136.36363636363635,113.53333333333333L138.1818181818182,121.33333333333334L140,123.95555555555555L141.8181818181818,125.44444444444444L143.63636363636363,130.84444444444446L145.45454545454547,131.93333333333334L147.27272727272725,138.11111111111111L149.0909090909091,141.2888888888889L150.9090909090909,146.35555555555558L152.72727272727275,143.7111111111111L154.54545454545453,146.04444444444445L156.36363636363637,138.33333333333334L158.1818181818182,135.57777777777778L160,130.26666666666665L161.8181818181818,124.75555555555556L163.63636363636365,118.00000000000001L165.45454545454547,118.57777777777778L167.27272727272725,121.55555555555554L169.0909090909091,118.26666666666665L170.9090909090909,121.64444444444445L172.72727272727272,129.6L174.54545454545453,132.44444444444446L176.36363636363637,139.82222222222222L178.1818181818182,148.04444444444445L180,155.8L181.8181818181818,165.06666666666666L183.63636363636365,171.42222222222222L185.45454545454544,173.2888888888889L187.27272727272728,175.6888888888889L189.0909090909091,177.84444444444446L190.9090909090909,180.64444444444445L192.72727272727272,182.77777777777777L194.54545454545456,184.88888888888889L196.36363636363637,187.66666666666666L198.1818181818182,188.11111111111111\" stroke=\"#4c78a8\" stroke-width=\"2\"></path></g></g><path class=\"foreground\" aria-hidden=\"true\" d=\"\" display=\"none\"></path></g></g></g></svg>\n"
      ],
      "text/plain": [
       "@vlplot(\n",
       "    mark=\"line\",\n",
       "    encoding={\n",
       "        x={\n",
       "            field=\"Years\"\n",
       "        },\n",
       "        y={\n",
       "            field=\"SumTotal\"\n",
       "        }\n",
       "    },\n",
       "    data={\n",
       "        values=...\n",
       "    }\n",
       ")"
      ]
     },
     "execution_count": 14,
     "metadata": {},
     "output_type": "execute_result"
    }
   ],
   "source": [
    "df |>\n",
    "    @filter(_.Name == \"Leslie\") |>\n",
    "    @groupby(_.Period) |>\n",
    "    @map({Years=key(_), SumTotal=sum(_.Total)}) |>\n",
    "    @orderby(_.Years) |>\n",
    "    @vlplot(:line, x=:Years, y=:SumTotal)"
   ]
  },
  {
   "cell_type": "code",
   "execution_count": null,
   "metadata": {},
   "outputs": [],
   "source": []
  }
 ],
 "metadata": {
  "kernelspec": {
   "display_name": "Julia 1.5.2",
   "language": "julia",
   "name": "julia-1.5"
  },
  "language_info": {
   "file_extension": ".jl",
   "mimetype": "application/julia",
   "name": "julia",
   "version": "1.5.2"
  }
 },
 "nbformat": 4,
 "nbformat_minor": 4
}
