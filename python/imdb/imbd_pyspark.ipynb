{
 "cells": [
  {
   "cell_type": "markdown",
   "metadata": {},
   "source": [
    "# IMDB Datasets"
   ]
  },
  {
   "cell_type": "markdown",
   "metadata": {},
   "source": [
    "**Purpose:**\n",
    "\n",
    "Working with \"big\" data in PySpark\n",
    "\n",
    "**Data Source:**\n",
    "    \n",
    "https://datasets.imdbws.com"
   ]
  },
  {
   "cell_type": "code",
   "execution_count": null,
   "metadata": {},
   "outputs": [],
   "source": [
    "from IPython.core.display import display, HTML\n",
    "display(HTML(\"<style>.container { width:97% !important; font-size:90%;}</style>\"))"
   ]
  },
  {
   "cell_type": "code",
   "execution_count": null,
   "metadata": {
    "colab": {
     "base_uri": "https://localhost:8080/",
     "height": 52
    },
    "colab_type": "code",
    "executionInfo": {
     "elapsed": 819,
     "status": "ok",
     "timestamp": 1583601341342,
     "user": {
      "displayName": "Gregg Atherley",
      "photoUrl": "",
      "userId": "03927844996374100516"
     },
     "user_tz": 300
    },
    "id": "i4_6Q8oAsflo",
    "outputId": "3ba50f6e-81a2-4fa9-b2db-d6ada4f266e1"
   },
   "outputs": [],
   "source": [
    "import sys\n",
    "\n",
    "print('Python info', sys.version)"
   ]
  },
  {
   "cell_type": "code",
   "execution_count": null,
   "metadata": {
    "colab": {
     "base_uri": "https://localhost:8080/",
     "height": 34
    },
    "colab_type": "code",
    "executionInfo": {
     "elapsed": 1515,
     "status": "ok",
     "timestamp": 1583601342051,
     "user": {
      "displayName": "Gregg Atherley",
      "photoUrl": "",
      "userId": "03927844996374100516"
     },
     "user_tz": 300
    },
    "id": "qaXxx8GIsfcW",
    "outputId": "a844f7d6-a563-4fd3-f5d4-b5125aac6873"
   },
   "outputs": [],
   "source": [
    "import os\n",
    "\n",
    "print('This is the curent directory', os.getcwd())"
   ]
  },
  {
   "cell_type": "code",
   "execution_count": null,
   "metadata": {
    "colab": {
     "base_uri": "https://localhost:8080/",
     "height": 70
    },
    "colab_type": "code",
    "executionInfo": {
     "elapsed": 1507,
     "status": "ok",
     "timestamp": 1583601342053,
     "user": {
      "displayName": "Gregg Atherley",
      "photoUrl": "",
      "userId": "03927844996374100516"
     },
     "user_tz": 300
    },
    "id": "Lp6QZxYQsfSP",
    "outputId": "b5e04e5d-bb0a-4a6c-c677-c12e08ac3e69"
   },
   "outputs": [],
   "source": [
    "import datetime\n",
    "\n",
    "current_date = datetime.date.today()\n",
    "current_time = datetime.datetime.now()\n",
    "\n",
    "print(\"System date/time\", current_time)\n",
    "print('Current date', datetime.datetime.strftime(current_date, '%A %m/%d/%Y'))\n",
    "print('Current time', datetime.datetime.strftime(current_time, '%I:%M:%S %p'))"
   ]
  },
  {
   "cell_type": "code",
   "execution_count": null,
   "metadata": {
    "colab": {},
    "colab_type": "code",
    "id": "r3H-9P0iYeLz"
   },
   "outputs": [],
   "source": [
    "import requests\n",
    "from bs4 import BeautifulSoup\n",
    "\n",
    "from pprint import pprint\n",
    "import re"
   ]
  },
  {
   "cell_type": "code",
   "execution_count": null,
   "metadata": {
    "colab": {
     "base_uri": "https://localhost:8080/",
     "height": 247
    },
    "colab_type": "code",
    "executionInfo": {
     "elapsed": 43132,
     "status": "ok",
     "timestamp": 1583601383692,
     "user": {
      "displayName": "Gregg Atherley",
      "photoUrl": "",
      "userId": "03927844996374100516"
     },
     "user_tz": 300
    },
    "id": "q5XYrsWIa58l",
    "outputId": "eb7833ba-5a15-4c5e-97a7-089f3ca1898d"
   },
   "outputs": [],
   "source": [
    "!pip install pyspark --upgrade"
   ]
  },
  {
   "cell_type": "code",
   "execution_count": null,
   "metadata": {
    "colab": {
     "base_uri": "https://localhost:8080/",
     "height": 70
    },
    "colab_type": "code",
    "executionInfo": {
     "elapsed": 45736,
     "status": "ok",
     "timestamp": 1583601386306,
     "user": {
      "displayName": "Gregg Atherley",
      "photoUrl": "",
      "userId": "03927844996374100516"
     },
     "user_tz": 300
    },
    "id": "2kSiOjYaq_Y-",
    "outputId": "565d445d-bd90-4ad4-a257-9122e1350a97"
   },
   "outputs": [],
   "source": [
    "!pip install pyarrow --upgrade"
   ]
  },
  {
   "cell_type": "code",
   "execution_count": null,
   "metadata": {
    "colab": {},
    "colab_type": "code",
    "id": "XFZq6YAaN7uF"
   },
   "outputs": [],
   "source": [
    "from pyspark.sql import SparkSession, Row\n",
    "from pyspark.context import SparkContext\n",
    "from pyspark.sql.functions import *\n",
    "from pyspark.sql.types import *"
   ]
  },
  {
   "cell_type": "code",
   "execution_count": null,
   "metadata": {
    "colab": {},
    "colab_type": "code",
    "id": "sdFZV9ANOKIg"
   },
   "outputs": [],
   "source": [
    "spark = SparkSession.builder.appName(\"Spark SQL Query Dataframes\").getOrCreate()\n",
    "spark"
   ]
  },
  {
   "cell_type": "code",
   "execution_count": null,
   "metadata": {
    "colab": {
     "base_uri": "https://localhost:8080/",
     "height": 216
    },
    "colab_type": "code",
    "executionInfo": {
     "elapsed": 51532,
     "status": "ok",
     "timestamp": 1583601392121,
     "user": {
      "displayName": "Gregg Atherley",
      "photoUrl": "",
      "userId": "03927844996374100516"
     },
     "user_tz": 300
    },
    "id": "D8ku6PxOuWsM",
    "outputId": "6e29368d-89f4-468f-a942-e9165e540595"
   },
   "outputs": [],
   "source": [
    "#spark = SparkSession.builder.appName(\"IMDB_Movies\")\\\n",
    "#.config(\"spark.sql.shuffle.partitions\", \"50\")\\\n",
    "#.config(\"spark.driver.maxResultSize\", \"5g\")\\\n",
    "#.config(\"Spark.sql.execution.arrow.enabled\", \"true\")\\\n",
    "#.getOrCreate()\n",
    "\n",
    "#spark"
   ]
  },
  {
   "cell_type": "code",
   "execution_count": null,
   "metadata": {
    "colab": {},
    "colab_type": "code",
    "id": "wAGR2QHqOkdv"
   },
   "outputs": [],
   "source": [
    "sc = spark.sparkContext"
   ]
  },
  {
   "cell_type": "code",
   "execution_count": null,
   "metadata": {},
   "outputs": [],
   "source": [
    "!pip install wget"
   ]
  },
  {
   "cell_type": "code",
   "execution_count": null,
   "metadata": {},
   "outputs": [],
   "source": [
    "import wget\n",
    "\n",
    "import gzip\n",
    "import shutil\n",
    "import csv"
   ]
  },
  {
   "cell_type": "code",
   "execution_count": null,
   "metadata": {
    "colab": {
     "base_uri": "https://localhost:8080/",
     "height": 212
    },
    "colab_type": "code",
    "executionInfo": {
     "elapsed": 54582,
     "status": "ok",
     "timestamp": 1583601395185,
     "user": {
      "displayName": "Gregg Atherley",
      "photoUrl": "",
      "userId": "03927844996374100516"
     },
     "user_tz": 300
    },
    "id": "NGyIjBjOXk2V",
    "outputId": "50d04300-fbd3-4ffa-c818-7149cccd72dc"
   },
   "outputs": [],
   "source": [
    "URL = \"https://datasets.imdbws.com/title.basics.tsv.gz\""
   ]
  },
  {
   "cell_type": "code",
   "execution_count": null,
   "metadata": {},
   "outputs": [],
   "source": [
    "print(URL)"
   ]
  },
  {
   "cell_type": "code",
   "execution_count": null,
   "metadata": {},
   "outputs": [],
   "source": [
    "filename = wget.download(URL)"
   ]
  },
  {
   "cell_type": "code",
   "execution_count": null,
   "metadata": {
    "colab": {},
    "colab_type": "code",
    "id": "62NyNdEhXk06"
   },
   "outputs": [],
   "source": [
    "print(filename)"
   ]
  },
  {
   "cell_type": "code",
   "execution_count": null,
   "metadata": {
    "colab": {
     "base_uri": "https://localhost:8080/",
     "height": 34
    },
    "colab_type": "code",
    "executionInfo": {
     "elapsed": 60474,
     "status": "ok",
     "timestamp": 1583601401088,
     "user": {
      "displayName": "Gregg Atherley",
      "photoUrl": "",
      "userId": "03927844996374100516"
     },
     "user_tz": 300
    },
    "id": "hbG3pEZaYYdh",
    "outputId": "03f06a26-14f0-4e49-e6f8-c346cd860543"
   },
   "outputs": [],
   "source": [
    "with gzip.open(filename, mode='r') as f_in, open(filename.replace('.gz',''), mode='wb') as f_out:\n",
    "    shutil.copyfileobj(f_in, f_out)\n",
    "    \n",
    "uncompressed_file = filename.replace('.gz','')\n",
    "\n",
    "print(uncompressed_file)"
   ]
  },
  {
   "cell_type": "code",
   "execution_count": null,
   "metadata": {
    "colab": {},
    "colab_type": "code",
    "id": "NEyAUQwpyVh6"
   },
   "outputs": [],
   "source": [
    "# JSON\n",
    "#df = sc.read.json('fp.json')\n",
    "\n",
    "# TXT\n",
    "#df = sc.read.text('fp.txt')\n",
    "\n",
    "# CSV\n",
    "#df = sc.read_csv('fp.csv')"
   ]
  },
  {
   "cell_type": "code",
   "execution_count": null,
   "metadata": {
    "colab": {
     "base_uri": "https://localhost:8080/",
     "height": 478
    },
    "colab_type": "code",
    "executionInfo": {
     "elapsed": 96546,
     "status": "ok",
     "timestamp": 1583601437187,
     "user": {
      "displayName": "Gregg Atherley",
      "photoUrl": "",
      "userId": "03927844996374100516"
     },
     "user_tz": 300
    },
    "id": "1rMVnEOSOkoX",
    "outputId": "9edad9ed-b0c4-4d6c-d0fc-368c9b7581fa"
   },
   "outputs": [],
   "source": [
    "spark_df0 = spark.read.format(\"csv\")\\\n",
    "    .option(\"header\",\"true\")\\\n",
    "    .option(\"sep\",\"\\t\")\\\n",
    "    .option(\"encoding\",\"utf-8\")\\\n",
    "    .option(\"nullValues\", r\"\\N\")\\\n",
    "    .option(\"quote\",\"\")\\\n",
    "    .option(\"inferSchema\",\"true\")\\\n",
    "    .load(uncompressed_file)\n",
    "\n",
    "spark_df0.show(truncate=False)"
   ]
  },
  {
   "cell_type": "code",
   "execution_count": null,
   "metadata": {
    "colab": {
     "base_uri": "https://localhost:8080/",
     "height": 212
    },
    "colab_type": "code",
    "executionInfo": {
     "elapsed": 96543,
     "status": "ok",
     "timestamp": 1583601437193,
     "user": {
      "displayName": "Gregg Atherley",
      "photoUrl": "",
      "userId": "03927844996374100516"
     },
     "user_tz": 300
    },
    "id": "0HGDXAQyl4U5",
    "outputId": "b6407825-b0e4-4263-fb24-735177a47d8b"
   },
   "outputs": [],
   "source": [
    "spark_df0.printSchema()"
   ]
  },
  {
   "cell_type": "code",
   "execution_count": null,
   "metadata": {
    "colab": {
     "base_uri": "https://localhost:8080/",
     "height": 176
    },
    "colab_type": "code",
    "executionInfo": {
     "elapsed": 96537,
     "status": "ok",
     "timestamp": 1583601437194,
     "user": {
      "displayName": "Gregg Atherley",
      "photoUrl": "",
      "userId": "03927844996374100516"
     },
     "user_tz": 300
    },
    "id": "ozwECSO4vSc0",
    "outputId": "3f2e5ecf-7d40-4020-cf9c-b465e23ec8d8"
   },
   "outputs": [],
   "source": [
    "spark_df0.dtypes"
   ]
  },
  {
   "cell_type": "code",
   "execution_count": null,
   "metadata": {
    "colab": {
     "base_uri": "https://localhost:8080/",
     "height": 176
    },
    "colab_type": "code",
    "executionInfo": {
     "elapsed": 96528,
     "status": "ok",
     "timestamp": 1583601437194,
     "user": {
      "displayName": "Gregg Atherley",
      "photoUrl": "",
      "userId": "03927844996374100516"
     },
     "user_tz": 300
    },
    "id": "jgrbLlacvOSg",
    "outputId": "6473ea40-e824-4207-dfc2-6a25c0fce6af"
   },
   "outputs": [],
   "source": [
    "spark_df0.columns"
   ]
  },
  {
   "cell_type": "code",
   "execution_count": null,
   "metadata": {
    "colab": {
     "base_uri": "https://localhost:8080/",
     "height": 34
    },
    "colab_type": "code",
    "executionInfo": {
     "elapsed": 96672,
     "status": "ok",
     "timestamp": 1583601437353,
     "user": {
      "displayName": "Gregg Atherley",
      "photoUrl": "",
      "userId": "03927844996374100516"
     },
     "user_tz": 300
    },
    "id": "KZAJnvXav-4U",
    "outputId": "1c8ff605-8405-40e3-a534-b50901d08a41"
   },
   "outputs": [],
   "source": [
    "spark_df0.head()"
   ]
  },
  {
   "cell_type": "code",
   "execution_count": null,
   "metadata": {
    "colab": {
     "base_uri": "https://localhost:8080/",
     "height": 303
    },
    "colab_type": "code",
    "executionInfo": {
     "elapsed": 96856,
     "status": "ok",
     "timestamp": 1583601437549,
     "user": {
      "displayName": "Gregg Atherley",
      "photoUrl": "",
      "userId": "03927844996374100516"
     },
     "user_tz": 300
    },
    "id": "-o2YPW3KvDg5",
    "outputId": "4baf0213-42c2-4ae5-e551-80ada38ee24a"
   },
   "outputs": [],
   "source": [
    "spark_df0.take(15)"
   ]
  },
  {
   "cell_type": "code",
   "execution_count": null,
   "metadata": {},
   "outputs": [],
   "source": [
    "spark_df0.groupBy(['isAdult','titleType']).count().sort(['isAdult','titleType']).show()"
   ]
  },
  {
   "cell_type": "code",
   "execution_count": null,
   "metadata": {},
   "outputs": [],
   "source": [
    "spark_df0 = spark_df0.filter((spark_df0[\"isAdult\"]!=1) & (spark_df0[\"titleType\"] == 'movie'))"
   ]
  },
  {
   "cell_type": "code",
   "execution_count": null,
   "metadata": {},
   "outputs": [],
   "source": [
    "spark_df0.groupBy(['isAdult','titleType']).count().sort(['isAdult','titleType']).show()"
   ]
  },
  {
   "cell_type": "code",
   "execution_count": null,
   "metadata": {
    "colab": {
     "base_uri": "https://localhost:8080/",
     "height": 212
    },
    "colab_type": "code",
    "executionInfo": {
     "elapsed": 98039,
     "status": "ok",
     "timestamp": 1583601438740,
     "user": {
      "displayName": "Gregg Atherley",
      "photoUrl": "",
      "userId": "03927844996374100516"
     },
     "user_tz": 300
    },
    "id": "qR4uoWn4ncCn",
    "outputId": "d09730af-16c5-4b54-8be2-cb734d585413"
   },
   "outputs": [],
   "source": [
    "URL = \"https://datasets.imdbws.com/title.ratings.tsv.gz\"\n",
    "filename = wget.download(URL)"
   ]
  },
  {
   "cell_type": "code",
   "execution_count": null,
   "metadata": {
    "colab": {
     "base_uri": "https://localhost:8080/",
     "height": 194
    },
    "colab_type": "code",
    "executionInfo": {
     "elapsed": 102083,
     "status": "ok",
     "timestamp": 1583601442803,
     "user": {
      "displayName": "Gregg Atherley",
      "photoUrl": "",
      "userId": "03927844996374100516"
     },
     "user_tz": 300
    },
    "id": "G1wn1gyIcTF2",
    "outputId": "1e4ab892-8b90-4cbc-8d8c-eb080e322a7f"
   },
   "outputs": [],
   "source": [
    "with gzip.open(filename, mode='r') as f_in, open(filename.replace('.gz',''), mode='wb') as f_out:\n",
    "    shutil.copyfileobj(f_in, f_out)\n",
    "    \n",
    "uncompressed_file = filename.replace('.gz','')\n",
    "\n",
    "print(uncompressed_file)"
   ]
  },
  {
   "cell_type": "code",
   "execution_count": null,
   "metadata": {
    "colab": {
     "base_uri": "https://localhost:8080/",
     "height": 478
    },
    "colab_type": "code",
    "executionInfo": {
     "elapsed": 106277,
     "status": "ok",
     "timestamp": 1583601447005,
     "user": {
      "displayName": "Gregg Atherley",
      "photoUrl": "",
      "userId": "03927844996374100516"
     },
     "user_tz": 300
    },
    "id": "zwMkVhllcM9-",
    "outputId": "64553f06-12f0-4d59-a37d-af981ccc6871"
   },
   "outputs": [],
   "source": [
    "spark_df1 = spark.read.format(\"csv\")\\\n",
    "    .option(\"header\",\"true\")\\\n",
    "    .option(\"sep\",\"\\t\")\\\n",
    "    .option(\"encoding\",\"utf-8\")\\\n",
    "    .option(\"nullValues\", r\"\\N\")\\\n",
    "    .option(\"quote\",\"\")\\\n",
    "    .option(\"inferSchema\",\"true\")\\\n",
    "    .load(uncompressed_file)\n",
    "\n",
    "spark_df1.show()"
   ]
  },
  {
   "cell_type": "code",
   "execution_count": null,
   "metadata": {
    "colab": {
     "base_uri": "https://localhost:8080/",
     "height": 105
    },
    "colab_type": "code",
    "executionInfo": {
     "elapsed": 106270,
     "status": "ok",
     "timestamp": 1583601447006,
     "user": {
      "displayName": "Gregg Atherley",
      "photoUrl": "",
      "userId": "03927844996374100516"
     },
     "user_tz": 300
    },
    "id": "g3AoU1iIcbqY",
    "outputId": "297a136c-61af-47d6-e2c1-04377b27df8a"
   },
   "outputs": [],
   "source": [
    "spark_df1.printSchema()"
   ]
  },
  {
   "cell_type": "code",
   "execution_count": null,
   "metadata": {
    "colab": {},
    "colab_type": "code",
    "id": "Z3f79_R9eHyH"
   },
   "outputs": [],
   "source": [
    "spark_df = spark_df0.join(spark_df1, on='tconst', how='inner')"
   ]
  },
  {
   "cell_type": "code",
   "execution_count": null,
   "metadata": {
    "colab": {
     "base_uri": "https://localhost:8080/",
     "height": 478
    },
    "colab_type": "code",
    "executionInfo": {
     "elapsed": 137995,
     "status": "ok",
     "timestamp": 1583601478743,
     "user": {
      "displayName": "Gregg Atherley",
      "photoUrl": "",
      "userId": "03927844996374100516"
     },
     "user_tz": 300
    },
    "id": "t_02iofwewxh",
    "outputId": "22cc3778-f26e-4787-afef-60578fda3004"
   },
   "outputs": [],
   "source": [
    "spark_df.show(truncate=False)"
   ]
  },
  {
   "cell_type": "code",
   "execution_count": null,
   "metadata": {
    "colab": {
     "base_uri": "https://localhost:8080/",
     "height": 283
    },
    "colab_type": "code",
    "executionInfo": {
     "elapsed": 175982,
     "status": "ok",
     "timestamp": 1583601516737,
     "user": {
      "displayName": "Gregg Atherley",
      "photoUrl": "",
      "userId": "03927844996374100516"
     },
     "user_tz": 300
    },
    "id": "-7EZDYdQkyFJ",
    "outputId": "7118d19f-f0d8-410e-bce6-539f93c2f35a"
   },
   "outputs": [],
   "source": [
    "spark_df.createOrReplaceTempView('imdb_data')"
   ]
  },
  {
   "cell_type": "code",
   "execution_count": null,
   "metadata": {},
   "outputs": [],
   "source": [
    "spark.sql(\"SELECT * FROM imdb_data LIMIT 10\").show(truncate=False)"
   ]
  },
  {
   "cell_type": "code",
   "execution_count": null,
   "metadata": {
    "colab": {
     "base_uri": "https://localhost:8080/",
     "height": 283
    },
    "colab_type": "code",
    "executionInfo": {
     "elapsed": 244380,
     "status": "ok",
     "timestamp": 1583601585161,
     "user": {
      "displayName": "Gregg Atherley",
      "photoUrl": "",
      "userId": "03927844996374100516"
     },
     "user_tz": 300
    },
    "id": "IYgD48_2lQ3o",
    "outputId": "fefdd30c-1e7c-4c44-a488-6848bd1fb316"
   },
   "outputs": [],
   "source": [
    "spark.sql(\"SELECT titleType, startYear, count(*) totals FROM imdb_data GROUP BY titleType, startYear ORDER BY 1, 2\").show(truncate=False)"
   ]
  },
  {
   "cell_type": "code",
   "execution_count": null,
   "metadata": {
    "colab": {
     "base_uri": "https://localhost:8080/",
     "height": 478
    },
    "colab_type": "code",
    "executionInfo": {
     "elapsed": 198298,
     "status": "ok",
     "timestamp": 1583601539061,
     "user": {
      "displayName": "Gregg Atherley",
      "photoUrl": "",
      "userId": "03927844996374100516"
     },
     "user_tz": 300
    },
    "id": "DtosQ4AJyt2E",
    "outputId": "680eb95c-9aa0-4b6d-d396-11da10cafe02"
   },
   "outputs": [],
   "source": [
    "stmt = \\\n",
    "\"\"\"\n",
    "SELECT tconst, titleType, primaryTitle, startYear, runtimeMinutes, averageRating, numVotes\n",
    "FROM imdb_data\n",
    "WHERE primaryTitle LIKE '%Star Wars%'\n",
    "\"\"\"\n",
    "\n",
    "spark.sql(stmt).show()"
   ]
  },
  {
   "cell_type": "code",
   "execution_count": null,
   "metadata": {
    "colab": {
     "base_uri": "https://localhost:8080/",
     "height": 496
    },
    "colab_type": "code",
    "executionInfo": {
     "elapsed": 267597,
     "status": "ok",
     "timestamp": 1583601608386,
     "user": {
      "displayName": "Gregg Atherley",
      "photoUrl": "",
      "userId": "03927844996374100516"
     },
     "user_tz": 300
    },
    "id": "VE1qFjRtlzOk",
    "outputId": "b2fc4651-5043-48b2-96fe-a3157b7405f2"
   },
   "outputs": [],
   "source": [
    "stmt = \"\"\"\n",
    "SELECT *\n",
    "FROM imdb_data\n",
    "WHERE\n",
    "    titleType = 'movie' AND\n",
    "    averageRating > 9 AND\n",
    "    genres != '\\\\N' AND\n",
    "    numVotes > 1000\n",
    "ORDER BY\n",
    "    averageRating DESC\n",
    "\"\"\"\n",
    "\n",
    "spark.sql(stmt).show(25)"
   ]
  },
  {
   "cell_type": "code",
   "execution_count": null,
   "metadata": {
    "colab": {
     "base_uri": "https://localhost:8080/",
     "height": 105
    },
    "colab_type": "code",
    "executionInfo": {
     "elapsed": 289005,
     "status": "ok",
     "timestamp": 1583601629802,
     "user": {
      "displayName": "Gregg Atherley",
      "photoUrl": "",
      "userId": "03927844996374100516"
     },
     "user_tz": 300
    },
    "id": "JV_kkWI_n2_o",
    "outputId": "b88d1ac2-0ef8-46c7-a102-20f06505fc6a"
   },
   "outputs": [],
   "source": [
    "stmt = \"\"\"\n",
    "SELECT *\n",
    "FROM imdb_data\n",
    "WHERE\n",
    "    titleType = 'movie' AND\n",
    "    averageRating >= 7 AND\n",
    "    genres LIKE '%Action%' AND\n",
    "    CAST(runtimeMinutes AS INT) > 30 AND\n",
    "    CAST(startYear AS INT) BETWEEN 2015 and 2019   \n",
    "ORDER BY\n",
    "    startYear DESC, averageRating DESC\n",
    "\"\"\"\n",
    "\n",
    "spark.sql(stmt).show(n=50, truncate=False)"
   ]
  },
  {
   "cell_type": "code",
   "execution_count": null,
   "metadata": {
    "colab": {
     "base_uri": "https://localhost:8080/",
     "height": 34
    },
    "colab_type": "code",
    "executionInfo": {
     "elapsed": 289714,
     "status": "ok",
     "timestamp": 1583601630519,
     "user": {
      "displayName": "Gregg Atherley",
      "photoUrl": "",
      "userId": "03927844996374100516"
     },
     "user_tz": 300
    },
    "id": "y4f-A0BDhhCh",
    "outputId": "c61e04ff-3677-4ce8-8650-66038041a2ae"
   },
   "outputs": [],
   "source": [
    "URL = 'https://m.imdb.com/chart/top'\n",
    "\n",
    "response = requests.get(URL)\n",
    "soup = BeautifulSoup(response.text, 'lxml')\n",
    "\n",
    "soup.title"
   ]
  },
  {
   "cell_type": "code",
   "execution_count": null,
   "metadata": {
    "colab": {
     "base_uri": "https://localhost:8080/",
     "height": 34
    },
    "colab_type": "code",
    "executionInfo": {
     "elapsed": 289706,
     "status": "ok",
     "timestamp": 1583601630520,
     "user": {
      "displayName": "Gregg Atherley",
      "photoUrl": "",
      "userId": "03927844996374100516"
     },
     "user_tz": 300
    },
    "id": "0QZZMqMpY6FY",
    "outputId": "53156cfd-8999-4a73-d63b-6efd13e8bb44"
   },
   "outputs": [],
   "source": [
    "soup.h1"
   ]
  },
  {
   "cell_type": "code",
   "execution_count": null,
   "metadata": {
    "colab": {},
    "colab_type": "code",
    "id": "uvZabWbwY54u"
   },
   "outputs": [],
   "source": [
    "soup.h2"
   ]
  },
  {
   "cell_type": "code",
   "execution_count": null,
   "metadata": {
    "colab": {},
    "colab_type": "code",
    "id": "Vn3GqQUnY5tJ"
   },
   "outputs": [],
   "source": [
    "soup.h3"
   ]
  },
  {
   "cell_type": "code",
   "execution_count": null,
   "metadata": {
    "colab": {
     "base_uri": "https://localhost:8080/",
     "height": 105
    },
    "colab_type": "code",
    "executionInfo": {
     "elapsed": 289694,
     "status": "ok",
     "timestamp": 1583601630523,
     "user": {
      "displayName": "Gregg Atherley",
      "photoUrl": "",
      "userId": "03927844996374100516"
     },
     "user_tz": 300
    },
    "id": "sfY-ojtJYqtV",
    "outputId": "84be607b-5062-4997-9842-72e1b3ea4515"
   },
   "outputs": [],
   "source": [
    "soup.h4"
   ]
  },
  {
   "cell_type": "code",
   "execution_count": null,
   "metadata": {
    "colab": {
     "base_uri": "https://localhost:8080/",
     "height": 34
    },
    "colab_type": "code",
    "executionInfo": {
     "elapsed": 289687,
     "status": "ok",
     "timestamp": 1583601630524,
     "user": {
      "displayName": "Gregg Atherley",
      "photoUrl": "",
      "userId": "03927844996374100516"
     },
     "user_tz": 300
    },
    "id": "Kzp1YVKeZAjh",
    "outputId": "23b6484d-6459-40be-8a43-313f54648464"
   },
   "outputs": [],
   "source": [
    "soup.find_all('a')"
   ]
  },
  {
   "cell_type": "code",
   "execution_count": null,
   "metadata": {
    "colab": {},
    "colab_type": "code",
    "id": "ZEcDf_HwZRFf"
   },
   "outputs": [],
   "source": [
    "data = []\n",
    "\n",
    "for link in soup.find_all(\"a\"):\n",
    "    data.append(link.get(\"href\", 'Empty'))\n",
    "    \n",
    "text_data = \" \".join(data)"
   ]
  },
  {
   "cell_type": "code",
   "execution_count": null,
   "metadata": {
    "colab": {
     "base_uri": "https://localhost:8080/",
     "height": 496
    },
    "colab_type": "code",
    "executionInfo": {
     "elapsed": 289669,
     "status": "ok",
     "timestamp": 1583601630527,
     "user": {
      "displayName": "Gregg Atherley",
      "photoUrl": "",
      "userId": "03927844996374100516"
     },
     "user_tz": 300
    },
    "id": "PPHEa_EUZYnp",
    "outputId": "f4613701-7e0b-4853-b9dc-fea30455ec62"
   },
   "outputs": [],
   "source": [
    "movie_titles = re.findall(pattern=\"(tt\\d+)\", string=text_data)\n",
    "\n",
    "pprint(set(movie_titles), compact=True, width=132)\n",
    "print()\n",
    "print(len(set(movie_titles)))"
   ]
  },
  {
   "cell_type": "code",
   "execution_count": null,
   "metadata": {
    "colab": {},
    "colab_type": "code",
    "id": "_ekVURjobcf0"
   },
   "outputs": [],
   "source": [
    "spark_top250 = sc.parallelize([Row(tconst=t) for t in set(movie_titles)]).toDF()"
   ]
  },
  {
   "cell_type": "code",
   "execution_count": null,
   "metadata": {
    "colab": {
     "base_uri": "https://localhost:8080/",
     "height": 478
    },
    "colab_type": "code",
    "executionInfo": {
     "elapsed": 321587,
     "status": "ok",
     "timestamp": 1583601662456,
     "user": {
      "displayName": "Gregg Atherley",
      "photoUrl": "",
      "userId": "03927844996374100516"
     },
     "user_tz": 300
    },
    "id": "6SiSwz_HceR5",
    "outputId": "0be012e8-07e5-47c9-a4cb-e34a1d4963ad"
   },
   "outputs": [],
   "source": [
    "spark_df = spark_top250.join(spark_df0, on='tconst', how='inner')\n",
    "spark_df = spark_df.join(spark_df1, on='tconst', how='inner')\n",
    "spark_df.show()"
   ]
  },
  {
   "cell_type": "code",
   "execution_count": null,
   "metadata": {
    "colab": {
     "base_uri": "https://localhost:8080/",
     "height": 1000
    },
    "colab_type": "code",
    "executionInfo": {
     "elapsed": 357726,
     "status": "ok",
     "timestamp": 1583601698603,
     "user": {
      "displayName": "Gregg Atherley",
      "photoUrl": "",
      "userId": "03927844996374100516"
     },
     "user_tz": 300
    },
    "id": "aJpN8T15sLKE",
    "outputId": "a75d6f59-ff7e-4e35-c0c6-0bcffcd09d43"
   },
   "outputs": [],
   "source": [
    "spark_df.drop_duplicates().show(n=250, truncate=False)"
   ]
  },
  {
   "cell_type": "code",
   "execution_count": null,
   "metadata": {},
   "outputs": [],
   "source": [
    "import pandas as pd"
   ]
  },
  {
   "cell_type": "code",
   "execution_count": null,
   "metadata": {},
   "outputs": [],
   "source": [
    "pandas_top250 = spark_df.toPandas()"
   ]
  },
  {
   "cell_type": "code",
   "execution_count": null,
   "metadata": {},
   "outputs": [],
   "source": [
    "pandas_top250.info()"
   ]
  },
  {
   "cell_type": "code",
   "execution_count": null,
   "metadata": {
    "colab": {
     "base_uri": "https://localhost:8080/",
     "height": 197
    },
    "colab_type": "code",
    "executionInfo": {
     "elapsed": 395570,
     "status": "ok",
     "timestamp": 1583601736496,
     "user": {
      "displayName": "Gregg Atherley",
      "photoUrl": "",
      "userId": "03927844996374100516"
     },
     "user_tz": 300
    },
    "id": "voo37IB2m4l0",
    "outputId": "4a567c0b-2391-4486-e25a-2d00e91b2b07"
   },
   "outputs": [],
   "source": [
    "pandas_top250.head()"
   ]
  },
  {
   "cell_type": "code",
   "execution_count": null,
   "metadata": {},
   "outputs": [],
   "source": [
    "pandas_top250['runtimeMinutes'] = pd.to_numeric(pandas_top250['runtimeMinutes'])"
   ]
  },
  {
   "cell_type": "code",
   "execution_count": null,
   "metadata": {
    "colab": {
     "base_uri": "https://localhost:8080/",
     "height": 264
    },
    "colab_type": "code",
    "executionInfo": {
     "elapsed": 395721,
     "status": "ok",
     "timestamp": 1583601736655,
     "user": {
      "displayName": "Gregg Atherley",
      "photoUrl": "",
      "userId": "03927844996374100516"
     },
     "user_tz": 300
    },
    "id": "lfk7MhcknLaN",
    "outputId": "f2a8a975-5004-4b20-8e38-c9a679a0d102"
   },
   "outputs": [],
   "source": [
    "pandas_top250.runtimeMinutes.plot.hist(alpha=.4);"
   ]
  },
  {
   "cell_type": "code",
   "execution_count": null,
   "metadata": {},
   "outputs": [],
   "source": [
    "pandas_top250.query(\"runtimeMinutes > 200\")"
   ]
  },
  {
   "cell_type": "code",
   "execution_count": null,
   "metadata": {
    "colab": {
     "base_uri": "https://localhost:8080/",
     "height": 281
    },
    "colab_type": "code",
    "executionInfo": {
     "elapsed": 396779,
     "status": "ok",
     "timestamp": 1583601737721,
     "user": {
      "displayName": "Gregg Atherley",
      "photoUrl": "",
      "userId": "03927844996374100516"
     },
     "user_tz": 300
    },
    "id": "tw3bT0AanY7h",
    "outputId": "dba5733d-45f3-4ab6-9e7d-e9004f1f08ae"
   },
   "outputs": [],
   "source": [
    "pandas_top250.startYear.value_counts().sort_index().plot.bar(figsize=(14,4), alpha=.4);"
   ]
  },
  {
   "cell_type": "code",
   "execution_count": null,
   "metadata": {},
   "outputs": [],
   "source": [
    "pandas_top250['startYear'] = pandas_top250['startYear'].astype(int)"
   ]
  },
  {
   "cell_type": "code",
   "execution_count": null,
   "metadata": {
    "colab": {
     "base_uri": "https://localhost:8080/",
     "height": 287
    },
    "colab_type": "code",
    "executionInfo": {
     "elapsed": 396974,
     "status": "ok",
     "timestamp": 1583601737932,
     "user": {
      "displayName": "Gregg Atherley",
      "photoUrl": "",
      "userId": "03927844996374100516"
     },
     "user_tz": 300
    },
    "id": "5kgX7-uUo3_t",
    "outputId": "deeb6e27-5670-481f-a893-0d12796d70f4"
   },
   "outputs": [],
   "source": [
    "pandas_top250.query(\"startYear == 1995\")"
   ]
  },
  {
   "cell_type": "code",
   "execution_count": null,
   "metadata": {
    "colab": {
     "base_uri": "https://localhost:8080/",
     "height": 278
    },
    "colab_type": "code",
    "executionInfo": {
     "elapsed": 396981,
     "status": "ok",
     "timestamp": 1583601737931,
     "user": {
      "displayName": "Gregg Atherley",
      "photoUrl": "",
      "userId": "03927844996374100516"
     },
     "user_tz": 300
    },
    "id": "1nXLl6Cr-2MB",
    "outputId": "69f9382a-439d-4633-c489-70c92c5f4291"
   },
   "outputs": [],
   "source": [
    "pandas_top250.plot.scatter(x='averageRating', y='numVotes', alpha=.5);"
   ]
  },
  {
   "cell_type": "code",
   "execution_count": null,
   "metadata": {},
   "outputs": [],
   "source": [
    "pandas_top250.query(\"averageRating > 9 & numVotes > 1.5e6\")"
   ]
  },
  {
   "cell_type": "code",
   "execution_count": null,
   "metadata": {},
   "outputs": [],
   "source": []
  }
 ],
 "metadata": {
  "colab": {
   "collapsed_sections": [],
   "name": "IMDB-Spark.ipynb",
   "provenance": [
    {
     "file_id": "1uKCF2-i-FTkozkTMbSWJUSIgGtrST1TY",
     "timestamp": 1574564567571
    }
   ]
  },
  "kernelspec": {
   "display_name": "Python 3",
   "language": "python",
   "name": "python3"
  },
  "language_info": {
   "codemirror_mode": {
    "name": "ipython",
    "version": 3
   },
   "file_extension": ".py",
   "mimetype": "text/x-python",
   "name": "python",
   "nbconvert_exporter": "python",
   "pygments_lexer": "ipython3",
   "version": "3.8.5"
  }
 },
 "nbformat": 4,
 "nbformat_minor": 4
}
