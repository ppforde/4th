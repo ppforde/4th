{
 "cells": [
  {
   "cell_type": "markdown",
   "metadata": {},
   "source": [
    "## Ranges\n",
    "---"
   ]
  },
  {
   "cell_type": "code",
   "execution_count": 1,
   "metadata": {},
   "outputs": [
    {
     "data": {
      "text/plain": [
       "10-element Array{Int64,1}:\n",
       "  1\n",
       "  2\n",
       "  3\n",
       "  4\n",
       "  5\n",
       "  6\n",
       "  7\n",
       "  8\n",
       "  9\n",
       " 10"
      ]
     },
     "execution_count": 1,
     "metadata": {},
     "output_type": "execute_result"
    }
   ],
   "source": [
    "collect(1:10)"
   ]
  },
  {
   "cell_type": "code",
   "execution_count": 2,
   "metadata": {},
   "outputs": [
    {
     "data": {
      "text/plain": [
       "5-element Array{Float64,1}:\n",
       " 1.5\n",
       " 2.5\n",
       " 3.5\n",
       " 4.5\n",
       " 5.5"
      ]
     },
     "execution_count": 2,
     "metadata": {},
     "output_type": "execute_result"
    }
   ],
   "source": [
    "collect(1.5:5.5)"
   ]
  },
  {
   "cell_type": "code",
   "execution_count": 3,
   "metadata": {},
   "outputs": [
    {
     "data": {
      "text/plain": [
       "9-element Array{Float64,1}:\n",
       " 1.5\n",
       " 2.0\n",
       " 2.5\n",
       " 3.0\n",
       " 3.5\n",
       " 4.0\n",
       " 4.5\n",
       " 5.0\n",
       " 5.5"
      ]
     },
     "execution_count": 3,
     "metadata": {},
     "output_type": "execute_result"
    }
   ],
   "source": [
    "collect(1.5:.5:5.5)"
   ]
  },
  {
   "cell_type": "code",
   "execution_count": 6,
   "metadata": {},
   "outputs": [
    {
     "data": {
      "text/plain": [
       "6-element Array{Int64,1}:\n",
       "   0\n",
       "  20\n",
       "  40\n",
       "  60\n",
       "  80\n",
       " 100"
      ]
     },
     "execution_count": 6,
     "metadata": {},
     "output_type": "execute_result"
    }
   ],
   "source": [
    "collect(0:20:100)"
   ]
  },
  {
   "cell_type": "code",
   "execution_count": 7,
   "metadata": {},
   "outputs": [
    {
     "data": {
      "text/plain": [
       "6-element Array{Int64,1}:\n",
       " 100\n",
       "  80\n",
       "  60\n",
       "  40\n",
       "  20\n",
       "   0"
      ]
     },
     "execution_count": 7,
     "metadata": {},
     "output_type": "execute_result"
    }
   ],
   "source": [
    "collect(100:-20:0)"
   ]
  },
  {
   "cell_type": "code",
   "execution_count": 10,
   "metadata": {},
   "outputs": [
    {
     "data": {
      "text/plain": [
       "6-element Array{Int64,1}:\n",
       " 100\n",
       "  80\n",
       "  60\n",
       "  40\n",
       "  20\n",
       "   0"
      ]
     },
     "execution_count": 10,
     "metadata": {},
     "output_type": "execute_result"
    }
   ],
   "source": [
    "c1 = collect(100:-20:0)"
   ]
  },
  {
   "cell_type": "code",
   "execution_count": 11,
   "metadata": {},
   "outputs": [
    {
     "data": {
      "text/plain": [
       "6-element Array{Int64,1}:\n",
       " 100\n",
       "  80\n",
       "  60\n",
       "  40\n",
       "  20\n",
       "   0"
      ]
     },
     "execution_count": 11,
     "metadata": {},
     "output_type": "execute_result"
    }
   ],
   "source": [
    "c1"
   ]
  },
  {
   "cell_type": "code",
   "execution_count": 12,
   "metadata": {},
   "outputs": [
    {
     "data": {
      "text/plain": [
       "60"
      ]
     },
     "execution_count": 12,
     "metadata": {},
     "output_type": "execute_result"
    }
   ],
   "source": [
    "c1[3]"
   ]
  },
  {
   "cell_type": "code",
   "execution_count": 13,
   "metadata": {},
   "outputs": [
    {
     "data": {
      "text/plain": [
       "20"
      ]
     },
     "execution_count": 13,
     "metadata": {},
     "output_type": "execute_result"
    }
   ],
   "source": [
    "c1[5]"
   ]
  },
  {
   "cell_type": "code",
   "execution_count": 14,
   "metadata": {},
   "outputs": [
    {
     "data": {
      "text/plain": [
       "0"
      ]
     },
     "execution_count": 14,
     "metadata": {},
     "output_type": "execute_result"
    }
   ],
   "source": [
    "c1[end]"
   ]
  },
  {
   "cell_type": "code",
   "execution_count": 15,
   "metadata": {},
   "outputs": [
    {
     "data": {
      "text/plain": [
       "40"
      ]
     },
     "execution_count": 15,
     "metadata": {},
     "output_type": "execute_result"
    }
   ],
   "source": [
    "c1[end-2]"
   ]
  },
  {
   "cell_type": "code",
   "execution_count": 16,
   "metadata": {},
   "outputs": [
    {
     "data": {
      "text/plain": [
       "3-element Array{Int64,1}:\n",
       " 80\n",
       " 60\n",
       " 40"
      ]
     },
     "execution_count": 16,
     "metadata": {},
     "output_type": "execute_result"
    }
   ],
   "source": [
    "c1[:2:4]"
   ]
  },
  {
   "cell_type": "code",
   "execution_count": 17,
   "metadata": {},
   "outputs": [
    {
     "data": {
      "text/plain": [
       "3-element Array{Int64,1}:\n",
       " 80\n",
       " 60\n",
       " 40"
      ]
     },
     "execution_count": 17,
     "metadata": {},
     "output_type": "execute_result"
    }
   ],
   "source": [
    "c1[2:4]"
   ]
  },
  {
   "cell_type": "code",
   "execution_count": 18,
   "metadata": {},
   "outputs": [
    {
     "data": {
      "text/plain": [
       "2-element Array{Int64,1}:\n",
       " 80\n",
       " 20"
      ]
     },
     "execution_count": 18,
     "metadata": {},
     "output_type": "execute_result"
    }
   ],
   "source": [
    "c1[[2,5]]"
   ]
  },
  {
   "cell_type": "code",
   "execution_count": 19,
   "metadata": {},
   "outputs": [
    {
     "data": {
      "text/plain": [
       "5-element Array{Int64,1}:\n",
       " 80\n",
       " 60\n",
       " 40\n",
       " 20\n",
       "  0"
      ]
     },
     "execution_count": 19,
     "metadata": {},
     "output_type": "execute_result"
    }
   ],
   "source": [
    "c1[2:end]"
   ]
  },
  {
   "cell_type": "markdown",
   "metadata": {},
   "source": [
    "## Tuples\n",
    "---"
   ]
  },
  {
   "cell_type": "code",
   "execution_count": 22,
   "metadata": {},
   "outputs": [
    {
     "data": {
      "text/plain": [
       "5-element Array{Int64,1}:\n",
       " 1\n",
       " 2\n",
       " 3\n",
       " 4\n",
       " 5"
      ]
     },
     "execution_count": 22,
     "metadata": {},
     "output_type": "execute_result"
    }
   ],
   "source": [
    "a1 = [1,2,3,4,5]"
   ]
  },
  {
   "cell_type": "code",
   "execution_count": 23,
   "metadata": {},
   "outputs": [
    {
     "data": {
      "text/plain": [
       "(1, 2, 3, 4, 5)"
      ]
     },
     "execution_count": 23,
     "metadata": {},
     "output_type": "execute_result"
    }
   ],
   "source": [
    "t1 = (1,2,3,4,5)"
   ]
  },
  {
   "cell_type": "code",
   "execution_count": 24,
   "metadata": {},
   "outputs": [
    {
     "data": {
      "text/plain": [
       "5-element Array{Int64,1}:\n",
       " 1\n",
       " 2\n",
       " 3\n",
       " 4\n",
       " 5"
      ]
     },
     "execution_count": 24,
     "metadata": {},
     "output_type": "execute_result"
    }
   ],
   "source": [
    "a1"
   ]
  },
  {
   "cell_type": "code",
   "execution_count": 25,
   "metadata": {},
   "outputs": [
    {
     "data": {
      "text/plain": [
       "(1, 2, 3, 4, 5)"
      ]
     },
     "execution_count": 25,
     "metadata": {},
     "output_type": "execute_result"
    }
   ],
   "source": [
    "t1"
   ]
  },
  {
   "cell_type": "code",
   "execution_count": 26,
   "metadata": {},
   "outputs": [
    {
     "data": {
      "text/plain": [
       "5-element Array{Int64,1}:\n",
       " 6\n",
       " 2\n",
       " 3\n",
       " 4\n",
       " 5"
      ]
     },
     "execution_count": 26,
     "metadata": {},
     "output_type": "execute_result"
    }
   ],
   "source": [
    "a1[1] = 6\n",
    "a1"
   ]
  },
  {
   "cell_type": "code",
   "execution_count": 27,
   "metadata": {},
   "outputs": [
    {
     "ename": "LoadError",
     "evalue": "MethodError: no method matching setindex!(::NTuple{5,Int64}, ::Int64, ::Int64)",
     "output_type": "error",
     "traceback": [
      "MethodError: no method matching setindex!(::NTuple{5,Int64}, ::Int64, ::Int64)",
      "",
      "Stacktrace:",
      " [1] top-level scope at In[27]:1",
      " [2] include_string(::Function, ::Module, ::String, ::String) at ./loading.jl:1091",
      " [3] execute_code(::String, ::String) at /home/gda/.julia/packages/IJulia/rWZ9e/src/execute_request.jl:27",
      " [4] execute_request(::ZMQ.Socket, ::IJulia.Msg) at /home/gda/.julia/packages/IJulia/rWZ9e/src/execute_request.jl:86",
      " [5] #invokelatest#1 at ./essentials.jl:710 [inlined]",
      " [6] invokelatest at ./essentials.jl:709 [inlined]",
      " [7] eventloop(::ZMQ.Socket) at /home/gda/.julia/packages/IJulia/rWZ9e/src/eventloop.jl:8",
      " [8] (::IJulia.var\"#15#18\")() at ./task.jl:356"
     ]
    }
   ],
   "source": [
    "t1[1] = 6"
   ]
  },
  {
   "cell_type": "code",
   "execution_count": 28,
   "metadata": {},
   "outputs": [
    {
     "data": {
      "text/plain": [
       "(1, 2, 3)"
      ]
     },
     "execution_count": 28,
     "metadata": {},
     "output_type": "execute_result"
    }
   ],
   "source": [
    "t1[1:3]"
   ]
  },
  {
   "cell_type": "code",
   "execution_count": 29,
   "metadata": {},
   "outputs": [
    {
     "data": {
      "text/plain": [
       "(3, 4, 5)"
      ]
     },
     "execution_count": 29,
     "metadata": {},
     "output_type": "execute_result"
    }
   ],
   "source": [
    "t1[3:end]"
   ]
  },
  {
   "cell_type": "code",
   "execution_count": 30,
   "metadata": {},
   "outputs": [
    {
     "data": {
      "text/plain": [
       "((1, 3), (2, 5))"
      ]
     },
     "execution_count": 30,
     "metadata": {},
     "output_type": "execute_result"
    }
   ],
   "source": [
    "t2 = ((1,3), (2,5))"
   ]
  },
  {
   "cell_type": "code",
   "execution_count": 31,
   "metadata": {},
   "outputs": [
    {
     "data": {
      "text/plain": [
       "(1, 3)"
      ]
     },
     "execution_count": 31,
     "metadata": {},
     "output_type": "execute_result"
    }
   ],
   "source": [
    "t2[1]"
   ]
  },
  {
   "cell_type": "code",
   "execution_count": 32,
   "metadata": {},
   "outputs": [
    {
     "data": {
      "text/plain": [
       "3"
      ]
     },
     "execution_count": 32,
     "metadata": {},
     "output_type": "execute_result"
    }
   ],
   "source": [
    "t2[1][2]"
   ]
  },
  {
   "cell_type": "code",
   "execution_count": 34,
   "metadata": {},
   "outputs": [
    {
     "data": {
      "text/plain": [
       "(Science = (90, 100), Maths = (95, 100), English = (75, 100))"
      ]
     },
     "execution_count": 34,
     "metadata": {},
     "output_type": "execute_result"
    }
   ],
   "source": [
    "marks = (Science = (90, 100), Maths = (95,100), English = (75,100))"
   ]
  },
  {
   "cell_type": "code",
   "execution_count": 35,
   "metadata": {},
   "outputs": [
    {
     "data": {
      "text/plain": [
       "(90, 100)"
      ]
     },
     "execution_count": 35,
     "metadata": {},
     "output_type": "execute_result"
    }
   ],
   "source": [
    "marks.Science"
   ]
  },
  {
   "cell_type": "code",
   "execution_count": 36,
   "metadata": {},
   "outputs": [
    {
     "data": {
      "text/plain": [
       "(75, 100)"
      ]
     },
     "execution_count": 36,
     "metadata": {},
     "output_type": "execute_result"
    }
   ],
   "source": [
    "marks.English"
   ]
  },
  {
   "cell_type": "code",
   "execution_count": 37,
   "metadata": {},
   "outputs": [
    {
     "data": {
      "text/plain": [
       "(95, 100)"
      ]
     },
     "execution_count": 37,
     "metadata": {},
     "output_type": "execute_result"
    }
   ],
   "source": [
    "marks.Maths"
   ]
  },
  {
   "cell_type": "code",
   "execution_count": 39,
   "metadata": {},
   "outputs": [
    {
     "data": {
      "text/plain": [
       "(History = (80, 100), Sports = (85, 100))"
      ]
     },
     "execution_count": 39,
     "metadata": {},
     "output_type": "execute_result"
    }
   ],
   "source": [
    "marks2 = (History = (80, 100), Sports = (85, 100))"
   ]
  },
  {
   "cell_type": "code",
   "execution_count": 40,
   "metadata": {},
   "outputs": [
    {
     "data": {
      "text/plain": [
       "(Science = (90, 100), Maths = (95, 100), English = (75, 100), History = (80, 100), Sports = (85, 100))"
      ]
     },
     "execution_count": 40,
     "metadata": {},
     "output_type": "execute_result"
    }
   ],
   "source": [
    "merge(marks, marks2)"
   ]
  },
  {
   "cell_type": "markdown",
   "metadata": {},
   "source": [
    "## Dictionary\n",
    "---"
   ]
  },
  {
   "cell_type": "code",
   "execution_count": 44,
   "metadata": {},
   "outputs": [
    {
     "data": {
      "text/plain": [
       "Dict{String,Int64} with 4 entries:\n",
       "  \"Car3\" => 30000\n",
       "  \"Car2\" => 20000\n",
       "  \"Car4\" => 38500\n",
       "  \"Car1\" => 10000"
      ]
     },
     "execution_count": 44,
     "metadata": {},
     "output_type": "execute_result"
    }
   ],
   "source": [
    "Cars = Dict(\"Car1\" => 10000, \"Car2\" => 20000, \"Car3\" => 30000, \"Car4\" => 38500)"
   ]
  },
  {
   "cell_type": "code",
   "execution_count": 45,
   "metadata": {},
   "outputs": [
    {
     "data": {
      "text/plain": [
       "20000"
      ]
     },
     "execution_count": 45,
     "metadata": {},
     "output_type": "execute_result"
    }
   ],
   "source": [
    "Cars[\"Car2\"]"
   ]
  },
  {
   "cell_type": "code",
   "execution_count": 47,
   "metadata": {},
   "outputs": [
    {
     "data": {
      "text/plain": [
       "Dict{Symbol,Int64} with 3 entries:\n",
       "  :Car3 => 35000\n",
       "  :Car1 => 17000\n",
       "  :Car2 => 20000"
      ]
     },
     "execution_count": 47,
     "metadata": {},
     "output_type": "execute_result"
    }
   ],
   "source": [
    "Cars2 = Dict(:Car1 => 17000, :Car2 => 20000, :Car3 => 35000)"
   ]
  },
  {
   "cell_type": "code",
   "execution_count": 48,
   "metadata": {},
   "outputs": [
    {
     "data": {
      "text/plain": [
       "17000"
      ]
     },
     "execution_count": 48,
     "metadata": {},
     "output_type": "execute_result"
    }
   ],
   "source": [
    "Cars2[:Car1]"
   ]
  },
  {
   "cell_type": "code",
   "execution_count": 49,
   "metadata": {},
   "outputs": [
    {
     "data": {
      "text/plain": [
       "false"
      ]
     },
     "execution_count": 49,
     "metadata": {},
     "output_type": "execute_result"
    }
   ],
   "source": [
    "haskey(Cars2, :Car4)"
   ]
  },
  {
   "cell_type": "code",
   "execution_count": 53,
   "metadata": {},
   "outputs": [
    {
     "data": {
      "text/plain": [
       "Dict{Symbol,Int64} with 2 entries:\n",
       "  :Car3 => 35000\n",
       "  :Car2 => 20000"
      ]
     },
     "execution_count": 53,
     "metadata": {},
     "output_type": "execute_result"
    }
   ],
   "source": [
    "delete!(Cars2, :Car1)"
   ]
  },
  {
   "cell_type": "code",
   "execution_count": 56,
   "metadata": {},
   "outputs": [
    {
     "data": {
      "text/plain": [
       "Base.KeySet for a Dict{String,Int64} with 4 entries. Keys:\n",
       "  \"Car3\"\n",
       "  \"Car2\"\n",
       "  \"Car4\"\n",
       "  \"Car1\""
      ]
     },
     "execution_count": 56,
     "metadata": {},
     "output_type": "execute_result"
    }
   ],
   "source": [
    "keys(Cars)"
   ]
  },
  {
   "cell_type": "code",
   "execution_count": 57,
   "metadata": {},
   "outputs": [
    {
     "data": {
      "text/plain": [
       "Base.ValueIterator for a Dict{String,Int64} with 4 entries. Values:\n",
       "  30000\n",
       "  20000\n",
       "  38500\n",
       "  10000"
      ]
     },
     "execution_count": 57,
     "metadata": {},
     "output_type": "execute_result"
    }
   ],
   "source": [
    "values(Cars)"
   ]
  },
  {
   "cell_type": "code",
   "execution_count": 58,
   "metadata": {},
   "outputs": [
    {
     "data": {
      "text/plain": [
       "Dict{Any,Int64} with 6 entries:\n",
       "  :Car3  => 35000\n",
       "  \"Car3\" => 30000\n",
       "  \"Car2\" => 20000\n",
       "  \"Car4\" => 38500\n",
       "  \"Car1\" => 10000\n",
       "  :Car2  => 20000"
      ]
     },
     "execution_count": 58,
     "metadata": {},
     "output_type": "execute_result"
    }
   ],
   "source": [
    "dict3 = merge(Cars, Cars2)"
   ]
  },
  {
   "cell_type": "markdown",
   "metadata": {},
   "source": [
    "## Sets\n",
    "---"
   ]
  },
  {
   "cell_type": "code",
   "execution_count": 59,
   "metadata": {},
   "outputs": [
    {
     "data": {
      "text/plain": [
       "Set{String} with 4 elements:\n",
       "  \"Nike\"\n",
       "  \"Puma\"\n",
       "  \"Reebok\"\n",
       "  \"Adidas\""
      ]
     },
     "execution_count": 59,
     "metadata": {},
     "output_type": "execute_result"
    }
   ],
   "source": [
    "sports_brands = Set([\"Adidas\", \"Nike\", \"Puma\", \"Reebok\"])"
   ]
  },
  {
   "cell_type": "code",
   "execution_count": 60,
   "metadata": {},
   "outputs": [
    {
     "data": {
      "text/plain": [
       "false"
      ]
     },
     "execution_count": 60,
     "metadata": {},
     "output_type": "execute_result"
    }
   ],
   "source": [
    "in(\"HRX\", sports_brands)"
   ]
  },
  {
   "cell_type": "code",
   "execution_count": 61,
   "metadata": {},
   "outputs": [
    {
     "data": {
      "text/plain": [
       "true"
      ]
     },
     "execution_count": 61,
     "metadata": {},
     "output_type": "execute_result"
    }
   ],
   "source": [
    "in(\"Nike\", sports_brands)"
   ]
  },
  {
   "cell_type": "code",
   "execution_count": 62,
   "metadata": {},
   "outputs": [
    {
     "data": {
      "text/plain": [
       "Set{String} with 3 elements:\n",
       "  \"Nike\"\n",
       "  \"HRX\"\n",
       "  \"Adidas\""
      ]
     },
     "execution_count": 62,
     "metadata": {},
     "output_type": "execute_result"
    }
   ],
   "source": [
    "sports_brands_india = Set([\"Adidas\", \"Nike\", \"HRX\"])"
   ]
  },
  {
   "cell_type": "code",
   "execution_count": 64,
   "metadata": {},
   "outputs": [
    {
     "data": {
      "text/plain": [
       "Set{String} with 5 elements:\n",
       "  \"Nike\"\n",
       "  \"Puma\"\n",
       "  \"Reebok\"\n",
       "  \"HRX\"\n",
       "  \"Adidas\""
      ]
     },
     "execution_count": 64,
     "metadata": {},
     "output_type": "execute_result"
    }
   ],
   "source": [
    "union(sports_brands, sports_brands_india)"
   ]
  },
  {
   "cell_type": "code",
   "execution_count": 65,
   "metadata": {},
   "outputs": [
    {
     "data": {
      "text/plain": [
       "Set{String} with 2 elements:\n",
       "  \"Nike\"\n",
       "  \"Adidas\""
      ]
     },
     "execution_count": 65,
     "metadata": {},
     "output_type": "execute_result"
    }
   ],
   "source": [
    "intersect(sports_brands, sports_brands_india)"
   ]
  },
  {
   "cell_type": "code",
   "execution_count": 66,
   "metadata": {},
   "outputs": [
    {
     "data": {
      "text/plain": [
       "Set{String} with 2 elements:\n",
       "  \"Puma\"\n",
       "  \"Reebok\""
      ]
     },
     "execution_count": 66,
     "metadata": {},
     "output_type": "execute_result"
    }
   ],
   "source": [
    "setdiff(sports_brands, sports_brands_india)"
   ]
  },
  {
   "cell_type": "code",
   "execution_count": 67,
   "metadata": {},
   "outputs": [
    {
     "data": {
      "text/plain": [
       "Set{String} with 1 element:\n",
       "  \"HRX\""
      ]
     },
     "execution_count": 67,
     "metadata": {},
     "output_type": "execute_result"
    }
   ],
   "source": [
    "setdiff(sports_brands_india, sports_brands)"
   ]
  },
  {
   "cell_type": "code",
   "execution_count": 68,
   "metadata": {},
   "outputs": [
    {
     "data": {
      "text/plain": [
       "Set{String} with 5 elements:\n",
       "  \"Nike\"\n",
       "  \"Puma\"\n",
       "  \"Reebok\"\n",
       "  \"HRX\"\n",
       "  \"Adidas\""
      ]
     },
     "execution_count": 68,
     "metadata": {},
     "output_type": "execute_result"
    }
   ],
   "source": [
    "push!(sports_brands, \"HRX\")"
   ]
  },
  {
   "cell_type": "markdown",
   "metadata": {},
   "source": [
    "## Working with Date and Time\n",
    "---"
   ]
  },
  {
   "cell_type": "code",
   "execution_count": 70,
   "metadata": {},
   "outputs": [],
   "source": [
    "using Dates"
   ]
  },
  {
   "cell_type": "code",
   "execution_count": 72,
   "metadata": {},
   "outputs": [
    {
     "data": {
      "text/plain": [
       "2020-10-15T18:16:22.979"
      ]
     },
     "execution_count": 72,
     "metadata": {},
     "output_type": "execute_result"
    }
   ],
   "source": [
    "now()"
   ]
  },
  {
   "cell_type": "code",
   "execution_count": 73,
   "metadata": {},
   "outputs": [
    {
     "data": {
      "text/plain": [
       "2020-10-15"
      ]
     },
     "execution_count": 73,
     "metadata": {},
     "output_type": "execute_result"
    }
   ],
   "source": [
    "today()"
   ]
  },
  {
   "cell_type": "code",
   "execution_count": 75,
   "metadata": {},
   "outputs": [
    {
     "data": {
      "text/plain": [
       "1970-09-21"
      ]
     },
     "execution_count": 75,
     "metadata": {},
     "output_type": "execute_result"
    }
   ],
   "source": [
    "birthdate = Date(1970, 9, 21)"
   ]
  },
  {
   "cell_type": "code",
   "execution_count": 76,
   "metadata": {},
   "outputs": [
    {
     "data": {
      "text/plain": [
       "1970-09-21T09:40:30"
      ]
     },
     "execution_count": 76,
     "metadata": {},
     "output_type": "execute_result"
    }
   ],
   "source": [
    "DateTime(1970, 9, 21, 9, 40, 30)"
   ]
  },
  {
   "cell_type": "code",
   "execution_count": 77,
   "metadata": {},
   "outputs": [
    {
     "data": {
      "text/plain": [
       "2020-10-15T22:18:51.23"
      ]
     },
     "execution_count": 77,
     "metadata": {},
     "output_type": "execute_result"
    }
   ],
   "source": [
    "now(UTC)"
   ]
  },
  {
   "cell_type": "code",
   "execution_count": 78,
   "metadata": {},
   "outputs": [
    {
     "data": {
      "text/plain": [
       "2020-10-15T22:19:35.048"
      ]
     },
     "execution_count": 78,
     "metadata": {},
     "output_type": "execute_result"
    }
   ],
   "source": [
    "mytime = now(UTC)"
   ]
  },
  {
   "cell_type": "code",
   "execution_count": 79,
   "metadata": {},
   "outputs": [
    {
     "data": {
      "text/plain": [
       "2020"
      ]
     },
     "execution_count": 79,
     "metadata": {},
     "output_type": "execute_result"
    }
   ],
   "source": [
    "year(mytime)"
   ]
  },
  {
   "cell_type": "code",
   "execution_count": 80,
   "metadata": {},
   "outputs": [
    {
     "data": {
      "text/plain": [
       "10"
      ]
     },
     "execution_count": 80,
     "metadata": {},
     "output_type": "execute_result"
    }
   ],
   "source": [
    "month(mytime)"
   ]
  },
  {
   "cell_type": "code",
   "execution_count": 81,
   "metadata": {},
   "outputs": [
    {
     "data": {
      "text/plain": [
       "15"
      ]
     },
     "execution_count": 81,
     "metadata": {},
     "output_type": "execute_result"
    }
   ],
   "source": [
    "day(mytime)"
   ]
  },
  {
   "cell_type": "code",
   "execution_count": 82,
   "metadata": {},
   "outputs": [
    {
     "data": {
      "text/plain": [
       "22"
      ]
     },
     "execution_count": 82,
     "metadata": {},
     "output_type": "execute_result"
    }
   ],
   "source": [
    "hour(mytime)"
   ]
  },
  {
   "cell_type": "code",
   "execution_count": 84,
   "metadata": {},
   "outputs": [
    {
     "data": {
      "text/plain": [
       "19"
      ]
     },
     "execution_count": 84,
     "metadata": {},
     "output_type": "execute_result"
    }
   ],
   "source": [
    "minute(mytime)"
   ]
  },
  {
   "cell_type": "code",
   "execution_count": 85,
   "metadata": {},
   "outputs": [
    {
     "data": {
      "text/plain": [
       "35"
      ]
     },
     "execution_count": 85,
     "metadata": {},
     "output_type": "execute_result"
    }
   ],
   "source": [
    "second(mytime)"
   ]
  },
  {
   "cell_type": "code",
   "execution_count": 91,
   "metadata": {},
   "outputs": [
    {
     "data": {
      "text/plain": [
       "4"
      ]
     },
     "execution_count": 91,
     "metadata": {},
     "output_type": "execute_result"
    }
   ],
   "source": [
    "dayofweek(mytime)"
   ]
  },
  {
   "cell_type": "code",
   "execution_count": 92,
   "metadata": {},
   "outputs": [
    {
     "data": {
      "text/plain": [
       "\"Thursday\""
      ]
     },
     "execution_count": 92,
     "metadata": {},
     "output_type": "execute_result"
    }
   ],
   "source": [
    "dayname(mytime)"
   ]
  },
  {
   "cell_type": "code",
   "execution_count": 93,
   "metadata": {},
   "outputs": [
    {
     "data": {
      "text/plain": [
       "15"
      ]
     },
     "execution_count": 93,
     "metadata": {},
     "output_type": "execute_result"
    }
   ],
   "source": [
    "dayofquarter(mytime)"
   ]
  },
  {
   "cell_type": "code",
   "execution_count": 94,
   "metadata": {},
   "outputs": [
    {
     "data": {
      "text/plain": [
       "31"
      ]
     },
     "execution_count": 94,
     "metadata": {},
     "output_type": "execute_result"
    }
   ],
   "source": [
    "daysinmonth(mytime)"
   ]
  },
  {
   "cell_type": "code",
   "execution_count": 101,
   "metadata": {},
   "outputs": [
    {
     "data": {
      "text/plain": [
       "18287 days"
      ]
     },
     "execution_count": 101,
     "metadata": {},
     "output_type": "execute_result"
    }
   ],
   "source": [
    "(today() - birthdate)"
   ]
  },
  {
   "cell_type": "code",
   "execution_count": 102,
   "metadata": {},
   "outputs": [
    {
     "data": {
      "text/plain": [
       "2021-01-15"
      ]
     },
     "execution_count": 102,
     "metadata": {},
     "output_type": "execute_result"
    }
   ],
   "source": [
    "today() + Month(3)"
   ]
  },
  {
   "cell_type": "code",
   "execution_count": 105,
   "metadata": {},
   "outputs": [
    {
     "data": {
      "text/plain": [
       "dateformat\"mm/dd/yyyy\""
      ]
     },
     "execution_count": 105,
     "metadata": {},
     "output_type": "execute_result"
    }
   ],
   "source": [
    "date_format = DateFormat(\"mm/dd/yyyy\")"
   ]
  },
  {
   "cell_type": "code",
   "execution_count": 106,
   "metadata": {},
   "outputs": [
    {
     "data": {
      "text/plain": [
       "\"09/21/1970\""
      ]
     },
     "execution_count": 106,
     "metadata": {},
     "output_type": "execute_result"
    }
   ],
   "source": [
    "Dates.format(birthdate, date_format)"
   ]
  },
  {
   "cell_type": "markdown",
   "metadata": {},
   "source": [
    "## Conditional Statements\n",
    "---"
   ]
  },
  {
   "cell_type": "code",
   "execution_count": 107,
   "metadata": {},
   "outputs": [
    {
     "data": {
      "text/plain": [
       "10"
      ]
     },
     "execution_count": 107,
     "metadata": {},
     "output_type": "execute_result"
    }
   ],
   "source": [
    "a = 10"
   ]
  },
  {
   "cell_type": "code",
   "execution_count": 109,
   "metadata": {},
   "outputs": [
    {
     "data": {
      "text/plain": [
       "\"No\""
      ]
     },
     "execution_count": 109,
     "metadata": {},
     "output_type": "execute_result"
    }
   ],
   "source": [
    "a > 10 ? \"Yes\" : \"No\""
   ]
  },
  {
   "cell_type": "code",
   "execution_count": 110,
   "metadata": {},
   "outputs": [
    {
     "data": {
      "text/plain": [
       "\"No\""
      ]
     },
     "execution_count": 110,
     "metadata": {},
     "output_type": "execute_result"
    }
   ],
   "source": [
    "a < 10 ? \"Yes\" : \"No\""
   ]
  },
  {
   "cell_type": "code",
   "execution_count": 111,
   "metadata": {},
   "outputs": [
    {
     "data": {
      "text/plain": [
       "\"Yes\""
      ]
     },
     "execution_count": 111,
     "metadata": {},
     "output_type": "execute_result"
    }
   ],
   "source": [
    "a <= 10 ? \"Yes\" : \"No\""
   ]
  },
  {
   "cell_type": "code",
   "execution_count": 112,
   "metadata": {},
   "outputs": [
    {
     "data": {
      "text/plain": [
       "20"
      ]
     },
     "execution_count": 112,
     "metadata": {},
     "output_type": "execute_result"
    }
   ],
   "source": [
    "b = 20"
   ]
  },
  {
   "cell_type": "code",
   "execution_count": 114,
   "metadata": {},
   "outputs": [
    {
     "data": {
      "text/plain": [
       "true"
      ]
     },
     "execution_count": 114,
     "metadata": {},
     "output_type": "execute_result"
    }
   ],
   "source": [
    "a >= 10 || b < 20"
   ]
  },
  {
   "cell_type": "code",
   "execution_count": 115,
   "metadata": {},
   "outputs": [
    {
     "data": {
      "text/plain": [
       "false"
      ]
     },
     "execution_count": 115,
     "metadata": {},
     "output_type": "execute_result"
    }
   ],
   "source": [
    "a > 10 || b < 20"
   ]
  },
  {
   "cell_type": "code",
   "execution_count": 116,
   "metadata": {},
   "outputs": [
    {
     "data": {
      "text/plain": [
       "false"
      ]
     },
     "execution_count": 116,
     "metadata": {},
     "output_type": "execute_result"
    }
   ],
   "source": [
    "a >= 10  && b < 20"
   ]
  },
  {
   "cell_type": "code",
   "execution_count": 119,
   "metadata": {},
   "outputs": [
    {
     "data": {
      "text/plain": [
       "true"
      ]
     },
     "execution_count": 119,
     "metadata": {},
     "output_type": "execute_result"
    }
   ],
   "source": [
    "a >= 10 && b <= 20"
   ]
  },
  {
   "cell_type": "code",
   "execution_count": 120,
   "metadata": {},
   "outputs": [
    {
     "name": "stdout",
     "output_type": "stream",
     "text": [
      "a is equal to 10"
     ]
    }
   ],
   "source": [
    "if a > 10\n",
    "    print(\"a is greater than 10\")\n",
    "elseif a < 10\n",
    "    print(\"a is less than 10\")\n",
    "else\n",
    "    print(\"a is equal to 10\")\n",
    "end"
   ]
  },
  {
   "cell_type": "code",
   "execution_count": 121,
   "metadata": {},
   "outputs": [
    {
     "data": {
      "text/plain": [
       "\"United States\""
      ]
     },
     "execution_count": 121,
     "metadata": {},
     "output_type": "execute_result"
    }
   ],
   "source": [
    "country = \"United States\""
   ]
  },
  {
   "cell_type": "code",
   "execution_count": 122,
   "metadata": {},
   "outputs": [
    {
     "name": "stdout",
     "output_type": "stream",
     "text": [
      "You mentioned United States"
     ]
    }
   ],
   "source": [
    "if country == \"United States\"\n",
    "    print(\"You mentioned United States\")\n",
    "else\n",
    "    print(\"You are in a country other than United States\")\n",
    "end"
   ]
  },
  {
   "cell_type": "markdown",
   "metadata": {},
   "source": [
    "## Loops\n",
    "---"
   ]
  },
  {
   "cell_type": "code",
   "execution_count": 124,
   "metadata": {},
   "outputs": [
    {
     "name": "stdout",
     "output_type": "stream",
     "text": [
      "AdidasNikePuma"
     ]
    }
   ],
   "source": [
    "for i in [\"Adidas\", \"Nike\", \"Puma\"]\n",
    "    print(i)\n",
    "end"
   ]
  },
  {
   "cell_type": "code",
   "execution_count": 125,
   "metadata": {},
   "outputs": [
    {
     "name": "stdout",
     "output_type": "stream",
     "text": [
      "Adidas Nike Puma "
     ]
    }
   ],
   "source": [
    "for i in [\"Adidas\", \"Nike\", \"Puma\"]\n",
    "    print(i, \" \")\n",
    "end"
   ]
  },
  {
   "cell_type": "code",
   "execution_count": 126,
   "metadata": {},
   "outputs": [
    {
     "name": "stdout",
     "output_type": "stream",
     "text": [
      "Adidas"
     ]
    }
   ],
   "source": [
    "for i in \"Adidas\"\n",
    "    print(i)\n",
    "end"
   ]
  },
  {
   "cell_type": "code",
   "execution_count": 127,
   "metadata": {},
   "outputs": [
    {
     "name": "stdout",
     "output_type": "stream",
     "text": [
      "A\n",
      "d\n",
      "i\n",
      "d\n",
      "a\n",
      "s\n"
     ]
    }
   ],
   "source": [
    "for i in \"Adidas\"\n",
    "    println(i)\n",
    "end"
   ]
  },
  {
   "cell_type": "code",
   "execution_count": 131,
   "metadata": {},
   "outputs": [
    {
     "name": "stdout",
     "output_type": "stream",
     "text": [
      "12345"
     ]
    }
   ],
   "source": [
    "for t in (1,2,3,4,5)\n",
    "    print(t)\n",
    "end"
   ]
  },
  {
   "cell_type": "code",
   "execution_count": 132,
   "metadata": {},
   "outputs": [
    {
     "name": "stdout",
     "output_type": "stream",
     "text": [
      "1\n",
      "2\n",
      "3\n",
      "4\n",
      "5\n"
     ]
    }
   ],
   "source": [
    "for t in (1,2,3,4,5)\n",
    "    println(t)\n",
    "end"
   ]
  },
  {
   "cell_type": "code",
   "execution_count": 133,
   "metadata": {},
   "outputs": [
    {
     "name": "stdout",
     "output_type": "stream",
     "text": [
      ":C2 => 2000 :C1 => 1000 "
     ]
    }
   ],
   "source": [
    "for d in Dict(:C1 => 1000, :C2 => 2000)\n",
    "    print(d, \" \")\n",
    "end"
   ]
  },
  {
   "cell_type": "code",
   "execution_count": 136,
   "metadata": {},
   "outputs": [
    {
     "data": {
      "text/plain": [
       "Dict{Symbol,Int64} with 2 entries:\n",
       "  :C2 => 2000\n",
       "  :C1 => 1000"
      ]
     },
     "execution_count": 136,
     "metadata": {},
     "output_type": "execute_result"
    }
   ],
   "source": [
    "d1 = Dict(:C1 => 1000, :C2 => 2000)"
   ]
  },
  {
   "cell_type": "code",
   "execution_count": 137,
   "metadata": {},
   "outputs": [
    {
     "name": "stdout",
     "output_type": "stream",
     "text": [
      ":C2 => 2000 :C1 => 1000 "
     ]
    }
   ],
   "source": [
    "for d in d1\n",
    "    print(d, \" \")\n",
    "end"
   ]
  },
  {
   "cell_type": "code",
   "execution_count": 138,
   "metadata": {},
   "outputs": [
    {
     "name": "stdout",
     "output_type": "stream",
     "text": [
      "42351"
     ]
    }
   ],
   "source": [
    "for s in Set([1,2,3,4,5])\n",
    "    print(s)\n",
    "end"
   ]
  },
  {
   "cell_type": "code",
   "execution_count": 139,
   "metadata": {},
   "outputs": [
    {
     "name": "stdout",
     "output_type": "stream",
     "text": [
      "1 2 3 4 5 "
     ]
    }
   ],
   "source": [
    "for range in 1:5\n",
    "    print(range, \" \")\n",
    "end"
   ]
  },
  {
   "cell_type": "code",
   "execution_count": 140,
   "metadata": {},
   "outputs": [
    {
     "name": "stdout",
     "output_type": "stream",
     "text": [
      "range = 1\n",
      "range = 2\n",
      "range = 3\n",
      "range = 4\n",
      "range = 5\n"
     ]
    }
   ],
   "source": [
    "for range in 1:5\n",
    "    @show range\n",
    "end"
   ]
  },
  {
   "cell_type": "code",
   "execution_count": 143,
   "metadata": {},
   "outputs": [
    {
     "name": "stdout",
     "output_type": "stream",
     "text": [
      "2 4 6 8 10 "
     ]
    }
   ],
   "source": [
    "for x in 1:10\n",
    "    if x % 2 == 0\n",
    "        print(x, \" \")\n",
    "    end\n",
    "end"
   ]
  },
  {
   "cell_type": "code",
   "execution_count": 144,
   "metadata": {},
   "outputs": [
    {
     "name": "stdout",
     "output_type": "stream",
     "text": [
      "10 is multiplication between 1 and 10\n",
      "20 is multiplication between 2 and 10\n",
      "30 is multiplication between 3 and 10\n",
      "40 is multiplication between 4 and 10\n",
      "50 is multiplication between 5 and 10\n",
      "60 is multiplication between 6 and 10\n",
      "70 is multiplication between 7 and 10\n",
      "80 is multiplication between 8 and 10\n",
      "90 is multiplication between 9 and 10\n",
      "100 is multiplication between 10 and 10\n"
     ]
    }
   ],
   "source": [
    "for i in 1:10\n",
    "    j = i * 10\n",
    "    println(\"$(j) is multiplication between $(i) and 10\")\n",
    "end"
   ]
  },
  {
   "cell_type": "code",
   "execution_count": 146,
   "metadata": {},
   "outputs": [
    {
     "name": "stdout",
     "output_type": "stream",
     "text": [
      "1\n",
      "3\n",
      "5\n",
      "7\n",
      "9\n"
     ]
    }
   ],
   "source": [
    "for i in 1:10\n",
    "    if i%2 == 0\n",
    "        continue\n",
    "    end\n",
    "    println(i)\n",
    "end"
   ]
  },
  {
   "cell_type": "code",
   "execution_count": 147,
   "metadata": {},
   "outputs": [
    {
     "data": {
      "text/plain": [
       "1"
      ]
     },
     "execution_count": 147,
     "metadata": {},
     "output_type": "execute_result"
    }
   ],
   "source": [
    "a = 1"
   ]
  },
  {
   "cell_type": "code",
   "execution_count": 148,
   "metadata": {},
   "outputs": [
    {
     "name": "stdout",
     "output_type": "stream",
     "text": [
      "1\n",
      "2\n",
      "3\n",
      "4\n",
      "5\n",
      "6\n",
      "7\n",
      "8\n",
      "9\n"
     ]
    }
   ],
   "source": [
    "while a < 10\n",
    "    println(a)\n",
    "    a += 1\n",
    "end"
   ]
  },
  {
   "cell_type": "markdown",
   "metadata": {},
   "source": [
    "## Comprehensions\n",
    "---"
   ]
  },
  {
   "cell_type": "code",
   "execution_count": 149,
   "metadata": {},
   "outputs": [
    {
     "data": {
      "text/plain": [
       "10-element Array{Int64,1}:\n",
       "  1\n",
       "  2\n",
       "  3\n",
       "  4\n",
       "  5\n",
       "  6\n",
       "  7\n",
       "  8\n",
       "  9\n",
       " 10"
      ]
     },
     "execution_count": 149,
     "metadata": {},
     "output_type": "execute_result"
    }
   ],
   "source": [
    "x = [i for i in 1:10]"
   ]
  },
  {
   "cell_type": "code",
   "execution_count": 151,
   "metadata": {},
   "outputs": [
    {
     "data": {
      "text/plain": [
       "10-element Array{Int64,1}:\n",
       "  2\n",
       "  4\n",
       "  6\n",
       "  8\n",
       " 10\n",
       " 12\n",
       " 14\n",
       " 16\n",
       " 18\n",
       " 20"
      ]
     },
     "execution_count": 151,
     "metadata": {},
     "output_type": "execute_result"
    }
   ],
   "source": [
    "x = [i*2 for i in 1:10]"
   ]
  },
  {
   "cell_type": "code",
   "execution_count": 153,
   "metadata": {},
   "outputs": [
    {
     "data": {
      "text/plain": [
       "10-element Array{Int64,1}:\n",
       "   1\n",
       "   4\n",
       "   9\n",
       "  16\n",
       "  25\n",
       "  36\n",
       "  49\n",
       "  64\n",
       "  81\n",
       " 100"
      ]
     },
     "execution_count": 153,
     "metadata": {},
     "output_type": "execute_result"
    }
   ],
   "source": [
    "x = [i^2 for i in 1:10]"
   ]
  },
  {
   "cell_type": "code",
   "execution_count": 154,
   "metadata": {},
   "outputs": [
    {
     "data": {
      "text/plain": [
       "Set{Int64} with 10 elements:\n",
       "  7\n",
       "  4\n",
       "  9\n",
       "  10\n",
       "  2\n",
       "  3\n",
       "  5\n",
       "  8\n",
       "  6\n",
       "  1"
      ]
     },
     "execution_count": 154,
     "metadata": {},
     "output_type": "execute_result"
    }
   ],
   "source": [
    "s = Set([i for i in 1:10])"
   ]
  },
  {
   "cell_type": "code",
   "execution_count": 164,
   "metadata": {},
   "outputs": [
    {
     "data": {
      "text/plain": [
       "Dict{String,Int64} with 26 entries:\n",
       "  \"Z\" => 26\n",
       "  \"Q\" => 17\n",
       "  \"W\" => 23\n",
       "  \"T\" => 20\n",
       "  \"C\" => 3\n",
       "  \"P\" => 16\n",
       "  \"V\" => 22\n",
       "  \"L\" => 12\n",
       "  \"O\" => 15\n",
       "  \"B\" => 2\n",
       "  \"M\" => 13\n",
       "  \"N\" => 14\n",
       "  \"H\" => 8\n",
       "  \"A\" => 1\n",
       "  \"X\" => 24\n",
       "  \"D\" => 4\n",
       "  \"G\" => 7\n",
       "  \"E\" => 5\n",
       "  \"Y\" => 25\n",
       "  \"I\" => 9\n",
       "  \"J\" => 10\n",
       "  \"S\" => 19\n",
       "  \"U\" => 21\n",
       "  \"K\" => 11\n",
       "  \"R\" => 18\n",
       "  \"F\" => 6"
      ]
     },
     "execution_count": 164,
     "metadata": {},
     "output_type": "execute_result"
    }
   ],
   "source": [
    "alphabet = (Dict(string(Char(x1 + 64)) => x1 for x1 in 1:26))"
   ]
  },
  {
   "cell_type": "code",
   "execution_count": 160,
   "metadata": {},
   "outputs": [
    {
     "data": {
      "text/plain": [
       "3×2 Array{Tuple{Int64,Int64},2}:\n",
       " (1, 1)  (1, 2)\n",
       " (2, 1)  (2, 2)\n",
       " (3, 1)  (3, 2)"
      ]
     },
     "execution_count": 160,
     "metadata": {},
     "output_type": "execute_result"
    }
   ],
   "source": [
    "[(x, y) for x in 1:3, y in 1:2]"
   ]
  },
  {
   "cell_type": "code",
   "execution_count": 161,
   "metadata": {},
   "outputs": [
    {
     "data": {
      "text/plain": [
       "5-element Array{Int64,1}:\n",
       "  2\n",
       "  4\n",
       "  6\n",
       "  8\n",
       " 10"
      ]
     },
     "execution_count": 161,
     "metadata": {},
     "output_type": "execute_result"
    }
   ],
   "source": [
    "[x for x in 1:10 if x%2 == 0]"
   ]
  },
  {
   "cell_type": "markdown",
   "metadata": {},
   "source": [
    "## Strings\n",
    "---"
   ]
  },
  {
   "cell_type": "code",
   "execution_count": 1,
   "metadata": {},
   "outputs": [
    {
     "data": {
      "text/plain": [
       "\"I hate Julia\""
      ]
     },
     "execution_count": 1,
     "metadata": {},
     "output_type": "execute_result"
    }
   ],
   "source": [
    "s1 = \"I hate Julia\""
   ]
  },
  {
   "cell_type": "code",
   "execution_count": 2,
   "metadata": {},
   "outputs": [
    {
     "data": {
      "text/plain": [
       "12"
      ]
     },
     "execution_count": 2,
     "metadata": {},
     "output_type": "execute_result"
    }
   ],
   "source": [
    "length(s1)"
   ]
  },
  {
   "cell_type": "code",
   "execution_count": 3,
   "metadata": {},
   "outputs": [
    {
     "data": {
      "text/plain": [
       "12"
      ]
     },
     "execution_count": 3,
     "metadata": {},
     "output_type": "execute_result"
    }
   ],
   "source": [
    "lastindex(s1)"
   ]
  },
  {
   "cell_type": "code",
   "execution_count": 4,
   "metadata": {},
   "outputs": [
    {
     "data": {
      "text/plain": [
       "'a': ASCII/Unicode U+0061 (category Ll: Letter, lowercase)"
      ]
     },
     "execution_count": 4,
     "metadata": {},
     "output_type": "execute_result"
    }
   ],
   "source": [
    "s1[4]"
   ]
  },
  {
   "cell_type": "code",
   "execution_count": 5,
   "metadata": {},
   "outputs": [
    {
     "data": {
      "text/plain": [
       "'l': ASCII/Unicode U+006C (category Ll: Letter, lowercase)"
      ]
     },
     "execution_count": 5,
     "metadata": {},
     "output_type": "execute_result"
    }
   ],
   "source": [
    "s1[10]"
   ]
  },
  {
   "cell_type": "code",
   "execution_count": 8,
   "metadata": {},
   "outputs": [
    {
     "data": {
      "text/plain": [
       "\"hate\""
      ]
     },
     "execution_count": 8,
     "metadata": {},
     "output_type": "execute_result"
    }
   ],
   "source": [
    "s1[3:6]"
   ]
  },
  {
   "cell_type": "code",
   "execution_count": 9,
   "metadata": {},
   "outputs": [
    {
     "data": {
      "text/plain": [
       "\"Julia\""
      ]
     },
     "execution_count": 9,
     "metadata": {},
     "output_type": "execute_result"
    }
   ],
   "source": [
    "s1[8:12]"
   ]
  },
  {
   "cell_type": "code",
   "execution_count": 10,
   "metadata": {},
   "outputs": [
    {
     "data": {
      "text/plain": [
       "true"
      ]
     },
     "execution_count": 10,
     "metadata": {},
     "output_type": "execute_result"
    }
   ],
   "source": [
    "isascii(s1)"
   ]
  },
  {
   "cell_type": "code",
   "execution_count": 11,
   "metadata": {},
   "outputs": [
    {
     "data": {
      "text/plain": [
       "\"Love Julia\""
      ]
     },
     "execution_count": 11,
     "metadata": {},
     "output_type": "execute_result"
    }
   ],
   "source": [
    "\"Love \" * \"Julia\" "
   ]
  },
  {
   "cell_type": "code",
   "execution_count": 12,
   "metadata": {},
   "outputs": [
    {
     "data": {
      "text/plain": [
       "\"Love Love Love Love Love \""
      ]
     },
     "execution_count": 12,
     "metadata": {},
     "output_type": "execute_result"
    }
   ],
   "source": [
    "\"Love \" ^ 5"
   ]
  },
  {
   "cell_type": "code",
   "execution_count": 13,
   "metadata": {},
   "outputs": [
    {
     "data": {
      "text/plain": [
       "\"Love Julia\""
      ]
     },
     "execution_count": 13,
     "metadata": {},
     "output_type": "execute_result"
    }
   ],
   "source": [
    "string(\"Love \", \"Julia\")"
   ]
  },
  {
   "cell_type": "code",
   "execution_count": 14,
   "metadata": {},
   "outputs": [
    {
     "data": {
      "text/plain": [
       "3-element Array{SubString{String},1}:\n",
       " \"I\"\n",
       " \"hate\"\n",
       " \"Julia\""
      ]
     },
     "execution_count": 14,
     "metadata": {},
     "output_type": "execute_result"
    }
   ],
   "source": [
    "split(s1)"
   ]
  },
  {
   "cell_type": "code",
   "execution_count": 15,
   "metadata": {},
   "outputs": [
    {
     "data": {
      "text/plain": [
       "2-element Array{SubString{String},1}:\n",
       " \"I hat\"\n",
       " \" Julia\""
      ]
     },
     "execution_count": 15,
     "metadata": {},
     "output_type": "execute_result"
    }
   ],
   "source": [
    "split(s1, \"e\")"
   ]
  },
  {
   "cell_type": "code",
   "execution_count": 16,
   "metadata": {},
   "outputs": [
    {
     "data": {
      "text/plain": [
       "2-element Array{SubString{String},1}:\n",
       " \"I \"\n",
       " \" Julia\""
      ]
     },
     "execution_count": 16,
     "metadata": {},
     "output_type": "execute_result"
    }
   ],
   "source": [
    "split(s1, \"hate\")"
   ]
  },
  {
   "cell_type": "code",
   "execution_count": 17,
   "metadata": {},
   "outputs": [
    {
     "data": {
      "text/plain": [
       "12-element Array{SubString{String},1}:\n",
       " \"I\"\n",
       " \" \"\n",
       " \"h\"\n",
       " \"a\"\n",
       " \"t\"\n",
       " \"e\"\n",
       " \" \"\n",
       " \"J\"\n",
       " \"u\"\n",
       " \"l\"\n",
       " \"i\"\n",
       " \"a\""
      ]
     },
     "execution_count": 17,
     "metadata": {},
     "output_type": "execute_result"
    }
   ],
   "source": [
    "split(s1, \"\")"
   ]
  },
  {
   "cell_type": "code",
   "execution_count": 18,
   "metadata": {},
   "outputs": [
    {
     "data": {
      "text/plain": [
       "12345"
      ]
     },
     "execution_count": 18,
     "metadata": {},
     "output_type": "execute_result"
    }
   ],
   "source": [
    "parse(Int64, \"12345\")"
   ]
  },
  {
   "cell_type": "code",
   "execution_count": 19,
   "metadata": {},
   "outputs": [
    {
     "data": {
      "text/plain": [
       "123.45"
      ]
     },
     "execution_count": 19,
     "metadata": {},
     "output_type": "execute_result"
    }
   ],
   "source": [
    "parse(Float64, \"123.45\")"
   ]
  },
  {
   "cell_type": "code",
   "execution_count": 21,
   "metadata": {},
   "outputs": [
    {
     "data": {
      "text/plain": [
       "true"
      ]
     },
     "execution_count": 21,
     "metadata": {},
     "output_type": "execute_result"
    }
   ],
   "source": [
    "in('I', s1)"
   ]
  },
  {
   "cell_type": "code",
   "execution_count": 22,
   "metadata": {},
   "outputs": [
    {
     "data": {
      "text/plain": [
       "true"
      ]
     },
     "execution_count": 22,
     "metadata": {},
     "output_type": "execute_result"
    }
   ],
   "source": [
    "occursin(\"hate\", s1)"
   ]
  },
  {
   "cell_type": "code",
   "execution_count": 23,
   "metadata": {},
   "outputs": [
    {
     "data": {
      "text/plain": [
       "4"
      ]
     },
     "execution_count": 23,
     "metadata": {},
     "output_type": "execute_result"
    }
   ],
   "source": [
    "findfirst('a', s1)"
   ]
  },
  {
   "cell_type": "code",
   "execution_count": 24,
   "metadata": {},
   "outputs": [
    {
     "data": {
      "text/plain": [
       "3:6"
      ]
     },
     "execution_count": 24,
     "metadata": {},
     "output_type": "execute_result"
    }
   ],
   "source": [
    "findfirst(\"hate\", s1)"
   ]
  },
  {
   "cell_type": "code",
   "execution_count": 25,
   "metadata": {},
   "outputs": [
    {
     "data": {
      "text/plain": [
       "\"I love Julia\""
      ]
     },
     "execution_count": 25,
     "metadata": {},
     "output_type": "execute_result"
    }
   ],
   "source": [
    "s1 = replace(s1, \"hate\" => \"love\")"
   ]
  },
  {
   "cell_type": "markdown",
   "metadata": {},
   "source": [
    "## Functions\n",
    "---"
   ]
  },
  {
   "cell_type": "code",
   "execution_count": 26,
   "metadata": {},
   "outputs": [
    {
     "data": {
      "text/plain": [
       "f (generic function with 1 method)"
      ]
     },
     "execution_count": 26,
     "metadata": {},
     "output_type": "execute_result"
    }
   ],
   "source": [
    "f(x) = x + x"
   ]
  },
  {
   "cell_type": "code",
   "execution_count": 27,
   "metadata": {},
   "outputs": [
    {
     "data": {
      "text/plain": [
       "6"
      ]
     },
     "execution_count": 27,
     "metadata": {},
     "output_type": "execute_result"
    }
   ],
   "source": [
    "f(3)"
   ]
  },
  {
   "cell_type": "code",
   "execution_count": 28,
   "metadata": {},
   "outputs": [
    {
     "data": {
      "text/plain": [
       "f (generic function with 1 method)"
      ]
     },
     "execution_count": 28,
     "metadata": {},
     "output_type": "execute_result"
    }
   ],
   "source": [
    "f(x) = x*x"
   ]
  },
  {
   "cell_type": "code",
   "execution_count": 29,
   "metadata": {},
   "outputs": [
    {
     "data": {
      "text/plain": [
       "625"
      ]
     },
     "execution_count": 29,
     "metadata": {},
     "output_type": "execute_result"
    }
   ],
   "source": [
    "f(25)"
   ]
  },
  {
   "cell_type": "code",
   "execution_count": 30,
   "metadata": {},
   "outputs": [
    {
     "data": {
      "text/plain": [
       "f (generic function with 2 methods)"
      ]
     },
     "execution_count": 30,
     "metadata": {},
     "output_type": "execute_result"
    }
   ],
   "source": [
    "f(x, y) = x*2 - y"
   ]
  },
  {
   "cell_type": "code",
   "execution_count": 31,
   "metadata": {},
   "outputs": [
    {
     "data": {
      "text/plain": [
       "-1"
      ]
     },
     "execution_count": 31,
     "metadata": {},
     "output_type": "execute_result"
    }
   ],
   "source": [
    "f(2, 5)"
   ]
  },
  {
   "cell_type": "code",
   "execution_count": 32,
   "metadata": {},
   "outputs": [
    {
     "data": {
      "text/plain": [
       "multiply (generic function with 1 method)"
      ]
     },
     "execution_count": 32,
     "metadata": {},
     "output_type": "execute_result"
    }
   ],
   "source": [
    "function multiply(x,y)\n",
    "    return x * y\n",
    "end"
   ]
  },
  {
   "cell_type": "code",
   "execution_count": 33,
   "metadata": {},
   "outputs": [
    {
     "data": {
      "text/plain": [
       "1326"
      ]
     },
     "execution_count": 33,
     "metadata": {},
     "output_type": "execute_result"
    }
   ],
   "source": [
    "multiply(34, 39)"
   ]
  },
  {
   "cell_type": "code",
   "execution_count": 34,
   "metadata": {},
   "outputs": [
    {
     "data": {
      "text/plain": [
       "convert_meter_to_inch (generic function with 1 method)"
      ]
     },
     "execution_count": 34,
     "metadata": {},
     "output_type": "execute_result"
    }
   ],
   "source": [
    "function convert_meter_to_inch(val)\n",
    "    return val * 39.37\n",
    "end"
   ]
  },
  {
   "cell_type": "code",
   "execution_count": 36,
   "metadata": {},
   "outputs": [
    {
     "data": {
      "text/plain": [
       "3936.9999999999995"
      ]
     },
     "execution_count": 36,
     "metadata": {},
     "output_type": "execute_result"
    }
   ],
   "source": [
    "convert_meter_to_inch(100)"
   ]
  },
  {
   "cell_type": "code",
   "execution_count": 48,
   "metadata": {},
   "outputs": [
    {
     "data": {
      "text/plain": [
       "convert_meter_to_inch (generic function with 2 methods)"
      ]
     },
     "execution_count": 48,
     "metadata": {},
     "output_type": "execute_result"
    }
   ],
   "source": [
    "function convert_meter_to_inch(val, name=\"Abe\")\n",
    "    if name == \"Abe\"\n",
    "        println(\"Warning, the value for name was not supplied...\")\n",
    "    else\n",
    "        println(\"Hi \", name, \", the conversion from meter to inch is...\")\n",
    "    end\n",
    "        return val * 39.37\n",
    "end"
   ]
  },
  {
   "cell_type": "code",
   "execution_count": 49,
   "metadata": {},
   "outputs": [
    {
     "name": "stdout",
     "output_type": "stream",
     "text": [
      "Hi Greg, the conversion from meter to inch is...\n"
     ]
    },
    {
     "data": {
      "text/plain": [
       "3936.9999999999995"
      ]
     },
     "execution_count": 49,
     "metadata": {},
     "output_type": "execute_result"
    }
   ],
   "source": [
    "convert_meter_to_inch(100, \"Greg\")"
   ]
  },
  {
   "cell_type": "code",
   "execution_count": 50,
   "metadata": {},
   "outputs": [
    {
     "name": "stdout",
     "output_type": "stream",
     "text": [
      "Warning, the value for name was not supplied...\n"
     ]
    },
    {
     "data": {
      "text/plain": [
       "3936.9999999999995"
      ]
     },
     "execution_count": 50,
     "metadata": {},
     "output_type": "execute_result"
    }
   ],
   "source": [
    "convert_meter_to_inch(100)"
   ]
  },
  {
   "cell_type": "markdown",
   "metadata": {},
   "source": [
    "## Formatting Numbers and Strings\n",
    "---"
   ]
  },
  {
   "cell_type": "code",
   "execution_count": 51,
   "metadata": {},
   "outputs": [],
   "source": [
    "using Printf"
   ]
  },
  {
   "cell_type": "code",
   "execution_count": 52,
   "metadata": {},
   "outputs": [
    {
     "data": {
      "text/plain": [
       "\"Gregg Atherley\""
      ]
     },
     "execution_count": 52,
     "metadata": {},
     "output_type": "execute_result"
    }
   ],
   "source": [
    "name = \"Gregg Atherley\""
   ]
  },
  {
   "cell_type": "code",
   "execution_count": 53,
   "metadata": {},
   "outputs": [],
   "source": [
    "name = \"Gregg Atherley\";"
   ]
  },
  {
   "cell_type": "code",
   "execution_count": 55,
   "metadata": {},
   "outputs": [
    {
     "name": "stdout",
     "output_type": "stream",
     "text": [
      "Hello Gregg Atherley"
     ]
    }
   ],
   "source": [
    "@printf(\"Hello %s\", name)"
   ]
  },
  {
   "cell_type": "code",
   "execution_count": 56,
   "metadata": {},
   "outputs": [
    {
     "data": {
      "text/plain": [
       "\"Hello Gregg Atherley\""
      ]
     },
     "execution_count": 56,
     "metadata": {},
     "output_type": "execute_result"
    }
   ],
   "source": [
    "@sprintf(\"Hello %s\", name)"
   ]
  },
  {
   "cell_type": "code",
   "execution_count": 58,
   "metadata": {},
   "outputs": [
    {
     "name": "stdout",
     "output_type": "stream",
     "text": [
      "i"
     ]
    }
   ],
   "source": [
    "ch = 'i'\n",
    "@printf(\"%c\", ch)"
   ]
  },
  {
   "cell_type": "code",
   "execution_count": 59,
   "metadata": {},
   "outputs": [
    {
     "name": "stdout",
     "output_type": "stream",
     "text": [
      "Value of x is 100"
     ]
    }
   ],
   "source": [
    "x = 100\n",
    "\n",
    "@printf(\"Value of x is %d\", x)"
   ]
  },
  {
   "cell_type": "code",
   "execution_count": 60,
   "metadata": {},
   "outputs": [
    {
     "name": "stdout",
     "output_type": "stream",
     "text": [
      "Value of pi is 3.141590"
     ]
    }
   ],
   "source": [
    "y = 3.14159\n",
    "@printf(\"Value of pi is %f\", y)"
   ]
  },
  {
   "cell_type": "code",
   "execution_count": 62,
   "metadata": {},
   "outputs": [
    {
     "name": "stdout",
     "output_type": "stream",
     "text": [
      "Value of pi is 3.14"
     ]
    }
   ],
   "source": [
    "y = 3.14159\n",
    "@printf(\"Value of pi is %.2f\", y)"
   ]
  },
  {
   "cell_type": "code",
   "execution_count": 65,
   "metadata": {},
   "outputs": [
    {
     "name": "stdout",
     "output_type": "stream",
     "text": [
      "2.468314e+11"
     ]
    }
   ],
   "source": [
    "z = 246_831_417_865\n",
    "\n",
    "@printf(\"%e\", z)"
   ]
  },
  {
   "cell_type": "code",
   "execution_count": 67,
   "metadata": {},
   "outputs": [
    {
     "name": "stdout",
     "output_type": "stream",
     "text": [
      "2.468e+11"
     ]
    }
   ],
   "source": [
    "z = 246_831_417_865\n",
    "\n",
    "@printf(\"%.3e\", z)"
   ]
  },
  {
   "cell_type": "markdown",
   "metadata": {},
   "source": [
    "## Working with CSV files\n",
    "---"
   ]
  },
  {
   "cell_type": "code",
   "execution_count": 76,
   "metadata": {},
   "outputs": [],
   "source": [
    "using CSV\n",
    "using DataFrames"
   ]
  },
  {
   "cell_type": "code",
   "execution_count": 77,
   "metadata": {},
   "outputs": [
    {
     "data": {
      "text/html": [
       "<table class=\"data-frame\"><thead><tr><th></th><th>LOAN</th><th>TERM</th><th>INTEREST</th><th>MONTHLY</th><th>STATUS</th><th>CURRENT_DATE</th></tr><tr><th></th><th>Int64</th><th>Int64</th><th>Float64</th><th>Float64</th><th>String</th><th>String</th></tr></thead><tbody><p>25 rows × 6 columns</p><tr><th>1</th><td>29000</td><td>72</td><td>4.7</td><td>463.02</td><td>low</td><td>2020-10-13 21:48:11</td></tr><tr><th>2</th><td>29000</td><td>60</td><td>4.7</td><td>543.29</td><td>ok</td><td>2020-10-13 21:48:11</td></tr><tr><th>3</th><td>29000</td><td>48</td><td>4.7</td><td>663.92</td><td>high</td><td>2020-10-13 21:48:11</td></tr><tr><th>4</th><td>29000</td><td>36</td><td>4.7</td><td>865.26</td><td>high</td><td>2020-10-13 21:48:11</td></tr><tr><th>5</th><td>29000</td><td>24</td><td>4.7</td><td>1268.38</td><td>high</td><td>2020-10-13 21:48:11</td></tr><tr><th>6</th><td>28000</td><td>72</td><td>4.7</td><td>447.05</td><td>low</td><td>2020-10-13 21:48:11</td></tr><tr><th>7</th><td>28000</td><td>60</td><td>4.7</td><td>524.55</td><td>ok</td><td>2020-10-13 21:48:11</td></tr><tr><th>8</th><td>28000</td><td>48</td><td>4.7</td><td>641.02</td><td>high</td><td>2020-10-13 21:48:11</td></tr><tr><th>9</th><td>28000</td><td>36</td><td>4.7</td><td>835.42</td><td>high</td><td>2020-10-13 21:48:11</td></tr><tr><th>10</th><td>28000</td><td>24</td><td>4.7</td><td>1224.64</td><td>high</td><td>2020-10-13 21:48:11</td></tr><tr><th>11</th><td>27000</td><td>72</td><td>4.7</td><td>431.09</td><td>low</td><td>2020-10-13 21:48:11</td></tr><tr><th>12</th><td>27000</td><td>60</td><td>4.7</td><td>505.82</td><td>ok</td><td>2020-10-13 21:48:11</td></tr><tr><th>13</th><td>27000</td><td>48</td><td>4.7</td><td>618.13</td><td>high</td><td>2020-10-13 21:48:11</td></tr><tr><th>14</th><td>27000</td><td>36</td><td>4.7</td><td>805.58</td><td>high</td><td>2020-10-13 21:48:11</td></tr><tr><th>15</th><td>27000</td><td>24</td><td>4.7</td><td>1180.9</td><td>high</td><td>2020-10-13 21:48:11</td></tr><tr><th>16</th><td>26000</td><td>72</td><td>4.7</td><td>415.12</td><td>low</td><td>2020-10-13 21:48:11</td></tr><tr><th>17</th><td>26000</td><td>60</td><td>4.7</td><td>487.09</td><td>low</td><td>2020-10-13 21:48:11</td></tr><tr><th>18</th><td>26000</td><td>48</td><td>4.7</td><td>595.23</td><td>ok</td><td>2020-10-13 21:48:11</td></tr><tr><th>19</th><td>26000</td><td>36</td><td>4.7</td><td>775.75</td><td>high</td><td>2020-10-13 21:48:11</td></tr><tr><th>20</th><td>26000</td><td>24</td><td>4.7</td><td>1137.17</td><td>high</td><td>2020-10-13 21:48:11</td></tr><tr><th>21</th><td>25000</td><td>72</td><td>4.7</td><td>399.15</td><td>low</td><td>2020-10-13 21:48:11</td></tr><tr><th>22</th><td>25000</td><td>60</td><td>4.7</td><td>468.35</td><td>low</td><td>2020-10-13 21:48:11</td></tr><tr><th>23</th><td>25000</td><td>48</td><td>4.7</td><td>572.34</td><td>ok</td><td>2020-10-13 21:48:11</td></tr><tr><th>24</th><td>25000</td><td>36</td><td>4.7</td><td>745.91</td><td>high</td><td>2020-10-13 21:48:11</td></tr><tr><th>25</th><td>25000</td><td>24</td><td>4.7</td><td>1093.43</td><td>high</td><td>2020-10-13 21:48:11</td></tr></tbody></table>"
      ],
      "text/latex": [
       "\\begin{tabular}{r|cccccc}\n",
       "\t& LOAN & TERM & INTEREST & MONTHLY & STATUS & CURRENT\\_DATE\\\\\n",
       "\t\\hline\n",
       "\t& Int64 & Int64 & Float64 & Float64 & String & String\\\\\n",
       "\t\\hline\n",
       "\t1 & 29000 & 72 & 4.7 & 463.02 & low & 2020-10-13 21:48:11 \\\\\n",
       "\t2 & 29000 & 60 & 4.7 & 543.29 & ok & 2020-10-13 21:48:11 \\\\\n",
       "\t3 & 29000 & 48 & 4.7 & 663.92 & high & 2020-10-13 21:48:11 \\\\\n",
       "\t4 & 29000 & 36 & 4.7 & 865.26 & high & 2020-10-13 21:48:11 \\\\\n",
       "\t5 & 29000 & 24 & 4.7 & 1268.38 & high & 2020-10-13 21:48:11 \\\\\n",
       "\t6 & 28000 & 72 & 4.7 & 447.05 & low & 2020-10-13 21:48:11 \\\\\n",
       "\t7 & 28000 & 60 & 4.7 & 524.55 & ok & 2020-10-13 21:48:11 \\\\\n",
       "\t8 & 28000 & 48 & 4.7 & 641.02 & high & 2020-10-13 21:48:11 \\\\\n",
       "\t9 & 28000 & 36 & 4.7 & 835.42 & high & 2020-10-13 21:48:11 \\\\\n",
       "\t10 & 28000 & 24 & 4.7 & 1224.64 & high & 2020-10-13 21:48:11 \\\\\n",
       "\t11 & 27000 & 72 & 4.7 & 431.09 & low & 2020-10-13 21:48:11 \\\\\n",
       "\t12 & 27000 & 60 & 4.7 & 505.82 & ok & 2020-10-13 21:48:11 \\\\\n",
       "\t13 & 27000 & 48 & 4.7 & 618.13 & high & 2020-10-13 21:48:11 \\\\\n",
       "\t14 & 27000 & 36 & 4.7 & 805.58 & high & 2020-10-13 21:48:11 \\\\\n",
       "\t15 & 27000 & 24 & 4.7 & 1180.9 & high & 2020-10-13 21:48:11 \\\\\n",
       "\t16 & 26000 & 72 & 4.7 & 415.12 & low & 2020-10-13 21:48:11 \\\\\n",
       "\t17 & 26000 & 60 & 4.7 & 487.09 & low & 2020-10-13 21:48:11 \\\\\n",
       "\t18 & 26000 & 48 & 4.7 & 595.23 & ok & 2020-10-13 21:48:11 \\\\\n",
       "\t19 & 26000 & 36 & 4.7 & 775.75 & high & 2020-10-13 21:48:11 \\\\\n",
       "\t20 & 26000 & 24 & 4.7 & 1137.17 & high & 2020-10-13 21:48:11 \\\\\n",
       "\t21 & 25000 & 72 & 4.7 & 399.15 & low & 2020-10-13 21:48:11 \\\\\n",
       "\t22 & 25000 & 60 & 4.7 & 468.35 & low & 2020-10-13 21:48:11 \\\\\n",
       "\t23 & 25000 & 48 & 4.7 & 572.34 & ok & 2020-10-13 21:48:11 \\\\\n",
       "\t24 & 25000 & 36 & 4.7 & 745.91 & high & 2020-10-13 21:48:11 \\\\\n",
       "\t25 & 25000 & 24 & 4.7 & 1093.43 & high & 2020-10-13 21:48:11 \\\\\n",
       "\\end{tabular}\n"
      ],
      "text/plain": [
       "25×6 DataFrame\n",
       "│ Row │ LOAN  │ TERM  │ INTEREST │ MONTHLY │ STATUS │ CURRENT_DATE        │\n",
       "│     │ \u001b[90mInt64\u001b[39m │ \u001b[90mInt64\u001b[39m │ \u001b[90mFloat64\u001b[39m  │ \u001b[90mFloat64\u001b[39m │ \u001b[90mString\u001b[39m │ \u001b[90mString\u001b[39m              │\n",
       "├─────┼───────┼───────┼──────────┼─────────┼────────┼─────────────────────┤\n",
       "│ 1   │ 29000 │ 72    │ 4.7      │ 463.02  │ low    │ 2020-10-13 21:48:11 │\n",
       "│ 2   │ 29000 │ 60    │ 4.7      │ 543.29  │ ok     │ 2020-10-13 21:48:11 │\n",
       "│ 3   │ 29000 │ 48    │ 4.7      │ 663.92  │ high   │ 2020-10-13 21:48:11 │\n",
       "│ 4   │ 29000 │ 36    │ 4.7      │ 865.26  │ high   │ 2020-10-13 21:48:11 │\n",
       "│ 5   │ 29000 │ 24    │ 4.7      │ 1268.38 │ high   │ 2020-10-13 21:48:11 │\n",
       "│ 6   │ 28000 │ 72    │ 4.7      │ 447.05  │ low    │ 2020-10-13 21:48:11 │\n",
       "│ 7   │ 28000 │ 60    │ 4.7      │ 524.55  │ ok     │ 2020-10-13 21:48:11 │\n",
       "│ 8   │ 28000 │ 48    │ 4.7      │ 641.02  │ high   │ 2020-10-13 21:48:11 │\n",
       "│ 9   │ 28000 │ 36    │ 4.7      │ 835.42  │ high   │ 2020-10-13 21:48:11 │\n",
       "│ 10  │ 28000 │ 24    │ 4.7      │ 1224.64 │ high   │ 2020-10-13 21:48:11 │\n",
       "⋮\n",
       "│ 15  │ 27000 │ 24    │ 4.7      │ 1180.9  │ high   │ 2020-10-13 21:48:11 │\n",
       "│ 16  │ 26000 │ 72    │ 4.7      │ 415.12  │ low    │ 2020-10-13 21:48:11 │\n",
       "│ 17  │ 26000 │ 60    │ 4.7      │ 487.09  │ low    │ 2020-10-13 21:48:11 │\n",
       "│ 18  │ 26000 │ 48    │ 4.7      │ 595.23  │ ok     │ 2020-10-13 21:48:11 │\n",
       "│ 19  │ 26000 │ 36    │ 4.7      │ 775.75  │ high   │ 2020-10-13 21:48:11 │\n",
       "│ 20  │ 26000 │ 24    │ 4.7      │ 1137.17 │ high   │ 2020-10-13 21:48:11 │\n",
       "│ 21  │ 25000 │ 72    │ 4.7      │ 399.15  │ low    │ 2020-10-13 21:48:11 │\n",
       "│ 22  │ 25000 │ 60    │ 4.7      │ 468.35  │ low    │ 2020-10-13 21:48:11 │\n",
       "│ 23  │ 25000 │ 48    │ 4.7      │ 572.34  │ ok     │ 2020-10-13 21:48:11 │\n",
       "│ 24  │ 25000 │ 36    │ 4.7      │ 745.91  │ high   │ 2020-10-13 21:48:11 │\n",
       "│ 25  │ 25000 │ 24    │ 4.7      │ 1093.43 │ high   │ 2020-10-13 21:48:11 │"
      ]
     },
     "execution_count": 77,
     "metadata": {},
     "output_type": "execute_result"
    }
   ],
   "source": [
    "loans = CSV.read(\"loans_r.csv\", normalizenames=true, header=true)"
   ]
  },
  {
   "cell_type": "code",
   "execution_count": 78,
   "metadata": {},
   "outputs": [
    {
     "data": {
      "text/plain": [
       "DataFrame"
      ]
     },
     "execution_count": 78,
     "metadata": {},
     "output_type": "execute_result"
    }
   ],
   "source": [
    "typeof(loans)"
   ]
  },
  {
   "cell_type": "code",
   "execution_count": 79,
   "metadata": {},
   "outputs": [
    {
     "data": {
      "text/plain": [
       "6-element Array{String,1}:\n",
       " \"LOAN\"\n",
       " \"TERM\"\n",
       " \"INTEREST\"\n",
       " \"MONTHLY\"\n",
       " \"STATUS\"\n",
       " \"CURRENT_DATE\""
      ]
     },
     "execution_count": 79,
     "metadata": {},
     "output_type": "execute_result"
    }
   ],
   "source": [
    "names(loans)"
   ]
  },
  {
   "cell_type": "code",
   "execution_count": 80,
   "metadata": {},
   "outputs": [
    {
     "data": {
      "text/plain": [
       "(25, 6)"
      ]
     },
     "execution_count": 80,
     "metadata": {},
     "output_type": "execute_result"
    }
   ],
   "source": [
    "size(loans)"
   ]
  },
  {
   "cell_type": "code",
   "execution_count": 81,
   "metadata": {},
   "outputs": [
    {
     "data": {
      "text/html": [
       "<table class=\"data-frame\"><thead><tr><th></th><th>LOAN</th><th>TERM</th><th>INTEREST</th><th>MONTHLY</th><th>STATUS</th><th>CURRENT_DATE</th></tr><tr><th></th><th>Int64</th><th>Int64</th><th>Float64</th><th>Float64</th><th>String</th><th>String</th></tr></thead><tbody><p>5 rows × 6 columns</p><tr><th>1</th><td>29000</td><td>72</td><td>4.7</td><td>463.02</td><td>low</td><td>2020-10-13 21:48:11</td></tr><tr><th>2</th><td>29000</td><td>60</td><td>4.7</td><td>543.29</td><td>ok</td><td>2020-10-13 21:48:11</td></tr><tr><th>3</th><td>29000</td><td>48</td><td>4.7</td><td>663.92</td><td>high</td><td>2020-10-13 21:48:11</td></tr><tr><th>4</th><td>29000</td><td>36</td><td>4.7</td><td>865.26</td><td>high</td><td>2020-10-13 21:48:11</td></tr><tr><th>5</th><td>29000</td><td>24</td><td>4.7</td><td>1268.38</td><td>high</td><td>2020-10-13 21:48:11</td></tr></tbody></table>"
      ],
      "text/latex": [
       "\\begin{tabular}{r|cccccc}\n",
       "\t& LOAN & TERM & INTEREST & MONTHLY & STATUS & CURRENT\\_DATE\\\\\n",
       "\t\\hline\n",
       "\t& Int64 & Int64 & Float64 & Float64 & String & String\\\\\n",
       "\t\\hline\n",
       "\t1 & 29000 & 72 & 4.7 & 463.02 & low & 2020-10-13 21:48:11 \\\\\n",
       "\t2 & 29000 & 60 & 4.7 & 543.29 & ok & 2020-10-13 21:48:11 \\\\\n",
       "\t3 & 29000 & 48 & 4.7 & 663.92 & high & 2020-10-13 21:48:11 \\\\\n",
       "\t4 & 29000 & 36 & 4.7 & 865.26 & high & 2020-10-13 21:48:11 \\\\\n",
       "\t5 & 29000 & 24 & 4.7 & 1268.38 & high & 2020-10-13 21:48:11 \\\\\n",
       "\\end{tabular}\n"
      ],
      "text/plain": [
       "5×6 DataFrame\n",
       "│ Row │ LOAN  │ TERM  │ INTEREST │ MONTHLY │ STATUS │ CURRENT_DATE        │\n",
       "│     │ \u001b[90mInt64\u001b[39m │ \u001b[90mInt64\u001b[39m │ \u001b[90mFloat64\u001b[39m  │ \u001b[90mFloat64\u001b[39m │ \u001b[90mString\u001b[39m │ \u001b[90mString\u001b[39m              │\n",
       "├─────┼───────┼───────┼──────────┼─────────┼────────┼─────────────────────┤\n",
       "│ 1   │ 29000 │ 72    │ 4.7      │ 463.02  │ low    │ 2020-10-13 21:48:11 │\n",
       "│ 2   │ 29000 │ 60    │ 4.7      │ 543.29  │ ok     │ 2020-10-13 21:48:11 │\n",
       "│ 3   │ 29000 │ 48    │ 4.7      │ 663.92  │ high   │ 2020-10-13 21:48:11 │\n",
       "│ 4   │ 29000 │ 36    │ 4.7      │ 865.26  │ high   │ 2020-10-13 21:48:11 │\n",
       "│ 5   │ 29000 │ 24    │ 4.7      │ 1268.38 │ high   │ 2020-10-13 21:48:11 │"
      ]
     },
     "execution_count": 81,
     "metadata": {},
     "output_type": "execute_result"
    }
   ],
   "source": [
    "head(loans, 5)"
   ]
  },
  {
   "cell_type": "code",
   "execution_count": 82,
   "metadata": {},
   "outputs": [
    {
     "data": {
      "text/html": [
       "<table class=\"data-frame\"><thead><tr><th></th><th>LOAN</th><th>TERM</th><th>INTEREST</th><th>MONTHLY</th><th>STATUS</th><th>CURRENT_DATE</th></tr><tr><th></th><th>Int64</th><th>Int64</th><th>Float64</th><th>Float64</th><th>String</th><th>String</th></tr></thead><tbody><p>5 rows × 6 columns</p><tr><th>1</th><td>25000</td><td>72</td><td>4.7</td><td>399.15</td><td>low</td><td>2020-10-13 21:48:11</td></tr><tr><th>2</th><td>25000</td><td>60</td><td>4.7</td><td>468.35</td><td>low</td><td>2020-10-13 21:48:11</td></tr><tr><th>3</th><td>25000</td><td>48</td><td>4.7</td><td>572.34</td><td>ok</td><td>2020-10-13 21:48:11</td></tr><tr><th>4</th><td>25000</td><td>36</td><td>4.7</td><td>745.91</td><td>high</td><td>2020-10-13 21:48:11</td></tr><tr><th>5</th><td>25000</td><td>24</td><td>4.7</td><td>1093.43</td><td>high</td><td>2020-10-13 21:48:11</td></tr></tbody></table>"
      ],
      "text/latex": [
       "\\begin{tabular}{r|cccccc}\n",
       "\t& LOAN & TERM & INTEREST & MONTHLY & STATUS & CURRENT\\_DATE\\\\\n",
       "\t\\hline\n",
       "\t& Int64 & Int64 & Float64 & Float64 & String & String\\\\\n",
       "\t\\hline\n",
       "\t1 & 25000 & 72 & 4.7 & 399.15 & low & 2020-10-13 21:48:11 \\\\\n",
       "\t2 & 25000 & 60 & 4.7 & 468.35 & low & 2020-10-13 21:48:11 \\\\\n",
       "\t3 & 25000 & 48 & 4.7 & 572.34 & ok & 2020-10-13 21:48:11 \\\\\n",
       "\t4 & 25000 & 36 & 4.7 & 745.91 & high & 2020-10-13 21:48:11 \\\\\n",
       "\t5 & 25000 & 24 & 4.7 & 1093.43 & high & 2020-10-13 21:48:11 \\\\\n",
       "\\end{tabular}\n"
      ],
      "text/plain": [
       "5×6 DataFrame\n",
       "│ Row │ LOAN  │ TERM  │ INTEREST │ MONTHLY │ STATUS │ CURRENT_DATE        │\n",
       "│     │ \u001b[90mInt64\u001b[39m │ \u001b[90mInt64\u001b[39m │ \u001b[90mFloat64\u001b[39m  │ \u001b[90mFloat64\u001b[39m │ \u001b[90mString\u001b[39m │ \u001b[90mString\u001b[39m              │\n",
       "├─────┼───────┼───────┼──────────┼─────────┼────────┼─────────────────────┤\n",
       "│ 1   │ 25000 │ 72    │ 4.7      │ 399.15  │ low    │ 2020-10-13 21:48:11 │\n",
       "│ 2   │ 25000 │ 60    │ 4.7      │ 468.35  │ low    │ 2020-10-13 21:48:11 │\n",
       "│ 3   │ 25000 │ 48    │ 4.7      │ 572.34  │ ok     │ 2020-10-13 21:48:11 │\n",
       "│ 4   │ 25000 │ 36    │ 4.7      │ 745.91  │ high   │ 2020-10-13 21:48:11 │\n",
       "│ 5   │ 25000 │ 24    │ 4.7      │ 1093.43 │ high   │ 2020-10-13 21:48:11 │"
      ]
     },
     "execution_count": 82,
     "metadata": {},
     "output_type": "execute_result"
    }
   ],
   "source": [
    "tail(loans, 5)"
   ]
  },
  {
   "cell_type": "code",
   "execution_count": 84,
   "metadata": {},
   "outputs": [
    {
     "data": {
      "text/html": [
       "<table class=\"data-frame\"><thead><tr><th></th><th>LOAN</th><th>TERM</th><th>INTEREST</th><th>MONTHLY</th><th>STATUS</th><th>CURRENT_DATE</th></tr><tr><th></th><th>Int64</th><th>Int64</th><th>Float64</th><th>Float64</th><th>String</th><th>String</th></tr></thead><tbody><p>6 rows × 6 columns</p><tr><th>1</th><td>29000</td><td>72</td><td>4.7</td><td>463.02</td><td>low</td><td>2020-10-13 21:48:11</td></tr><tr><th>2</th><td>29000</td><td>60</td><td>4.7</td><td>543.29</td><td>ok</td><td>2020-10-13 21:48:11</td></tr><tr><th>3</th><td>29000</td><td>48</td><td>4.7</td><td>663.92</td><td>high</td><td>2020-10-13 21:48:11</td></tr><tr><th>4</th><td>29000</td><td>36</td><td>4.7</td><td>865.26</td><td>high</td><td>2020-10-13 21:48:11</td></tr><tr><th>5</th><td>29000</td><td>24</td><td>4.7</td><td>1268.38</td><td>high</td><td>2020-10-13 21:48:11</td></tr><tr><th>6</th><td>28000</td><td>72</td><td>4.7</td><td>447.05</td><td>low</td><td>2020-10-13 21:48:11</td></tr></tbody></table>"
      ],
      "text/latex": [
       "\\begin{tabular}{r|cccccc}\n",
       "\t& LOAN & TERM & INTEREST & MONTHLY & STATUS & CURRENT\\_DATE\\\\\n",
       "\t\\hline\n",
       "\t& Int64 & Int64 & Float64 & Float64 & String & String\\\\\n",
       "\t\\hline\n",
       "\t1 & 29000 & 72 & 4.7 & 463.02 & low & 2020-10-13 21:48:11 \\\\\n",
       "\t2 & 29000 & 60 & 4.7 & 543.29 & ok & 2020-10-13 21:48:11 \\\\\n",
       "\t3 & 29000 & 48 & 4.7 & 663.92 & high & 2020-10-13 21:48:11 \\\\\n",
       "\t4 & 29000 & 36 & 4.7 & 865.26 & high & 2020-10-13 21:48:11 \\\\\n",
       "\t5 & 29000 & 24 & 4.7 & 1268.38 & high & 2020-10-13 21:48:11 \\\\\n",
       "\t6 & 28000 & 72 & 4.7 & 447.05 & low & 2020-10-13 21:48:11 \\\\\n",
       "\\end{tabular}\n"
      ],
      "text/plain": [
       "6×6 DataFrame\n",
       "│ Row │ LOAN  │ TERM  │ INTEREST │ MONTHLY │ STATUS │ CURRENT_DATE        │\n",
       "│     │ \u001b[90mInt64\u001b[39m │ \u001b[90mInt64\u001b[39m │ \u001b[90mFloat64\u001b[39m  │ \u001b[90mFloat64\u001b[39m │ \u001b[90mString\u001b[39m │ \u001b[90mString\u001b[39m              │\n",
       "├─────┼───────┼───────┼──────────┼─────────┼────────┼─────────────────────┤\n",
       "│ 1   │ 29000 │ 72    │ 4.7      │ 463.02  │ low    │ 2020-10-13 21:48:11 │\n",
       "│ 2   │ 29000 │ 60    │ 4.7      │ 543.29  │ ok     │ 2020-10-13 21:48:11 │\n",
       "│ 3   │ 29000 │ 48    │ 4.7      │ 663.92  │ high   │ 2020-10-13 21:48:11 │\n",
       "│ 4   │ 29000 │ 36    │ 4.7      │ 865.26  │ high   │ 2020-10-13 21:48:11 │\n",
       "│ 5   │ 29000 │ 24    │ 4.7      │ 1268.38 │ high   │ 2020-10-13 21:48:11 │\n",
       "│ 6   │ 28000 │ 72    │ 4.7      │ 447.05  │ low    │ 2020-10-13 21:48:11 │"
      ]
     },
     "execution_count": 84,
     "metadata": {},
     "output_type": "execute_result"
    }
   ],
   "source": [
    "first(loans, 6)"
   ]
  },
  {
   "cell_type": "code",
   "execution_count": 85,
   "metadata": {},
   "outputs": [
    {
     "data": {
      "text/html": [
       "<table class=\"data-frame\"><thead><tr><th></th><th>LOAN</th><th>TERM</th><th>INTEREST</th><th>MONTHLY</th><th>STATUS</th><th>CURRENT_DATE</th></tr><tr><th></th><th>Int64</th><th>Int64</th><th>Float64</th><th>Float64</th><th>String</th><th>String</th></tr></thead><tbody><p>6 rows × 6 columns</p><tr><th>1</th><td>26000</td><td>24</td><td>4.7</td><td>1137.17</td><td>high</td><td>2020-10-13 21:48:11</td></tr><tr><th>2</th><td>25000</td><td>72</td><td>4.7</td><td>399.15</td><td>low</td><td>2020-10-13 21:48:11</td></tr><tr><th>3</th><td>25000</td><td>60</td><td>4.7</td><td>468.35</td><td>low</td><td>2020-10-13 21:48:11</td></tr><tr><th>4</th><td>25000</td><td>48</td><td>4.7</td><td>572.34</td><td>ok</td><td>2020-10-13 21:48:11</td></tr><tr><th>5</th><td>25000</td><td>36</td><td>4.7</td><td>745.91</td><td>high</td><td>2020-10-13 21:48:11</td></tr><tr><th>6</th><td>25000</td><td>24</td><td>4.7</td><td>1093.43</td><td>high</td><td>2020-10-13 21:48:11</td></tr></tbody></table>"
      ],
      "text/latex": [
       "\\begin{tabular}{r|cccccc}\n",
       "\t& LOAN & TERM & INTEREST & MONTHLY & STATUS & CURRENT\\_DATE\\\\\n",
       "\t\\hline\n",
       "\t& Int64 & Int64 & Float64 & Float64 & String & String\\\\\n",
       "\t\\hline\n",
       "\t1 & 26000 & 24 & 4.7 & 1137.17 & high & 2020-10-13 21:48:11 \\\\\n",
       "\t2 & 25000 & 72 & 4.7 & 399.15 & low & 2020-10-13 21:48:11 \\\\\n",
       "\t3 & 25000 & 60 & 4.7 & 468.35 & low & 2020-10-13 21:48:11 \\\\\n",
       "\t4 & 25000 & 48 & 4.7 & 572.34 & ok & 2020-10-13 21:48:11 \\\\\n",
       "\t5 & 25000 & 36 & 4.7 & 745.91 & high & 2020-10-13 21:48:11 \\\\\n",
       "\t6 & 25000 & 24 & 4.7 & 1093.43 & high & 2020-10-13 21:48:11 \\\\\n",
       "\\end{tabular}\n"
      ],
      "text/plain": [
       "6×6 DataFrame\n",
       "│ Row │ LOAN  │ TERM  │ INTEREST │ MONTHLY │ STATUS │ CURRENT_DATE        │\n",
       "│     │ \u001b[90mInt64\u001b[39m │ \u001b[90mInt64\u001b[39m │ \u001b[90mFloat64\u001b[39m  │ \u001b[90mFloat64\u001b[39m │ \u001b[90mString\u001b[39m │ \u001b[90mString\u001b[39m              │\n",
       "├─────┼───────┼───────┼──────────┼─────────┼────────┼─────────────────────┤\n",
       "│ 1   │ 26000 │ 24    │ 4.7      │ 1137.17 │ high   │ 2020-10-13 21:48:11 │\n",
       "│ 2   │ 25000 │ 72    │ 4.7      │ 399.15  │ low    │ 2020-10-13 21:48:11 │\n",
       "│ 3   │ 25000 │ 60    │ 4.7      │ 468.35  │ low    │ 2020-10-13 21:48:11 │\n",
       "│ 4   │ 25000 │ 48    │ 4.7      │ 572.34  │ ok     │ 2020-10-13 21:48:11 │\n",
       "│ 5   │ 25000 │ 36    │ 4.7      │ 745.91  │ high   │ 2020-10-13 21:48:11 │\n",
       "│ 6   │ 25000 │ 24    │ 4.7      │ 1093.43 │ high   │ 2020-10-13 21:48:11 │"
      ]
     },
     "execution_count": 85,
     "metadata": {},
     "output_type": "execute_result"
    }
   ],
   "source": [
    "last(loans, 6)"
   ]
  },
  {
   "cell_type": "code",
   "execution_count": 92,
   "metadata": {},
   "outputs": [
    {
     "data": {
      "text/html": [
       "<table class=\"data-frame\"><thead><tr><th></th><th>variable</th><th>mean</th><th>min</th><th>median</th><th>max</th><th>nunique</th></tr><tr><th></th><th>Symbol</th><th>Union…</th><th>Any</th><th>Union…</th><th>Any</th><th>Union…</th></tr></thead><tbody><p>6 rows × 8 columns (omitted printing of 2 columns)</p><tr><th>1</th><td>LOAN</td><td>27000.0</td><td>25000</td><td>27000.0</td><td>29000</td><td></td></tr><tr><th>2</th><td>TERM</td><td>48.0</td><td>24</td><td>48.0</td><td>72</td><td></td></tr><tr><th>3</th><td>INTEREST</td><td>4.7</td><td>4.7</td><td>4.7</td><td>4.7</td><td></td></tr><tr><th>4</th><td>MONTHLY</td><td>708.304</td><td>399.15</td><td>618.13</td><td>1268.38</td><td></td></tr><tr><th>5</th><td>STATUS</td><td></td><td>high</td><td></td><td>ok</td><td>3</td></tr><tr><th>6</th><td>CURRENT_DATE</td><td></td><td>2020-10-13 21:48:11</td><td></td><td>2020-10-13 21:48:11</td><td>1</td></tr></tbody></table>"
      ],
      "text/latex": [
       "\\begin{tabular}{r|ccccccc}\n",
       "\t& variable & mean & min & median & max & nunique & \\\\\n",
       "\t\\hline\n",
       "\t& Symbol & Union… & Any & Union… & Any & Union… & \\\\\n",
       "\t\\hline\n",
       "\t1 & LOAN & 27000.0 & 25000 & 27000.0 & 29000 &  & $\\dots$ \\\\\n",
       "\t2 & TERM & 48.0 & 24 & 48.0 & 72 &  & $\\dots$ \\\\\n",
       "\t3 & INTEREST & 4.7 & 4.7 & 4.7 & 4.7 &  & $\\dots$ \\\\\n",
       "\t4 & MONTHLY & 708.304 & 399.15 & 618.13 & 1268.38 &  & $\\dots$ \\\\\n",
       "\t5 & STATUS &  & high &  & ok & 3 & $\\dots$ \\\\\n",
       "\t6 & CURRENT\\_DATE &  & 2020-10-13 21:48:11 &  & 2020-10-13 21:48:11 & 1 & $\\dots$ \\\\\n",
       "\\end{tabular}\n"
      ],
      "text/plain": [
       "6×8 DataFrame. Omitted printing of 4 columns\n",
       "│ Row │ variable     │ mean    │ min                 │ median  │\n",
       "│     │ \u001b[90mSymbol\u001b[39m       │ \u001b[90mUnion…\u001b[39m  │ \u001b[90mAny\u001b[39m                 │ \u001b[90mUnion…\u001b[39m  │\n",
       "├─────┼──────────────┼─────────┼─────────────────────┼─────────┤\n",
       "│ 1   │ LOAN         │ 27000.0 │ 25000               │ 27000.0 │\n",
       "│ 2   │ TERM         │ 48.0    │ 24                  │ 48.0    │\n",
       "│ 3   │ INTEREST     │ 4.7     │ 4.7                 │ 4.7     │\n",
       "│ 4   │ MONTHLY      │ 708.304 │ 399.15              │ 618.13  │\n",
       "│ 5   │ STATUS       │         │ high                │         │\n",
       "│ 6   │ CURRENT_DATE │         │ 2020-10-13 21:48:11 │         │"
      ]
     },
     "execution_count": 92,
     "metadata": {},
     "output_type": "execute_result"
    }
   ],
   "source": [
    "describe(loans, cols=:)"
   ]
  },
  {
   "cell_type": "code",
   "execution_count": 93,
   "metadata": {},
   "outputs": [
    {
     "data": {
      "text/plain": [
       "25-element Array{Int64,1}:\n",
       " 72\n",
       " 60\n",
       " 48\n",
       " 36\n",
       " 24\n",
       " 72\n",
       " 60\n",
       " 48\n",
       " 36\n",
       " 24\n",
       " 72\n",
       " 60\n",
       " 48\n",
       " 36\n",
       " 24\n",
       " 72\n",
       " 60\n",
       " 48\n",
       " 36\n",
       " 24\n",
       " 72\n",
       " 60\n",
       " 48\n",
       " 36\n",
       " 24"
      ]
     },
     "execution_count": 93,
     "metadata": {},
     "output_type": "execute_result"
    }
   ],
   "source": [
    "loans.TERM"
   ]
  },
  {
   "cell_type": "code",
   "execution_count": 94,
   "metadata": {},
   "outputs": [
    {
     "data": {
      "text/plain": [
       "5-element Array{Int64,1}:\n",
       " 72\n",
       " 60\n",
       " 48\n",
       " 36\n",
       " 24"
      ]
     },
     "execution_count": 94,
     "metadata": {},
     "output_type": "execute_result"
    }
   ],
   "source": [
    "unique(loans.TERM)"
   ]
  },
  {
   "cell_type": "code",
   "execution_count": 96,
   "metadata": {},
   "outputs": [
    {
     "data": {
      "text/plain": [
       "25-element Array{Int64,1}:\n",
       " 72\n",
       " 60\n",
       " 48\n",
       " 36\n",
       " 24\n",
       " 72\n",
       " 60\n",
       " 48\n",
       " 36\n",
       " 24\n",
       " 72\n",
       " 60\n",
       " 48\n",
       " 36\n",
       " 24\n",
       " 72\n",
       " 60\n",
       " 48\n",
       " 36\n",
       " 24\n",
       " 72\n",
       " 60\n",
       " 48\n",
       " 36\n",
       " 24"
      ]
     },
     "execution_count": 96,
     "metadata": {},
     "output_type": "execute_result"
    }
   ],
   "source": [
    "loans[:,2]"
   ]
  },
  {
   "cell_type": "code",
   "execution_count": 98,
   "metadata": {},
   "outputs": [
    {
     "data": {
      "text/html": [
       "<table class=\"data-frame\"><thead><tr><th></th><th>LOAN</th><th>TERM</th><th>INTEREST</th></tr><tr><th></th><th>Int64</th><th>Int64</th><th>Float64</th></tr></thead><tbody><p>25 rows × 3 columns</p><tr><th>1</th><td>29000</td><td>72</td><td>4.7</td></tr><tr><th>2</th><td>29000</td><td>60</td><td>4.7</td></tr><tr><th>3</th><td>29000</td><td>48</td><td>4.7</td></tr><tr><th>4</th><td>29000</td><td>36</td><td>4.7</td></tr><tr><th>5</th><td>29000</td><td>24</td><td>4.7</td></tr><tr><th>6</th><td>28000</td><td>72</td><td>4.7</td></tr><tr><th>7</th><td>28000</td><td>60</td><td>4.7</td></tr><tr><th>8</th><td>28000</td><td>48</td><td>4.7</td></tr><tr><th>9</th><td>28000</td><td>36</td><td>4.7</td></tr><tr><th>10</th><td>28000</td><td>24</td><td>4.7</td></tr><tr><th>11</th><td>27000</td><td>72</td><td>4.7</td></tr><tr><th>12</th><td>27000</td><td>60</td><td>4.7</td></tr><tr><th>13</th><td>27000</td><td>48</td><td>4.7</td></tr><tr><th>14</th><td>27000</td><td>36</td><td>4.7</td></tr><tr><th>15</th><td>27000</td><td>24</td><td>4.7</td></tr><tr><th>16</th><td>26000</td><td>72</td><td>4.7</td></tr><tr><th>17</th><td>26000</td><td>60</td><td>4.7</td></tr><tr><th>18</th><td>26000</td><td>48</td><td>4.7</td></tr><tr><th>19</th><td>26000</td><td>36</td><td>4.7</td></tr><tr><th>20</th><td>26000</td><td>24</td><td>4.7</td></tr><tr><th>21</th><td>25000</td><td>72</td><td>4.7</td></tr><tr><th>22</th><td>25000</td><td>60</td><td>4.7</td></tr><tr><th>23</th><td>25000</td><td>48</td><td>4.7</td></tr><tr><th>24</th><td>25000</td><td>36</td><td>4.7</td></tr><tr><th>25</th><td>25000</td><td>24</td><td>4.7</td></tr></tbody></table>"
      ],
      "text/latex": [
       "\\begin{tabular}{r|ccc}\n",
       "\t& LOAN & TERM & INTEREST\\\\\n",
       "\t\\hline\n",
       "\t& Int64 & Int64 & Float64\\\\\n",
       "\t\\hline\n",
       "\t1 & 29000 & 72 & 4.7 \\\\\n",
       "\t2 & 29000 & 60 & 4.7 \\\\\n",
       "\t3 & 29000 & 48 & 4.7 \\\\\n",
       "\t4 & 29000 & 36 & 4.7 \\\\\n",
       "\t5 & 29000 & 24 & 4.7 \\\\\n",
       "\t6 & 28000 & 72 & 4.7 \\\\\n",
       "\t7 & 28000 & 60 & 4.7 \\\\\n",
       "\t8 & 28000 & 48 & 4.7 \\\\\n",
       "\t9 & 28000 & 36 & 4.7 \\\\\n",
       "\t10 & 28000 & 24 & 4.7 \\\\\n",
       "\t11 & 27000 & 72 & 4.7 \\\\\n",
       "\t12 & 27000 & 60 & 4.7 \\\\\n",
       "\t13 & 27000 & 48 & 4.7 \\\\\n",
       "\t14 & 27000 & 36 & 4.7 \\\\\n",
       "\t15 & 27000 & 24 & 4.7 \\\\\n",
       "\t16 & 26000 & 72 & 4.7 \\\\\n",
       "\t17 & 26000 & 60 & 4.7 \\\\\n",
       "\t18 & 26000 & 48 & 4.7 \\\\\n",
       "\t19 & 26000 & 36 & 4.7 \\\\\n",
       "\t20 & 26000 & 24 & 4.7 \\\\\n",
       "\t21 & 25000 & 72 & 4.7 \\\\\n",
       "\t22 & 25000 & 60 & 4.7 \\\\\n",
       "\t23 & 25000 & 48 & 4.7 \\\\\n",
       "\t24 & 25000 & 36 & 4.7 \\\\\n",
       "\t25 & 25000 & 24 & 4.7 \\\\\n",
       "\\end{tabular}\n"
      ],
      "text/plain": [
       "25×3 DataFrame\n",
       "│ Row │ LOAN  │ TERM  │ INTEREST │\n",
       "│     │ \u001b[90mInt64\u001b[39m │ \u001b[90mInt64\u001b[39m │ \u001b[90mFloat64\u001b[39m  │\n",
       "├─────┼───────┼───────┼──────────┤\n",
       "│ 1   │ 29000 │ 72    │ 4.7      │\n",
       "│ 2   │ 29000 │ 60    │ 4.7      │\n",
       "│ 3   │ 29000 │ 48    │ 4.7      │\n",
       "│ 4   │ 29000 │ 36    │ 4.7      │\n",
       "│ 5   │ 29000 │ 24    │ 4.7      │\n",
       "│ 6   │ 28000 │ 72    │ 4.7      │\n",
       "│ 7   │ 28000 │ 60    │ 4.7      │\n",
       "│ 8   │ 28000 │ 48    │ 4.7      │\n",
       "│ 9   │ 28000 │ 36    │ 4.7      │\n",
       "│ 10  │ 28000 │ 24    │ 4.7      │\n",
       "⋮\n",
       "│ 15  │ 27000 │ 24    │ 4.7      │\n",
       "│ 16  │ 26000 │ 72    │ 4.7      │\n",
       "│ 17  │ 26000 │ 60    │ 4.7      │\n",
       "│ 18  │ 26000 │ 48    │ 4.7      │\n",
       "│ 19  │ 26000 │ 36    │ 4.7      │\n",
       "│ 20  │ 26000 │ 24    │ 4.7      │\n",
       "│ 21  │ 25000 │ 72    │ 4.7      │\n",
       "│ 22  │ 25000 │ 60    │ 4.7      │\n",
       "│ 23  │ 25000 │ 48    │ 4.7      │\n",
       "│ 24  │ 25000 │ 36    │ 4.7      │\n",
       "│ 25  │ 25000 │ 24    │ 4.7      │"
      ]
     },
     "execution_count": 98,
     "metadata": {},
     "output_type": "execute_result"
    }
   ],
   "source": [
    "loans[:,[1,2,3]]"
   ]
  },
  {
   "cell_type": "code",
   "execution_count": 100,
   "metadata": {},
   "outputs": [
    {
     "data": {
      "text/html": [
       "<table class=\"data-frame\"><thead><tr><th></th><th>LOAN</th><th>TERM</th><th>INTEREST</th><th>MONTHLY</th><th>STATUS</th><th>CURRENT_DATE</th></tr><tr><th></th><th>Int64</th><th>Int64</th><th>Float64</th><th>Float64</th><th>String</th><th>String</th></tr></thead><tbody><p>5 rows × 6 columns</p><tr><th>1</th><td>29000</td><td>72</td><td>4.7</td><td>463.02</td><td>low</td><td>2020-10-13 21:48:11</td></tr><tr><th>2</th><td>29000</td><td>60</td><td>4.7</td><td>543.29</td><td>ok</td><td>2020-10-13 21:48:11</td></tr><tr><th>3</th><td>29000</td><td>48</td><td>4.7</td><td>663.92</td><td>high</td><td>2020-10-13 21:48:11</td></tr><tr><th>4</th><td>29000</td><td>36</td><td>4.7</td><td>865.26</td><td>high</td><td>2020-10-13 21:48:11</td></tr><tr><th>5</th><td>29000</td><td>24</td><td>4.7</td><td>1268.38</td><td>high</td><td>2020-10-13 21:48:11</td></tr></tbody></table>"
      ],
      "text/latex": [
       "\\begin{tabular}{r|cccccc}\n",
       "\t& LOAN & TERM & INTEREST & MONTHLY & STATUS & CURRENT\\_DATE\\\\\n",
       "\t\\hline\n",
       "\t& Int64 & Int64 & Float64 & Float64 & String & String\\\\\n",
       "\t\\hline\n",
       "\t1 & 29000 & 72 & 4.7 & 463.02 & low & 2020-10-13 21:48:11 \\\\\n",
       "\t2 & 29000 & 60 & 4.7 & 543.29 & ok & 2020-10-13 21:48:11 \\\\\n",
       "\t3 & 29000 & 48 & 4.7 & 663.92 & high & 2020-10-13 21:48:11 \\\\\n",
       "\t4 & 29000 & 36 & 4.7 & 865.26 & high & 2020-10-13 21:48:11 \\\\\n",
       "\t5 & 29000 & 24 & 4.7 & 1268.38 & high & 2020-10-13 21:48:11 \\\\\n",
       "\\end{tabular}\n"
      ],
      "text/plain": [
       "5×6 DataFrame\n",
       "│ Row │ LOAN  │ TERM  │ INTEREST │ MONTHLY │ STATUS │ CURRENT_DATE        │\n",
       "│     │ \u001b[90mInt64\u001b[39m │ \u001b[90mInt64\u001b[39m │ \u001b[90mFloat64\u001b[39m  │ \u001b[90mFloat64\u001b[39m │ \u001b[90mString\u001b[39m │ \u001b[90mString\u001b[39m              │\n",
       "├─────┼───────┼───────┼──────────┼─────────┼────────┼─────────────────────┤\n",
       "│ 1   │ 29000 │ 72    │ 4.7      │ 463.02  │ low    │ 2020-10-13 21:48:11 │\n",
       "│ 2   │ 29000 │ 60    │ 4.7      │ 543.29  │ ok     │ 2020-10-13 21:48:11 │\n",
       "│ 3   │ 29000 │ 48    │ 4.7      │ 663.92  │ high   │ 2020-10-13 21:48:11 │\n",
       "│ 4   │ 29000 │ 36    │ 4.7      │ 865.26  │ high   │ 2020-10-13 21:48:11 │\n",
       "│ 5   │ 29000 │ 24    │ 4.7      │ 1268.38 │ high   │ 2020-10-13 21:48:11 │"
      ]
     },
     "execution_count": 100,
     "metadata": {},
     "output_type": "execute_result"
    }
   ],
   "source": [
    "loans[1:5, :]"
   ]
  },
  {
   "cell_type": "code",
   "execution_count": 101,
   "metadata": {},
   "outputs": [
    {
     "data": {
      "text/html": [
       "<table class=\"data-frame\"><thead><tr><th></th><th>LOAN</th><th>TERM</th></tr><tr><th></th><th>Int64</th><th>Int64</th></tr></thead><tbody><p>5 rows × 2 columns</p><tr><th>1</th><td>29000</td><td>72</td></tr><tr><th>2</th><td>29000</td><td>60</td></tr><tr><th>3</th><td>29000</td><td>48</td></tr><tr><th>4</th><td>29000</td><td>36</td></tr><tr><th>5</th><td>29000</td><td>24</td></tr></tbody></table>"
      ],
      "text/latex": [
       "\\begin{tabular}{r|cc}\n",
       "\t& LOAN & TERM\\\\\n",
       "\t\\hline\n",
       "\t& Int64 & Int64\\\\\n",
       "\t\\hline\n",
       "\t1 & 29000 & 72 \\\\\n",
       "\t2 & 29000 & 60 \\\\\n",
       "\t3 & 29000 & 48 \\\\\n",
       "\t4 & 29000 & 36 \\\\\n",
       "\t5 & 29000 & 24 \\\\\n",
       "\\end{tabular}\n"
      ],
      "text/plain": [
       "5×2 DataFrame\n",
       "│ Row │ LOAN  │ TERM  │\n",
       "│     │ \u001b[90mInt64\u001b[39m │ \u001b[90mInt64\u001b[39m │\n",
       "├─────┼───────┼───────┤\n",
       "│ 1   │ 29000 │ 72    │\n",
       "│ 2   │ 29000 │ 60    │\n",
       "│ 3   │ 29000 │ 48    │\n",
       "│ 4   │ 29000 │ 36    │\n",
       "│ 5   │ 29000 │ 24    │"
      ]
     },
     "execution_count": 101,
     "metadata": {},
     "output_type": "execute_result"
    }
   ],
   "source": [
    "loans[1:5, 1:2]"
   ]
  },
  {
   "cell_type": "markdown",
   "metadata": {},
   "source": [
    "## Visualization Data\n",
    "---"
   ]
  },
  {
   "cell_type": "code",
   "execution_count": 102,
   "metadata": {},
   "outputs": [
    {
     "name": "stderr",
     "output_type": "stream",
     "text": [
      "┌ Info: Precompiling Plots [91a5bcdd-55d7-5caf-9e0b-520d859cae80]\n",
      "└ @ Base loading.jl:1278\n"
     ]
    }
   ],
   "source": [
    "using Plots"
   ]
  },
  {
   "cell_type": "code",
   "execution_count": 109,
   "metadata": {},
   "outputs": [
    {
     "data": {
      "image/svg+xml": [
       "<?xml version=\"1.0\" encoding=\"utf-8\"?>\n",
       "<svg xmlns=\"http://www.w3.org/2000/svg\" xmlns:xlink=\"http://www.w3.org/1999/xlink\" width=\"600\" height=\"400\" viewBox=\"0 0 2400 1600\">\n",
       "<defs>\n",
       "  <clipPath id=\"clip400\">\n",
       "    <rect x=\"0\" y=\"0\" width=\"2400\" height=\"1600\"/>\n",
       "  </clipPath>\n",
       "</defs>\n",
       "<path clip-path=\"url(#clip400)\" d=\"\n",
       "M0 1600 L2400 1600 L2400 0 L0 0  Z\n",
       "  \" fill=\"#ffffff\" fill-rule=\"evenodd\" fill-opacity=\"1\"/>\n",
       "<defs>\n",
       "  <clipPath id=\"clip401\">\n",
       "    <rect x=\"480\" y=\"0\" width=\"1681\" height=\"1600\"/>\n",
       "  </clipPath>\n",
       "</defs>\n",
       "<path clip-path=\"url(#clip400)\" d=\"\n",
       "M148.334 1486.45 L2352.76 1486.45 L2352.76 47.2441 L148.334 47.2441  Z\n",
       "  \" fill=\"#ffffff\" fill-rule=\"evenodd\" fill-opacity=\"1\"/>\n",
       "<defs>\n",
       "  <clipPath id=\"clip402\">\n",
       "    <rect x=\"148\" y=\"47\" width=\"2205\" height=\"1440\"/>\n",
       "  </clipPath>\n",
       "</defs>\n",
       "<polyline clip-path=\"url(#clip402)\" style=\"stroke:#000000; stroke-width:2; stroke-opacity:0.1; fill:none\" points=\"\n",
       "  148.334,1486.45 148.334,47.2441 \n",
       "  \"/>\n",
       "<polyline clip-path=\"url(#clip402)\" style=\"stroke:#000000; stroke-width:2; stroke-opacity:0.1; fill:none\" points=\"\n",
       "  589.219,1486.45 589.219,47.2441 \n",
       "  \"/>\n",
       "<polyline clip-path=\"url(#clip402)\" style=\"stroke:#000000; stroke-width:2; stroke-opacity:0.1; fill:none\" points=\"\n",
       "  1030.1,1486.45 1030.1,47.2441 \n",
       "  \"/>\n",
       "<polyline clip-path=\"url(#clip402)\" style=\"stroke:#000000; stroke-width:2; stroke-opacity:0.1; fill:none\" points=\"\n",
       "  1470.99,1486.45 1470.99,47.2441 \n",
       "  \"/>\n",
       "<polyline clip-path=\"url(#clip402)\" style=\"stroke:#000000; stroke-width:2; stroke-opacity:0.1; fill:none\" points=\"\n",
       "  1911.87,1486.45 1911.87,47.2441 \n",
       "  \"/>\n",
       "<polyline clip-path=\"url(#clip402)\" style=\"stroke:#000000; stroke-width:2; stroke-opacity:0.1; fill:none\" points=\"\n",
       "  2352.76,1486.45 2352.76,47.2441 \n",
       "  \"/>\n",
       "<polyline clip-path=\"url(#clip400)\" style=\"stroke:#000000; stroke-width:4; stroke-opacity:1; fill:none\" points=\"\n",
       "  148.334,1486.45 2352.76,1486.45 \n",
       "  \"/>\n",
       "<polyline clip-path=\"url(#clip400)\" style=\"stroke:#000000; stroke-width:4; stroke-opacity:1; fill:none\" points=\"\n",
       "  148.334,1486.45 148.334,1469.18 \n",
       "  \"/>\n",
       "<polyline clip-path=\"url(#clip400)\" style=\"stroke:#000000; stroke-width:4; stroke-opacity:1; fill:none\" points=\"\n",
       "  589.219,1486.45 589.219,1469.18 \n",
       "  \"/>\n",
       "<polyline clip-path=\"url(#clip400)\" style=\"stroke:#000000; stroke-width:4; stroke-opacity:1; fill:none\" points=\"\n",
       "  1030.1,1486.45 1030.1,1469.18 \n",
       "  \"/>\n",
       "<polyline clip-path=\"url(#clip400)\" style=\"stroke:#000000; stroke-width:4; stroke-opacity:1; fill:none\" points=\"\n",
       "  1470.99,1486.45 1470.99,1469.18 \n",
       "  \"/>\n",
       "<polyline clip-path=\"url(#clip400)\" style=\"stroke:#000000; stroke-width:4; stroke-opacity:1; fill:none\" points=\"\n",
       "  1911.87,1486.45 1911.87,1469.18 \n",
       "  \"/>\n",
       "<polyline clip-path=\"url(#clip400)\" style=\"stroke:#000000; stroke-width:4; stroke-opacity:1; fill:none\" points=\"\n",
       "  2352.76,1486.45 2352.76,1469.18 \n",
       "  \"/>\n",
       "<path clip-path=\"url(#clip400)\" d=\"M 0 0 M129.851 1515.64 Q126.24 1515.64 124.411 1519.2 Q122.605 1522.75 122.605 1529.87 Q122.605 1536.98 124.411 1540.55 Q126.24 1544.09 129.851 1544.09 Q133.485 1544.09 135.29 1540.55 Q137.119 1536.98 137.119 1529.87 Q137.119 1522.75 135.29 1519.2 Q133.485 1515.64 129.851 1515.64 M129.851 1511.93 Q135.661 1511.93 138.716 1516.54 Q141.795 1521.12 141.795 1529.87 Q141.795 1538.6 138.716 1543.21 Q135.661 1547.79 129.851 1547.79 Q124.041 1547.79 120.962 1543.21 Q117.906 1538.6 117.906 1529.87 Q117.906 1521.12 120.962 1516.54 Q124.041 1511.93 129.851 1511.93 Z\" fill=\"#000000\" fill-rule=\"evenodd\" fill-opacity=\"1\" /><path clip-path=\"url(#clip400)\" d=\"M 0 0 M146.864 1541.24 L151.749 1541.24 L151.749 1547.12 L146.864 1547.12 L146.864 1541.24 Z\" fill=\"#000000\" fill-rule=\"evenodd\" fill-opacity=\"1\" /><path clip-path=\"url(#clip400)\" d=\"M 0 0 M166.818 1515.64 Q163.207 1515.64 161.378 1519.2 Q159.573 1522.75 159.573 1529.87 Q159.573 1536.98 161.378 1540.55 Q163.207 1544.09 166.818 1544.09 Q170.452 1544.09 172.258 1540.55 Q174.087 1536.98 174.087 1529.87 Q174.087 1522.75 172.258 1519.2 Q170.452 1515.64 166.818 1515.64 M166.818 1511.93 Q172.628 1511.93 175.684 1516.54 Q178.762 1521.12 178.762 1529.87 Q178.762 1538.6 175.684 1543.21 Q172.628 1547.79 166.818 1547.79 Q161.008 1547.79 157.929 1543.21 Q154.874 1538.6 154.874 1529.87 Q154.874 1521.12 157.929 1516.54 Q161.008 1511.93 166.818 1511.93 Z\" fill=\"#000000\" fill-rule=\"evenodd\" fill-opacity=\"1\" /><path clip-path=\"url(#clip400)\" d=\"M 0 0 M571.534 1515.64 Q567.923 1515.64 566.094 1519.2 Q564.288 1522.75 564.288 1529.87 Q564.288 1536.98 566.094 1540.55 Q567.923 1544.09 571.534 1544.09 Q575.168 1544.09 576.973 1540.55 Q578.802 1536.98 578.802 1529.87 Q578.802 1522.75 576.973 1519.2 Q575.168 1515.64 571.534 1515.64 M571.534 1511.93 Q577.344 1511.93 580.399 1516.54 Q583.478 1521.12 583.478 1529.87 Q583.478 1538.6 580.399 1543.21 Q577.344 1547.79 571.534 1547.79 Q565.723 1547.79 562.645 1543.21 Q559.589 1538.6 559.589 1529.87 Q559.589 1521.12 562.645 1516.54 Q565.723 1511.93 571.534 1511.93 Z\" fill=\"#000000\" fill-rule=\"evenodd\" fill-opacity=\"1\" /><path clip-path=\"url(#clip400)\" d=\"M 0 0 M588.547 1541.24 L593.432 1541.24 L593.432 1547.12 L588.547 1547.12 L588.547 1541.24 Z\" fill=\"#000000\" fill-rule=\"evenodd\" fill-opacity=\"1\" /><path clip-path=\"url(#clip400)\" d=\"M 0 0 M602.529 1543.18 L618.848 1543.18 L618.848 1547.12 L596.904 1547.12 L596.904 1543.18 Q599.566 1540.43 604.149 1535.8 Q608.756 1531.15 609.936 1529.81 Q612.182 1527.28 613.061 1525.55 Q613.964 1523.79 613.964 1522.1 Q613.964 1519.34 612.019 1517.61 Q610.098 1515.87 606.996 1515.87 Q604.797 1515.87 602.344 1516.63 Q599.913 1517.4 597.135 1518.95 L597.135 1514.23 Q599.959 1513.09 602.413 1512.51 Q604.867 1511.93 606.904 1511.93 Q612.274 1511.93 615.469 1514.62 Q618.663 1517.31 618.663 1521.8 Q618.663 1523.93 617.853 1525.85 Q617.066 1527.74 614.959 1530.34 Q614.381 1531.01 611.279 1534.23 Q608.177 1537.42 602.529 1543.18 Z\" fill=\"#000000\" fill-rule=\"evenodd\" fill-opacity=\"1\" /><path clip-path=\"url(#clip400)\" d=\"M 0 0 M1011.38 1515.64 Q1007.77 1515.64 1005.94 1519.2 Q1004.13 1522.75 1004.13 1529.87 Q1004.13 1536.98 1005.94 1540.55 Q1007.77 1544.09 1011.38 1544.09 Q1015.01 1544.09 1016.82 1540.55 Q1018.64 1536.98 1018.64 1529.87 Q1018.64 1522.75 1016.82 1519.2 Q1015.01 1515.64 1011.38 1515.64 M1011.38 1511.93 Q1017.19 1511.93 1020.24 1516.54 Q1023.32 1521.12 1023.32 1529.87 Q1023.32 1538.6 1020.24 1543.21 Q1017.19 1547.79 1011.38 1547.79 Q1005.57 1547.79 1002.49 1543.21 Q999.432 1538.6 999.432 1529.87 Q999.432 1521.12 1002.49 1516.54 Q1005.57 1511.93 1011.38 1511.93 Z\" fill=\"#000000\" fill-rule=\"evenodd\" fill-opacity=\"1\" /><path clip-path=\"url(#clip400)\" d=\"M 0 0 M1028.39 1541.24 L1033.27 1541.24 L1033.27 1547.12 L1028.39 1547.12 L1028.39 1541.24 Z\" fill=\"#000000\" fill-rule=\"evenodd\" fill-opacity=\"1\" /><path clip-path=\"url(#clip400)\" d=\"M 0 0 M1051.19 1516.63 L1039.39 1535.08 L1051.19 1535.08 L1051.19 1516.63 M1049.96 1512.56 L1055.84 1512.56 L1055.84 1535.08 L1060.77 1535.08 L1060.77 1538.97 L1055.84 1538.97 L1055.84 1547.12 L1051.19 1547.12 L1051.19 1538.97 L1035.59 1538.97 L1035.59 1534.46 L1049.96 1512.56 Z\" fill=\"#000000\" fill-rule=\"evenodd\" fill-opacity=\"1\" /><path clip-path=\"url(#clip400)\" d=\"M 0 0 M1452.42 1515.64 Q1448.81 1515.64 1446.98 1519.2 Q1445.18 1522.75 1445.18 1529.87 Q1445.18 1536.98 1446.98 1540.55 Q1448.81 1544.09 1452.42 1544.09 Q1456.06 1544.09 1457.86 1540.55 Q1459.69 1536.98 1459.69 1529.87 Q1459.69 1522.75 1457.86 1519.2 Q1456.06 1515.64 1452.42 1515.64 M1452.42 1511.93 Q1458.23 1511.93 1461.29 1516.54 Q1464.37 1521.12 1464.37 1529.87 Q1464.37 1538.6 1461.29 1543.21 Q1458.23 1547.79 1452.42 1547.79 Q1446.61 1547.79 1443.53 1543.21 Q1440.48 1538.6 1440.48 1529.87 Q1440.48 1521.12 1443.53 1516.54 Q1446.61 1511.93 1452.42 1511.93 Z\" fill=\"#000000\" fill-rule=\"evenodd\" fill-opacity=\"1\" /><path clip-path=\"url(#clip400)\" d=\"M 0 0 M1469.44 1541.24 L1474.32 1541.24 L1474.32 1547.12 L1469.44 1547.12 L1469.44 1541.24 Z\" fill=\"#000000\" fill-rule=\"evenodd\" fill-opacity=\"1\" /><path clip-path=\"url(#clip400)\" d=\"M 0 0 M1489.97 1527.98 Q1486.82 1527.98 1484.97 1530.13 Q1483.14 1532.28 1483.14 1536.03 Q1483.14 1539.76 1484.97 1541.93 Q1486.82 1544.09 1489.97 1544.09 Q1493.12 1544.09 1494.95 1541.93 Q1496.8 1539.76 1496.8 1536.03 Q1496.8 1532.28 1494.95 1530.13 Q1493.12 1527.98 1489.97 1527.98 M1499.25 1513.32 L1499.25 1517.58 Q1497.49 1516.75 1495.69 1516.31 Q1493.9 1515.87 1492.14 1515.87 Q1487.51 1515.87 1485.06 1519 Q1482.63 1522.12 1482.28 1528.44 Q1483.65 1526.43 1485.71 1525.36 Q1487.77 1524.27 1490.25 1524.27 Q1495.45 1524.27 1498.46 1527.44 Q1501.5 1530.59 1501.5 1536.03 Q1501.5 1541.36 1498.35 1544.57 Q1495.2 1547.79 1489.97 1547.79 Q1483.97 1547.79 1480.8 1543.21 Q1477.63 1538.6 1477.63 1529.87 Q1477.63 1521.68 1481.52 1516.82 Q1485.41 1511.93 1491.96 1511.93 Q1493.72 1511.93 1495.5 1512.28 Q1497.31 1512.63 1499.25 1513.32 Z\" fill=\"#000000\" fill-rule=\"evenodd\" fill-opacity=\"1\" /><path clip-path=\"url(#clip400)\" d=\"M 0 0 M1893.43 1515.64 Q1889.82 1515.64 1887.99 1519.2 Q1886.19 1522.75 1886.19 1529.87 Q1886.19 1536.98 1887.99 1540.55 Q1889.82 1544.09 1893.43 1544.09 Q1897.07 1544.09 1898.87 1540.55 Q1900.7 1536.98 1900.7 1529.87 Q1900.7 1522.75 1898.87 1519.2 Q1897.07 1515.64 1893.43 1515.64 M1893.43 1511.93 Q1899.24 1511.93 1902.3 1516.54 Q1905.38 1521.12 1905.38 1529.87 Q1905.38 1538.6 1902.3 1543.21 Q1899.24 1547.79 1893.43 1547.79 Q1887.62 1547.79 1884.55 1543.21 Q1881.49 1538.6 1881.49 1529.87 Q1881.49 1521.12 1884.55 1516.54 Q1887.62 1511.93 1893.43 1511.93 Z\" fill=\"#000000\" fill-rule=\"evenodd\" fill-opacity=\"1\" /><path clip-path=\"url(#clip400)\" d=\"M 0 0 M1910.45 1541.24 L1915.33 1541.24 L1915.33 1547.12 L1910.45 1547.12 L1910.45 1541.24 Z\" fill=\"#000000\" fill-rule=\"evenodd\" fill-opacity=\"1\" /><path clip-path=\"url(#clip400)\" d=\"M 0 0 M1930.4 1530.71 Q1927.07 1530.71 1925.15 1532.49 Q1923.25 1534.27 1923.25 1537.4 Q1923.25 1540.52 1925.15 1542.31 Q1927.07 1544.09 1930.4 1544.09 Q1933.73 1544.09 1935.66 1542.31 Q1937.58 1540.5 1937.58 1537.4 Q1937.58 1534.27 1935.66 1532.49 Q1933.76 1530.71 1930.4 1530.71 M1925.73 1528.72 Q1922.72 1527.98 1921.03 1525.92 Q1919.36 1523.86 1919.36 1520.89 Q1919.36 1516.75 1922.3 1514.34 Q1925.26 1511.93 1930.4 1511.93 Q1935.56 1511.93 1938.5 1514.34 Q1941.44 1516.75 1941.44 1520.89 Q1941.44 1523.86 1939.75 1525.92 Q1938.09 1527.98 1935.1 1528.72 Q1938.48 1529.5 1940.36 1531.8 Q1942.25 1534.09 1942.25 1537.4 Q1942.25 1542.42 1939.17 1545.11 Q1936.12 1547.79 1930.4 1547.79 Q1924.68 1547.79 1921.61 1545.11 Q1918.55 1542.42 1918.55 1537.4 Q1918.55 1534.09 1920.45 1531.8 Q1922.35 1529.5 1925.73 1528.72 M1924.01 1521.33 Q1924.01 1524.02 1925.68 1525.52 Q1927.37 1527.03 1930.4 1527.03 Q1933.41 1527.03 1935.1 1525.52 Q1936.81 1524.02 1936.81 1521.33 Q1936.81 1518.65 1935.1 1517.14 Q1933.41 1515.64 1930.4 1515.64 Q1927.37 1515.64 1925.68 1517.14 Q1924.01 1518.65 1924.01 1521.33 Z\" fill=\"#000000\" fill-rule=\"evenodd\" fill-opacity=\"1\" /><path clip-path=\"url(#clip400)\" d=\"M 0 0 M2324.65 1543.18 L2332.29 1543.18 L2332.29 1516.82 L2323.98 1518.49 L2323.98 1514.23 L2332.25 1512.56 L2336.92 1512.56 L2336.92 1543.18 L2344.56 1543.18 L2344.56 1547.12 L2324.65 1547.12 L2324.65 1543.18 Z\" fill=\"#000000\" fill-rule=\"evenodd\" fill-opacity=\"1\" /><path clip-path=\"url(#clip400)\" d=\"M 0 0 M2349.63 1541.24 L2354.52 1541.24 L2354.52 1547.12 L2349.63 1547.12 L2349.63 1541.24 Z\" fill=\"#000000\" fill-rule=\"evenodd\" fill-opacity=\"1\" /><path clip-path=\"url(#clip400)\" d=\"M 0 0 M2369.58 1515.64 Q2365.97 1515.64 2364.14 1519.2 Q2362.34 1522.75 2362.34 1529.87 Q2362.34 1536.98 2364.14 1540.55 Q2365.97 1544.09 2369.58 1544.09 Q2373.22 1544.09 2375.02 1540.55 Q2376.85 1536.98 2376.85 1529.87 Q2376.85 1522.75 2375.02 1519.2 Q2373.22 1515.64 2369.58 1515.64 M2369.58 1511.93 Q2375.39 1511.93 2378.45 1516.54 Q2381.53 1521.12 2381.53 1529.87 Q2381.53 1538.6 2378.45 1543.21 Q2375.39 1547.79 2369.58 1547.79 Q2363.77 1547.79 2360.7 1543.21 Q2357.64 1538.6 2357.64 1529.87 Q2357.64 1521.12 2360.7 1516.54 Q2363.77 1511.93 2369.58 1511.93 Z\" fill=\"#000000\" fill-rule=\"evenodd\" fill-opacity=\"1\" /><polyline clip-path=\"url(#clip402)\" style=\"stroke:#000000; stroke-width:2; stroke-opacity:0.1; fill:none\" points=\"\n",
       "  148.334,1486.45 2352.76,1486.45 \n",
       "  \"/>\n",
       "<polyline clip-path=\"url(#clip402)\" style=\"stroke:#000000; stroke-width:2; stroke-opacity:0.1; fill:none\" points=\"\n",
       "  148.334,1198.61 2352.76,1198.61 \n",
       "  \"/>\n",
       "<polyline clip-path=\"url(#clip402)\" style=\"stroke:#000000; stroke-width:2; stroke-opacity:0.1; fill:none\" points=\"\n",
       "  148.334,910.766 2352.76,910.766 \n",
       "  \"/>\n",
       "<polyline clip-path=\"url(#clip402)\" style=\"stroke:#000000; stroke-width:2; stroke-opacity:0.1; fill:none\" points=\"\n",
       "  148.334,622.926 2352.76,622.926 \n",
       "  \"/>\n",
       "<polyline clip-path=\"url(#clip402)\" style=\"stroke:#000000; stroke-width:2; stroke-opacity:0.1; fill:none\" points=\"\n",
       "  148.334,335.085 2352.76,335.085 \n",
       "  \"/>\n",
       "<polyline clip-path=\"url(#clip402)\" style=\"stroke:#000000; stroke-width:2; stroke-opacity:0.1; fill:none\" points=\"\n",
       "  148.334,47.2441 2352.76,47.2441 \n",
       "  \"/>\n",
       "<polyline clip-path=\"url(#clip400)\" style=\"stroke:#000000; stroke-width:4; stroke-opacity:1; fill:none\" points=\"\n",
       "  148.334,1486.45 148.334,47.2441 \n",
       "  \"/>\n",
       "<polyline clip-path=\"url(#clip400)\" style=\"stroke:#000000; stroke-width:4; stroke-opacity:1; fill:none\" points=\"\n",
       "  148.334,1486.45 174.787,1486.45 \n",
       "  \"/>\n",
       "<polyline clip-path=\"url(#clip400)\" style=\"stroke:#000000; stroke-width:4; stroke-opacity:1; fill:none\" points=\"\n",
       "  148.334,1198.61 174.787,1198.61 \n",
       "  \"/>\n",
       "<polyline clip-path=\"url(#clip400)\" style=\"stroke:#000000; stroke-width:4; stroke-opacity:1; fill:none\" points=\"\n",
       "  148.334,910.766 174.787,910.766 \n",
       "  \"/>\n",
       "<polyline clip-path=\"url(#clip400)\" style=\"stroke:#000000; stroke-width:4; stroke-opacity:1; fill:none\" points=\"\n",
       "  148.334,622.926 174.787,622.926 \n",
       "  \"/>\n",
       "<polyline clip-path=\"url(#clip400)\" style=\"stroke:#000000; stroke-width:4; stroke-opacity:1; fill:none\" points=\"\n",
       "  148.334,335.085 174.787,335.085 \n",
       "  \"/>\n",
       "<polyline clip-path=\"url(#clip400)\" style=\"stroke:#000000; stroke-width:4; stroke-opacity:1; fill:none\" points=\"\n",
       "  148.334,47.2441 174.787,47.2441 \n",
       "  \"/>\n",
       "<path clip-path=\"url(#clip400)\" d=\"M 0 0 M63.4226 1472.25 Q59.8115 1472.25 57.9828 1475.81 Q56.1773 1479.35 56.1773 1486.48 Q56.1773 1493.59 57.9828 1497.15 Q59.8115 1500.7 63.4226 1500.7 Q67.0569 1500.7 68.8624 1497.15 Q70.6911 1493.59 70.6911 1486.48 Q70.6911 1479.35 68.8624 1475.81 Q67.0569 1472.25 63.4226 1472.25 M63.4226 1468.54 Q69.2328 1468.54 72.2883 1473.15 Q75.367 1477.73 75.367 1486.48 Q75.367 1495.21 72.2883 1499.82 Q69.2328 1504.4 63.4226 1504.4 Q57.6125 1504.4 54.5338 1499.82 Q51.4782 1495.21 51.4782 1486.48 Q51.4782 1477.73 54.5338 1473.15 Q57.6125 1468.54 63.4226 1468.54 Z\" fill=\"#000000\" fill-rule=\"evenodd\" fill-opacity=\"1\" /><path clip-path=\"url(#clip400)\" d=\"M 0 0 M80.4364 1497.85 L85.3206 1497.85 L85.3206 1503.73 L80.4364 1503.73 L80.4364 1497.85 Z\" fill=\"#000000\" fill-rule=\"evenodd\" fill-opacity=\"1\" /><path clip-path=\"url(#clip400)\" d=\"M 0 0 M100.39 1472.25 Q96.7789 1472.25 94.9502 1475.81 Q93.1447 1479.35 93.1447 1486.48 Q93.1447 1493.59 94.9502 1497.15 Q96.7789 1500.7 100.39 1500.7 Q104.024 1500.7 105.83 1497.15 Q107.658 1493.59 107.658 1486.48 Q107.658 1479.35 105.83 1475.81 Q104.024 1472.25 100.39 1472.25 M100.39 1468.54 Q106.2 1468.54 109.256 1473.15 Q112.334 1477.73 112.334 1486.48 Q112.334 1495.21 109.256 1499.82 Q106.2 1504.4 100.39 1504.4 Q94.5799 1504.4 91.5012 1499.82 Q88.4456 1495.21 88.4456 1486.48 Q88.4456 1477.73 91.5012 1473.15 Q94.5799 1468.54 100.39 1468.54 Z\" fill=\"#000000\" fill-rule=\"evenodd\" fill-opacity=\"1\" /><path clip-path=\"url(#clip400)\" d=\"M 0 0 M65.0198 1184.41 Q61.4087 1184.41 59.58 1187.97 Q57.7745 1191.51 57.7745 1198.64 Q57.7745 1205.75 59.58 1209.31 Q61.4087 1212.85 65.0198 1212.85 Q68.6541 1212.85 70.4596 1209.31 Q72.2883 1205.75 72.2883 1198.64 Q72.2883 1191.51 70.4596 1187.97 Q68.6541 1184.41 65.0198 1184.41 M65.0198 1180.7 Q70.83 1180.7 73.8855 1185.31 Q76.9642 1189.89 76.9642 1198.64 Q76.9642 1207.37 73.8855 1211.98 Q70.83 1216.56 65.0198 1216.56 Q59.2097 1216.56 56.131 1211.98 Q53.0754 1207.37 53.0754 1198.64 Q53.0754 1189.89 56.131 1185.31 Q59.2097 1180.7 65.0198 1180.7 Z\" fill=\"#000000\" fill-rule=\"evenodd\" fill-opacity=\"1\" /><path clip-path=\"url(#clip400)\" d=\"M 0 0 M82.0336 1210.01 L86.9179 1210.01 L86.9179 1215.89 L82.0336 1215.89 L82.0336 1210.01 Z\" fill=\"#000000\" fill-rule=\"evenodd\" fill-opacity=\"1\" /><path clip-path=\"url(#clip400)\" d=\"M 0 0 M96.015 1211.95 L112.334 1211.95 L112.334 1215.89 L90.3901 1215.89 L90.3901 1211.95 Q93.0521 1209.2 97.6354 1204.57 Q102.242 1199.91 103.422 1198.57 Q105.668 1196.05 106.547 1194.31 Q107.45 1192.55 107.45 1190.86 Q107.45 1188.11 105.506 1186.37 Q103.584 1184.64 100.483 1184.64 Q98.2835 1184.64 95.8298 1185.4 Q93.3993 1186.17 90.6215 1187.72 L90.6215 1182.99 Q93.4456 1181.86 95.8993 1181.28 Q98.353 1180.7 100.39 1180.7 Q105.76 1180.7 108.955 1183.39 Q112.149 1186.07 112.149 1190.56 Q112.149 1192.69 111.339 1194.61 Q110.552 1196.51 108.446 1199.1 Q107.867 1199.78 104.765 1202.99 Q101.663 1206.19 96.015 1211.95 Z\" fill=\"#000000\" fill-rule=\"evenodd\" fill-opacity=\"1\" /><path clip-path=\"url(#clip400)\" d=\"M 0 0 M62.9365 896.565 Q59.3254 896.565 57.4967 900.13 Q55.6912 903.671 55.6912 910.801 Q55.6912 917.908 57.4967 921.472 Q59.3254 925.014 62.9365 925.014 Q66.5707 925.014 68.3763 921.472 Q70.205 917.908 70.205 910.801 Q70.205 903.671 68.3763 900.13 Q66.5707 896.565 62.9365 896.565 M62.9365 892.861 Q68.7467 892.861 71.8022 897.468 Q74.8809 902.051 74.8809 910.801 Q74.8809 919.528 71.8022 924.134 Q68.7467 928.718 62.9365 928.718 Q57.1264 928.718 54.0477 924.134 Q50.9921 919.528 50.9921 910.801 Q50.9921 902.051 54.0477 897.468 Q57.1264 892.861 62.9365 892.861 Z\" fill=\"#000000\" fill-rule=\"evenodd\" fill-opacity=\"1\" /><path clip-path=\"url(#clip400)\" d=\"M 0 0 M79.9503 922.167 L84.8345 922.167 L84.8345 928.046 L79.9503 928.046 L79.9503 922.167 Z\" fill=\"#000000\" fill-rule=\"evenodd\" fill-opacity=\"1\" /><path clip-path=\"url(#clip400)\" d=\"M 0 0 M102.751 897.56 L90.9456 916.009 L102.751 916.009 L102.751 897.56 M101.524 893.486 L107.404 893.486 L107.404 916.009 L112.334 916.009 L112.334 919.898 L107.404 919.898 L107.404 928.046 L102.751 928.046 L102.751 919.898 L87.1493 919.898 L87.1493 915.384 L101.524 893.486 Z\" fill=\"#000000\" fill-rule=\"evenodd\" fill-opacity=\"1\" /><path clip-path=\"url(#clip400)\" d=\"M 0 0 M63.2606 608.724 Q59.6495 608.724 57.8208 612.289 Q56.0152 615.831 56.0152 622.96 Q56.0152 630.067 57.8208 633.632 Q59.6495 637.173 63.2606 637.173 Q66.8948 637.173 68.7004 633.632 Q70.5291 630.067 70.5291 622.96 Q70.5291 615.831 68.7004 612.289 Q66.8948 608.724 63.2606 608.724 M63.2606 605.021 Q69.0707 605.021 72.1263 609.627 Q75.205 614.21 75.205 622.96 Q75.205 631.687 72.1263 636.294 Q69.0707 640.877 63.2606 640.877 Q57.4504 640.877 54.3717 636.294 Q51.3162 631.687 51.3162 622.96 Q51.3162 614.21 54.3717 609.627 Q57.4504 605.021 63.2606 605.021 Z\" fill=\"#000000\" fill-rule=\"evenodd\" fill-opacity=\"1\" /><path clip-path=\"url(#clip400)\" d=\"M 0 0 M80.2744 634.326 L85.1586 634.326 L85.1586 640.206 L80.2744 640.206 L80.2744 634.326 Z\" fill=\"#000000\" fill-rule=\"evenodd\" fill-opacity=\"1\" /><path clip-path=\"url(#clip400)\" d=\"M 0 0 M100.807 621.062 Q97.6585 621.062 95.8067 623.215 Q93.978 625.368 93.978 629.118 Q93.978 632.845 95.8067 635.02 Q97.6585 637.173 100.807 637.173 Q103.955 637.173 105.783 635.02 Q107.635 632.845 107.635 629.118 Q107.635 625.368 105.783 623.215 Q103.955 621.062 100.807 621.062 M110.089 606.409 L110.089 610.669 Q108.33 609.835 106.524 609.396 Q104.742 608.956 102.983 608.956 Q98.353 608.956 95.8993 612.081 Q93.4688 615.206 93.1215 621.525 Q94.4873 619.511 96.5474 618.446 Q98.6076 617.359 101.084 617.359 Q106.293 617.359 109.302 620.53 Q112.334 623.678 112.334 629.118 Q112.334 634.442 109.186 637.659 Q106.038 640.877 100.807 640.877 Q94.8113 640.877 91.6401 636.294 Q88.4688 631.687 88.4688 622.96 Q88.4688 614.766 92.3576 609.905 Q96.2465 605.021 102.797 605.021 Q104.557 605.021 106.339 605.368 Q108.145 605.715 110.089 606.409 Z\" fill=\"#000000\" fill-rule=\"evenodd\" fill-opacity=\"1\" /><path clip-path=\"url(#clip400)\" d=\"M 0 0 M63.5152 320.884 Q59.9041 320.884 58.0754 324.448 Q56.2699 327.99 56.2699 335.12 Q56.2699 342.226 58.0754 345.791 Q59.9041 349.332 63.5152 349.332 Q67.1494 349.332 68.955 345.791 Q70.7837 342.226 70.7837 335.12 Q70.7837 327.99 68.955 324.448 Q67.1494 320.884 63.5152 320.884 M63.5152 317.18 Q69.3254 317.18 72.3809 321.786 Q75.4596 326.37 75.4596 335.12 Q75.4596 343.846 72.3809 348.453 Q69.3254 353.036 63.5152 353.036 Q57.7051 353.036 54.6264 348.453 Q51.5708 343.846 51.5708 335.12 Q51.5708 326.37 54.6264 321.786 Q57.7051 317.18 63.5152 317.18 Z\" fill=\"#000000\" fill-rule=\"evenodd\" fill-opacity=\"1\" /><path clip-path=\"url(#clip400)\" d=\"M 0 0 M80.529 346.485 L85.4132 346.485 L85.4132 352.365 L80.529 352.365 L80.529 346.485 Z\" fill=\"#000000\" fill-rule=\"evenodd\" fill-opacity=\"1\" /><path clip-path=\"url(#clip400)\" d=\"M 0 0 M100.483 335.953 Q97.1493 335.953 95.228 337.735 Q93.3299 339.518 93.3299 342.643 Q93.3299 345.768 95.228 347.55 Q97.1493 349.332 100.483 349.332 Q103.816 349.332 105.737 347.55 Q107.658 345.745 107.658 342.643 Q107.658 339.518 105.737 337.735 Q103.839 335.953 100.483 335.953 M95.8067 333.962 Q92.7975 333.221 91.1077 331.161 Q89.441 329.101 89.441 326.138 Q89.441 321.995 92.3808 319.587 Q95.3437 317.18 100.483 317.18 Q105.645 317.18 108.584 319.587 Q111.524 321.995 111.524 326.138 Q111.524 329.101 109.834 331.161 Q108.168 333.221 105.182 333.962 Q108.561 334.749 110.436 337.041 Q112.334 339.333 112.334 342.643 Q112.334 347.666 109.256 350.351 Q106.2 353.036 100.483 353.036 Q94.765 353.036 91.6864 350.351 Q88.6308 347.666 88.6308 342.643 Q88.6308 339.333 90.529 337.041 Q92.4271 334.749 95.8067 333.962 M94.0937 326.578 Q94.0937 329.263 95.7604 330.768 Q97.4502 332.272 100.483 332.272 Q103.492 332.272 105.182 330.768 Q106.895 329.263 106.895 326.578 Q106.895 323.893 105.182 322.388 Q103.492 320.884 100.483 320.884 Q97.4502 320.884 95.7604 322.388 Q94.0937 323.893 94.0937 326.578 Z\" fill=\"#000000\" fill-rule=\"evenodd\" fill-opacity=\"1\" /><path clip-path=\"url(#clip400)\" d=\"M 0 0 M55.4597 60.5889 L63.0985 60.5889 L63.0985 34.2233 L54.7884 35.89 L54.7884 31.6308 L63.0522 29.9641 L67.7281 29.9641 L67.7281 60.5889 L75.367 60.5889 L75.367 64.5241 L55.4597 64.5241 L55.4597 60.5889 Z\" fill=\"#000000\" fill-rule=\"evenodd\" fill-opacity=\"1\" /><path clip-path=\"url(#clip400)\" d=\"M 0 0 M80.4364 58.6445 L85.3206 58.6445 L85.3206 64.5241 L80.4364 64.5241 L80.4364 58.6445 Z\" fill=\"#000000\" fill-rule=\"evenodd\" fill-opacity=\"1\" /><path clip-path=\"url(#clip400)\" d=\"M 0 0 M100.39 33.0428 Q96.7789 33.0428 94.9502 36.6076 Q93.1447 40.1492 93.1447 47.2788 Q93.1447 54.3853 94.9502 57.9501 Q96.7789 61.4917 100.39 61.4917 Q104.024 61.4917 105.83 57.9501 Q107.658 54.3853 107.658 47.2788 Q107.658 40.1492 105.83 36.6076 Q104.024 33.0428 100.39 33.0428 M100.39 29.3391 Q106.2 29.3391 109.256 33.9456 Q112.334 38.5289 112.334 47.2788 Q112.334 56.0056 109.256 60.6121 Q106.2 65.1954 100.39 65.1954 Q94.5799 65.1954 91.5012 60.6121 Q88.4456 56.0056 88.4456 47.2788 Q88.4456 38.5289 91.5012 33.9456 Q94.5799 29.3391 100.39 29.3391 Z\" fill=\"#000000\" fill-rule=\"evenodd\" fill-opacity=\"1\" /></svg>\n"
      ]
     },
     "execution_count": 109,
     "metadata": {},
     "output_type": "execute_result"
    }
   ],
   "source": [
    "plot()"
   ]
  },
  {
   "cell_type": "code",
   "execution_count": 110,
   "metadata": {},
   "outputs": [
    {
     "data": {
      "image/svg+xml": [
       "<?xml version=\"1.0\" encoding=\"utf-8\"?>\n",
       "<svg xmlns=\"http://www.w3.org/2000/svg\" xmlns:xlink=\"http://www.w3.org/1999/xlink\" width=\"600\" height=\"400\" viewBox=\"0 0 2400 1600\">\n",
       "<defs>\n",
       "  <clipPath id=\"clip440\">\n",
       "    <rect x=\"0\" y=\"0\" width=\"2400\" height=\"1600\"/>\n",
       "  </clipPath>\n",
       "</defs>\n",
       "<path clip-path=\"url(#clip440)\" d=\"\n",
       "M0 1600 L2400 1600 L2400 0 L0 0  Z\n",
       "  \" fill=\"#ffffff\" fill-rule=\"evenodd\" fill-opacity=\"1\"/>\n",
       "<defs>\n",
       "  <clipPath id=\"clip441\">\n",
       "    <rect x=\"480\" y=\"0\" width=\"1681\" height=\"1600\"/>\n",
       "  </clipPath>\n",
       "</defs>\n",
       "<path clip-path=\"url(#clip440)\" d=\"\n",
       "M148.334 1486.45 L2352.76 1486.45 L2352.76 47.2441 L148.334 47.2441  Z\n",
       "  \" fill=\"#ffffff\" fill-rule=\"evenodd\" fill-opacity=\"1\"/>\n",
       "<defs>\n",
       "  <clipPath id=\"clip442\">\n",
       "    <rect x=\"148\" y=\"47\" width=\"2205\" height=\"1440\"/>\n",
       "  </clipPath>\n",
       "</defs>\n",
       "<polyline clip-path=\"url(#clip442)\" style=\"stroke:#000000; stroke-width:2; stroke-opacity:0.1; fill:none\" points=\"\n",
       "  359.27,1486.45 359.27,47.2441 \n",
       "  \"/>\n",
       "<polyline clip-path=\"url(#clip442)\" style=\"stroke:#000000; stroke-width:2; stroke-opacity:0.1; fill:none\" points=\"\n",
       "  656.361,1486.45 656.361,47.2441 \n",
       "  \"/>\n",
       "<polyline clip-path=\"url(#clip442)\" style=\"stroke:#000000; stroke-width:2; stroke-opacity:0.1; fill:none\" points=\"\n",
       "  953.453,1486.45 953.453,47.2441 \n",
       "  \"/>\n",
       "<polyline clip-path=\"url(#clip442)\" style=\"stroke:#000000; stroke-width:2; stroke-opacity:0.1; fill:none\" points=\"\n",
       "  1250.55,1486.45 1250.55,47.2441 \n",
       "  \"/>\n",
       "<polyline clip-path=\"url(#clip442)\" style=\"stroke:#000000; stroke-width:2; stroke-opacity:0.1; fill:none\" points=\"\n",
       "  1547.64,1486.45 1547.64,47.2441 \n",
       "  \"/>\n",
       "<polyline clip-path=\"url(#clip442)\" style=\"stroke:#000000; stroke-width:2; stroke-opacity:0.1; fill:none\" points=\"\n",
       "  1844.73,1486.45 1844.73,47.2441 \n",
       "  \"/>\n",
       "<polyline clip-path=\"url(#clip442)\" style=\"stroke:#000000; stroke-width:2; stroke-opacity:0.1; fill:none\" points=\"\n",
       "  2141.82,1486.45 2141.82,47.2441 \n",
       "  \"/>\n",
       "<polyline clip-path=\"url(#clip440)\" style=\"stroke:#000000; stroke-width:4; stroke-opacity:1; fill:none\" points=\"\n",
       "  148.334,1486.45 2352.76,1486.45 \n",
       "  \"/>\n",
       "<polyline clip-path=\"url(#clip440)\" style=\"stroke:#000000; stroke-width:4; stroke-opacity:1; fill:none\" points=\"\n",
       "  359.27,1486.45 359.27,1469.18 \n",
       "  \"/>\n",
       "<polyline clip-path=\"url(#clip440)\" style=\"stroke:#000000; stroke-width:4; stroke-opacity:1; fill:none\" points=\"\n",
       "  656.361,1486.45 656.361,1469.18 \n",
       "  \"/>\n",
       "<polyline clip-path=\"url(#clip440)\" style=\"stroke:#000000; stroke-width:4; stroke-opacity:1; fill:none\" points=\"\n",
       "  953.453,1486.45 953.453,1469.18 \n",
       "  \"/>\n",
       "<polyline clip-path=\"url(#clip440)\" style=\"stroke:#000000; stroke-width:4; stroke-opacity:1; fill:none\" points=\"\n",
       "  1250.55,1486.45 1250.55,1469.18 \n",
       "  \"/>\n",
       "<polyline clip-path=\"url(#clip440)\" style=\"stroke:#000000; stroke-width:4; stroke-opacity:1; fill:none\" points=\"\n",
       "  1547.64,1486.45 1547.64,1469.18 \n",
       "  \"/>\n",
       "<polyline clip-path=\"url(#clip440)\" style=\"stroke:#000000; stroke-width:4; stroke-opacity:1; fill:none\" points=\"\n",
       "  1844.73,1486.45 1844.73,1469.18 \n",
       "  \"/>\n",
       "<polyline clip-path=\"url(#clip440)\" style=\"stroke:#000000; stroke-width:4; stroke-opacity:1; fill:none\" points=\"\n",
       "  2141.82,1486.45 2141.82,1469.18 \n",
       "  \"/>\n",
       "<path clip-path=\"url(#clip440)\" d=\"M 0 0 M353.922 1543.18 L370.242 1543.18 L370.242 1547.12 L348.297 1547.12 L348.297 1543.18 Q350.959 1540.43 355.543 1535.8 Q360.149 1531.15 361.33 1529.81 Q363.575 1527.28 364.455 1525.55 Q365.358 1523.79 365.358 1522.1 Q365.358 1519.34 363.413 1517.61 Q361.492 1515.87 358.39 1515.87 Q356.191 1515.87 353.737 1516.63 Q351.307 1517.4 348.529 1518.95 L348.529 1514.23 Q351.353 1513.09 353.807 1512.51 Q356.26 1511.93 358.297 1511.93 Q363.668 1511.93 366.862 1514.62 Q370.057 1517.31 370.057 1521.8 Q370.057 1523.93 369.246 1525.85 Q368.459 1527.74 366.353 1530.34 Q365.774 1531.01 362.672 1534.23 Q359.571 1537.42 353.922 1543.18 Z\" fill=\"#000000\" fill-rule=\"evenodd\" fill-opacity=\"1\" /><path clip-path=\"url(#clip440)\" d=\"M 0 0 M659.371 1516.63 L647.565 1535.08 L659.371 1535.08 L659.371 1516.63 M658.144 1512.56 L664.023 1512.56 L664.023 1535.08 L668.954 1535.08 L668.954 1538.97 L664.023 1538.97 L664.023 1547.12 L659.371 1547.12 L659.371 1538.97 L643.769 1538.97 L643.769 1534.46 L658.144 1512.56 Z\" fill=\"#000000\" fill-rule=\"evenodd\" fill-opacity=\"1\" /><path clip-path=\"url(#clip440)\" d=\"M 0 0 M953.858 1527.98 Q950.71 1527.98 948.858 1530.13 Q947.03 1532.28 947.03 1536.03 Q947.03 1539.76 948.858 1541.93 Q950.71 1544.09 953.858 1544.09 Q957.007 1544.09 958.835 1541.93 Q960.687 1539.76 960.687 1536.03 Q960.687 1532.28 958.835 1530.13 Q957.007 1527.98 953.858 1527.98 M963.141 1513.32 L963.141 1517.58 Q961.381 1516.75 959.576 1516.31 Q957.794 1515.87 956.034 1515.87 Q951.405 1515.87 948.951 1519 Q946.52 1522.12 946.173 1528.44 Q947.539 1526.43 949.599 1525.36 Q951.659 1524.27 954.136 1524.27 Q959.344 1524.27 962.354 1527.44 Q965.386 1530.59 965.386 1536.03 Q965.386 1541.36 962.238 1544.57 Q959.09 1547.79 953.858 1547.79 Q947.863 1547.79 944.692 1543.21 Q941.52 1538.6 941.52 1529.87 Q941.52 1521.68 945.409 1516.82 Q949.298 1511.93 955.849 1511.93 Q957.608 1511.93 959.391 1512.28 Q961.196 1512.63 963.141 1513.32 Z\" fill=\"#000000\" fill-rule=\"evenodd\" fill-opacity=\"1\" /><path clip-path=\"url(#clip440)\" d=\"M 0 0 M1250.55 1530.71 Q1247.21 1530.71 1245.29 1532.49 Q1243.39 1534.27 1243.39 1537.4 Q1243.39 1540.52 1245.29 1542.31 Q1247.21 1544.09 1250.55 1544.09 Q1253.88 1544.09 1255.8 1542.31 Q1257.72 1540.5 1257.72 1537.4 Q1257.72 1534.27 1255.8 1532.49 Q1253.9 1530.71 1250.55 1530.71 M1245.87 1528.72 Q1242.86 1527.98 1241.17 1525.92 Q1239.5 1523.86 1239.5 1520.89 Q1239.5 1516.75 1242.44 1514.34 Q1245.41 1511.93 1250.55 1511.93 Q1255.71 1511.93 1258.65 1514.34 Q1261.59 1516.75 1261.59 1520.89 Q1261.59 1523.86 1259.9 1525.92 Q1258.23 1527.98 1255.24 1528.72 Q1258.62 1529.5 1260.5 1531.8 Q1262.4 1534.09 1262.4 1537.4 Q1262.4 1542.42 1259.32 1545.11 Q1256.26 1547.79 1250.55 1547.79 Q1244.83 1547.79 1241.75 1545.11 Q1238.69 1542.42 1238.69 1537.4 Q1238.69 1534.09 1240.59 1531.8 Q1242.49 1529.5 1245.87 1528.72 M1244.16 1521.33 Q1244.16 1524.02 1245.82 1525.52 Q1247.51 1527.03 1250.55 1527.03 Q1253.55 1527.03 1255.24 1525.52 Q1256.96 1524.02 1256.96 1521.33 Q1256.96 1518.65 1255.24 1517.14 Q1253.55 1515.64 1250.55 1515.64 Q1247.51 1515.64 1245.82 1517.14 Q1244.16 1518.65 1244.16 1521.33 Z\" fill=\"#000000\" fill-rule=\"evenodd\" fill-opacity=\"1\" /><path clip-path=\"url(#clip440)\" d=\"M 0 0 M1524.51 1543.18 L1532.15 1543.18 L1532.15 1516.82 L1523.84 1518.49 L1523.84 1514.23 L1532.1 1512.56 L1536.78 1512.56 L1536.78 1543.18 L1544.42 1543.18 L1544.42 1547.12 L1524.51 1547.12 L1524.51 1543.18 Z\" fill=\"#000000\" fill-rule=\"evenodd\" fill-opacity=\"1\" /><path clip-path=\"url(#clip440)\" d=\"M 0 0 M1559.49 1515.64 Q1555.88 1515.64 1554.05 1519.2 Q1552.24 1522.75 1552.24 1529.87 Q1552.24 1536.98 1554.05 1540.55 Q1555.88 1544.09 1559.49 1544.09 Q1563.12 1544.09 1564.93 1540.55 Q1566.76 1536.98 1566.76 1529.87 Q1566.76 1522.75 1564.93 1519.2 Q1563.12 1515.64 1559.49 1515.64 M1559.49 1511.93 Q1565.3 1511.93 1568.35 1516.54 Q1571.43 1521.12 1571.43 1529.87 Q1571.43 1538.6 1568.35 1543.21 Q1565.3 1547.79 1559.49 1547.79 Q1553.68 1547.79 1550.6 1543.21 Q1547.54 1538.6 1547.54 1529.87 Q1547.54 1521.12 1550.6 1516.54 Q1553.68 1511.93 1559.49 1511.93 Z\" fill=\"#000000\" fill-rule=\"evenodd\" fill-opacity=\"1\" /><path clip-path=\"url(#clip440)\" d=\"M 0 0 M1822.4 1543.18 L1830.04 1543.18 L1830.04 1516.82 L1821.73 1518.49 L1821.73 1514.23 L1830 1512.56 L1834.67 1512.56 L1834.67 1543.18 L1842.31 1543.18 L1842.31 1547.12 L1822.4 1547.12 L1822.4 1543.18 Z\" fill=\"#000000\" fill-rule=\"evenodd\" fill-opacity=\"1\" /><path clip-path=\"url(#clip440)\" d=\"M 0 0 M1851.41 1543.18 L1867.73 1543.18 L1867.73 1547.12 L1845.78 1547.12 L1845.78 1543.18 Q1848.44 1540.43 1853.03 1535.8 Q1857.63 1531.15 1858.81 1529.81 Q1861.06 1527.28 1861.94 1525.55 Q1862.84 1523.79 1862.84 1522.1 Q1862.84 1519.34 1860.9 1517.61 Q1858.98 1515.87 1855.87 1515.87 Q1853.68 1515.87 1851.22 1516.63 Q1848.79 1517.4 1846.01 1518.95 L1846.01 1514.23 Q1848.84 1513.09 1851.29 1512.51 Q1853.75 1511.93 1855.78 1511.93 Q1861.15 1511.93 1864.35 1514.62 Q1867.54 1517.31 1867.54 1521.8 Q1867.54 1523.93 1866.73 1525.85 Q1865.94 1527.74 1863.84 1530.34 Q1863.26 1531.01 1860.16 1534.23 Q1857.06 1537.42 1851.41 1543.18 Z\" fill=\"#000000\" fill-rule=\"evenodd\" fill-opacity=\"1\" /><path clip-path=\"url(#clip440)\" d=\"M 0 0 M2118.45 1543.18 L2126.09 1543.18 L2126.09 1516.82 L2117.78 1518.49 L2117.78 1514.23 L2126.05 1512.56 L2130.72 1512.56 L2130.72 1543.18 L2138.36 1543.18 L2138.36 1547.12 L2118.45 1547.12 L2118.45 1543.18 Z\" fill=\"#000000\" fill-rule=\"evenodd\" fill-opacity=\"1\" /><path clip-path=\"url(#clip440)\" d=\"M 0 0 M2156.28 1516.63 L2144.47 1535.08 L2156.28 1535.08 L2156.28 1516.63 M2155.05 1512.56 L2160.93 1512.56 L2160.93 1535.08 L2165.86 1535.08 L2165.86 1538.97 L2160.93 1538.97 L2160.93 1547.12 L2156.28 1547.12 L2156.28 1538.97 L2140.67 1538.97 L2140.67 1534.46 L2155.05 1512.56 Z\" fill=\"#000000\" fill-rule=\"evenodd\" fill-opacity=\"1\" /><polyline clip-path=\"url(#clip442)\" style=\"stroke:#000000; stroke-width:2; stroke-opacity:0.1; fill:none\" points=\"\n",
       "  148.334,1454.17 2352.76,1454.17 \n",
       "  \"/>\n",
       "<polyline clip-path=\"url(#clip442)\" style=\"stroke:#000000; stroke-width:2; stroke-opacity:0.1; fill:none\" points=\"\n",
       "  148.334,1142.61 2352.76,1142.61 \n",
       "  \"/>\n",
       "<polyline clip-path=\"url(#clip442)\" style=\"stroke:#000000; stroke-width:2; stroke-opacity:0.1; fill:none\" points=\"\n",
       "  148.334,831.045 2352.76,831.045 \n",
       "  \"/>\n",
       "<polyline clip-path=\"url(#clip442)\" style=\"stroke:#000000; stroke-width:2; stroke-opacity:0.1; fill:none\" points=\"\n",
       "  148.334,519.481 2352.76,519.481 \n",
       "  \"/>\n",
       "<polyline clip-path=\"url(#clip442)\" style=\"stroke:#000000; stroke-width:2; stroke-opacity:0.1; fill:none\" points=\"\n",
       "  148.334,207.917 2352.76,207.917 \n",
       "  \"/>\n",
       "<polyline clip-path=\"url(#clip440)\" style=\"stroke:#000000; stroke-width:4; stroke-opacity:1; fill:none\" points=\"\n",
       "  148.334,1486.45 148.334,47.2441 \n",
       "  \"/>\n",
       "<polyline clip-path=\"url(#clip440)\" style=\"stroke:#000000; stroke-width:4; stroke-opacity:1; fill:none\" points=\"\n",
       "  148.334,1454.17 174.787,1454.17 \n",
       "  \"/>\n",
       "<polyline clip-path=\"url(#clip440)\" style=\"stroke:#000000; stroke-width:4; stroke-opacity:1; fill:none\" points=\"\n",
       "  148.334,1142.61 174.787,1142.61 \n",
       "  \"/>\n",
       "<polyline clip-path=\"url(#clip440)\" style=\"stroke:#000000; stroke-width:4; stroke-opacity:1; fill:none\" points=\"\n",
       "  148.334,831.045 174.787,831.045 \n",
       "  \"/>\n",
       "<polyline clip-path=\"url(#clip440)\" style=\"stroke:#000000; stroke-width:4; stroke-opacity:1; fill:none\" points=\"\n",
       "  148.334,519.481 174.787,519.481 \n",
       "  \"/>\n",
       "<polyline clip-path=\"url(#clip440)\" style=\"stroke:#000000; stroke-width:4; stroke-opacity:1; fill:none\" points=\"\n",
       "  148.334,207.917 174.787,207.917 \n",
       "  \"/>\n",
       "<path clip-path=\"url(#clip440)\" d=\"M 0 0 M63.4226 1439.97 Q59.8115 1439.97 57.9828 1443.54 Q56.1773 1447.08 56.1773 1454.21 Q56.1773 1461.31 57.9828 1464.88 Q59.8115 1468.42 63.4226 1468.42 Q67.0569 1468.42 68.8624 1464.88 Q70.6911 1461.31 70.6911 1454.21 Q70.6911 1447.08 68.8624 1443.54 Q67.0569 1439.97 63.4226 1439.97 M63.4226 1436.27 Q69.2328 1436.27 72.2883 1440.87 Q75.367 1445.46 75.367 1454.21 Q75.367 1462.93 72.2883 1467.54 Q69.2328 1472.12 63.4226 1472.12 Q57.6125 1472.12 54.5338 1467.54 Q51.4782 1462.93 51.4782 1454.21 Q51.4782 1445.46 54.5338 1440.87 Q57.6125 1436.27 63.4226 1436.27 Z\" fill=\"#000000\" fill-rule=\"evenodd\" fill-opacity=\"1\" /><path clip-path=\"url(#clip440)\" d=\"M 0 0 M80.4364 1465.57 L85.3206 1465.57 L85.3206 1471.45 L80.4364 1471.45 L80.4364 1465.57 Z\" fill=\"#000000\" fill-rule=\"evenodd\" fill-opacity=\"1\" /><path clip-path=\"url(#clip440)\" d=\"M 0 0 M100.39 1439.97 Q96.7789 1439.97 94.9502 1443.54 Q93.1447 1447.08 93.1447 1454.21 Q93.1447 1461.31 94.9502 1464.88 Q96.7789 1468.42 100.39 1468.42 Q104.024 1468.42 105.83 1464.88 Q107.658 1461.31 107.658 1454.21 Q107.658 1447.08 105.83 1443.54 Q104.024 1439.97 100.39 1439.97 M100.39 1436.27 Q106.2 1436.27 109.256 1440.87 Q112.334 1445.46 112.334 1454.21 Q112.334 1462.93 109.256 1467.54 Q106.2 1472.12 100.39 1472.12 Q94.5799 1472.12 91.5012 1467.54 Q88.4456 1462.93 88.4456 1454.21 Q88.4456 1445.46 91.5012 1440.87 Q94.5799 1436.27 100.39 1436.27 Z\" fill=\"#000000\" fill-rule=\"evenodd\" fill-opacity=\"1\" /><path clip-path=\"url(#clip440)\" d=\"M 0 0 M65.0198 1128.41 Q61.4087 1128.41 59.58 1131.97 Q57.7745 1135.51 57.7745 1142.64 Q57.7745 1149.75 59.58 1153.31 Q61.4087 1156.86 65.0198 1156.86 Q68.6541 1156.86 70.4596 1153.31 Q72.2883 1149.75 72.2883 1142.64 Q72.2883 1135.51 70.4596 1131.97 Q68.6541 1128.41 65.0198 1128.41 M65.0198 1124.7 Q70.83 1124.7 73.8855 1129.31 Q76.9642 1133.89 76.9642 1142.64 Q76.9642 1151.37 73.8855 1155.98 Q70.83 1160.56 65.0198 1160.56 Q59.2097 1160.56 56.131 1155.98 Q53.0754 1151.37 53.0754 1142.64 Q53.0754 1133.89 56.131 1129.31 Q59.2097 1124.7 65.0198 1124.7 Z\" fill=\"#000000\" fill-rule=\"evenodd\" fill-opacity=\"1\" /><path clip-path=\"url(#clip440)\" d=\"M 0 0 M82.0336 1154.01 L86.9179 1154.01 L86.9179 1159.89 L82.0336 1159.89 L82.0336 1154.01 Z\" fill=\"#000000\" fill-rule=\"evenodd\" fill-opacity=\"1\" /><path clip-path=\"url(#clip440)\" d=\"M 0 0 M96.015 1155.95 L112.334 1155.95 L112.334 1159.89 L90.3901 1159.89 L90.3901 1155.95 Q93.0521 1153.2 97.6354 1148.57 Q102.242 1143.92 103.422 1142.57 Q105.668 1140.05 106.547 1138.32 Q107.45 1136.56 107.45 1134.87 Q107.45 1132.11 105.506 1130.38 Q103.584 1128.64 100.483 1128.64 Q98.2835 1128.64 95.8298 1129.4 Q93.3993 1130.17 90.6215 1131.72 L90.6215 1127 Q93.4456 1125.86 95.8993 1125.28 Q98.353 1124.7 100.39 1124.7 Q105.76 1124.7 108.955 1127.39 Q112.149 1130.07 112.149 1134.57 Q112.149 1136.69 111.339 1138.62 Q110.552 1140.51 108.446 1143.11 Q107.867 1143.78 104.765 1147 Q101.663 1150.19 96.015 1155.95 Z\" fill=\"#000000\" fill-rule=\"evenodd\" fill-opacity=\"1\" /><path clip-path=\"url(#clip440)\" d=\"M 0 0 M62.9365 816.844 Q59.3254 816.844 57.4967 820.408 Q55.6912 823.95 55.6912 831.08 Q55.6912 838.186 57.4967 841.751 Q59.3254 845.292 62.9365 845.292 Q66.5707 845.292 68.3763 841.751 Q70.205 838.186 70.205 831.08 Q70.205 823.95 68.3763 820.408 Q66.5707 816.844 62.9365 816.844 M62.9365 813.14 Q68.7467 813.14 71.8022 817.746 Q74.8809 822.33 74.8809 831.08 Q74.8809 839.806 71.8022 844.413 Q68.7467 848.996 62.9365 848.996 Q57.1264 848.996 54.0477 844.413 Q50.9921 839.806 50.9921 831.08 Q50.9921 822.33 54.0477 817.746 Q57.1264 813.14 62.9365 813.14 Z\" fill=\"#000000\" fill-rule=\"evenodd\" fill-opacity=\"1\" /><path clip-path=\"url(#clip440)\" d=\"M 0 0 M79.9503 842.445 L84.8345 842.445 L84.8345 848.325 L79.9503 848.325 L79.9503 842.445 Z\" fill=\"#000000\" fill-rule=\"evenodd\" fill-opacity=\"1\" /><path clip-path=\"url(#clip440)\" d=\"M 0 0 M102.751 817.839 L90.9456 836.288 L102.751 836.288 L102.751 817.839 M101.524 813.765 L107.404 813.765 L107.404 836.288 L112.334 836.288 L112.334 840.177 L107.404 840.177 L107.404 848.325 L102.751 848.325 L102.751 840.177 L87.1493 840.177 L87.1493 835.663 L101.524 813.765 Z\" fill=\"#000000\" fill-rule=\"evenodd\" fill-opacity=\"1\" /><path clip-path=\"url(#clip440)\" d=\"M 0 0 M63.2606 505.279 Q59.6495 505.279 57.8208 508.844 Q56.0152 512.386 56.0152 519.515 Q56.0152 526.622 57.8208 530.187 Q59.6495 533.728 63.2606 533.728 Q66.8948 533.728 68.7004 530.187 Q70.5291 526.622 70.5291 519.515 Q70.5291 512.386 68.7004 508.844 Q66.8948 505.279 63.2606 505.279 M63.2606 501.576 Q69.0707 501.576 72.1263 506.182 Q75.205 510.766 75.205 519.515 Q75.205 528.242 72.1263 532.849 Q69.0707 537.432 63.2606 537.432 Q57.4504 537.432 54.3717 532.849 Q51.3162 528.242 51.3162 519.515 Q51.3162 510.766 54.3717 506.182 Q57.4504 501.576 63.2606 501.576 Z\" fill=\"#000000\" fill-rule=\"evenodd\" fill-opacity=\"1\" /><path clip-path=\"url(#clip440)\" d=\"M 0 0 M80.2744 530.881 L85.1586 530.881 L85.1586 536.761 L80.2744 536.761 L80.2744 530.881 Z\" fill=\"#000000\" fill-rule=\"evenodd\" fill-opacity=\"1\" /><path clip-path=\"url(#clip440)\" d=\"M 0 0 M100.807 517.617 Q97.6585 517.617 95.8067 519.77 Q93.978 521.923 93.978 525.673 Q93.978 529.4 95.8067 531.576 Q97.6585 533.728 100.807 533.728 Q103.955 533.728 105.783 531.576 Q107.635 529.4 107.635 525.673 Q107.635 521.923 105.783 519.77 Q103.955 517.617 100.807 517.617 M110.089 502.965 L110.089 507.224 Q108.33 506.391 106.524 505.951 Q104.742 505.511 102.983 505.511 Q98.353 505.511 95.8993 508.636 Q93.4688 511.761 93.1215 518.08 Q94.4873 516.066 96.5474 515.002 Q98.6076 513.914 101.084 513.914 Q106.293 513.914 109.302 517.085 Q112.334 520.233 112.334 525.673 Q112.334 530.997 109.186 534.214 Q106.038 537.432 100.807 537.432 Q94.8113 537.432 91.6401 532.849 Q88.4688 528.242 88.4688 519.515 Q88.4688 511.321 92.3576 506.46 Q96.2465 501.576 102.797 501.576 Q104.557 501.576 106.339 501.923 Q108.145 502.27 110.089 502.965 Z\" fill=\"#000000\" fill-rule=\"evenodd\" fill-opacity=\"1\" /><path clip-path=\"url(#clip440)\" d=\"M 0 0 M63.5152 193.715 Q59.9041 193.715 58.0754 197.28 Q56.2699 200.822 56.2699 207.951 Q56.2699 215.058 58.0754 218.623 Q59.9041 222.164 63.5152 222.164 Q67.1494 222.164 68.955 218.623 Q70.7837 215.058 70.7837 207.951 Q70.7837 200.822 68.955 197.28 Q67.1494 193.715 63.5152 193.715 M63.5152 190.012 Q69.3254 190.012 72.3809 194.618 Q75.4596 199.201 75.4596 207.951 Q75.4596 216.678 72.3809 221.285 Q69.3254 225.868 63.5152 225.868 Q57.7051 225.868 54.6264 221.285 Q51.5708 216.678 51.5708 207.951 Q51.5708 199.201 54.6264 194.618 Q57.7051 190.012 63.5152 190.012 Z\" fill=\"#000000\" fill-rule=\"evenodd\" fill-opacity=\"1\" /><path clip-path=\"url(#clip440)\" d=\"M 0 0 M80.529 219.317 L85.4132 219.317 L85.4132 225.197 L80.529 225.197 L80.529 219.317 Z\" fill=\"#000000\" fill-rule=\"evenodd\" fill-opacity=\"1\" /><path clip-path=\"url(#clip440)\" d=\"M 0 0 M100.483 208.785 Q97.1493 208.785 95.228 210.567 Q93.3299 212.349 93.3299 215.474 Q93.3299 218.599 95.228 220.382 Q97.1493 222.164 100.483 222.164 Q103.816 222.164 105.737 220.382 Q107.658 218.576 107.658 215.474 Q107.658 212.349 105.737 210.567 Q103.839 208.785 100.483 208.785 M95.8067 206.794 Q92.7975 206.053 91.1077 203.993 Q89.441 201.933 89.441 198.97 Q89.441 194.826 92.3808 192.419 Q95.3437 190.012 100.483 190.012 Q105.645 190.012 108.584 192.419 Q111.524 194.826 111.524 198.97 Q111.524 201.933 109.834 203.993 Q108.168 206.053 105.182 206.794 Q108.561 207.581 110.436 209.873 Q112.334 212.164 112.334 215.474 Q112.334 220.498 109.256 223.183 Q106.2 225.868 100.483 225.868 Q94.765 225.868 91.6864 223.183 Q88.6308 220.498 88.6308 215.474 Q88.6308 212.164 90.529 209.873 Q92.4271 207.581 95.8067 206.794 M94.0937 199.41 Q94.0937 202.095 95.7604 203.6 Q97.4502 205.104 100.483 205.104 Q103.492 205.104 105.182 203.6 Q106.895 202.095 106.895 199.41 Q106.895 196.725 105.182 195.22 Q103.492 193.715 100.483 193.715 Q97.4502 193.715 95.7604 195.22 Q94.0937 196.725 94.0937 199.41 Z\" fill=\"#000000\" fill-rule=\"evenodd\" fill-opacity=\"1\" /><polyline clip-path=\"url(#clip442)\" style=\"stroke:#009af9; stroke-width:4; stroke-opacity:1; fill:none\" points=\"\n",
       "  210.724,427.051 359.27,473.428 507.816,493.692 656.361,424.488 804.907,729.854 953.453,1100.62 1102,1000.13 1250.55,681.366 1399.09,87.9763 1547.64,935.242 \n",
       "  1696.18,913.312 1844.73,604.565 1993.27,1056.87 2141.82,1445.72 2290.37,360.568 \n",
       "  \"/>\n",
       "<path clip-path=\"url(#clip440)\" d=\"\n",
       "M1983.32 216.178 L2279.28 216.178 L2279.28 95.2176 L1983.32 95.2176  Z\n",
       "  \" fill=\"#ffffff\" fill-rule=\"evenodd\" fill-opacity=\"1\"/>\n",
       "<polyline clip-path=\"url(#clip440)\" style=\"stroke:#000000; stroke-width:4; stroke-opacity:1; fill:none\" points=\"\n",
       "  1983.32,216.178 2279.28,216.178 2279.28,95.2176 1983.32,95.2176 1983.32,216.178 \n",
       "  \"/>\n",
       "<polyline clip-path=\"url(#clip440)\" style=\"stroke:#009af9; stroke-width:4; stroke-opacity:1; fill:none\" points=\"\n",
       "  2007.81,155.698 2154.78,155.698 \n",
       "  \"/>\n",
       "<path clip-path=\"url(#clip440)\" d=\"M 0 0 M2193.11 175.385 Q2191.31 180.015 2189.59 181.427 Q2187.88 182.839 2185.01 182.839 L2181.61 182.839 L2181.61 179.274 L2184.11 179.274 Q2185.87 179.274 2186.84 178.44 Q2187.81 177.607 2188.99 174.505 L2189.76 172.561 L2179.27 147.052 L2183.78 147.052 L2191.89 167.329 L2199.99 147.052 L2204.5 147.052 L2193.11 175.385 Z\" fill=\"#000000\" fill-rule=\"evenodd\" fill-opacity=\"1\" /><path clip-path=\"url(#clip440)\" d=\"M 0 0 M2210.38 169.042 L2218.02 169.042 L2218.02 142.677 L2209.71 144.343 L2209.71 140.084 L2217.97 138.418 L2222.65 138.418 L2222.65 169.042 L2230.29 169.042 L2230.29 172.978 L2210.38 172.978 L2210.38 169.042 Z\" fill=\"#000000\" fill-rule=\"evenodd\" fill-opacity=\"1\" /></svg>\n"
      ]
     },
     "execution_count": 110,
     "metadata": {},
     "output_type": "execute_result"
    }
   ],
   "source": [
    "x = 1:15; y = rand(15);\n",
    "\n",
    "plot(X, y)"
   ]
  },
  {
   "cell_type": "code",
   "execution_count": 111,
   "metadata": {},
   "outputs": [],
   "source": [
    "z = rand(15);"
   ]
  },
  {
   "cell_type": "code",
   "execution_count": 112,
   "metadata": {},
   "outputs": [
    {
     "data": {
      "image/svg+xml": [
       "<?xml version=\"1.0\" encoding=\"utf-8\"?>\n",
       "<svg xmlns=\"http://www.w3.org/2000/svg\" xmlns:xlink=\"http://www.w3.org/1999/xlink\" width=\"600\" height=\"400\" viewBox=\"0 0 2400 1600\">\n",
       "<defs>\n",
       "  <clipPath id=\"clip480\">\n",
       "    <rect x=\"0\" y=\"0\" width=\"2400\" height=\"1600\"/>\n",
       "  </clipPath>\n",
       "</defs>\n",
       "<path clip-path=\"url(#clip480)\" d=\"\n",
       "M0 1600 L2400 1600 L2400 0 L0 0  Z\n",
       "  \" fill=\"#ffffff\" fill-rule=\"evenodd\" fill-opacity=\"1\"/>\n",
       "<defs>\n",
       "  <clipPath id=\"clip481\">\n",
       "    <rect x=\"480\" y=\"0\" width=\"1681\" height=\"1600\"/>\n",
       "  </clipPath>\n",
       "</defs>\n",
       "<path clip-path=\"url(#clip480)\" d=\"\n",
       "M174.862 1486.45 L2352.76 1486.45 L2352.76 47.2441 L174.862 47.2441  Z\n",
       "  \" fill=\"#ffffff\" fill-rule=\"evenodd\" fill-opacity=\"1\"/>\n",
       "<defs>\n",
       "  <clipPath id=\"clip482\">\n",
       "    <rect x=\"174\" y=\"47\" width=\"2179\" height=\"1440\"/>\n",
       "  </clipPath>\n",
       "</defs>\n",
       "<polyline clip-path=\"url(#clip482)\" style=\"stroke:#000000; stroke-width:2; stroke-opacity:0.1; fill:none\" points=\"\n",
       "  383.259,1486.45 383.259,47.2441 \n",
       "  \"/>\n",
       "<polyline clip-path=\"url(#clip482)\" style=\"stroke:#000000; stroke-width:2; stroke-opacity:0.1; fill:none\" points=\"\n",
       "  676.776,1486.45 676.776,47.2441 \n",
       "  \"/>\n",
       "<polyline clip-path=\"url(#clip482)\" style=\"stroke:#000000; stroke-width:2; stroke-opacity:0.1; fill:none\" points=\"\n",
       "  970.292,1486.45 970.292,47.2441 \n",
       "  \"/>\n",
       "<polyline clip-path=\"url(#clip482)\" style=\"stroke:#000000; stroke-width:2; stroke-opacity:0.1; fill:none\" points=\"\n",
       "  1263.81,1486.45 1263.81,47.2441 \n",
       "  \"/>\n",
       "<polyline clip-path=\"url(#clip482)\" style=\"stroke:#000000; stroke-width:2; stroke-opacity:0.1; fill:none\" points=\"\n",
       "  1557.33,1486.45 1557.33,47.2441 \n",
       "  \"/>\n",
       "<polyline clip-path=\"url(#clip482)\" style=\"stroke:#000000; stroke-width:2; stroke-opacity:0.1; fill:none\" points=\"\n",
       "  1850.84,1486.45 1850.84,47.2441 \n",
       "  \"/>\n",
       "<polyline clip-path=\"url(#clip482)\" style=\"stroke:#000000; stroke-width:2; stroke-opacity:0.1; fill:none\" points=\"\n",
       "  2144.36,1486.45 2144.36,47.2441 \n",
       "  \"/>\n",
       "<polyline clip-path=\"url(#clip480)\" style=\"stroke:#000000; stroke-width:4; stroke-opacity:1; fill:none\" points=\"\n",
       "  174.862,1486.45 2352.76,1486.45 \n",
       "  \"/>\n",
       "<polyline clip-path=\"url(#clip480)\" style=\"stroke:#000000; stroke-width:4; stroke-opacity:1; fill:none\" points=\"\n",
       "  383.259,1486.45 383.259,1469.18 \n",
       "  \"/>\n",
       "<polyline clip-path=\"url(#clip480)\" style=\"stroke:#000000; stroke-width:4; stroke-opacity:1; fill:none\" points=\"\n",
       "  676.776,1486.45 676.776,1469.18 \n",
       "  \"/>\n",
       "<polyline clip-path=\"url(#clip480)\" style=\"stroke:#000000; stroke-width:4; stroke-opacity:1; fill:none\" points=\"\n",
       "  970.292,1486.45 970.292,1469.18 \n",
       "  \"/>\n",
       "<polyline clip-path=\"url(#clip480)\" style=\"stroke:#000000; stroke-width:4; stroke-opacity:1; fill:none\" points=\"\n",
       "  1263.81,1486.45 1263.81,1469.18 \n",
       "  \"/>\n",
       "<polyline clip-path=\"url(#clip480)\" style=\"stroke:#000000; stroke-width:4; stroke-opacity:1; fill:none\" points=\"\n",
       "  1557.33,1486.45 1557.33,1469.18 \n",
       "  \"/>\n",
       "<polyline clip-path=\"url(#clip480)\" style=\"stroke:#000000; stroke-width:4; stroke-opacity:1; fill:none\" points=\"\n",
       "  1850.84,1486.45 1850.84,1469.18 \n",
       "  \"/>\n",
       "<polyline clip-path=\"url(#clip480)\" style=\"stroke:#000000; stroke-width:4; stroke-opacity:1; fill:none\" points=\"\n",
       "  2144.36,1486.45 2144.36,1469.18 \n",
       "  \"/>\n",
       "<path clip-path=\"url(#clip480)\" d=\"M 0 0 M377.912 1543.18 L394.231 1543.18 L394.231 1547.12 L372.287 1547.12 L372.287 1543.18 Q374.949 1540.43 379.532 1535.8 Q384.139 1531.15 385.319 1529.81 Q387.564 1527.28 388.444 1525.55 Q389.347 1523.79 389.347 1522.1 Q389.347 1519.34 387.402 1517.61 Q385.481 1515.87 382.379 1515.87 Q380.18 1515.87 377.727 1516.63 Q375.296 1517.4 372.518 1518.95 L372.518 1514.23 Q375.342 1513.09 377.796 1512.51 Q380.25 1511.93 382.287 1511.93 Q387.657 1511.93 390.851 1514.62 Q394.046 1517.31 394.046 1521.8 Q394.046 1523.93 393.236 1525.85 Q392.449 1527.74 390.342 1530.34 Q389.763 1531.01 386.662 1534.23 Q383.56 1537.42 377.912 1543.18 Z\" fill=\"#000000\" fill-rule=\"evenodd\" fill-opacity=\"1\" /><path clip-path=\"url(#clip480)\" d=\"M 0 0 M679.785 1516.63 L667.979 1535.08 L679.785 1535.08 L679.785 1516.63 M678.558 1512.56 L684.438 1512.56 L684.438 1535.08 L689.368 1535.08 L689.368 1538.97 L684.438 1538.97 L684.438 1547.12 L679.785 1547.12 L679.785 1538.97 L664.183 1538.97 L664.183 1534.46 L678.558 1512.56 Z\" fill=\"#000000\" fill-rule=\"evenodd\" fill-opacity=\"1\" /><path clip-path=\"url(#clip480)\" d=\"M 0 0 M970.697 1527.98 Q967.549 1527.98 965.697 1530.13 Q963.869 1532.28 963.869 1536.03 Q963.869 1539.76 965.697 1541.93 Q967.549 1544.09 970.697 1544.09 Q973.845 1544.09 975.674 1541.93 Q977.526 1539.76 977.526 1536.03 Q977.526 1532.28 975.674 1530.13 Q973.845 1527.98 970.697 1527.98 M979.98 1513.32 L979.98 1517.58 Q978.22 1516.75 976.415 1516.31 Q974.633 1515.87 972.873 1515.87 Q968.244 1515.87 965.79 1519 Q963.359 1522.12 963.012 1528.44 Q964.378 1526.43 966.438 1525.36 Q968.498 1524.27 970.975 1524.27 Q976.183 1524.27 979.193 1527.44 Q982.225 1530.59 982.225 1536.03 Q982.225 1541.36 979.077 1544.57 Q975.929 1547.79 970.697 1547.79 Q964.702 1547.79 961.531 1543.21 Q958.359 1538.6 958.359 1529.87 Q958.359 1521.68 962.248 1516.82 Q966.137 1511.93 972.688 1511.93 Q974.447 1511.93 976.23 1512.28 Q978.035 1512.63 979.98 1513.32 Z\" fill=\"#000000\" fill-rule=\"evenodd\" fill-opacity=\"1\" /><path clip-path=\"url(#clip480)\" d=\"M 0 0 M1263.81 1530.71 Q1260.48 1530.71 1258.55 1532.49 Q1256.66 1534.27 1256.66 1537.4 Q1256.66 1540.52 1258.55 1542.31 Q1260.48 1544.09 1263.81 1544.09 Q1267.14 1544.09 1269.06 1542.31 Q1270.98 1540.5 1270.98 1537.4 Q1270.98 1534.27 1269.06 1532.49 Q1267.17 1530.71 1263.81 1530.71 M1259.13 1528.72 Q1256.12 1527.98 1254.43 1525.92 Q1252.77 1523.86 1252.77 1520.89 Q1252.77 1516.75 1255.71 1514.34 Q1258.67 1511.93 1263.81 1511.93 Q1268.97 1511.93 1271.91 1514.34 Q1274.85 1516.75 1274.85 1520.89 Q1274.85 1523.86 1273.16 1525.92 Q1271.49 1527.98 1268.51 1528.72 Q1271.89 1529.5 1273.76 1531.8 Q1275.66 1534.09 1275.66 1537.4 Q1275.66 1542.42 1272.58 1545.11 Q1269.53 1547.79 1263.81 1547.79 Q1258.09 1547.79 1255.01 1545.11 Q1251.96 1542.42 1251.96 1537.4 Q1251.96 1534.09 1253.86 1531.8 Q1255.75 1529.5 1259.13 1528.72 M1257.42 1521.33 Q1257.42 1524.02 1259.09 1525.52 Q1260.78 1527.03 1263.81 1527.03 Q1266.82 1527.03 1268.51 1525.52 Q1270.22 1524.02 1270.22 1521.33 Q1270.22 1518.65 1268.51 1517.14 Q1266.82 1515.64 1263.81 1515.64 Q1260.78 1515.64 1259.09 1517.14 Q1257.42 1518.65 1257.42 1521.33 Z\" fill=\"#000000\" fill-rule=\"evenodd\" fill-opacity=\"1\" /><path clip-path=\"url(#clip480)\" d=\"M 0 0 M1534.2 1543.18 L1541.84 1543.18 L1541.84 1516.82 L1533.53 1518.49 L1533.53 1514.23 L1541.79 1512.56 L1546.47 1512.56 L1546.47 1543.18 L1554.11 1543.18 L1554.11 1547.12 L1534.2 1547.12 L1534.2 1543.18 Z\" fill=\"#000000\" fill-rule=\"evenodd\" fill-opacity=\"1\" /><path clip-path=\"url(#clip480)\" d=\"M 0 0 M1569.18 1515.64 Q1565.57 1515.64 1563.74 1519.2 Q1561.93 1522.75 1561.93 1529.87 Q1561.93 1536.98 1563.74 1540.55 Q1565.57 1544.09 1569.18 1544.09 Q1572.81 1544.09 1574.62 1540.55 Q1576.45 1536.98 1576.45 1529.87 Q1576.45 1522.75 1574.62 1519.2 Q1572.81 1515.64 1569.18 1515.64 M1569.18 1511.93 Q1574.99 1511.93 1578.04 1516.54 Q1581.12 1521.12 1581.12 1529.87 Q1581.12 1538.6 1578.04 1543.21 Q1574.99 1547.79 1569.18 1547.79 Q1563.37 1547.79 1560.29 1543.21 Q1557.23 1538.6 1557.23 1529.87 Q1557.23 1521.12 1560.29 1516.54 Q1563.37 1511.93 1569.18 1511.93 Z\" fill=\"#000000\" fill-rule=\"evenodd\" fill-opacity=\"1\" /><path clip-path=\"url(#clip480)\" d=\"M 0 0 M1828.52 1543.18 L1836.15 1543.18 L1836.15 1516.82 L1827.84 1518.49 L1827.84 1514.23 L1836.11 1512.56 L1840.78 1512.56 L1840.78 1543.18 L1848.42 1543.18 L1848.42 1547.12 L1828.52 1547.12 L1828.52 1543.18 Z\" fill=\"#000000\" fill-rule=\"evenodd\" fill-opacity=\"1\" /><path clip-path=\"url(#clip480)\" d=\"M 0 0 M1857.52 1543.18 L1873.84 1543.18 L1873.84 1547.12 L1851.9 1547.12 L1851.9 1543.18 Q1854.56 1540.43 1859.14 1535.8 Q1863.75 1531.15 1864.93 1529.81 Q1867.17 1527.28 1868.05 1525.55 Q1868.96 1523.79 1868.96 1522.1 Q1868.96 1519.34 1867.01 1517.61 Q1865.09 1515.87 1861.99 1515.87 Q1859.79 1515.87 1857.34 1516.63 Q1854.9 1517.4 1852.13 1518.95 L1852.13 1514.23 Q1854.95 1513.09 1857.4 1512.51 Q1859.86 1511.93 1861.9 1511.93 Q1867.27 1511.93 1870.46 1514.62 Q1873.65 1517.31 1873.65 1521.8 Q1873.65 1523.93 1872.84 1525.85 Q1872.06 1527.74 1869.95 1530.34 Q1869.37 1531.01 1866.27 1534.23 Q1863.17 1537.42 1857.52 1543.18 Z\" fill=\"#000000\" fill-rule=\"evenodd\" fill-opacity=\"1\" /><path clip-path=\"url(#clip480)\" d=\"M 0 0 M2120.99 1543.18 L2128.63 1543.18 L2128.63 1516.82 L2120.32 1518.49 L2120.32 1514.23 L2128.58 1512.56 L2133.26 1512.56 L2133.26 1543.18 L2140.9 1543.18 L2140.9 1547.12 L2120.99 1547.12 L2120.99 1543.18 Z\" fill=\"#000000\" fill-rule=\"evenodd\" fill-opacity=\"1\" /><path clip-path=\"url(#clip480)\" d=\"M 0 0 M2158.81 1516.63 L2147.01 1535.08 L2158.81 1535.08 L2158.81 1516.63 M2157.59 1512.56 L2163.47 1512.56 L2163.47 1535.08 L2168.4 1535.08 L2168.4 1538.97 L2163.47 1538.97 L2163.47 1547.12 L2158.81 1547.12 L2158.81 1538.97 L2143.21 1538.97 L2143.21 1534.46 L2157.59 1512.56 Z\" fill=\"#000000\" fill-rule=\"evenodd\" fill-opacity=\"1\" /><polyline clip-path=\"url(#clip482)\" style=\"stroke:#000000; stroke-width:2; stroke-opacity:0.1; fill:none\" points=\"\n",
       "  174.862,1453.18 2352.76,1453.18 \n",
       "  \"/>\n",
       "<polyline clip-path=\"url(#clip482)\" style=\"stroke:#000000; stroke-width:2; stroke-opacity:0.1; fill:none\" points=\"\n",
       "  174.862,1109.43 2352.76,1109.43 \n",
       "  \"/>\n",
       "<polyline clip-path=\"url(#clip482)\" style=\"stroke:#000000; stroke-width:2; stroke-opacity:0.1; fill:none\" points=\"\n",
       "  174.862,765.673 2352.76,765.673 \n",
       "  \"/>\n",
       "<polyline clip-path=\"url(#clip482)\" style=\"stroke:#000000; stroke-width:2; stroke-opacity:0.1; fill:none\" points=\"\n",
       "  174.862,421.919 2352.76,421.919 \n",
       "  \"/>\n",
       "<polyline clip-path=\"url(#clip482)\" style=\"stroke:#000000; stroke-width:2; stroke-opacity:0.1; fill:none\" points=\"\n",
       "  174.862,78.1657 2352.76,78.1657 \n",
       "  \"/>\n",
       "<polyline clip-path=\"url(#clip480)\" style=\"stroke:#000000; stroke-width:4; stroke-opacity:1; fill:none\" points=\"\n",
       "  174.862,1486.45 174.862,47.2441 \n",
       "  \"/>\n",
       "<polyline clip-path=\"url(#clip480)\" style=\"stroke:#000000; stroke-width:4; stroke-opacity:1; fill:none\" points=\"\n",
       "  174.862,1453.18 200.997,1453.18 \n",
       "  \"/>\n",
       "<polyline clip-path=\"url(#clip480)\" style=\"stroke:#000000; stroke-width:4; stroke-opacity:1; fill:none\" points=\"\n",
       "  174.862,1109.43 200.997,1109.43 \n",
       "  \"/>\n",
       "<polyline clip-path=\"url(#clip480)\" style=\"stroke:#000000; stroke-width:4; stroke-opacity:1; fill:none\" points=\"\n",
       "  174.862,765.673 200.997,765.673 \n",
       "  \"/>\n",
       "<polyline clip-path=\"url(#clip480)\" style=\"stroke:#000000; stroke-width:4; stroke-opacity:1; fill:none\" points=\"\n",
       "  174.862,421.919 200.997,421.919 \n",
       "  \"/>\n",
       "<polyline clip-path=\"url(#clip480)\" style=\"stroke:#000000; stroke-width:4; stroke-opacity:1; fill:none\" points=\"\n",
       "  174.862,78.1657 200.997,78.1657 \n",
       "  \"/>\n",
       "<path clip-path=\"url(#clip480)\" d=\"M 0 0 M62.9365 1438.98 Q59.3254 1438.98 57.4967 1442.54 Q55.6912 1446.09 55.6912 1453.22 Q55.6912 1460.32 57.4967 1463.89 Q59.3254 1467.43 62.9365 1467.43 Q66.5707 1467.43 68.3763 1463.89 Q70.205 1460.32 70.205 1453.22 Q70.205 1446.09 68.3763 1442.54 Q66.5707 1438.98 62.9365 1438.98 M62.9365 1435.28 Q68.7467 1435.28 71.8022 1439.88 Q74.8809 1444.47 74.8809 1453.22 Q74.8809 1461.94 71.8022 1466.55 Q68.7467 1471.13 62.9365 1471.13 Q57.1264 1471.13 54.0477 1466.55 Q50.9921 1461.94 50.9921 1453.22 Q50.9921 1444.47 54.0477 1439.88 Q57.1264 1435.28 62.9365 1435.28 Z\" fill=\"#000000\" fill-rule=\"evenodd\" fill-opacity=\"1\" /><path clip-path=\"url(#clip480)\" d=\"M 0 0 M79.9503 1464.58 L84.8345 1464.58 L84.8345 1470.46 L79.9503 1470.46 L79.9503 1464.58 Z\" fill=\"#000000\" fill-rule=\"evenodd\" fill-opacity=\"1\" /><path clip-path=\"url(#clip480)\" d=\"M 0 0 M99.9039 1438.98 Q96.2928 1438.98 94.4641 1442.54 Q92.6586 1446.09 92.6586 1453.22 Q92.6586 1460.32 94.4641 1463.89 Q96.2928 1467.43 99.9039 1467.43 Q103.538 1467.43 105.344 1463.89 Q107.172 1460.32 107.172 1453.22 Q107.172 1446.09 105.344 1442.54 Q103.538 1438.98 99.9039 1438.98 M99.9039 1435.28 Q105.714 1435.28 108.77 1439.88 Q111.848 1444.47 111.848 1453.22 Q111.848 1461.94 108.77 1466.55 Q105.714 1471.13 99.9039 1471.13 Q94.0937 1471.13 91.0151 1466.55 Q87.9595 1461.94 87.9595 1453.22 Q87.9595 1444.47 91.0151 1439.88 Q94.0937 1435.28 99.9039 1435.28 Z\" fill=\"#000000\" fill-rule=\"evenodd\" fill-opacity=\"1\" /><path clip-path=\"url(#clip480)\" d=\"M 0 0 M126.918 1438.98 Q123.307 1438.98 121.478 1442.54 Q119.672 1446.09 119.672 1453.22 Q119.672 1460.32 121.478 1463.89 Q123.307 1467.43 126.918 1467.43 Q130.552 1467.43 132.357 1463.89 Q134.186 1460.32 134.186 1453.22 Q134.186 1446.09 132.357 1442.54 Q130.552 1438.98 126.918 1438.98 M126.918 1435.28 Q132.728 1435.28 135.783 1439.88 Q138.862 1444.47 138.862 1453.22 Q138.862 1461.94 135.783 1466.55 Q132.728 1471.13 126.918 1471.13 Q121.107 1471.13 118.029 1466.55 Q114.973 1461.94 114.973 1453.22 Q114.973 1444.47 118.029 1439.88 Q121.107 1435.28 126.918 1435.28 Z\" fill=\"#000000\" fill-rule=\"evenodd\" fill-opacity=\"1\" /><path clip-path=\"url(#clip480)\" d=\"M 0 0 M65.5291 1095.23 Q61.918 1095.23 60.0893 1098.79 Q58.2838 1102.33 58.2838 1109.46 Q58.2838 1116.57 60.0893 1120.13 Q61.918 1123.67 65.5291 1123.67 Q69.1633 1123.67 70.9689 1120.13 Q72.7976 1116.57 72.7976 1109.46 Q72.7976 1102.33 70.9689 1098.79 Q69.1633 1095.23 65.5291 1095.23 M65.5291 1091.52 Q71.3392 1091.52 74.3948 1096.13 Q77.4735 1100.71 77.4735 1109.46 Q77.4735 1118.19 74.3948 1122.79 Q71.3392 1127.38 65.5291 1127.38 Q59.7189 1127.38 56.6402 1122.79 Q53.5847 1118.19 53.5847 1109.46 Q53.5847 1100.71 56.6402 1096.13 Q59.7189 1091.52 65.5291 1091.52 Z\" fill=\"#000000\" fill-rule=\"evenodd\" fill-opacity=\"1\" /><path clip-path=\"url(#clip480)\" d=\"M 0 0 M82.5429 1120.83 L87.4271 1120.83 L87.4271 1126.71 L82.5429 1126.71 L82.5429 1120.83 Z\" fill=\"#000000\" fill-rule=\"evenodd\" fill-opacity=\"1\" /><path clip-path=\"url(#clip480)\" d=\"M 0 0 M96.5243 1122.77 L112.844 1122.77 L112.844 1126.71 L90.8993 1126.71 L90.8993 1122.77 Q93.5613 1120.02 98.1447 1115.39 Q102.751 1110.73 103.932 1109.39 Q106.177 1106.87 107.057 1105.13 Q107.959 1103.37 107.959 1101.68 Q107.959 1098.93 106.015 1097.19 Q104.094 1095.46 100.992 1095.46 Q98.7928 1095.46 96.3391 1096.22 Q93.9086 1096.98 91.1308 1098.54 L91.1308 1093.81 Q93.9549 1092.68 96.4085 1092.1 Q98.8622 1091.52 100.899 1091.52 Q106.27 1091.52 109.464 1094.21 Q112.658 1096.89 112.658 1101.38 Q112.658 1103.51 111.848 1105.43 Q111.061 1107.33 108.955 1109.92 Q108.376 1110.6 105.274 1113.81 Q102.172 1117.01 96.5243 1122.77 Z\" fill=\"#000000\" fill-rule=\"evenodd\" fill-opacity=\"1\" /><path clip-path=\"url(#clip480)\" d=\"M 0 0 M117.959 1092.15 L136.316 1092.15 L136.316 1096.08 L122.242 1096.08 L122.242 1104.55 Q123.26 1104.21 124.279 1104.05 Q125.297 1103.86 126.316 1103.86 Q132.103 1103.86 135.482 1107.03 Q138.862 1110.2 138.862 1115.62 Q138.862 1121.2 135.39 1124.3 Q131.918 1127.38 125.598 1127.38 Q123.422 1127.38 121.154 1127.01 Q118.908 1126.64 116.501 1125.9 L116.501 1121.2 Q118.584 1122.33 120.807 1122.89 Q123.029 1123.44 125.506 1123.44 Q129.51 1123.44 131.848 1121.34 Q134.186 1119.23 134.186 1115.62 Q134.186 1112.01 131.848 1109.9 Q129.51 1107.8 125.506 1107.8 Q123.631 1107.8 121.756 1108.21 Q119.904 1108.63 117.959 1109.51 L117.959 1092.15 Z\" fill=\"#000000\" fill-rule=\"evenodd\" fill-opacity=\"1\" /><path clip-path=\"url(#clip480)\" d=\"M 0 0 M63.9319 751.472 Q60.3208 751.472 58.4921 755.037 Q56.6865 758.578 56.6865 765.708 Q56.6865 772.814 58.4921 776.379 Q60.3208 779.921 63.9319 779.921 Q67.5661 779.921 69.3717 776.379 Q71.2004 772.814 71.2004 765.708 Q71.2004 758.578 69.3717 755.037 Q67.5661 751.472 63.9319 751.472 M63.9319 747.768 Q69.742 747.768 72.7976 752.375 Q75.8763 756.958 75.8763 765.708 Q75.8763 774.435 72.7976 779.041 Q69.742 783.624 63.9319 783.624 Q58.1217 783.624 55.043 779.041 Q51.9875 774.435 51.9875 765.708 Q51.9875 756.958 55.043 752.375 Q58.1217 747.768 63.9319 747.768 Z\" fill=\"#000000\" fill-rule=\"evenodd\" fill-opacity=\"1\" /><path clip-path=\"url(#clip480)\" d=\"M 0 0 M80.9457 777.074 L85.8299 777.074 L85.8299 782.953 L80.9457 782.953 L80.9457 777.074 Z\" fill=\"#000000\" fill-rule=\"evenodd\" fill-opacity=\"1\" /><path clip-path=\"url(#clip480)\" d=\"M 0 0 M90.9456 748.393 L109.302 748.393 L109.302 752.328 L95.228 752.328 L95.228 760.801 Q96.2465 760.453 97.265 760.291 Q98.2835 760.106 99.3021 760.106 Q105.089 760.106 108.469 763.277 Q111.848 766.449 111.848 771.865 Q111.848 777.444 108.376 780.546 Q104.904 783.624 98.5845 783.624 Q96.4085 783.624 94.14 783.254 Q91.8947 782.884 89.4873 782.143 L89.4873 777.444 Q91.5706 778.578 93.7928 779.134 Q96.015 779.689 98.4919 779.689 Q102.496 779.689 104.834 777.583 Q107.172 775.476 107.172 771.865 Q107.172 768.254 104.834 766.148 Q102.496 764.041 98.4919 764.041 Q96.6169 764.041 94.7419 764.458 Q92.89 764.875 90.9456 765.754 L90.9456 748.393 Z\" fill=\"#000000\" fill-rule=\"evenodd\" fill-opacity=\"1\" /><path clip-path=\"url(#clip480)\" d=\"M 0 0 M126.918 751.472 Q123.307 751.472 121.478 755.037 Q119.672 758.578 119.672 765.708 Q119.672 772.814 121.478 776.379 Q123.307 779.921 126.918 779.921 Q130.552 779.921 132.357 776.379 Q134.186 772.814 134.186 765.708 Q134.186 758.578 132.357 755.037 Q130.552 751.472 126.918 751.472 M126.918 747.768 Q132.728 747.768 135.783 752.375 Q138.862 756.958 138.862 765.708 Q138.862 774.435 135.783 779.041 Q132.728 783.624 126.918 783.624 Q121.107 783.624 118.029 779.041 Q114.973 774.435 114.973 765.708 Q114.973 756.958 118.029 752.375 Q121.107 747.768 126.918 747.768 Z\" fill=\"#000000\" fill-rule=\"evenodd\" fill-opacity=\"1\" /><path clip-path=\"url(#clip480)\" d=\"M 0 0 M64.8346 407.718 Q61.2236 407.718 59.3949 411.283 Q57.5893 414.825 57.5893 421.954 Q57.5893 429.061 59.3949 432.625 Q61.2236 436.167 64.8346 436.167 Q68.4689 436.167 70.2744 432.625 Q72.1031 429.061 72.1031 421.954 Q72.1031 414.825 70.2744 411.283 Q68.4689 407.718 64.8346 407.718 M64.8346 404.014 Q70.6448 404.014 73.7003 408.621 Q76.779 413.204 76.779 421.954 Q76.779 430.681 73.7003 435.287 Q70.6448 439.871 64.8346 439.871 Q59.0245 439.871 55.9458 435.287 Q52.8903 430.681 52.8903 421.954 Q52.8903 413.204 55.9458 408.621 Q59.0245 404.014 64.8346 404.014 Z\" fill=\"#000000\" fill-rule=\"evenodd\" fill-opacity=\"1\" /><path clip-path=\"url(#clip480)\" d=\"M 0 0 M81.8484 433.32 L86.7327 433.32 L86.7327 439.199 L81.8484 439.199 L81.8484 433.32 Z\" fill=\"#000000\" fill-rule=\"evenodd\" fill-opacity=\"1\" /><path clip-path=\"url(#clip480)\" d=\"M 0 0 M90.6215 404.639 L112.844 404.639 L112.844 406.63 L100.297 439.199 L95.4132 439.199 L107.219 408.575 L90.6215 408.575 L90.6215 404.639 Z\" fill=\"#000000\" fill-rule=\"evenodd\" fill-opacity=\"1\" /><path clip-path=\"url(#clip480)\" d=\"M 0 0 M117.959 404.639 L136.316 404.639 L136.316 408.575 L122.242 408.575 L122.242 417.047 Q123.26 416.7 124.279 416.538 Q125.297 416.352 126.316 416.352 Q132.103 416.352 135.482 419.524 Q138.862 422.695 138.862 428.112 Q138.862 433.69 135.39 436.792 Q131.918 439.871 125.598 439.871 Q123.422 439.871 121.154 439.5 Q118.908 439.13 116.501 438.389 L116.501 433.69 Q118.584 434.824 120.807 435.38 Q123.029 435.936 125.506 435.936 Q129.51 435.936 131.848 433.829 Q134.186 431.723 134.186 428.112 Q134.186 424.5 131.848 422.394 Q129.51 420.288 125.506 420.288 Q123.631 420.288 121.756 420.704 Q119.904 421.121 117.959 422 L117.959 404.639 Z\" fill=\"#000000\" fill-rule=\"evenodd\" fill-opacity=\"1\" /><path clip-path=\"url(#clip480)\" d=\"M 0 0 M54.9736 91.5106 L62.6124 91.5106 L62.6124 65.145 L54.3023 66.8116 L54.3023 62.5524 L62.5661 60.8857 L67.242 60.8857 L67.242 91.5106 L74.8809 91.5106 L74.8809 95.4457 L54.9736 95.4457 L54.9736 91.5106 Z\" fill=\"#000000\" fill-rule=\"evenodd\" fill-opacity=\"1\" /><path clip-path=\"url(#clip480)\" d=\"M 0 0 M79.9503 89.5661 L84.8345 89.5661 L84.8345 95.4457 L79.9503 95.4457 L79.9503 89.5661 Z\" fill=\"#000000\" fill-rule=\"evenodd\" fill-opacity=\"1\" /><path clip-path=\"url(#clip480)\" d=\"M 0 0 M99.9039 63.9644 Q96.2928 63.9644 94.4641 67.5292 Q92.6586 71.0709 92.6586 78.2005 Q92.6586 85.3069 94.4641 88.8717 Q96.2928 92.4133 99.9039 92.4133 Q103.538 92.4133 105.344 88.8717 Q107.172 85.3069 107.172 78.2005 Q107.172 71.0709 105.344 67.5292 Q103.538 63.9644 99.9039 63.9644 M99.9039 60.2607 Q105.714 60.2607 108.77 64.8672 Q111.848 69.4505 111.848 78.2005 Q111.848 86.9273 108.77 91.5337 Q105.714 96.117 99.9039 96.117 Q94.0937 96.117 91.0151 91.5337 Q87.9595 86.9273 87.9595 78.2005 Q87.9595 69.4505 91.0151 64.8672 Q94.0937 60.2607 99.9039 60.2607 Z\" fill=\"#000000\" fill-rule=\"evenodd\" fill-opacity=\"1\" /><path clip-path=\"url(#clip480)\" d=\"M 0 0 M126.918 63.9644 Q123.307 63.9644 121.478 67.5292 Q119.672 71.0709 119.672 78.2005 Q119.672 85.3069 121.478 88.8717 Q123.307 92.4133 126.918 92.4133 Q130.552 92.4133 132.357 88.8717 Q134.186 85.3069 134.186 78.2005 Q134.186 71.0709 132.357 67.5292 Q130.552 63.9644 126.918 63.9644 M126.918 60.2607 Q132.728 60.2607 135.783 64.8672 Q138.862 69.4505 138.862 78.2005 Q138.862 86.9273 135.783 91.5337 Q132.728 96.117 126.918 96.117 Q121.107 96.117 118.029 91.5337 Q114.973 86.9273 114.973 78.2005 Q114.973 69.4505 118.029 64.8672 Q121.107 60.2607 126.918 60.2607 Z\" fill=\"#000000\" fill-rule=\"evenodd\" fill-opacity=\"1\" /><polyline clip-path=\"url(#clip482)\" style=\"stroke:#009af9; stroke-width:4; stroke-opacity:1; fill:none\" points=\"\n",
       "  236.501,546.589 383.259,587.523 530.017,605.409 676.776,544.326 823.534,813.858 970.292,1141.12 1117.05,1052.42 1263.81,771.061 1410.57,247.303 1557.33,995.145 \n",
       "  1704.08,975.788 1850.84,703.271 1997.6,1102.5 2144.36,1445.72 2291.12,487.907 \n",
       "  \"/>\n",
       "<polyline clip-path=\"url(#clip482)\" style=\"stroke:#e26f46; stroke-width:4; stroke-opacity:1; fill:none\" points=\"\n",
       "  236.501,934.997 383.259,176.756 530.017,360.779 676.776,1115.51 823.534,938.099 970.292,87.9763 1117.05,1190.57 1263.81,319.555 1410.57,921.699 1557.33,689.605 \n",
       "  1704.08,1108.23 1850.84,482.987 1997.6,900.837 2144.36,824.58 2291.12,742.119 \n",
       "  \"/>\n",
       "<path clip-path=\"url(#clip480)\" d=\"\n",
       "M1987.15 276.658 L2280.16 276.658 L2280.16 95.2176 L1987.15 95.2176  Z\n",
       "  \" fill=\"#ffffff\" fill-rule=\"evenodd\" fill-opacity=\"1\"/>\n",
       "<polyline clip-path=\"url(#clip480)\" style=\"stroke:#000000; stroke-width:4; stroke-opacity:1; fill:none\" points=\"\n",
       "  1987.15,276.658 2280.16,276.658 2280.16,95.2176 1987.15,95.2176 1987.15,276.658 \n",
       "  \"/>\n",
       "<polyline clip-path=\"url(#clip480)\" style=\"stroke:#009af9; stroke-width:4; stroke-opacity:1; fill:none\" points=\"\n",
       "  2011.35,155.698 2156.54,155.698 \n",
       "  \"/>\n",
       "<path clip-path=\"url(#clip480)\" d=\"M 0 0 M2194.59 175.385 Q2192.78 180.015 2191.07 181.427 Q2189.35 182.839 2186.48 182.839 L2183.08 182.839 L2183.08 179.274 L2185.58 179.274 Q2187.34 179.274 2188.31 178.44 Q2189.29 177.607 2190.47 174.505 L2191.23 172.561 L2180.74 147.052 L2185.26 147.052 L2193.36 167.329 L2201.46 147.052 L2205.97 147.052 L2194.59 175.385 Z\" fill=\"#000000\" fill-rule=\"evenodd\" fill-opacity=\"1\" /><path clip-path=\"url(#clip480)\" d=\"M 0 0 M2211.85 169.042 L2219.49 169.042 L2219.49 142.677 L2211.18 144.343 L2211.18 140.084 L2219.45 138.418 L2224.12 138.418 L2224.12 169.042 L2231.76 169.042 L2231.76 172.978 L2211.85 172.978 L2211.85 169.042 Z\" fill=\"#000000\" fill-rule=\"evenodd\" fill-opacity=\"1\" /><polyline clip-path=\"url(#clip480)\" style=\"stroke:#e26f46; stroke-width:4; stroke-opacity:1; fill:none\" points=\"\n",
       "  2011.35,216.178 2156.54,216.178 \n",
       "  \"/>\n",
       "<path clip-path=\"url(#clip480)\" d=\"M 0 0 M2194.59 235.865 Q2192.78 240.495 2191.07 241.907 Q2189.35 243.319 2186.48 243.319 L2183.08 243.319 L2183.08 239.754 L2185.58 239.754 Q2187.34 239.754 2188.31 238.92 Q2189.29 238.087 2190.47 234.985 L2191.23 233.041 L2180.74 207.532 L2185.26 207.532 L2193.36 227.809 L2201.46 207.532 L2205.97 207.532 L2194.59 235.865 Z\" fill=\"#000000\" fill-rule=\"evenodd\" fill-opacity=\"1\" /><path clip-path=\"url(#clip480)\" d=\"M 0 0 M2215.07 229.522 L2231.39 229.522 L2231.39 233.458 L2209.45 233.458 L2209.45 229.522 Q2212.11 226.768 2216.69 222.138 Q2221.3 217.485 2222.48 216.143 Q2224.72 213.62 2225.6 211.884 Q2226.51 210.124 2226.51 208.435 Q2226.51 205.68 2224.56 203.944 Q2222.64 202.208 2219.54 202.208 Q2217.34 202.208 2214.89 202.972 Q2212.46 203.735 2209.68 205.286 L2209.68 200.564 Q2212.5 199.43 2214.96 198.851 Q2217.41 198.273 2219.45 198.273 Q2224.82 198.273 2228.01 200.958 Q2231.21 203.643 2231.21 208.134 Q2231.21 210.263 2230.4 212.185 Q2229.61 214.083 2227.5 216.675 Q2226.92 217.347 2223.82 220.564 Q2220.72 223.759 2215.07 229.522 Z\" fill=\"#000000\" fill-rule=\"evenodd\" fill-opacity=\"1\" /></svg>\n"
      ]
     },
     "execution_count": 112,
     "metadata": {},
     "output_type": "execute_result"
    }
   ],
   "source": [
    "plot!(x, z)"
   ]
  },
  {
   "cell_type": "code",
   "execution_count": 113,
   "metadata": {},
   "outputs": [
    {
     "data": {
      "image/svg+xml": [
       "<?xml version=\"1.0\" encoding=\"utf-8\"?>\n",
       "<svg xmlns=\"http://www.w3.org/2000/svg\" xmlns:xlink=\"http://www.w3.org/1999/xlink\" width=\"600\" height=\"400\" viewBox=\"0 0 2400 1600\">\n",
       "<defs>\n",
       "  <clipPath id=\"clip520\">\n",
       "    <rect x=\"0\" y=\"0\" width=\"2400\" height=\"1600\"/>\n",
       "  </clipPath>\n",
       "</defs>\n",
       "<path clip-path=\"url(#clip520)\" d=\"\n",
       "M0 1600 L2400 1600 L2400 0 L0 0  Z\n",
       "  \" fill=\"#ffffff\" fill-rule=\"evenodd\" fill-opacity=\"1\"/>\n",
       "<defs>\n",
       "  <clipPath id=\"clip521\">\n",
       "    <rect x=\"480\" y=\"0\" width=\"1681\" height=\"1600\"/>\n",
       "  </clipPath>\n",
       "</defs>\n",
       "<path clip-path=\"url(#clip520)\" d=\"\n",
       "M148.334 1486.45 L2352.76 1486.45 L2352.76 123.472 L148.334 123.472  Z\n",
       "  \" fill=\"#ffffff\" fill-rule=\"evenodd\" fill-opacity=\"1\"/>\n",
       "<defs>\n",
       "  <clipPath id=\"clip522\">\n",
       "    <rect x=\"148\" y=\"123\" width=\"2205\" height=\"1364\"/>\n",
       "  </clipPath>\n",
       "</defs>\n",
       "<polyline clip-path=\"url(#clip522)\" style=\"stroke:#000000; stroke-width:2; stroke-opacity:0.1; fill:none\" points=\"\n",
       "  359.27,1486.45 359.27,123.472 \n",
       "  \"/>\n",
       "<polyline clip-path=\"url(#clip522)\" style=\"stroke:#000000; stroke-width:2; stroke-opacity:0.1; fill:none\" points=\"\n",
       "  656.361,1486.45 656.361,123.472 \n",
       "  \"/>\n",
       "<polyline clip-path=\"url(#clip522)\" style=\"stroke:#000000; stroke-width:2; stroke-opacity:0.1; fill:none\" points=\"\n",
       "  953.453,1486.45 953.453,123.472 \n",
       "  \"/>\n",
       "<polyline clip-path=\"url(#clip522)\" style=\"stroke:#000000; stroke-width:2; stroke-opacity:0.1; fill:none\" points=\"\n",
       "  1250.55,1486.45 1250.55,123.472 \n",
       "  \"/>\n",
       "<polyline clip-path=\"url(#clip522)\" style=\"stroke:#000000; stroke-width:2; stroke-opacity:0.1; fill:none\" points=\"\n",
       "  1547.64,1486.45 1547.64,123.472 \n",
       "  \"/>\n",
       "<polyline clip-path=\"url(#clip522)\" style=\"stroke:#000000; stroke-width:2; stroke-opacity:0.1; fill:none\" points=\"\n",
       "  1844.73,1486.45 1844.73,123.472 \n",
       "  \"/>\n",
       "<polyline clip-path=\"url(#clip522)\" style=\"stroke:#000000; stroke-width:2; stroke-opacity:0.1; fill:none\" points=\"\n",
       "  2141.82,1486.45 2141.82,123.472 \n",
       "  \"/>\n",
       "<polyline clip-path=\"url(#clip520)\" style=\"stroke:#000000; stroke-width:4; stroke-opacity:1; fill:none\" points=\"\n",
       "  148.334,1486.45 2352.76,1486.45 \n",
       "  \"/>\n",
       "<polyline clip-path=\"url(#clip520)\" style=\"stroke:#000000; stroke-width:4; stroke-opacity:1; fill:none\" points=\"\n",
       "  359.27,1486.45 359.27,1470.09 \n",
       "  \"/>\n",
       "<polyline clip-path=\"url(#clip520)\" style=\"stroke:#000000; stroke-width:4; stroke-opacity:1; fill:none\" points=\"\n",
       "  656.361,1486.45 656.361,1470.09 \n",
       "  \"/>\n",
       "<polyline clip-path=\"url(#clip520)\" style=\"stroke:#000000; stroke-width:4; stroke-opacity:1; fill:none\" points=\"\n",
       "  953.453,1486.45 953.453,1470.09 \n",
       "  \"/>\n",
       "<polyline clip-path=\"url(#clip520)\" style=\"stroke:#000000; stroke-width:4; stroke-opacity:1; fill:none\" points=\"\n",
       "  1250.55,1486.45 1250.55,1470.09 \n",
       "  \"/>\n",
       "<polyline clip-path=\"url(#clip520)\" style=\"stroke:#000000; stroke-width:4; stroke-opacity:1; fill:none\" points=\"\n",
       "  1547.64,1486.45 1547.64,1470.09 \n",
       "  \"/>\n",
       "<polyline clip-path=\"url(#clip520)\" style=\"stroke:#000000; stroke-width:4; stroke-opacity:1; fill:none\" points=\"\n",
       "  1844.73,1486.45 1844.73,1470.09 \n",
       "  \"/>\n",
       "<polyline clip-path=\"url(#clip520)\" style=\"stroke:#000000; stroke-width:4; stroke-opacity:1; fill:none\" points=\"\n",
       "  2141.82,1486.45 2141.82,1470.09 \n",
       "  \"/>\n",
       "<path clip-path=\"url(#clip520)\" d=\"M 0 0 M353.922 1543.18 L370.242 1543.18 L370.242 1547.12 L348.297 1547.12 L348.297 1543.18 Q350.959 1540.43 355.543 1535.8 Q360.149 1531.15 361.33 1529.81 Q363.575 1527.28 364.455 1525.55 Q365.358 1523.79 365.358 1522.1 Q365.358 1519.34 363.413 1517.61 Q361.492 1515.87 358.39 1515.87 Q356.191 1515.87 353.737 1516.63 Q351.307 1517.4 348.529 1518.95 L348.529 1514.23 Q351.353 1513.09 353.807 1512.51 Q356.26 1511.93 358.297 1511.93 Q363.668 1511.93 366.862 1514.62 Q370.057 1517.31 370.057 1521.8 Q370.057 1523.93 369.246 1525.85 Q368.459 1527.74 366.353 1530.34 Q365.774 1531.01 362.672 1534.23 Q359.571 1537.42 353.922 1543.18 Z\" fill=\"#000000\" fill-rule=\"evenodd\" fill-opacity=\"1\" /><path clip-path=\"url(#clip520)\" d=\"M 0 0 M659.371 1516.63 L647.565 1535.08 L659.371 1535.08 L659.371 1516.63 M658.144 1512.56 L664.023 1512.56 L664.023 1535.08 L668.954 1535.08 L668.954 1538.97 L664.023 1538.97 L664.023 1547.12 L659.371 1547.12 L659.371 1538.97 L643.769 1538.97 L643.769 1534.46 L658.144 1512.56 Z\" fill=\"#000000\" fill-rule=\"evenodd\" fill-opacity=\"1\" /><path clip-path=\"url(#clip520)\" d=\"M 0 0 M953.858 1527.98 Q950.71 1527.98 948.858 1530.13 Q947.03 1532.28 947.03 1536.03 Q947.03 1539.76 948.858 1541.93 Q950.71 1544.09 953.858 1544.09 Q957.007 1544.09 958.835 1541.93 Q960.687 1539.76 960.687 1536.03 Q960.687 1532.28 958.835 1530.13 Q957.007 1527.98 953.858 1527.98 M963.141 1513.32 L963.141 1517.58 Q961.381 1516.75 959.576 1516.31 Q957.794 1515.87 956.034 1515.87 Q951.405 1515.87 948.951 1519 Q946.52 1522.12 946.173 1528.44 Q947.539 1526.43 949.599 1525.36 Q951.659 1524.27 954.136 1524.27 Q959.344 1524.27 962.354 1527.44 Q965.386 1530.59 965.386 1536.03 Q965.386 1541.36 962.238 1544.57 Q959.09 1547.79 953.858 1547.79 Q947.863 1547.79 944.692 1543.21 Q941.52 1538.6 941.52 1529.87 Q941.52 1521.68 945.409 1516.82 Q949.298 1511.93 955.849 1511.93 Q957.608 1511.93 959.391 1512.28 Q961.196 1512.63 963.141 1513.32 Z\" fill=\"#000000\" fill-rule=\"evenodd\" fill-opacity=\"1\" /><path clip-path=\"url(#clip520)\" d=\"M 0 0 M1250.55 1530.71 Q1247.21 1530.71 1245.29 1532.49 Q1243.39 1534.27 1243.39 1537.4 Q1243.39 1540.52 1245.29 1542.31 Q1247.21 1544.09 1250.55 1544.09 Q1253.88 1544.09 1255.8 1542.31 Q1257.72 1540.5 1257.72 1537.4 Q1257.72 1534.27 1255.8 1532.49 Q1253.9 1530.71 1250.55 1530.71 M1245.87 1528.72 Q1242.86 1527.98 1241.17 1525.92 Q1239.5 1523.86 1239.5 1520.89 Q1239.5 1516.75 1242.44 1514.34 Q1245.41 1511.93 1250.55 1511.93 Q1255.71 1511.93 1258.65 1514.34 Q1261.59 1516.75 1261.59 1520.89 Q1261.59 1523.86 1259.9 1525.92 Q1258.23 1527.98 1255.24 1528.72 Q1258.62 1529.5 1260.5 1531.8 Q1262.4 1534.09 1262.4 1537.4 Q1262.4 1542.42 1259.32 1545.11 Q1256.26 1547.79 1250.55 1547.79 Q1244.83 1547.79 1241.75 1545.11 Q1238.69 1542.42 1238.69 1537.4 Q1238.69 1534.09 1240.59 1531.8 Q1242.49 1529.5 1245.87 1528.72 M1244.16 1521.33 Q1244.16 1524.02 1245.82 1525.52 Q1247.51 1527.03 1250.55 1527.03 Q1253.55 1527.03 1255.24 1525.52 Q1256.96 1524.02 1256.96 1521.33 Q1256.96 1518.65 1255.24 1517.14 Q1253.55 1515.64 1250.55 1515.64 Q1247.51 1515.64 1245.82 1517.14 Q1244.16 1518.65 1244.16 1521.33 Z\" fill=\"#000000\" fill-rule=\"evenodd\" fill-opacity=\"1\" /><path clip-path=\"url(#clip520)\" d=\"M 0 0 M1524.51 1543.18 L1532.15 1543.18 L1532.15 1516.82 L1523.84 1518.49 L1523.84 1514.23 L1532.1 1512.56 L1536.78 1512.56 L1536.78 1543.18 L1544.42 1543.18 L1544.42 1547.12 L1524.51 1547.12 L1524.51 1543.18 Z\" fill=\"#000000\" fill-rule=\"evenodd\" fill-opacity=\"1\" /><path clip-path=\"url(#clip520)\" d=\"M 0 0 M1559.49 1515.64 Q1555.88 1515.64 1554.05 1519.2 Q1552.24 1522.75 1552.24 1529.87 Q1552.24 1536.98 1554.05 1540.55 Q1555.88 1544.09 1559.49 1544.09 Q1563.12 1544.09 1564.93 1540.55 Q1566.76 1536.98 1566.76 1529.87 Q1566.76 1522.75 1564.93 1519.2 Q1563.12 1515.64 1559.49 1515.64 M1559.49 1511.93 Q1565.3 1511.93 1568.35 1516.54 Q1571.43 1521.12 1571.43 1529.87 Q1571.43 1538.6 1568.35 1543.21 Q1565.3 1547.79 1559.49 1547.79 Q1553.68 1547.79 1550.6 1543.21 Q1547.54 1538.6 1547.54 1529.87 Q1547.54 1521.12 1550.6 1516.54 Q1553.68 1511.93 1559.49 1511.93 Z\" fill=\"#000000\" fill-rule=\"evenodd\" fill-opacity=\"1\" /><path clip-path=\"url(#clip520)\" d=\"M 0 0 M1822.4 1543.18 L1830.04 1543.18 L1830.04 1516.82 L1821.73 1518.49 L1821.73 1514.23 L1830 1512.56 L1834.67 1512.56 L1834.67 1543.18 L1842.31 1543.18 L1842.31 1547.12 L1822.4 1547.12 L1822.4 1543.18 Z\" fill=\"#000000\" fill-rule=\"evenodd\" fill-opacity=\"1\" /><path clip-path=\"url(#clip520)\" d=\"M 0 0 M1851.41 1543.18 L1867.73 1543.18 L1867.73 1547.12 L1845.78 1547.12 L1845.78 1543.18 Q1848.44 1540.43 1853.03 1535.8 Q1857.63 1531.15 1858.81 1529.81 Q1861.06 1527.28 1861.94 1525.55 Q1862.84 1523.79 1862.84 1522.1 Q1862.84 1519.34 1860.9 1517.61 Q1858.98 1515.87 1855.87 1515.87 Q1853.68 1515.87 1851.22 1516.63 Q1848.79 1517.4 1846.01 1518.95 L1846.01 1514.23 Q1848.84 1513.09 1851.29 1512.51 Q1853.75 1511.93 1855.78 1511.93 Q1861.15 1511.93 1864.35 1514.62 Q1867.54 1517.31 1867.54 1521.8 Q1867.54 1523.93 1866.73 1525.85 Q1865.94 1527.74 1863.84 1530.34 Q1863.26 1531.01 1860.16 1534.23 Q1857.06 1537.42 1851.41 1543.18 Z\" fill=\"#000000\" fill-rule=\"evenodd\" fill-opacity=\"1\" /><path clip-path=\"url(#clip520)\" d=\"M 0 0 M2118.45 1543.18 L2126.09 1543.18 L2126.09 1516.82 L2117.78 1518.49 L2117.78 1514.23 L2126.05 1512.56 L2130.72 1512.56 L2130.72 1543.18 L2138.36 1543.18 L2138.36 1547.12 L2118.45 1547.12 L2118.45 1543.18 Z\" fill=\"#000000\" fill-rule=\"evenodd\" fill-opacity=\"1\" /><path clip-path=\"url(#clip520)\" d=\"M 0 0 M2156.28 1516.63 L2144.47 1535.08 L2156.28 1535.08 L2156.28 1516.63 M2155.05 1512.56 L2160.93 1512.56 L2160.93 1535.08 L2165.86 1535.08 L2165.86 1538.97 L2160.93 1538.97 L2160.93 1547.12 L2156.28 1547.12 L2156.28 1538.97 L2140.67 1538.97 L2140.67 1534.46 L2155.05 1512.56 Z\" fill=\"#000000\" fill-rule=\"evenodd\" fill-opacity=\"1\" /><polyline clip-path=\"url(#clip522)\" style=\"stroke:#000000; stroke-width:2; stroke-opacity:0.1; fill:none\" points=\"\n",
       "  148.334,1455.88 2352.76,1455.88 \n",
       "  \"/>\n",
       "<polyline clip-path=\"url(#clip522)\" style=\"stroke:#000000; stroke-width:2; stroke-opacity:0.1; fill:none\" points=\"\n",
       "  148.334,1160.82 2352.76,1160.82 \n",
       "  \"/>\n",
       "<polyline clip-path=\"url(#clip522)\" style=\"stroke:#000000; stroke-width:2; stroke-opacity:0.1; fill:none\" points=\"\n",
       "  148.334,865.759 2352.76,865.759 \n",
       "  \"/>\n",
       "<polyline clip-path=\"url(#clip522)\" style=\"stroke:#000000; stroke-width:2; stroke-opacity:0.1; fill:none\" points=\"\n",
       "  148.334,570.697 2352.76,570.697 \n",
       "  \"/>\n",
       "<polyline clip-path=\"url(#clip522)\" style=\"stroke:#000000; stroke-width:2; stroke-opacity:0.1; fill:none\" points=\"\n",
       "  148.334,275.635 2352.76,275.635 \n",
       "  \"/>\n",
       "<polyline clip-path=\"url(#clip520)\" style=\"stroke:#000000; stroke-width:4; stroke-opacity:1; fill:none\" points=\"\n",
       "  148.334,1486.45 148.334,123.472 \n",
       "  \"/>\n",
       "<polyline clip-path=\"url(#clip520)\" style=\"stroke:#000000; stroke-width:4; stroke-opacity:1; fill:none\" points=\"\n",
       "  148.334,1455.88 174.787,1455.88 \n",
       "  \"/>\n",
       "<polyline clip-path=\"url(#clip520)\" style=\"stroke:#000000; stroke-width:4; stroke-opacity:1; fill:none\" points=\"\n",
       "  148.334,1160.82 174.787,1160.82 \n",
       "  \"/>\n",
       "<polyline clip-path=\"url(#clip520)\" style=\"stroke:#000000; stroke-width:4; stroke-opacity:1; fill:none\" points=\"\n",
       "  148.334,865.759 174.787,865.759 \n",
       "  \"/>\n",
       "<polyline clip-path=\"url(#clip520)\" style=\"stroke:#000000; stroke-width:4; stroke-opacity:1; fill:none\" points=\"\n",
       "  148.334,570.697 174.787,570.697 \n",
       "  \"/>\n",
       "<polyline clip-path=\"url(#clip520)\" style=\"stroke:#000000; stroke-width:4; stroke-opacity:1; fill:none\" points=\"\n",
       "  148.334,275.635 174.787,275.635 \n",
       "  \"/>\n",
       "<path clip-path=\"url(#clip520)\" d=\"M 0 0 M63.4226 1441.68 Q59.8115 1441.68 57.9828 1445.25 Q56.1773 1448.79 56.1773 1455.92 Q56.1773 1463.02 57.9828 1466.59 Q59.8115 1470.13 63.4226 1470.13 Q67.0569 1470.13 68.8624 1466.59 Q70.6911 1463.02 70.6911 1455.92 Q70.6911 1448.79 68.8624 1445.25 Q67.0569 1441.68 63.4226 1441.68 M63.4226 1437.98 Q69.2328 1437.98 72.2883 1442.58 Q75.367 1447.17 75.367 1455.92 Q75.367 1464.64 72.2883 1469.25 Q69.2328 1473.83 63.4226 1473.83 Q57.6125 1473.83 54.5338 1469.25 Q51.4782 1464.64 51.4782 1455.92 Q51.4782 1447.17 54.5338 1442.58 Q57.6125 1437.98 63.4226 1437.98 Z\" fill=\"#000000\" fill-rule=\"evenodd\" fill-opacity=\"1\" /><path clip-path=\"url(#clip520)\" d=\"M 0 0 M80.4364 1467.28 L85.3206 1467.28 L85.3206 1473.16 L80.4364 1473.16 L80.4364 1467.28 Z\" fill=\"#000000\" fill-rule=\"evenodd\" fill-opacity=\"1\" /><path clip-path=\"url(#clip520)\" d=\"M 0 0 M100.39 1441.68 Q96.7789 1441.68 94.9502 1445.25 Q93.1447 1448.79 93.1447 1455.92 Q93.1447 1463.02 94.9502 1466.59 Q96.7789 1470.13 100.39 1470.13 Q104.024 1470.13 105.83 1466.59 Q107.658 1463.02 107.658 1455.92 Q107.658 1448.79 105.83 1445.25 Q104.024 1441.68 100.39 1441.68 M100.39 1437.98 Q106.2 1437.98 109.256 1442.58 Q112.334 1447.17 112.334 1455.92 Q112.334 1464.64 109.256 1469.25 Q106.2 1473.83 100.39 1473.83 Q94.5799 1473.83 91.5012 1469.25 Q88.4456 1464.64 88.4456 1455.92 Q88.4456 1447.17 91.5012 1442.58 Q94.5799 1437.98 100.39 1437.98 Z\" fill=\"#000000\" fill-rule=\"evenodd\" fill-opacity=\"1\" /><path clip-path=\"url(#clip520)\" d=\"M 0 0 M65.0198 1146.62 Q61.4087 1146.62 59.58 1150.18 Q57.7745 1153.73 57.7745 1160.86 Q57.7745 1167.96 59.58 1171.53 Q61.4087 1175.07 65.0198 1175.07 Q68.6541 1175.07 70.4596 1171.53 Q72.2883 1167.96 72.2883 1160.86 Q72.2883 1153.73 70.4596 1150.18 Q68.6541 1146.62 65.0198 1146.62 M65.0198 1142.92 Q70.83 1142.92 73.8855 1147.52 Q76.9642 1152.11 76.9642 1160.86 Q76.9642 1169.58 73.8855 1174.19 Q70.83 1178.77 65.0198 1178.77 Q59.2097 1178.77 56.131 1174.19 Q53.0754 1169.58 53.0754 1160.86 Q53.0754 1152.11 56.131 1147.52 Q59.2097 1142.92 65.0198 1142.92 Z\" fill=\"#000000\" fill-rule=\"evenodd\" fill-opacity=\"1\" /><path clip-path=\"url(#clip520)\" d=\"M 0 0 M82.0336 1172.22 L86.9179 1172.22 L86.9179 1178.1 L82.0336 1178.1 L82.0336 1172.22 Z\" fill=\"#000000\" fill-rule=\"evenodd\" fill-opacity=\"1\" /><path clip-path=\"url(#clip520)\" d=\"M 0 0 M96.015 1174.17 L112.334 1174.17 L112.334 1178.1 L90.3901 1178.1 L90.3901 1174.17 Q93.0521 1171.41 97.6354 1166.78 Q102.242 1162.13 103.422 1160.79 Q105.668 1158.26 106.547 1156.53 Q107.45 1154.77 107.45 1153.08 Q107.45 1150.32 105.506 1148.59 Q103.584 1146.85 100.483 1146.85 Q98.2835 1146.85 95.8298 1147.61 Q93.3993 1148.38 90.6215 1149.93 L90.6215 1145.21 Q93.4456 1144.07 95.8993 1143.49 Q98.353 1142.92 100.39 1142.92 Q105.76 1142.92 108.955 1145.6 Q112.149 1148.29 112.149 1152.78 Q112.149 1154.91 111.339 1156.83 Q110.552 1158.73 108.446 1161.32 Q107.867 1161.99 104.765 1165.21 Q101.663 1168.4 96.015 1174.17 Z\" fill=\"#000000\" fill-rule=\"evenodd\" fill-opacity=\"1\" /><path clip-path=\"url(#clip520)\" d=\"M 0 0 M62.9365 851.557 Q59.3254 851.557 57.4967 855.122 Q55.6912 858.664 55.6912 865.793 Q55.6912 872.9 57.4967 876.465 Q59.3254 880.006 62.9365 880.006 Q66.5707 880.006 68.3763 876.465 Q70.205 872.9 70.205 865.793 Q70.205 858.664 68.3763 855.122 Q66.5707 851.557 62.9365 851.557 M62.9365 847.854 Q68.7467 847.854 71.8022 852.46 Q74.8809 857.043 74.8809 865.793 Q74.8809 874.52 71.8022 879.127 Q68.7467 883.71 62.9365 883.71 Q57.1264 883.71 54.0477 879.127 Q50.9921 874.52 50.9921 865.793 Q50.9921 857.043 54.0477 852.46 Q57.1264 847.854 62.9365 847.854 Z\" fill=\"#000000\" fill-rule=\"evenodd\" fill-opacity=\"1\" /><path clip-path=\"url(#clip520)\" d=\"M 0 0 M79.9503 877.159 L84.8345 877.159 L84.8345 883.039 L79.9503 883.039 L79.9503 877.159 Z\" fill=\"#000000\" fill-rule=\"evenodd\" fill-opacity=\"1\" /><path clip-path=\"url(#clip520)\" d=\"M 0 0 M102.751 852.553 L90.9456 871.002 L102.751 871.002 L102.751 852.553 M101.524 848.479 L107.404 848.479 L107.404 871.002 L112.334 871.002 L112.334 874.89 L107.404 874.89 L107.404 883.039 L102.751 883.039 L102.751 874.89 L87.1493 874.89 L87.1493 870.377 L101.524 848.479 Z\" fill=\"#000000\" fill-rule=\"evenodd\" fill-opacity=\"1\" /><path clip-path=\"url(#clip520)\" d=\"M 0 0 M63.2606 556.495 Q59.6495 556.495 57.8208 560.06 Q56.0152 563.602 56.0152 570.731 Q56.0152 577.838 57.8208 581.403 Q59.6495 584.944 63.2606 584.944 Q66.8948 584.944 68.7004 581.403 Q70.5291 577.838 70.5291 570.731 Q70.5291 563.602 68.7004 560.06 Q66.8948 556.495 63.2606 556.495 M63.2606 552.792 Q69.0707 552.792 72.1263 557.398 Q75.205 561.981 75.205 570.731 Q75.205 579.458 72.1263 584.065 Q69.0707 588.648 63.2606 588.648 Q57.4504 588.648 54.3717 584.065 Q51.3162 579.458 51.3162 570.731 Q51.3162 561.981 54.3717 557.398 Q57.4504 552.792 63.2606 552.792 Z\" fill=\"#000000\" fill-rule=\"evenodd\" fill-opacity=\"1\" /><path clip-path=\"url(#clip520)\" d=\"M 0 0 M80.2744 582.097 L85.1586 582.097 L85.1586 587.977 L80.2744 587.977 L80.2744 582.097 Z\" fill=\"#000000\" fill-rule=\"evenodd\" fill-opacity=\"1\" /><path clip-path=\"url(#clip520)\" d=\"M 0 0 M100.807 568.833 Q97.6585 568.833 95.8067 570.986 Q93.978 573.139 93.978 576.889 Q93.978 580.616 95.8067 582.791 Q97.6585 584.944 100.807 584.944 Q103.955 584.944 105.783 582.791 Q107.635 580.616 107.635 576.889 Q107.635 573.139 105.783 570.986 Q103.955 568.833 100.807 568.833 M110.089 554.18 L110.089 558.44 Q108.33 557.606 106.524 557.167 Q104.742 556.727 102.983 556.727 Q98.353 556.727 95.8993 559.852 Q93.4688 562.977 93.1215 569.296 Q94.4873 567.282 96.5474 566.217 Q98.6076 565.129 101.084 565.129 Q106.293 565.129 109.302 568.301 Q112.334 571.449 112.334 576.889 Q112.334 582.213 109.186 585.43 Q106.038 588.648 100.807 588.648 Q94.8113 588.648 91.6401 584.065 Q88.4688 579.458 88.4688 570.731 Q88.4688 562.537 92.3576 557.676 Q96.2465 552.792 102.797 552.792 Q104.557 552.792 106.339 553.139 Q108.145 553.486 110.089 554.18 Z\" fill=\"#000000\" fill-rule=\"evenodd\" fill-opacity=\"1\" /><path clip-path=\"url(#clip520)\" d=\"M 0 0 M63.5152 261.433 Q59.9041 261.433 58.0754 264.998 Q56.2699 268.54 56.2699 275.669 Q56.2699 282.776 58.0754 286.341 Q59.9041 289.882 63.5152 289.882 Q67.1494 289.882 68.955 286.341 Q70.7837 282.776 70.7837 275.669 Q70.7837 268.54 68.955 264.998 Q67.1494 261.433 63.5152 261.433 M63.5152 257.73 Q69.3254 257.73 72.3809 262.336 Q75.4596 266.919 75.4596 275.669 Q75.4596 284.396 72.3809 289.003 Q69.3254 293.586 63.5152 293.586 Q57.7051 293.586 54.6264 289.003 Q51.5708 284.396 51.5708 275.669 Q51.5708 266.919 54.6264 262.336 Q57.7051 257.73 63.5152 257.73 Z\" fill=\"#000000\" fill-rule=\"evenodd\" fill-opacity=\"1\" /><path clip-path=\"url(#clip520)\" d=\"M 0 0 M80.529 287.035 L85.4132 287.035 L85.4132 292.915 L80.529 292.915 L80.529 287.035 Z\" fill=\"#000000\" fill-rule=\"evenodd\" fill-opacity=\"1\" /><path clip-path=\"url(#clip520)\" d=\"M 0 0 M100.483 276.503 Q97.1493 276.503 95.228 278.285 Q93.3299 280.067 93.3299 283.192 Q93.3299 286.317 95.228 288.1 Q97.1493 289.882 100.483 289.882 Q103.816 289.882 105.737 288.1 Q107.658 286.294 107.658 283.192 Q107.658 280.067 105.737 278.285 Q103.839 276.503 100.483 276.503 M95.8067 274.512 Q92.7975 273.771 91.1077 271.711 Q89.441 269.651 89.441 266.688 Q89.441 262.544 92.3808 260.137 Q95.3437 257.73 100.483 257.73 Q105.645 257.73 108.584 260.137 Q111.524 262.544 111.524 266.688 Q111.524 269.651 109.834 271.711 Q108.168 273.771 105.182 274.512 Q108.561 275.299 110.436 277.591 Q112.334 279.882 112.334 283.192 Q112.334 288.216 109.256 290.901 Q106.2 293.586 100.483 293.586 Q94.765 293.586 91.6864 290.901 Q88.6308 288.216 88.6308 283.192 Q88.6308 279.882 90.529 277.591 Q92.4271 275.299 95.8067 274.512 M94.0937 267.128 Q94.0937 269.813 95.7604 271.317 Q97.4502 272.822 100.483 272.822 Q103.492 272.822 105.182 271.317 Q106.895 269.813 106.895 267.128 Q106.895 264.443 105.182 262.938 Q103.492 261.433 100.483 261.433 Q97.4502 261.433 95.7604 262.938 Q94.0937 264.443 94.0937 267.128 Z\" fill=\"#000000\" fill-rule=\"evenodd\" fill-opacity=\"1\" /><path clip-path=\"url(#clip520)\" d=\"M 0 0 M1108.64 12.096 L1117.43 12.096 L1132.46 34.5785 L1147.57 12.096 L1156.36 12.096 L1136.92 41.141 L1157.66 72.576 L1148.87 72.576 L1131.85 46.8528 L1114.72 72.576 L1105.89 72.576 L1127.48 40.2903 L1108.64 12.096 Z\" fill=\"#000000\" fill-rule=\"evenodd\" fill-opacity=\"1\" /><path clip-path=\"url(#clip520)\" d=\"M 0 0 M1212.47 49.7694 Q1203.43 49.7694 1199.95 51.8354 Q1196.47 53.9013 1196.47 58.8839 Q1196.47 62.8538 1199.06 65.2034 Q1201.69 67.5124 1206.19 67.5124 Q1212.39 67.5124 1216.11 63.1374 Q1219.88 58.7219 1219.88 51.4303 L1219.88 49.7694 L1212.47 49.7694 M1227.33 46.6907 L1227.33 72.576 L1219.88 72.576 L1219.88 65.6895 Q1217.33 69.8214 1213.52 71.8063 Q1209.71 73.7508 1204.2 73.7508 Q1197.24 73.7508 1193.1 69.8619 Q1189.01 65.9325 1189.01 59.3701 Q1189.01 51.7138 1194.12 47.825 Q1199.26 43.9361 1209.43 43.9361 L1219.88 43.9361 L1219.88 43.2069 Q1219.88 38.0623 1216.48 35.2672 Q1213.11 32.4315 1207 32.4315 Q1203.11 32.4315 1199.42 33.3632 Q1195.74 34.295 1192.33 36.1584 L1192.33 29.2718 Q1196.43 27.692 1200.27 26.9223 Q1204.12 26.1121 1207.77 26.1121 Q1217.61 26.1121 1222.47 31.2163 Q1227.33 36.3204 1227.33 46.6907 Z\" fill=\"#000000\" fill-rule=\"evenodd\" fill-opacity=\"1\" /><path clip-path=\"url(#clip520)\" d=\"M 0 0 M1272.87 45.1919 L1272.87 72.576 L1265.41 72.576 L1265.41 45.4349 Q1265.41 38.994 1262.9 35.7938 Q1260.39 32.5936 1255.37 32.5936 Q1249.33 32.5936 1245.85 36.4419 Q1242.36 40.2903 1242.36 46.9338 L1242.36 72.576 L1234.87 72.576 L1234.87 27.2059 L1242.36 27.2059 L1242.36 34.2544 Q1245.04 30.163 1248.64 28.1376 Q1252.29 26.1121 1257.03 26.1121 Q1264.84 26.1121 1268.86 30.9732 Q1272.87 35.7938 1272.87 45.1919 Z\" fill=\"#000000\" fill-rule=\"evenodd\" fill-opacity=\"1\" /><path clip-path=\"url(#clip520)\" d=\"M 0 0 M1310.54 34.0924 L1310.54 9.54393 L1317.99 9.54393 L1317.99 72.576 L1310.54 72.576 L1310.54 65.7705 Q1308.19 69.8214 1304.58 71.8063 Q1301.02 73.7508 1296 73.7508 Q1287.77 73.7508 1282.59 67.1883 Q1277.44 60.6258 1277.44 49.9314 Q1277.44 39.2371 1282.59 32.6746 Q1287.77 26.1121 1296 26.1121 Q1301.02 26.1121 1304.58 28.0971 Q1308.19 30.0415 1310.54 34.0924 M1285.14 49.9314 Q1285.14 58.1548 1288.5 62.8538 Q1291.9 67.5124 1297.82 67.5124 Q1303.73 67.5124 1307.14 62.8538 Q1310.54 58.1548 1310.54 49.9314 Q1310.54 41.7081 1307.14 37.0496 Q1303.73 32.3505 1297.82 32.3505 Q1291.9 32.3505 1288.5 37.0496 Q1285.14 41.7081 1285.14 49.9314 Z\" fill=\"#000000\" fill-rule=\"evenodd\" fill-opacity=\"1\" /><path clip-path=\"url(#clip520)\" d=\"M 0 0 M1344.2 12.096 L1352.99 12.096 L1369.76 36.9686 L1386.41 12.096 L1395.2 12.096 L1373.81 43.7741 L1373.81 72.576 L1365.59 72.576 L1365.59 43.7741 L1344.2 12.096 Z\" fill=\"#000000\" fill-rule=\"evenodd\" fill-opacity=\"1\" /><polyline clip-path=\"url(#clip522)\" style=\"stroke:#009af9; stroke-width:4; stroke-opacity:1; fill:none\" points=\"\n",
       "  210.724,483.163 359.27,527.083 507.816,546.274 656.361,480.735 804.907,769.928 953.453,1121.06 1102,1025.89 1250.55,724.008 1399.09,162.047 1547.64,964.437 \n",
       "  1696.18,943.668 1844.73,651.274 1993.27,1079.62 2141.82,1447.87 2290.37,420.201 \n",
       "  \"/>\n",
       "<path clip-path=\"url(#clip520)\" d=\"\n",
       "M1983.32 289.865 L2279.28 289.865 L2279.28 168.905 L1983.32 168.905  Z\n",
       "  \" fill=\"#ffffff\" fill-rule=\"evenodd\" fill-opacity=\"1\"/>\n",
       "<polyline clip-path=\"url(#clip520)\" style=\"stroke:#000000; stroke-width:4; stroke-opacity:1; fill:none\" points=\"\n",
       "  1983.32,289.865 2279.28,289.865 2279.28,168.905 1983.32,168.905 1983.32,289.865 \n",
       "  \"/>\n",
       "<polyline clip-path=\"url(#clip520)\" style=\"stroke:#009af9; stroke-width:4; stroke-opacity:1; fill:none\" points=\"\n",
       "  2007.81,229.385 2154.78,229.385 \n",
       "  \"/>\n",
       "<path clip-path=\"url(#clip520)\" d=\"M 0 0 M2193.11 249.072 Q2191.31 253.702 2189.59 255.114 Q2187.88 256.526 2185.01 256.526 L2181.61 256.526 L2181.61 252.961 L2184.11 252.961 Q2185.87 252.961 2186.84 252.128 Q2187.81 251.294 2188.99 248.192 L2189.76 246.248 L2179.27 220.739 L2183.78 220.739 L2191.89 241.017 L2199.99 220.739 L2204.5 220.739 L2193.11 249.072 Z\" fill=\"#000000\" fill-rule=\"evenodd\" fill-opacity=\"1\" /><path clip-path=\"url(#clip520)\" d=\"M 0 0 M2210.38 242.729 L2218.02 242.729 L2218.02 216.364 L2209.71 218.031 L2209.71 213.771 L2217.97 212.105 L2222.65 212.105 L2222.65 242.729 L2230.29 242.729 L2230.29 246.665 L2210.38 246.665 L2210.38 242.729 Z\" fill=\"#000000\" fill-rule=\"evenodd\" fill-opacity=\"1\" /></svg>\n"
      ]
     },
     "execution_count": 113,
     "metadata": {},
     "output_type": "execute_result"
    }
   ],
   "source": [
    "plot(x, y, title=\"X and Y\")"
   ]
  },
  {
   "cell_type": "code",
   "execution_count": 115,
   "metadata": {},
   "outputs": [
    {
     "data": {
      "image/svg+xml": [
       "<?xml version=\"1.0\" encoding=\"utf-8\"?>\n",
       "<svg xmlns=\"http://www.w3.org/2000/svg\" xmlns:xlink=\"http://www.w3.org/1999/xlink\" width=\"600\" height=\"400\" viewBox=\"0 0 2400 1600\">\n",
       "<defs>\n",
       "  <clipPath id=\"clip600\">\n",
       "    <rect x=\"0\" y=\"0\" width=\"2400\" height=\"1600\"/>\n",
       "  </clipPath>\n",
       "</defs>\n",
       "<path clip-path=\"url(#clip600)\" d=\"\n",
       "M0 1600 L2400 1600 L2400 0 L0 0  Z\n",
       "  \" fill=\"#ffffff\" fill-rule=\"evenodd\" fill-opacity=\"1\"/>\n",
       "<defs>\n",
       "  <clipPath id=\"clip601\">\n",
       "    <rect x=\"480\" y=\"0\" width=\"1681\" height=\"1600\"/>\n",
       "  </clipPath>\n",
       "</defs>\n",
       "<path clip-path=\"url(#clip600)\" d=\"\n",
       "M148.334 1486.45 L2352.76 1486.45 L2352.76 123.472 L148.334 123.472  Z\n",
       "  \" fill=\"#ffffff\" fill-rule=\"evenodd\" fill-opacity=\"1\"/>\n",
       "<defs>\n",
       "  <clipPath id=\"clip602\">\n",
       "    <rect x=\"148\" y=\"123\" width=\"2205\" height=\"1364\"/>\n",
       "  </clipPath>\n",
       "</defs>\n",
       "<polyline clip-path=\"url(#clip602)\" style=\"stroke:#000000; stroke-width:2; stroke-opacity:0.1; fill:none\" points=\"\n",
       "  359.27,1486.45 359.27,123.472 \n",
       "  \"/>\n",
       "<polyline clip-path=\"url(#clip602)\" style=\"stroke:#000000; stroke-width:2; stroke-opacity:0.1; fill:none\" points=\"\n",
       "  656.361,1486.45 656.361,123.472 \n",
       "  \"/>\n",
       "<polyline clip-path=\"url(#clip602)\" style=\"stroke:#000000; stroke-width:2; stroke-opacity:0.1; fill:none\" points=\"\n",
       "  953.453,1486.45 953.453,123.472 \n",
       "  \"/>\n",
       "<polyline clip-path=\"url(#clip602)\" style=\"stroke:#000000; stroke-width:2; stroke-opacity:0.1; fill:none\" points=\"\n",
       "  1250.55,1486.45 1250.55,123.472 \n",
       "  \"/>\n",
       "<polyline clip-path=\"url(#clip602)\" style=\"stroke:#000000; stroke-width:2; stroke-opacity:0.1; fill:none\" points=\"\n",
       "  1547.64,1486.45 1547.64,123.472 \n",
       "  \"/>\n",
       "<polyline clip-path=\"url(#clip602)\" style=\"stroke:#000000; stroke-width:2; stroke-opacity:0.1; fill:none\" points=\"\n",
       "  1844.73,1486.45 1844.73,123.472 \n",
       "  \"/>\n",
       "<polyline clip-path=\"url(#clip602)\" style=\"stroke:#000000; stroke-width:2; stroke-opacity:0.1; fill:none\" points=\"\n",
       "  2141.82,1486.45 2141.82,123.472 \n",
       "  \"/>\n",
       "<polyline clip-path=\"url(#clip600)\" style=\"stroke:#000000; stroke-width:4; stroke-opacity:1; fill:none\" points=\"\n",
       "  148.334,1486.45 2352.76,1486.45 \n",
       "  \"/>\n",
       "<polyline clip-path=\"url(#clip600)\" style=\"stroke:#000000; stroke-width:4; stroke-opacity:1; fill:none\" points=\"\n",
       "  359.27,1486.45 359.27,1470.09 \n",
       "  \"/>\n",
       "<polyline clip-path=\"url(#clip600)\" style=\"stroke:#000000; stroke-width:4; stroke-opacity:1; fill:none\" points=\"\n",
       "  656.361,1486.45 656.361,1470.09 \n",
       "  \"/>\n",
       "<polyline clip-path=\"url(#clip600)\" style=\"stroke:#000000; stroke-width:4; stroke-opacity:1; fill:none\" points=\"\n",
       "  953.453,1486.45 953.453,1470.09 \n",
       "  \"/>\n",
       "<polyline clip-path=\"url(#clip600)\" style=\"stroke:#000000; stroke-width:4; stroke-opacity:1; fill:none\" points=\"\n",
       "  1250.55,1486.45 1250.55,1470.09 \n",
       "  \"/>\n",
       "<polyline clip-path=\"url(#clip600)\" style=\"stroke:#000000; stroke-width:4; stroke-opacity:1; fill:none\" points=\"\n",
       "  1547.64,1486.45 1547.64,1470.09 \n",
       "  \"/>\n",
       "<polyline clip-path=\"url(#clip600)\" style=\"stroke:#000000; stroke-width:4; stroke-opacity:1; fill:none\" points=\"\n",
       "  1844.73,1486.45 1844.73,1470.09 \n",
       "  \"/>\n",
       "<polyline clip-path=\"url(#clip600)\" style=\"stroke:#000000; stroke-width:4; stroke-opacity:1; fill:none\" points=\"\n",
       "  2141.82,1486.45 2141.82,1470.09 \n",
       "  \"/>\n",
       "<path clip-path=\"url(#clip600)\" d=\"M 0 0 M353.922 1543.18 L370.242 1543.18 L370.242 1547.12 L348.297 1547.12 L348.297 1543.18 Q350.959 1540.43 355.543 1535.8 Q360.149 1531.15 361.33 1529.81 Q363.575 1527.28 364.455 1525.55 Q365.358 1523.79 365.358 1522.1 Q365.358 1519.34 363.413 1517.61 Q361.492 1515.87 358.39 1515.87 Q356.191 1515.87 353.737 1516.63 Q351.307 1517.4 348.529 1518.95 L348.529 1514.23 Q351.353 1513.09 353.807 1512.51 Q356.26 1511.93 358.297 1511.93 Q363.668 1511.93 366.862 1514.62 Q370.057 1517.31 370.057 1521.8 Q370.057 1523.93 369.246 1525.85 Q368.459 1527.74 366.353 1530.34 Q365.774 1531.01 362.672 1534.23 Q359.571 1537.42 353.922 1543.18 Z\" fill=\"#000000\" fill-rule=\"evenodd\" fill-opacity=\"1\" /><path clip-path=\"url(#clip600)\" d=\"M 0 0 M659.371 1516.63 L647.565 1535.08 L659.371 1535.08 L659.371 1516.63 M658.144 1512.56 L664.023 1512.56 L664.023 1535.08 L668.954 1535.08 L668.954 1538.97 L664.023 1538.97 L664.023 1547.12 L659.371 1547.12 L659.371 1538.97 L643.769 1538.97 L643.769 1534.46 L658.144 1512.56 Z\" fill=\"#000000\" fill-rule=\"evenodd\" fill-opacity=\"1\" /><path clip-path=\"url(#clip600)\" d=\"M 0 0 M953.858 1527.98 Q950.71 1527.98 948.858 1530.13 Q947.03 1532.28 947.03 1536.03 Q947.03 1539.76 948.858 1541.93 Q950.71 1544.09 953.858 1544.09 Q957.007 1544.09 958.835 1541.93 Q960.687 1539.76 960.687 1536.03 Q960.687 1532.28 958.835 1530.13 Q957.007 1527.98 953.858 1527.98 M963.141 1513.32 L963.141 1517.58 Q961.381 1516.75 959.576 1516.31 Q957.794 1515.87 956.034 1515.87 Q951.405 1515.87 948.951 1519 Q946.52 1522.12 946.173 1528.44 Q947.539 1526.43 949.599 1525.36 Q951.659 1524.27 954.136 1524.27 Q959.344 1524.27 962.354 1527.44 Q965.386 1530.59 965.386 1536.03 Q965.386 1541.36 962.238 1544.57 Q959.09 1547.79 953.858 1547.79 Q947.863 1547.79 944.692 1543.21 Q941.52 1538.6 941.52 1529.87 Q941.52 1521.68 945.409 1516.82 Q949.298 1511.93 955.849 1511.93 Q957.608 1511.93 959.391 1512.28 Q961.196 1512.63 963.141 1513.32 Z\" fill=\"#000000\" fill-rule=\"evenodd\" fill-opacity=\"1\" /><path clip-path=\"url(#clip600)\" d=\"M 0 0 M1250.55 1530.71 Q1247.21 1530.71 1245.29 1532.49 Q1243.39 1534.27 1243.39 1537.4 Q1243.39 1540.52 1245.29 1542.31 Q1247.21 1544.09 1250.55 1544.09 Q1253.88 1544.09 1255.8 1542.31 Q1257.72 1540.5 1257.72 1537.4 Q1257.72 1534.27 1255.8 1532.49 Q1253.9 1530.71 1250.55 1530.71 M1245.87 1528.72 Q1242.86 1527.98 1241.17 1525.92 Q1239.5 1523.86 1239.5 1520.89 Q1239.5 1516.75 1242.44 1514.34 Q1245.41 1511.93 1250.55 1511.93 Q1255.71 1511.93 1258.65 1514.34 Q1261.59 1516.75 1261.59 1520.89 Q1261.59 1523.86 1259.9 1525.92 Q1258.23 1527.98 1255.24 1528.72 Q1258.62 1529.5 1260.5 1531.8 Q1262.4 1534.09 1262.4 1537.4 Q1262.4 1542.42 1259.32 1545.11 Q1256.26 1547.79 1250.55 1547.79 Q1244.83 1547.79 1241.75 1545.11 Q1238.69 1542.42 1238.69 1537.4 Q1238.69 1534.09 1240.59 1531.8 Q1242.49 1529.5 1245.87 1528.72 M1244.16 1521.33 Q1244.16 1524.02 1245.82 1525.52 Q1247.51 1527.03 1250.55 1527.03 Q1253.55 1527.03 1255.24 1525.52 Q1256.96 1524.02 1256.96 1521.33 Q1256.96 1518.65 1255.24 1517.14 Q1253.55 1515.64 1250.55 1515.64 Q1247.51 1515.64 1245.82 1517.14 Q1244.16 1518.65 1244.16 1521.33 Z\" fill=\"#000000\" fill-rule=\"evenodd\" fill-opacity=\"1\" /><path clip-path=\"url(#clip600)\" d=\"M 0 0 M1524.51 1543.18 L1532.15 1543.18 L1532.15 1516.82 L1523.84 1518.49 L1523.84 1514.23 L1532.1 1512.56 L1536.78 1512.56 L1536.78 1543.18 L1544.42 1543.18 L1544.42 1547.12 L1524.51 1547.12 L1524.51 1543.18 Z\" fill=\"#000000\" fill-rule=\"evenodd\" fill-opacity=\"1\" /><path clip-path=\"url(#clip600)\" d=\"M 0 0 M1559.49 1515.64 Q1555.88 1515.64 1554.05 1519.2 Q1552.24 1522.75 1552.24 1529.87 Q1552.24 1536.98 1554.05 1540.55 Q1555.88 1544.09 1559.49 1544.09 Q1563.12 1544.09 1564.93 1540.55 Q1566.76 1536.98 1566.76 1529.87 Q1566.76 1522.75 1564.93 1519.2 Q1563.12 1515.64 1559.49 1515.64 M1559.49 1511.93 Q1565.3 1511.93 1568.35 1516.54 Q1571.43 1521.12 1571.43 1529.87 Q1571.43 1538.6 1568.35 1543.21 Q1565.3 1547.79 1559.49 1547.79 Q1553.68 1547.79 1550.6 1543.21 Q1547.54 1538.6 1547.54 1529.87 Q1547.54 1521.12 1550.6 1516.54 Q1553.68 1511.93 1559.49 1511.93 Z\" fill=\"#000000\" fill-rule=\"evenodd\" fill-opacity=\"1\" /><path clip-path=\"url(#clip600)\" d=\"M 0 0 M1822.4 1543.18 L1830.04 1543.18 L1830.04 1516.82 L1821.73 1518.49 L1821.73 1514.23 L1830 1512.56 L1834.67 1512.56 L1834.67 1543.18 L1842.31 1543.18 L1842.31 1547.12 L1822.4 1547.12 L1822.4 1543.18 Z\" fill=\"#000000\" fill-rule=\"evenodd\" fill-opacity=\"1\" /><path clip-path=\"url(#clip600)\" d=\"M 0 0 M1851.41 1543.18 L1867.73 1543.18 L1867.73 1547.12 L1845.78 1547.12 L1845.78 1543.18 Q1848.44 1540.43 1853.03 1535.8 Q1857.63 1531.15 1858.81 1529.81 Q1861.06 1527.28 1861.94 1525.55 Q1862.84 1523.79 1862.84 1522.1 Q1862.84 1519.34 1860.9 1517.61 Q1858.98 1515.87 1855.87 1515.87 Q1853.68 1515.87 1851.22 1516.63 Q1848.79 1517.4 1846.01 1518.95 L1846.01 1514.23 Q1848.84 1513.09 1851.29 1512.51 Q1853.75 1511.93 1855.78 1511.93 Q1861.15 1511.93 1864.35 1514.62 Q1867.54 1517.31 1867.54 1521.8 Q1867.54 1523.93 1866.73 1525.85 Q1865.94 1527.74 1863.84 1530.34 Q1863.26 1531.01 1860.16 1534.23 Q1857.06 1537.42 1851.41 1543.18 Z\" fill=\"#000000\" fill-rule=\"evenodd\" fill-opacity=\"1\" /><path clip-path=\"url(#clip600)\" d=\"M 0 0 M2118.45 1543.18 L2126.09 1543.18 L2126.09 1516.82 L2117.78 1518.49 L2117.78 1514.23 L2126.05 1512.56 L2130.72 1512.56 L2130.72 1543.18 L2138.36 1543.18 L2138.36 1547.12 L2118.45 1547.12 L2118.45 1543.18 Z\" fill=\"#000000\" fill-rule=\"evenodd\" fill-opacity=\"1\" /><path clip-path=\"url(#clip600)\" d=\"M 0 0 M2156.28 1516.63 L2144.47 1535.08 L2156.28 1535.08 L2156.28 1516.63 M2155.05 1512.56 L2160.93 1512.56 L2160.93 1535.08 L2165.86 1535.08 L2165.86 1538.97 L2160.93 1538.97 L2160.93 1547.12 L2156.28 1547.12 L2156.28 1538.97 L2140.67 1538.97 L2140.67 1534.46 L2155.05 1512.56 Z\" fill=\"#000000\" fill-rule=\"evenodd\" fill-opacity=\"1\" /><polyline clip-path=\"url(#clip602)\" style=\"stroke:#000000; stroke-width:2; stroke-opacity:0.1; fill:none\" points=\"\n",
       "  148.334,1455.88 2352.76,1455.88 \n",
       "  \"/>\n",
       "<polyline clip-path=\"url(#clip602)\" style=\"stroke:#000000; stroke-width:2; stroke-opacity:0.1; fill:none\" points=\"\n",
       "  148.334,1160.82 2352.76,1160.82 \n",
       "  \"/>\n",
       "<polyline clip-path=\"url(#clip602)\" style=\"stroke:#000000; stroke-width:2; stroke-opacity:0.1; fill:none\" points=\"\n",
       "  148.334,865.759 2352.76,865.759 \n",
       "  \"/>\n",
       "<polyline clip-path=\"url(#clip602)\" style=\"stroke:#000000; stroke-width:2; stroke-opacity:0.1; fill:none\" points=\"\n",
       "  148.334,570.697 2352.76,570.697 \n",
       "  \"/>\n",
       "<polyline clip-path=\"url(#clip602)\" style=\"stroke:#000000; stroke-width:2; stroke-opacity:0.1; fill:none\" points=\"\n",
       "  148.334,275.635 2352.76,275.635 \n",
       "  \"/>\n",
       "<polyline clip-path=\"url(#clip600)\" style=\"stroke:#000000; stroke-width:4; stroke-opacity:1; fill:none\" points=\"\n",
       "  148.334,1486.45 148.334,123.472 \n",
       "  \"/>\n",
       "<polyline clip-path=\"url(#clip600)\" style=\"stroke:#000000; stroke-width:4; stroke-opacity:1; fill:none\" points=\"\n",
       "  148.334,1455.88 174.787,1455.88 \n",
       "  \"/>\n",
       "<polyline clip-path=\"url(#clip600)\" style=\"stroke:#000000; stroke-width:4; stroke-opacity:1; fill:none\" points=\"\n",
       "  148.334,1160.82 174.787,1160.82 \n",
       "  \"/>\n",
       "<polyline clip-path=\"url(#clip600)\" style=\"stroke:#000000; stroke-width:4; stroke-opacity:1; fill:none\" points=\"\n",
       "  148.334,865.759 174.787,865.759 \n",
       "  \"/>\n",
       "<polyline clip-path=\"url(#clip600)\" style=\"stroke:#000000; stroke-width:4; stroke-opacity:1; fill:none\" points=\"\n",
       "  148.334,570.697 174.787,570.697 \n",
       "  \"/>\n",
       "<polyline clip-path=\"url(#clip600)\" style=\"stroke:#000000; stroke-width:4; stroke-opacity:1; fill:none\" points=\"\n",
       "  148.334,275.635 174.787,275.635 \n",
       "  \"/>\n",
       "<path clip-path=\"url(#clip600)\" d=\"M 0 0 M63.4226 1441.68 Q59.8115 1441.68 57.9828 1445.25 Q56.1773 1448.79 56.1773 1455.92 Q56.1773 1463.02 57.9828 1466.59 Q59.8115 1470.13 63.4226 1470.13 Q67.0569 1470.13 68.8624 1466.59 Q70.6911 1463.02 70.6911 1455.92 Q70.6911 1448.79 68.8624 1445.25 Q67.0569 1441.68 63.4226 1441.68 M63.4226 1437.98 Q69.2328 1437.98 72.2883 1442.58 Q75.367 1447.17 75.367 1455.92 Q75.367 1464.64 72.2883 1469.25 Q69.2328 1473.83 63.4226 1473.83 Q57.6125 1473.83 54.5338 1469.25 Q51.4782 1464.64 51.4782 1455.92 Q51.4782 1447.17 54.5338 1442.58 Q57.6125 1437.98 63.4226 1437.98 Z\" fill=\"#000000\" fill-rule=\"evenodd\" fill-opacity=\"1\" /><path clip-path=\"url(#clip600)\" d=\"M 0 0 M80.4364 1467.28 L85.3206 1467.28 L85.3206 1473.16 L80.4364 1473.16 L80.4364 1467.28 Z\" fill=\"#000000\" fill-rule=\"evenodd\" fill-opacity=\"1\" /><path clip-path=\"url(#clip600)\" d=\"M 0 0 M100.39 1441.68 Q96.7789 1441.68 94.9502 1445.25 Q93.1447 1448.79 93.1447 1455.92 Q93.1447 1463.02 94.9502 1466.59 Q96.7789 1470.13 100.39 1470.13 Q104.024 1470.13 105.83 1466.59 Q107.658 1463.02 107.658 1455.92 Q107.658 1448.79 105.83 1445.25 Q104.024 1441.68 100.39 1441.68 M100.39 1437.98 Q106.2 1437.98 109.256 1442.58 Q112.334 1447.17 112.334 1455.92 Q112.334 1464.64 109.256 1469.25 Q106.2 1473.83 100.39 1473.83 Q94.5799 1473.83 91.5012 1469.25 Q88.4456 1464.64 88.4456 1455.92 Q88.4456 1447.17 91.5012 1442.58 Q94.5799 1437.98 100.39 1437.98 Z\" fill=\"#000000\" fill-rule=\"evenodd\" fill-opacity=\"1\" /><path clip-path=\"url(#clip600)\" d=\"M 0 0 M65.0198 1146.62 Q61.4087 1146.62 59.58 1150.18 Q57.7745 1153.73 57.7745 1160.86 Q57.7745 1167.96 59.58 1171.53 Q61.4087 1175.07 65.0198 1175.07 Q68.6541 1175.07 70.4596 1171.53 Q72.2883 1167.96 72.2883 1160.86 Q72.2883 1153.73 70.4596 1150.18 Q68.6541 1146.62 65.0198 1146.62 M65.0198 1142.92 Q70.83 1142.92 73.8855 1147.52 Q76.9642 1152.11 76.9642 1160.86 Q76.9642 1169.58 73.8855 1174.19 Q70.83 1178.77 65.0198 1178.77 Q59.2097 1178.77 56.131 1174.19 Q53.0754 1169.58 53.0754 1160.86 Q53.0754 1152.11 56.131 1147.52 Q59.2097 1142.92 65.0198 1142.92 Z\" fill=\"#000000\" fill-rule=\"evenodd\" fill-opacity=\"1\" /><path clip-path=\"url(#clip600)\" d=\"M 0 0 M82.0336 1172.22 L86.9179 1172.22 L86.9179 1178.1 L82.0336 1178.1 L82.0336 1172.22 Z\" fill=\"#000000\" fill-rule=\"evenodd\" fill-opacity=\"1\" /><path clip-path=\"url(#clip600)\" d=\"M 0 0 M96.015 1174.17 L112.334 1174.17 L112.334 1178.1 L90.3901 1178.1 L90.3901 1174.17 Q93.0521 1171.41 97.6354 1166.78 Q102.242 1162.13 103.422 1160.79 Q105.668 1158.26 106.547 1156.53 Q107.45 1154.77 107.45 1153.08 Q107.45 1150.32 105.506 1148.59 Q103.584 1146.85 100.483 1146.85 Q98.2835 1146.85 95.8298 1147.61 Q93.3993 1148.38 90.6215 1149.93 L90.6215 1145.21 Q93.4456 1144.07 95.8993 1143.49 Q98.353 1142.92 100.39 1142.92 Q105.76 1142.92 108.955 1145.6 Q112.149 1148.29 112.149 1152.78 Q112.149 1154.91 111.339 1156.83 Q110.552 1158.73 108.446 1161.32 Q107.867 1161.99 104.765 1165.21 Q101.663 1168.4 96.015 1174.17 Z\" fill=\"#000000\" fill-rule=\"evenodd\" fill-opacity=\"1\" /><path clip-path=\"url(#clip600)\" d=\"M 0 0 M62.9365 851.557 Q59.3254 851.557 57.4967 855.122 Q55.6912 858.664 55.6912 865.793 Q55.6912 872.9 57.4967 876.465 Q59.3254 880.006 62.9365 880.006 Q66.5707 880.006 68.3763 876.465 Q70.205 872.9 70.205 865.793 Q70.205 858.664 68.3763 855.122 Q66.5707 851.557 62.9365 851.557 M62.9365 847.854 Q68.7467 847.854 71.8022 852.46 Q74.8809 857.043 74.8809 865.793 Q74.8809 874.52 71.8022 879.127 Q68.7467 883.71 62.9365 883.71 Q57.1264 883.71 54.0477 879.127 Q50.9921 874.52 50.9921 865.793 Q50.9921 857.043 54.0477 852.46 Q57.1264 847.854 62.9365 847.854 Z\" fill=\"#000000\" fill-rule=\"evenodd\" fill-opacity=\"1\" /><path clip-path=\"url(#clip600)\" d=\"M 0 0 M79.9503 877.159 L84.8345 877.159 L84.8345 883.039 L79.9503 883.039 L79.9503 877.159 Z\" fill=\"#000000\" fill-rule=\"evenodd\" fill-opacity=\"1\" /><path clip-path=\"url(#clip600)\" d=\"M 0 0 M102.751 852.553 L90.9456 871.002 L102.751 871.002 L102.751 852.553 M101.524 848.479 L107.404 848.479 L107.404 871.002 L112.334 871.002 L112.334 874.89 L107.404 874.89 L107.404 883.039 L102.751 883.039 L102.751 874.89 L87.1493 874.89 L87.1493 870.377 L101.524 848.479 Z\" fill=\"#000000\" fill-rule=\"evenodd\" fill-opacity=\"1\" /><path clip-path=\"url(#clip600)\" d=\"M 0 0 M63.2606 556.495 Q59.6495 556.495 57.8208 560.06 Q56.0152 563.602 56.0152 570.731 Q56.0152 577.838 57.8208 581.403 Q59.6495 584.944 63.2606 584.944 Q66.8948 584.944 68.7004 581.403 Q70.5291 577.838 70.5291 570.731 Q70.5291 563.602 68.7004 560.06 Q66.8948 556.495 63.2606 556.495 M63.2606 552.792 Q69.0707 552.792 72.1263 557.398 Q75.205 561.981 75.205 570.731 Q75.205 579.458 72.1263 584.065 Q69.0707 588.648 63.2606 588.648 Q57.4504 588.648 54.3717 584.065 Q51.3162 579.458 51.3162 570.731 Q51.3162 561.981 54.3717 557.398 Q57.4504 552.792 63.2606 552.792 Z\" fill=\"#000000\" fill-rule=\"evenodd\" fill-opacity=\"1\" /><path clip-path=\"url(#clip600)\" d=\"M 0 0 M80.2744 582.097 L85.1586 582.097 L85.1586 587.977 L80.2744 587.977 L80.2744 582.097 Z\" fill=\"#000000\" fill-rule=\"evenodd\" fill-opacity=\"1\" /><path clip-path=\"url(#clip600)\" d=\"M 0 0 M100.807 568.833 Q97.6585 568.833 95.8067 570.986 Q93.978 573.139 93.978 576.889 Q93.978 580.616 95.8067 582.791 Q97.6585 584.944 100.807 584.944 Q103.955 584.944 105.783 582.791 Q107.635 580.616 107.635 576.889 Q107.635 573.139 105.783 570.986 Q103.955 568.833 100.807 568.833 M110.089 554.18 L110.089 558.44 Q108.33 557.606 106.524 557.167 Q104.742 556.727 102.983 556.727 Q98.353 556.727 95.8993 559.852 Q93.4688 562.977 93.1215 569.296 Q94.4873 567.282 96.5474 566.217 Q98.6076 565.129 101.084 565.129 Q106.293 565.129 109.302 568.301 Q112.334 571.449 112.334 576.889 Q112.334 582.213 109.186 585.43 Q106.038 588.648 100.807 588.648 Q94.8113 588.648 91.6401 584.065 Q88.4688 579.458 88.4688 570.731 Q88.4688 562.537 92.3576 557.676 Q96.2465 552.792 102.797 552.792 Q104.557 552.792 106.339 553.139 Q108.145 553.486 110.089 554.18 Z\" fill=\"#000000\" fill-rule=\"evenodd\" fill-opacity=\"1\" /><path clip-path=\"url(#clip600)\" d=\"M 0 0 M63.5152 261.433 Q59.9041 261.433 58.0754 264.998 Q56.2699 268.54 56.2699 275.669 Q56.2699 282.776 58.0754 286.341 Q59.9041 289.882 63.5152 289.882 Q67.1494 289.882 68.955 286.341 Q70.7837 282.776 70.7837 275.669 Q70.7837 268.54 68.955 264.998 Q67.1494 261.433 63.5152 261.433 M63.5152 257.73 Q69.3254 257.73 72.3809 262.336 Q75.4596 266.919 75.4596 275.669 Q75.4596 284.396 72.3809 289.003 Q69.3254 293.586 63.5152 293.586 Q57.7051 293.586 54.6264 289.003 Q51.5708 284.396 51.5708 275.669 Q51.5708 266.919 54.6264 262.336 Q57.7051 257.73 63.5152 257.73 Z\" fill=\"#000000\" fill-rule=\"evenodd\" fill-opacity=\"1\" /><path clip-path=\"url(#clip600)\" d=\"M 0 0 M80.529 287.035 L85.4132 287.035 L85.4132 292.915 L80.529 292.915 L80.529 287.035 Z\" fill=\"#000000\" fill-rule=\"evenodd\" fill-opacity=\"1\" /><path clip-path=\"url(#clip600)\" d=\"M 0 0 M100.483 276.503 Q97.1493 276.503 95.228 278.285 Q93.3299 280.067 93.3299 283.192 Q93.3299 286.317 95.228 288.1 Q97.1493 289.882 100.483 289.882 Q103.816 289.882 105.737 288.1 Q107.658 286.294 107.658 283.192 Q107.658 280.067 105.737 278.285 Q103.839 276.503 100.483 276.503 M95.8067 274.512 Q92.7975 273.771 91.1077 271.711 Q89.441 269.651 89.441 266.688 Q89.441 262.544 92.3808 260.137 Q95.3437 257.73 100.483 257.73 Q105.645 257.73 108.584 260.137 Q111.524 262.544 111.524 266.688 Q111.524 269.651 109.834 271.711 Q108.168 273.771 105.182 274.512 Q108.561 275.299 110.436 277.591 Q112.334 279.882 112.334 283.192 Q112.334 288.216 109.256 290.901 Q106.2 293.586 100.483 293.586 Q94.765 293.586 91.6864 290.901 Q88.6308 288.216 88.6308 283.192 Q88.6308 279.882 90.529 277.591 Q92.4271 275.299 95.8067 274.512 M94.0937 267.128 Q94.0937 269.813 95.7604 271.317 Q97.4502 272.822 100.483 272.822 Q103.492 272.822 105.182 271.317 Q106.895 269.813 106.895 267.128 Q106.895 264.443 105.182 262.938 Q103.492 261.433 100.483 261.433 Q97.4502 261.433 95.7604 262.938 Q94.0937 264.443 94.0937 267.128 Z\" fill=\"#000000\" fill-rule=\"evenodd\" fill-opacity=\"1\" /><path clip-path=\"url(#clip600)\" d=\"M 0 0 M1108.64 12.096 L1117.43 12.096 L1132.46 34.5785 L1147.57 12.096 L1156.36 12.096 L1136.92 41.141 L1157.66 72.576 L1148.87 72.576 L1131.85 46.8528 L1114.72 72.576 L1105.89 72.576 L1127.48 40.2903 L1108.64 12.096 Z\" fill=\"#000000\" fill-rule=\"evenodd\" fill-opacity=\"1\" /><path clip-path=\"url(#clip600)\" d=\"M 0 0 M1212.47 49.7694 Q1203.43 49.7694 1199.95 51.8354 Q1196.47 53.9013 1196.47 58.8839 Q1196.47 62.8538 1199.06 65.2034 Q1201.69 67.5124 1206.19 67.5124 Q1212.39 67.5124 1216.11 63.1374 Q1219.88 58.7219 1219.88 51.4303 L1219.88 49.7694 L1212.47 49.7694 M1227.33 46.6907 L1227.33 72.576 L1219.88 72.576 L1219.88 65.6895 Q1217.33 69.8214 1213.52 71.8063 Q1209.71 73.7508 1204.2 73.7508 Q1197.24 73.7508 1193.1 69.8619 Q1189.01 65.9325 1189.01 59.3701 Q1189.01 51.7138 1194.12 47.825 Q1199.26 43.9361 1209.43 43.9361 L1219.88 43.9361 L1219.88 43.2069 Q1219.88 38.0623 1216.48 35.2672 Q1213.11 32.4315 1207 32.4315 Q1203.11 32.4315 1199.42 33.3632 Q1195.74 34.295 1192.33 36.1584 L1192.33 29.2718 Q1196.43 27.692 1200.27 26.9223 Q1204.12 26.1121 1207.77 26.1121 Q1217.61 26.1121 1222.47 31.2163 Q1227.33 36.3204 1227.33 46.6907 Z\" fill=\"#000000\" fill-rule=\"evenodd\" fill-opacity=\"1\" /><path clip-path=\"url(#clip600)\" d=\"M 0 0 M1272.87 45.1919 L1272.87 72.576 L1265.41 72.576 L1265.41 45.4349 Q1265.41 38.994 1262.9 35.7938 Q1260.39 32.5936 1255.37 32.5936 Q1249.33 32.5936 1245.85 36.4419 Q1242.36 40.2903 1242.36 46.9338 L1242.36 72.576 L1234.87 72.576 L1234.87 27.2059 L1242.36 27.2059 L1242.36 34.2544 Q1245.04 30.163 1248.64 28.1376 Q1252.29 26.1121 1257.03 26.1121 Q1264.84 26.1121 1268.86 30.9732 Q1272.87 35.7938 1272.87 45.1919 Z\" fill=\"#000000\" fill-rule=\"evenodd\" fill-opacity=\"1\" /><path clip-path=\"url(#clip600)\" d=\"M 0 0 M1310.54 34.0924 L1310.54 9.54393 L1317.99 9.54393 L1317.99 72.576 L1310.54 72.576 L1310.54 65.7705 Q1308.19 69.8214 1304.58 71.8063 Q1301.02 73.7508 1296 73.7508 Q1287.77 73.7508 1282.59 67.1883 Q1277.44 60.6258 1277.44 49.9314 Q1277.44 39.2371 1282.59 32.6746 Q1287.77 26.1121 1296 26.1121 Q1301.02 26.1121 1304.58 28.0971 Q1308.19 30.0415 1310.54 34.0924 M1285.14 49.9314 Q1285.14 58.1548 1288.5 62.8538 Q1291.9 67.5124 1297.82 67.5124 Q1303.73 67.5124 1307.14 62.8538 Q1310.54 58.1548 1310.54 49.9314 Q1310.54 41.7081 1307.14 37.0496 Q1303.73 32.3505 1297.82 32.3505 Q1291.9 32.3505 1288.5 37.0496 Q1285.14 41.7081 1285.14 49.9314 Z\" fill=\"#000000\" fill-rule=\"evenodd\" fill-opacity=\"1\" /><path clip-path=\"url(#clip600)\" d=\"M 0 0 M1344.2 12.096 L1352.99 12.096 L1369.76 36.9686 L1386.41 12.096 L1395.2 12.096 L1373.81 43.7741 L1373.81 72.576 L1365.59 72.576 L1365.59 43.7741 L1344.2 12.096 Z\" fill=\"#000000\" fill-rule=\"evenodd\" fill-opacity=\"1\" /><polyline clip-path=\"url(#clip602)\" style=\"stroke:#009af9; stroke-width:4; stroke-opacity:1; fill:none\" points=\"\n",
       "  210.724,483.163 359.27,527.083 507.816,546.274 656.361,480.735 804.907,769.928 953.453,1121.06 1102,1025.89 1250.55,724.008 1399.09,162.047 1547.64,964.437 \n",
       "  1696.18,943.668 1844.73,651.274 1993.27,1079.62 2141.82,1447.87 2290.37,420.201 \n",
       "  \"/>\n",
       "<path clip-path=\"url(#clip600)\" d=\"\n",
       "M1879.64 289.865 L2279.28 289.865 L2279.28 168.905 L1879.64 168.905  Z\n",
       "  \" fill=\"#ffffff\" fill-rule=\"evenodd\" fill-opacity=\"1\"/>\n",
       "<polyline clip-path=\"url(#clip600)\" style=\"stroke:#000000; stroke-width:4; stroke-opacity:1; fill:none\" points=\"\n",
       "  1879.64,289.865 2279.28,289.865 2279.28,168.905 1879.64,168.905 1879.64,289.865 \n",
       "  \"/>\n",
       "<polyline clip-path=\"url(#clip600)\" style=\"stroke:#009af9; stroke-width:4; stroke-opacity:1; fill:none\" points=\"\n",
       "  1904.13,229.385 2051.1,229.385 \n",
       "  \"/>\n",
       "<path clip-path=\"url(#clip600)\" d=\"M 0 0 M2088.78 246.665 L2075.59 212.105 L2080.47 212.105 L2091.42 241.202 L2102.4 212.105 L2107.26 212.105 L2094.09 246.665 L2088.78 246.665 Z\" fill=\"#000000\" fill-rule=\"evenodd\" fill-opacity=\"1\" /><path clip-path=\"url(#clip600)\" d=\"M 0 0 M2119.83 233.632 Q2114.66 233.632 2112.67 234.813 Q2110.68 235.993 2110.68 238.841 Q2110.68 241.109 2112.16 242.452 Q2113.67 243.771 2116.24 243.771 Q2119.78 243.771 2121.91 241.271 Q2124.06 238.748 2124.06 234.581 L2124.06 233.632 L2119.83 233.632 M2128.32 231.873 L2128.32 246.665 L2124.06 246.665 L2124.06 242.729 Q2122.6 245.091 2120.43 246.225 Q2118.25 247.336 2115.1 247.336 Q2111.12 247.336 2108.76 245.114 Q2106.42 242.868 2106.42 239.118 Q2106.42 234.743 2109.34 232.521 Q2112.28 230.299 2118.09 230.299 L2124.06 230.299 L2124.06 229.882 Q2124.06 226.943 2122.12 225.345 Q2120.2 223.725 2116.7 223.725 Q2114.48 223.725 2112.37 224.257 Q2110.27 224.79 2108.32 225.855 L2108.32 221.919 Q2110.66 221.017 2112.86 220.577 Q2115.06 220.114 2117.14 220.114 Q2122.77 220.114 2125.54 223.031 Q2128.32 225.947 2128.32 231.873 Z\" fill=\"#000000\" fill-rule=\"evenodd\" fill-opacity=\"1\" /><path clip-path=\"url(#clip600)\" d=\"M 0 0 M2132.79 210.646 L2137.05 210.646 L2137.05 246.665 L2132.79 246.665 L2132.79 210.646 Z\" fill=\"#000000\" fill-rule=\"evenodd\" fill-opacity=\"1\" /><path clip-path=\"url(#clip600)\" d=\"M 0 0 M2141.08 236.433 L2141.08 220.739 L2145.33 220.739 L2145.33 236.271 Q2145.33 239.952 2146.77 241.804 Q2148.21 243.632 2151.08 243.632 Q2154.52 243.632 2156.52 241.433 Q2158.53 239.234 2158.53 235.438 L2158.53 220.739 L2162.79 220.739 L2162.79 246.665 L2158.53 246.665 L2158.53 242.683 Q2156.98 245.044 2154.92 246.202 Q2152.88 247.336 2150.17 247.336 Q2145.71 247.336 2143.39 244.558 Q2141.08 241.78 2141.08 236.433 M2151.79 220.114 L2151.79 220.114 Z\" fill=\"#000000\" fill-rule=\"evenodd\" fill-opacity=\"1\" /><path clip-path=\"url(#clip600)\" d=\"M 0 0 M2189.43 232.637 L2189.43 234.72 L2169.85 234.72 Q2170.13 239.118 2172.49 241.433 Q2174.87 243.725 2179.11 243.725 Q2181.56 243.725 2183.85 243.123 Q2186.17 242.521 2188.44 241.317 L2188.44 245.345 Q2186.14 246.317 2183.74 246.827 Q2181.33 247.336 2178.85 247.336 Q2172.65 247.336 2169.02 243.725 Q2165.4 240.114 2165.4 233.956 Q2165.4 227.591 2168.83 223.864 Q2172.28 220.114 2178.11 220.114 Q2183.34 220.114 2186.38 223.493 Q2189.43 226.85 2189.43 232.637 M2185.17 231.387 Q2185.13 227.892 2183.2 225.808 Q2181.31 223.725 2178.16 223.725 Q2174.59 223.725 2172.44 225.739 Q2170.31 227.753 2169.99 231.41 L2185.17 231.387 Z\" fill=\"#000000\" fill-rule=\"evenodd\" fill-opacity=\"1\" /><path clip-path=\"url(#clip600)\" d=\"M 0 0 M2210.38 242.729 L2218.02 242.729 L2218.02 216.364 L2209.71 218.031 L2209.71 213.771 L2217.97 212.105 L2222.65 212.105 L2222.65 242.729 L2230.29 242.729 L2230.29 246.665 L2210.38 246.665 L2210.38 242.729 Z\" fill=\"#000000\" fill-rule=\"evenodd\" fill-opacity=\"1\" /></svg>\n"
      ]
     },
     "execution_count": 115,
     "metadata": {},
     "output_type": "execute_result"
    }
   ],
   "source": [
    "plot(x, y, title=\"X and Y\", label=\"Value 1\")"
   ]
  },
  {
   "cell_type": "code",
   "execution_count": 118,
   "metadata": {},
   "outputs": [
    {
     "data": {
      "image/svg+xml": [
       "<?xml version=\"1.0\" encoding=\"utf-8\"?>\n",
       "<svg xmlns=\"http://www.w3.org/2000/svg\" xmlns:xlink=\"http://www.w3.org/1999/xlink\" width=\"600\" height=\"400\" viewBox=\"0 0 2400 1600\">\n",
       "<defs>\n",
       "  <clipPath id=\"clip720\">\n",
       "    <rect x=\"0\" y=\"0\" width=\"2400\" height=\"1600\"/>\n",
       "  </clipPath>\n",
       "</defs>\n",
       "<path clip-path=\"url(#clip720)\" d=\"\n",
       "M0 1600 L2400 1600 L2400 0 L0 0  Z\n",
       "  \" fill=\"#ffffff\" fill-rule=\"evenodd\" fill-opacity=\"1\"/>\n",
       "<defs>\n",
       "  <clipPath id=\"clip721\">\n",
       "    <rect x=\"480\" y=\"0\" width=\"1681\" height=\"1600\"/>\n",
       "  </clipPath>\n",
       "</defs>\n",
       "<path clip-path=\"url(#clip720)\" d=\"\n",
       "M148.334 1486.45 L2352.76 1486.45 L2352.76 123.472 L148.334 123.472  Z\n",
       "  \" fill=\"#ffffff\" fill-rule=\"evenodd\" fill-opacity=\"1\"/>\n",
       "<defs>\n",
       "  <clipPath id=\"clip722\">\n",
       "    <rect x=\"148\" y=\"123\" width=\"2205\" height=\"1364\"/>\n",
       "  </clipPath>\n",
       "</defs>\n",
       "<polyline clip-path=\"url(#clip722)\" style=\"stroke:#000000; stroke-width:2; stroke-opacity:0.1; fill:none\" points=\"\n",
       "  359.27,1486.45 359.27,123.472 \n",
       "  \"/>\n",
       "<polyline clip-path=\"url(#clip722)\" style=\"stroke:#000000; stroke-width:2; stroke-opacity:0.1; fill:none\" points=\"\n",
       "  656.361,1486.45 656.361,123.472 \n",
       "  \"/>\n",
       "<polyline clip-path=\"url(#clip722)\" style=\"stroke:#000000; stroke-width:2; stroke-opacity:0.1; fill:none\" points=\"\n",
       "  953.453,1486.45 953.453,123.472 \n",
       "  \"/>\n",
       "<polyline clip-path=\"url(#clip722)\" style=\"stroke:#000000; stroke-width:2; stroke-opacity:0.1; fill:none\" points=\"\n",
       "  1250.55,1486.45 1250.55,123.472 \n",
       "  \"/>\n",
       "<polyline clip-path=\"url(#clip722)\" style=\"stroke:#000000; stroke-width:2; stroke-opacity:0.1; fill:none\" points=\"\n",
       "  1547.64,1486.45 1547.64,123.472 \n",
       "  \"/>\n",
       "<polyline clip-path=\"url(#clip722)\" style=\"stroke:#000000; stroke-width:2; stroke-opacity:0.1; fill:none\" points=\"\n",
       "  1844.73,1486.45 1844.73,123.472 \n",
       "  \"/>\n",
       "<polyline clip-path=\"url(#clip722)\" style=\"stroke:#000000; stroke-width:2; stroke-opacity:0.1; fill:none\" points=\"\n",
       "  2141.82,1486.45 2141.82,123.472 \n",
       "  \"/>\n",
       "<polyline clip-path=\"url(#clip720)\" style=\"stroke:#000000; stroke-width:4; stroke-opacity:1; fill:none\" points=\"\n",
       "  148.334,1486.45 2352.76,1486.45 \n",
       "  \"/>\n",
       "<polyline clip-path=\"url(#clip720)\" style=\"stroke:#000000; stroke-width:4; stroke-opacity:1; fill:none\" points=\"\n",
       "  359.27,1486.45 359.27,1470.09 \n",
       "  \"/>\n",
       "<polyline clip-path=\"url(#clip720)\" style=\"stroke:#000000; stroke-width:4; stroke-opacity:1; fill:none\" points=\"\n",
       "  656.361,1486.45 656.361,1470.09 \n",
       "  \"/>\n",
       "<polyline clip-path=\"url(#clip720)\" style=\"stroke:#000000; stroke-width:4; stroke-opacity:1; fill:none\" points=\"\n",
       "  953.453,1486.45 953.453,1470.09 \n",
       "  \"/>\n",
       "<polyline clip-path=\"url(#clip720)\" style=\"stroke:#000000; stroke-width:4; stroke-opacity:1; fill:none\" points=\"\n",
       "  1250.55,1486.45 1250.55,1470.09 \n",
       "  \"/>\n",
       "<polyline clip-path=\"url(#clip720)\" style=\"stroke:#000000; stroke-width:4; stroke-opacity:1; fill:none\" points=\"\n",
       "  1547.64,1486.45 1547.64,1470.09 \n",
       "  \"/>\n",
       "<polyline clip-path=\"url(#clip720)\" style=\"stroke:#000000; stroke-width:4; stroke-opacity:1; fill:none\" points=\"\n",
       "  1844.73,1486.45 1844.73,1470.09 \n",
       "  \"/>\n",
       "<polyline clip-path=\"url(#clip720)\" style=\"stroke:#000000; stroke-width:4; stroke-opacity:1; fill:none\" points=\"\n",
       "  2141.82,1486.45 2141.82,1470.09 \n",
       "  \"/>\n",
       "<path clip-path=\"url(#clip720)\" d=\"M 0 0 M353.922 1543.18 L370.242 1543.18 L370.242 1547.12 L348.297 1547.12 L348.297 1543.18 Q350.959 1540.43 355.543 1535.8 Q360.149 1531.15 361.33 1529.81 Q363.575 1527.28 364.455 1525.55 Q365.358 1523.79 365.358 1522.1 Q365.358 1519.34 363.413 1517.61 Q361.492 1515.87 358.39 1515.87 Q356.191 1515.87 353.737 1516.63 Q351.307 1517.4 348.529 1518.95 L348.529 1514.23 Q351.353 1513.09 353.807 1512.51 Q356.26 1511.93 358.297 1511.93 Q363.668 1511.93 366.862 1514.62 Q370.057 1517.31 370.057 1521.8 Q370.057 1523.93 369.246 1525.85 Q368.459 1527.74 366.353 1530.34 Q365.774 1531.01 362.672 1534.23 Q359.571 1537.42 353.922 1543.18 Z\" fill=\"#000000\" fill-rule=\"evenodd\" fill-opacity=\"1\" /><path clip-path=\"url(#clip720)\" d=\"M 0 0 M659.371 1516.63 L647.565 1535.08 L659.371 1535.08 L659.371 1516.63 M658.144 1512.56 L664.023 1512.56 L664.023 1535.08 L668.954 1535.08 L668.954 1538.97 L664.023 1538.97 L664.023 1547.12 L659.371 1547.12 L659.371 1538.97 L643.769 1538.97 L643.769 1534.46 L658.144 1512.56 Z\" fill=\"#000000\" fill-rule=\"evenodd\" fill-opacity=\"1\" /><path clip-path=\"url(#clip720)\" d=\"M 0 0 M953.858 1527.98 Q950.71 1527.98 948.858 1530.13 Q947.03 1532.28 947.03 1536.03 Q947.03 1539.76 948.858 1541.93 Q950.71 1544.09 953.858 1544.09 Q957.007 1544.09 958.835 1541.93 Q960.687 1539.76 960.687 1536.03 Q960.687 1532.28 958.835 1530.13 Q957.007 1527.98 953.858 1527.98 M963.141 1513.32 L963.141 1517.58 Q961.381 1516.75 959.576 1516.31 Q957.794 1515.87 956.034 1515.87 Q951.405 1515.87 948.951 1519 Q946.52 1522.12 946.173 1528.44 Q947.539 1526.43 949.599 1525.36 Q951.659 1524.27 954.136 1524.27 Q959.344 1524.27 962.354 1527.44 Q965.386 1530.59 965.386 1536.03 Q965.386 1541.36 962.238 1544.57 Q959.09 1547.79 953.858 1547.79 Q947.863 1547.79 944.692 1543.21 Q941.52 1538.6 941.52 1529.87 Q941.52 1521.68 945.409 1516.82 Q949.298 1511.93 955.849 1511.93 Q957.608 1511.93 959.391 1512.28 Q961.196 1512.63 963.141 1513.32 Z\" fill=\"#000000\" fill-rule=\"evenodd\" fill-opacity=\"1\" /><path clip-path=\"url(#clip720)\" d=\"M 0 0 M1250.55 1530.71 Q1247.21 1530.71 1245.29 1532.49 Q1243.39 1534.27 1243.39 1537.4 Q1243.39 1540.52 1245.29 1542.31 Q1247.21 1544.09 1250.55 1544.09 Q1253.88 1544.09 1255.8 1542.31 Q1257.72 1540.5 1257.72 1537.4 Q1257.72 1534.27 1255.8 1532.49 Q1253.9 1530.71 1250.55 1530.71 M1245.87 1528.72 Q1242.86 1527.98 1241.17 1525.92 Q1239.5 1523.86 1239.5 1520.89 Q1239.5 1516.75 1242.44 1514.34 Q1245.41 1511.93 1250.55 1511.93 Q1255.71 1511.93 1258.65 1514.34 Q1261.59 1516.75 1261.59 1520.89 Q1261.59 1523.86 1259.9 1525.92 Q1258.23 1527.98 1255.24 1528.72 Q1258.62 1529.5 1260.5 1531.8 Q1262.4 1534.09 1262.4 1537.4 Q1262.4 1542.42 1259.32 1545.11 Q1256.26 1547.79 1250.55 1547.79 Q1244.83 1547.79 1241.75 1545.11 Q1238.69 1542.42 1238.69 1537.4 Q1238.69 1534.09 1240.59 1531.8 Q1242.49 1529.5 1245.87 1528.72 M1244.16 1521.33 Q1244.16 1524.02 1245.82 1525.52 Q1247.51 1527.03 1250.55 1527.03 Q1253.55 1527.03 1255.24 1525.52 Q1256.96 1524.02 1256.96 1521.33 Q1256.96 1518.65 1255.24 1517.14 Q1253.55 1515.64 1250.55 1515.64 Q1247.51 1515.64 1245.82 1517.14 Q1244.16 1518.65 1244.16 1521.33 Z\" fill=\"#000000\" fill-rule=\"evenodd\" fill-opacity=\"1\" /><path clip-path=\"url(#clip720)\" d=\"M 0 0 M1524.51 1543.18 L1532.15 1543.18 L1532.15 1516.82 L1523.84 1518.49 L1523.84 1514.23 L1532.1 1512.56 L1536.78 1512.56 L1536.78 1543.18 L1544.42 1543.18 L1544.42 1547.12 L1524.51 1547.12 L1524.51 1543.18 Z\" fill=\"#000000\" fill-rule=\"evenodd\" fill-opacity=\"1\" /><path clip-path=\"url(#clip720)\" d=\"M 0 0 M1559.49 1515.64 Q1555.88 1515.64 1554.05 1519.2 Q1552.24 1522.75 1552.24 1529.87 Q1552.24 1536.98 1554.05 1540.55 Q1555.88 1544.09 1559.49 1544.09 Q1563.12 1544.09 1564.93 1540.55 Q1566.76 1536.98 1566.76 1529.87 Q1566.76 1522.75 1564.93 1519.2 Q1563.12 1515.64 1559.49 1515.64 M1559.49 1511.93 Q1565.3 1511.93 1568.35 1516.54 Q1571.43 1521.12 1571.43 1529.87 Q1571.43 1538.6 1568.35 1543.21 Q1565.3 1547.79 1559.49 1547.79 Q1553.68 1547.79 1550.6 1543.21 Q1547.54 1538.6 1547.54 1529.87 Q1547.54 1521.12 1550.6 1516.54 Q1553.68 1511.93 1559.49 1511.93 Z\" fill=\"#000000\" fill-rule=\"evenodd\" fill-opacity=\"1\" /><path clip-path=\"url(#clip720)\" d=\"M 0 0 M1822.4 1543.18 L1830.04 1543.18 L1830.04 1516.82 L1821.73 1518.49 L1821.73 1514.23 L1830 1512.56 L1834.67 1512.56 L1834.67 1543.18 L1842.31 1543.18 L1842.31 1547.12 L1822.4 1547.12 L1822.4 1543.18 Z\" fill=\"#000000\" fill-rule=\"evenodd\" fill-opacity=\"1\" /><path clip-path=\"url(#clip720)\" d=\"M 0 0 M1851.41 1543.18 L1867.73 1543.18 L1867.73 1547.12 L1845.78 1547.12 L1845.78 1543.18 Q1848.44 1540.43 1853.03 1535.8 Q1857.63 1531.15 1858.81 1529.81 Q1861.06 1527.28 1861.94 1525.55 Q1862.84 1523.79 1862.84 1522.1 Q1862.84 1519.34 1860.9 1517.61 Q1858.98 1515.87 1855.87 1515.87 Q1853.68 1515.87 1851.22 1516.63 Q1848.79 1517.4 1846.01 1518.95 L1846.01 1514.23 Q1848.84 1513.09 1851.29 1512.51 Q1853.75 1511.93 1855.78 1511.93 Q1861.15 1511.93 1864.35 1514.62 Q1867.54 1517.31 1867.54 1521.8 Q1867.54 1523.93 1866.73 1525.85 Q1865.94 1527.74 1863.84 1530.34 Q1863.26 1531.01 1860.16 1534.23 Q1857.06 1537.42 1851.41 1543.18 Z\" fill=\"#000000\" fill-rule=\"evenodd\" fill-opacity=\"1\" /><path clip-path=\"url(#clip720)\" d=\"M 0 0 M2118.45 1543.18 L2126.09 1543.18 L2126.09 1516.82 L2117.78 1518.49 L2117.78 1514.23 L2126.05 1512.56 L2130.72 1512.56 L2130.72 1543.18 L2138.36 1543.18 L2138.36 1547.12 L2118.45 1547.12 L2118.45 1543.18 Z\" fill=\"#000000\" fill-rule=\"evenodd\" fill-opacity=\"1\" /><path clip-path=\"url(#clip720)\" d=\"M 0 0 M2156.28 1516.63 L2144.47 1535.08 L2156.28 1535.08 L2156.28 1516.63 M2155.05 1512.56 L2160.93 1512.56 L2160.93 1535.08 L2165.86 1535.08 L2165.86 1538.97 L2160.93 1538.97 L2160.93 1547.12 L2156.28 1547.12 L2156.28 1538.97 L2140.67 1538.97 L2140.67 1534.46 L2155.05 1512.56 Z\" fill=\"#000000\" fill-rule=\"evenodd\" fill-opacity=\"1\" /><polyline clip-path=\"url(#clip722)\" style=\"stroke:#000000; stroke-width:2; stroke-opacity:0.1; fill:none\" points=\"\n",
       "  148.334,1433.42 2352.76,1433.42 \n",
       "  \"/>\n",
       "<polyline clip-path=\"url(#clip722)\" style=\"stroke:#000000; stroke-width:2; stroke-opacity:0.1; fill:none\" points=\"\n",
       "  148.334,1112.72 2352.76,1112.72 \n",
       "  \"/>\n",
       "<polyline clip-path=\"url(#clip722)\" style=\"stroke:#000000; stroke-width:2; stroke-opacity:0.1; fill:none\" points=\"\n",
       "  148.334,792.015 2352.76,792.015 \n",
       "  \"/>\n",
       "<polyline clip-path=\"url(#clip722)\" style=\"stroke:#000000; stroke-width:2; stroke-opacity:0.1; fill:none\" points=\"\n",
       "  148.334,471.31 2352.76,471.31 \n",
       "  \"/>\n",
       "<polyline clip-path=\"url(#clip722)\" style=\"stroke:#000000; stroke-width:2; stroke-opacity:0.1; fill:none\" points=\"\n",
       "  148.334,150.606 2352.76,150.606 \n",
       "  \"/>\n",
       "<polyline clip-path=\"url(#clip720)\" style=\"stroke:#000000; stroke-width:4; stroke-opacity:1; fill:none\" points=\"\n",
       "  148.334,1486.45 148.334,123.472 \n",
       "  \"/>\n",
       "<polyline clip-path=\"url(#clip720)\" style=\"stroke:#000000; stroke-width:4; stroke-opacity:1; fill:none\" points=\"\n",
       "  148.334,1433.42 174.787,1433.42 \n",
       "  \"/>\n",
       "<polyline clip-path=\"url(#clip720)\" style=\"stroke:#000000; stroke-width:4; stroke-opacity:1; fill:none\" points=\"\n",
       "  148.334,1112.72 174.787,1112.72 \n",
       "  \"/>\n",
       "<polyline clip-path=\"url(#clip720)\" style=\"stroke:#000000; stroke-width:4; stroke-opacity:1; fill:none\" points=\"\n",
       "  148.334,792.015 174.787,792.015 \n",
       "  \"/>\n",
       "<polyline clip-path=\"url(#clip720)\" style=\"stroke:#000000; stroke-width:4; stroke-opacity:1; fill:none\" points=\"\n",
       "  148.334,471.31 174.787,471.31 \n",
       "  \"/>\n",
       "<polyline clip-path=\"url(#clip720)\" style=\"stroke:#000000; stroke-width:4; stroke-opacity:1; fill:none\" points=\"\n",
       "  148.334,150.606 174.787,150.606 \n",
       "  \"/>\n",
       "<path clip-path=\"url(#clip720)\" d=\"M 0 0 M65.0198 1419.22 Q61.4087 1419.22 59.58 1422.79 Q57.7745 1426.33 57.7745 1433.46 Q57.7745 1440.56 59.58 1444.13 Q61.4087 1447.67 65.0198 1447.67 Q68.6541 1447.67 70.4596 1444.13 Q72.2883 1440.56 72.2883 1433.46 Q72.2883 1426.33 70.4596 1422.79 Q68.6541 1419.22 65.0198 1419.22 M65.0198 1415.52 Q70.83 1415.52 73.8855 1420.13 Q76.9642 1424.71 76.9642 1433.46 Q76.9642 1442.19 73.8855 1446.79 Q70.83 1451.37 65.0198 1451.37 Q59.2097 1451.37 56.131 1446.79 Q53.0754 1442.19 53.0754 1433.46 Q53.0754 1424.71 56.131 1420.13 Q59.2097 1415.52 65.0198 1415.52 Z\" fill=\"#000000\" fill-rule=\"evenodd\" fill-opacity=\"1\" /><path clip-path=\"url(#clip720)\" d=\"M 0 0 M82.0336 1444.82 L86.9179 1444.82 L86.9179 1450.7 L82.0336 1450.7 L82.0336 1444.82 Z\" fill=\"#000000\" fill-rule=\"evenodd\" fill-opacity=\"1\" /><path clip-path=\"url(#clip720)\" d=\"M 0 0 M96.015 1446.77 L112.334 1446.77 L112.334 1450.7 L90.3901 1450.7 L90.3901 1446.77 Q93.0521 1444.01 97.6354 1439.38 Q102.242 1434.73 103.422 1433.39 Q105.668 1430.87 106.547 1429.13 Q107.45 1427.37 107.45 1425.68 Q107.45 1422.93 105.506 1421.19 Q103.584 1419.45 100.483 1419.45 Q98.2835 1419.45 95.8298 1420.22 Q93.3993 1420.98 90.6215 1422.53 L90.6215 1417.81 Q93.4456 1416.68 95.8993 1416.1 Q98.353 1415.52 100.39 1415.52 Q105.76 1415.52 108.955 1418.2 Q112.149 1420.89 112.149 1425.38 Q112.149 1427.51 111.339 1429.43 Q110.552 1431.33 108.446 1433.92 Q107.867 1434.59 104.765 1437.81 Q101.663 1441 96.015 1446.77 Z\" fill=\"#000000\" fill-rule=\"evenodd\" fill-opacity=\"1\" /><path clip-path=\"url(#clip720)\" d=\"M 0 0 M62.9365 1098.52 Q59.3254 1098.52 57.4967 1102.08 Q55.6912 1105.62 55.6912 1112.75 Q55.6912 1119.86 57.4967 1123.43 Q59.3254 1126.97 62.9365 1126.97 Q66.5707 1126.97 68.3763 1123.43 Q70.205 1119.86 70.205 1112.75 Q70.205 1105.62 68.3763 1102.08 Q66.5707 1098.52 62.9365 1098.52 M62.9365 1094.81 Q68.7467 1094.81 71.8022 1099.42 Q74.8809 1104 74.8809 1112.75 Q74.8809 1121.48 71.8022 1126.09 Q68.7467 1130.67 62.9365 1130.67 Q57.1264 1130.67 54.0477 1126.09 Q50.9921 1121.48 50.9921 1112.75 Q50.9921 1104 54.0477 1099.42 Q57.1264 1094.81 62.9365 1094.81 Z\" fill=\"#000000\" fill-rule=\"evenodd\" fill-opacity=\"1\" /><path clip-path=\"url(#clip720)\" d=\"M 0 0 M79.9503 1124.12 L84.8345 1124.12 L84.8345 1130 L79.9503 1130 L79.9503 1124.12 Z\" fill=\"#000000\" fill-rule=\"evenodd\" fill-opacity=\"1\" /><path clip-path=\"url(#clip720)\" d=\"M 0 0 M102.751 1099.51 L90.9456 1117.96 L102.751 1117.96 L102.751 1099.51 M101.524 1095.44 L107.404 1095.44 L107.404 1117.96 L112.334 1117.96 L112.334 1121.85 L107.404 1121.85 L107.404 1130 L102.751 1130 L102.751 1121.85 L87.1493 1121.85 L87.1493 1117.34 L101.524 1095.44 Z\" fill=\"#000000\" fill-rule=\"evenodd\" fill-opacity=\"1\" /><path clip-path=\"url(#clip720)\" d=\"M 0 0 M63.2606 777.813 Q59.6495 777.813 57.8208 781.378 Q56.0152 784.92 56.0152 792.05 Q56.0152 799.156 57.8208 802.721 Q59.6495 806.262 63.2606 806.262 Q66.8948 806.262 68.7004 802.721 Q70.5291 799.156 70.5291 792.05 Q70.5291 784.92 68.7004 781.378 Q66.8948 777.813 63.2606 777.813 M63.2606 774.11 Q69.0707 774.11 72.1263 778.716 Q75.205 783.3 75.205 792.05 Q75.205 800.776 72.1263 805.383 Q69.0707 809.966 63.2606 809.966 Q57.4504 809.966 54.3717 805.383 Q51.3162 800.776 51.3162 792.05 Q51.3162 783.3 54.3717 778.716 Q57.4504 774.11 63.2606 774.11 Z\" fill=\"#000000\" fill-rule=\"evenodd\" fill-opacity=\"1\" /><path clip-path=\"url(#clip720)\" d=\"M 0 0 M80.2744 803.415 L85.1586 803.415 L85.1586 809.295 L80.2744 809.295 L80.2744 803.415 Z\" fill=\"#000000\" fill-rule=\"evenodd\" fill-opacity=\"1\" /><path clip-path=\"url(#clip720)\" d=\"M 0 0 M100.807 790.151 Q97.6585 790.151 95.8067 792.304 Q93.978 794.457 93.978 798.207 Q93.978 801.934 95.8067 804.11 Q97.6585 806.262 100.807 806.262 Q103.955 806.262 105.783 804.11 Q107.635 801.934 107.635 798.207 Q107.635 794.457 105.783 792.304 Q103.955 790.151 100.807 790.151 M110.089 775.499 L110.089 779.758 Q108.33 778.925 106.524 778.485 Q104.742 778.045 102.983 778.045 Q98.353 778.045 95.8993 781.17 Q93.4688 784.295 93.1215 790.614 Q94.4873 788.6 96.5474 787.536 Q98.6076 786.448 101.084 786.448 Q106.293 786.448 109.302 789.619 Q112.334 792.767 112.334 798.207 Q112.334 803.531 109.186 806.749 Q106.038 809.966 100.807 809.966 Q94.8113 809.966 91.6401 805.383 Q88.4688 800.776 88.4688 792.05 Q88.4688 783.855 92.3576 778.994 Q96.2465 774.11 102.797 774.11 Q104.557 774.11 106.339 774.457 Q108.145 774.804 110.089 775.499 Z\" fill=\"#000000\" fill-rule=\"evenodd\" fill-opacity=\"1\" /><path clip-path=\"url(#clip720)\" d=\"M 0 0 M63.5152 457.109 Q59.9041 457.109 58.0754 460.674 Q56.2699 464.216 56.2699 471.345 Q56.2699 478.452 58.0754 482.016 Q59.9041 485.558 63.5152 485.558 Q67.1494 485.558 68.955 482.016 Q70.7837 478.452 70.7837 471.345 Q70.7837 464.216 68.955 460.674 Q67.1494 457.109 63.5152 457.109 M63.5152 453.405 Q69.3254 453.405 72.3809 458.012 Q75.4596 462.595 75.4596 471.345 Q75.4596 480.072 72.3809 484.678 Q69.3254 489.262 63.5152 489.262 Q57.7051 489.262 54.6264 484.678 Q51.5708 480.072 51.5708 471.345 Q51.5708 462.595 54.6264 458.012 Q57.7051 453.405 63.5152 453.405 Z\" fill=\"#000000\" fill-rule=\"evenodd\" fill-opacity=\"1\" /><path clip-path=\"url(#clip720)\" d=\"M 0 0 M80.529 482.711 L85.4132 482.711 L85.4132 488.59 L80.529 488.59 L80.529 482.711 Z\" fill=\"#000000\" fill-rule=\"evenodd\" fill-opacity=\"1\" /><path clip-path=\"url(#clip720)\" d=\"M 0 0 M100.483 472.178 Q97.1493 472.178 95.228 473.961 Q93.3299 475.743 93.3299 478.868 Q93.3299 481.993 95.228 483.776 Q97.1493 485.558 100.483 485.558 Q103.816 485.558 105.737 483.776 Q107.658 481.97 107.658 478.868 Q107.658 475.743 105.737 473.961 Q103.839 472.178 100.483 472.178 M95.8067 470.188 Q92.7975 469.447 91.1077 467.387 Q89.441 465.327 89.441 462.364 Q89.441 458.22 92.3808 455.813 Q95.3437 453.405 100.483 453.405 Q105.645 453.405 108.584 455.813 Q111.524 458.22 111.524 462.364 Q111.524 465.327 109.834 467.387 Q108.168 469.447 105.182 470.188 Q108.561 470.975 110.436 473.266 Q112.334 475.558 112.334 478.868 Q112.334 483.891 109.256 486.577 Q106.2 489.262 100.483 489.262 Q94.765 489.262 91.6864 486.577 Q88.6308 483.891 88.6308 478.868 Q88.6308 475.558 90.529 473.266 Q92.4271 470.975 95.8067 470.188 M94.0937 462.803 Q94.0937 465.489 95.7604 466.993 Q97.4502 468.498 100.483 468.498 Q103.492 468.498 105.182 466.993 Q106.895 465.489 106.895 462.803 Q106.895 460.118 105.182 458.614 Q103.492 457.109 100.483 457.109 Q97.4502 457.109 95.7604 458.614 Q94.0937 460.118 94.0937 462.803 Z\" fill=\"#000000\" fill-rule=\"evenodd\" fill-opacity=\"1\" /><path clip-path=\"url(#clip720)\" d=\"M 0 0 M55.4597 163.951 L63.0985 163.951 L63.0985 137.585 L54.7884 139.252 L54.7884 134.993 L63.0522 133.326 L67.7281 133.326 L67.7281 163.951 L75.367 163.951 L75.367 167.886 L55.4597 167.886 L55.4597 163.951 Z\" fill=\"#000000\" fill-rule=\"evenodd\" fill-opacity=\"1\" /><path clip-path=\"url(#clip720)\" d=\"M 0 0 M80.4364 162.006 L85.3206 162.006 L85.3206 167.886 L80.4364 167.886 L80.4364 162.006 Z\" fill=\"#000000\" fill-rule=\"evenodd\" fill-opacity=\"1\" /><path clip-path=\"url(#clip720)\" d=\"M 0 0 M100.39 136.405 Q96.7789 136.405 94.9502 139.969 Q93.1447 143.511 93.1447 150.641 Q93.1447 157.747 94.9502 161.312 Q96.7789 164.854 100.39 164.854 Q104.024 164.854 105.83 161.312 Q107.658 157.747 107.658 150.641 Q107.658 143.511 105.83 139.969 Q104.024 136.405 100.39 136.405 M100.39 132.701 Q106.2 132.701 109.256 137.307 Q112.334 141.891 112.334 150.641 Q112.334 159.368 109.256 163.974 Q106.2 168.557 100.39 168.557 Q94.5799 168.557 91.5012 163.974 Q88.4456 159.368 88.4456 150.641 Q88.4456 141.891 91.5012 137.307 Q94.5799 132.701 100.39 132.701 Z\" fill=\"#000000\" fill-rule=\"evenodd\" fill-opacity=\"1\" /><path clip-path=\"url(#clip720)\" d=\"M 0 0 M1108.64 12.096 L1117.43 12.096 L1132.46 34.5785 L1147.57 12.096 L1156.36 12.096 L1136.92 41.141 L1157.66 72.576 L1148.87 72.576 L1131.85 46.8528 L1114.72 72.576 L1105.89 72.576 L1127.48 40.2903 L1108.64 12.096 Z\" fill=\"#000000\" fill-rule=\"evenodd\" fill-opacity=\"1\" /><path clip-path=\"url(#clip720)\" d=\"M 0 0 M1212.47 49.7694 Q1203.43 49.7694 1199.95 51.8354 Q1196.47 53.9013 1196.47 58.8839 Q1196.47 62.8538 1199.06 65.2034 Q1201.69 67.5124 1206.19 67.5124 Q1212.39 67.5124 1216.11 63.1374 Q1219.88 58.7219 1219.88 51.4303 L1219.88 49.7694 L1212.47 49.7694 M1227.33 46.6907 L1227.33 72.576 L1219.88 72.576 L1219.88 65.6895 Q1217.33 69.8214 1213.52 71.8063 Q1209.71 73.7508 1204.2 73.7508 Q1197.24 73.7508 1193.1 69.8619 Q1189.01 65.9325 1189.01 59.3701 Q1189.01 51.7138 1194.12 47.825 Q1199.26 43.9361 1209.43 43.9361 L1219.88 43.9361 L1219.88 43.2069 Q1219.88 38.0623 1216.48 35.2672 Q1213.11 32.4315 1207 32.4315 Q1203.11 32.4315 1199.42 33.3632 Q1195.74 34.295 1192.33 36.1584 L1192.33 29.2718 Q1196.43 27.692 1200.27 26.9223 Q1204.12 26.1121 1207.77 26.1121 Q1217.61 26.1121 1222.47 31.2163 Q1227.33 36.3204 1227.33 46.6907 Z\" fill=\"#000000\" fill-rule=\"evenodd\" fill-opacity=\"1\" /><path clip-path=\"url(#clip720)\" d=\"M 0 0 M1272.87 45.1919 L1272.87 72.576 L1265.41 72.576 L1265.41 45.4349 Q1265.41 38.994 1262.9 35.7938 Q1260.39 32.5936 1255.37 32.5936 Q1249.33 32.5936 1245.85 36.4419 Q1242.36 40.2903 1242.36 46.9338 L1242.36 72.576 L1234.87 72.576 L1234.87 27.2059 L1242.36 27.2059 L1242.36 34.2544 Q1245.04 30.163 1248.64 28.1376 Q1252.29 26.1121 1257.03 26.1121 Q1264.84 26.1121 1268.86 30.9732 Q1272.87 35.7938 1272.87 45.1919 Z\" fill=\"#000000\" fill-rule=\"evenodd\" fill-opacity=\"1\" /><path clip-path=\"url(#clip720)\" d=\"M 0 0 M1310.54 34.0924 L1310.54 9.54393 L1317.99 9.54393 L1317.99 72.576 L1310.54 72.576 L1310.54 65.7705 Q1308.19 69.8214 1304.58 71.8063 Q1301.02 73.7508 1296 73.7508 Q1287.77 73.7508 1282.59 67.1883 Q1277.44 60.6258 1277.44 49.9314 Q1277.44 39.2371 1282.59 32.6746 Q1287.77 26.1121 1296 26.1121 Q1301.02 26.1121 1304.58 28.0971 Q1308.19 30.0415 1310.54 34.0924 M1285.14 49.9314 Q1285.14 58.1548 1288.5 62.8538 Q1291.9 67.5124 1297.82 67.5124 Q1303.73 67.5124 1307.14 62.8538 Q1310.54 58.1548 1310.54 49.9314 Q1310.54 41.7081 1307.14 37.0496 Q1303.73 32.3505 1297.82 32.3505 Q1291.9 32.3505 1288.5 37.0496 Q1285.14 41.7081 1285.14 49.9314 Z\" fill=\"#000000\" fill-rule=\"evenodd\" fill-opacity=\"1\" /><path clip-path=\"url(#clip720)\" d=\"M 0 0 M1344.2 12.096 L1352.99 12.096 L1369.76 36.9686 L1386.41 12.096 L1395.2 12.096 L1373.81 43.7741 L1373.81 72.576 L1365.59 72.576 L1365.59 43.7741 L1344.2 12.096 Z\" fill=\"#000000\" fill-rule=\"evenodd\" fill-opacity=\"1\" /><polyline clip-path=\"url(#clip722)\" style=\"stroke:#009af9; stroke-width:4; stroke-opacity:1; fill:none\" points=\"\n",
       "  210.724,1149.83 359.27,265.58 507.816,480.185 656.361,1360.34 804.907,1153.45 953.453,162.047 1102,1447.87 1250.55,432.111 1399.09,1134.32 1547.64,863.658 \n",
       "  1696.18,1351.85 1844.73,622.703 1993.27,1109.99 2141.82,1021.06 2290.37,924.899 \n",
       "  \"/>\n",
       "<path clip-path=\"url(#clip720)\" d=\"\n",
       "M1983.32 289.865 L2279.28 289.865 L2279.28 168.905 L1983.32 168.905  Z\n",
       "  \" fill=\"#ffffff\" fill-rule=\"evenodd\" fill-opacity=\"1\"/>\n",
       "<polyline clip-path=\"url(#clip720)\" style=\"stroke:#000000; stroke-width:4; stroke-opacity:1; fill:none\" points=\"\n",
       "  1983.32,289.865 2279.28,289.865 2279.28,168.905 1983.32,168.905 1983.32,289.865 \n",
       "  \"/>\n",
       "<polyline clip-path=\"url(#clip720)\" style=\"stroke:#009af9; stroke-width:4; stroke-opacity:1; fill:none\" points=\"\n",
       "  2007.81,229.385 2154.78,229.385 \n",
       "  \"/>\n",
       "<path clip-path=\"url(#clip720)\" d=\"M 0 0 M2193.11 249.072 Q2191.31 253.702 2189.59 255.114 Q2187.88 256.526 2185.01 256.526 L2181.61 256.526 L2181.61 252.961 L2184.11 252.961 Q2185.87 252.961 2186.84 252.128 Q2187.81 251.294 2188.99 248.192 L2189.76 246.248 L2179.27 220.739 L2183.78 220.739 L2191.89 241.017 L2199.99 220.739 L2204.5 220.739 L2193.11 249.072 Z\" fill=\"#000000\" fill-rule=\"evenodd\" fill-opacity=\"1\" /><path clip-path=\"url(#clip720)\" d=\"M 0 0 M2210.38 242.729 L2218.02 242.729 L2218.02 216.364 L2209.71 218.031 L2209.71 213.771 L2217.97 212.105 L2222.65 212.105 L2222.65 242.729 L2230.29 242.729 L2230.29 246.665 L2210.38 246.665 L2210.38 242.729 Z\" fill=\"#000000\" fill-rule=\"evenodd\" fill-opacity=\"1\" /></svg>\n"
      ]
     },
     "execution_count": 118,
     "metadata": {},
     "output_type": "execute_result"
    }
   ],
   "source": [
    "plot(x, z,  title=\"X and Y\",)"
   ]
  },
  {
   "cell_type": "code",
   "execution_count": 120,
   "metadata": {},
   "outputs": [
    {
     "data": {
      "image/svg+xml": [
       "<?xml version=\"1.0\" encoding=\"utf-8\"?>\n",
       "<svg xmlns=\"http://www.w3.org/2000/svg\" xmlns:xlink=\"http://www.w3.org/1999/xlink\" width=\"600\" height=\"400\" viewBox=\"0 0 2400 1600\">\n",
       "<defs>\n",
       "  <clipPath id=\"clip800\">\n",
       "    <rect x=\"0\" y=\"0\" width=\"2400\" height=\"1600\"/>\n",
       "  </clipPath>\n",
       "</defs>\n",
       "<path clip-path=\"url(#clip800)\" d=\"\n",
       "M0 1600 L2400 1600 L2400 0 L0 0  Z\n",
       "  \" fill=\"#ffffff\" fill-rule=\"evenodd\" fill-opacity=\"1\"/>\n",
       "<defs>\n",
       "  <clipPath id=\"clip801\">\n",
       "    <rect x=\"480\" y=\"0\" width=\"1681\" height=\"1600\"/>\n",
       "  </clipPath>\n",
       "</defs>\n",
       "<path clip-path=\"url(#clip800)\" d=\"\n",
       "M211.602 1423.18 L2352.76 1423.18 L2352.76 123.472 L211.602 123.472  Z\n",
       "  \" fill=\"#ffffff\" fill-rule=\"evenodd\" fill-opacity=\"1\"/>\n",
       "<defs>\n",
       "  <clipPath id=\"clip802\">\n",
       "    <rect x=\"211\" y=\"123\" width=\"2142\" height=\"1301\"/>\n",
       "  </clipPath>\n",
       "</defs>\n",
       "<polyline clip-path=\"url(#clip802)\" style=\"stroke:#000000; stroke-width:2; stroke-opacity:0.1; fill:none\" points=\"\n",
       "  416.484,1423.18 416.484,123.472 \n",
       "  \"/>\n",
       "<polyline clip-path=\"url(#clip802)\" style=\"stroke:#000000; stroke-width:2; stroke-opacity:0.1; fill:none\" points=\"\n",
       "  705.049,1423.18 705.049,123.472 \n",
       "  \"/>\n",
       "<polyline clip-path=\"url(#clip802)\" style=\"stroke:#000000; stroke-width:2; stroke-opacity:0.1; fill:none\" points=\"\n",
       "  993.614,1423.18 993.614,123.472 \n",
       "  \"/>\n",
       "<polyline clip-path=\"url(#clip802)\" style=\"stroke:#000000; stroke-width:2; stroke-opacity:0.1; fill:none\" points=\"\n",
       "  1282.18,1423.18 1282.18,123.472 \n",
       "  \"/>\n",
       "<polyline clip-path=\"url(#clip802)\" style=\"stroke:#000000; stroke-width:2; stroke-opacity:0.1; fill:none\" points=\"\n",
       "  1570.74,1423.18 1570.74,123.472 \n",
       "  \"/>\n",
       "<polyline clip-path=\"url(#clip802)\" style=\"stroke:#000000; stroke-width:2; stroke-opacity:0.1; fill:none\" points=\"\n",
       "  1859.31,1423.18 1859.31,123.472 \n",
       "  \"/>\n",
       "<polyline clip-path=\"url(#clip802)\" style=\"stroke:#000000; stroke-width:2; stroke-opacity:0.1; fill:none\" points=\"\n",
       "  2147.87,1423.18 2147.87,123.472 \n",
       "  \"/>\n",
       "<polyline clip-path=\"url(#clip800)\" style=\"stroke:#000000; stroke-width:4; stroke-opacity:1; fill:none\" points=\"\n",
       "  211.602,1423.18 2352.76,1423.18 \n",
       "  \"/>\n",
       "<polyline clip-path=\"url(#clip800)\" style=\"stroke:#000000; stroke-width:4; stroke-opacity:1; fill:none\" points=\"\n",
       "  416.484,1423.18 416.484,1407.58 \n",
       "  \"/>\n",
       "<polyline clip-path=\"url(#clip800)\" style=\"stroke:#000000; stroke-width:4; stroke-opacity:1; fill:none\" points=\"\n",
       "  705.049,1423.18 705.049,1407.58 \n",
       "  \"/>\n",
       "<polyline clip-path=\"url(#clip800)\" style=\"stroke:#000000; stroke-width:4; stroke-opacity:1; fill:none\" points=\"\n",
       "  993.614,1423.18 993.614,1407.58 \n",
       "  \"/>\n",
       "<polyline clip-path=\"url(#clip800)\" style=\"stroke:#000000; stroke-width:4; stroke-opacity:1; fill:none\" points=\"\n",
       "  1282.18,1423.18 1282.18,1407.58 \n",
       "  \"/>\n",
       "<polyline clip-path=\"url(#clip800)\" style=\"stroke:#000000; stroke-width:4; stroke-opacity:1; fill:none\" points=\"\n",
       "  1570.74,1423.18 1570.74,1407.58 \n",
       "  \"/>\n",
       "<polyline clip-path=\"url(#clip800)\" style=\"stroke:#000000; stroke-width:4; stroke-opacity:1; fill:none\" points=\"\n",
       "  1859.31,1423.18 1859.31,1407.58 \n",
       "  \"/>\n",
       "<polyline clip-path=\"url(#clip800)\" style=\"stroke:#000000; stroke-width:4; stroke-opacity:1; fill:none\" points=\"\n",
       "  2147.87,1423.18 2147.87,1407.58 \n",
       "  \"/>\n",
       "<path clip-path=\"url(#clip800)\" d=\"M 0 0 M411.136 1479.92 L427.456 1479.92 L427.456 1483.85 L405.512 1483.85 L405.512 1479.92 Q408.174 1477.16 412.757 1472.53 Q417.363 1467.88 418.544 1466.54 Q420.789 1464.01 421.669 1462.28 Q422.572 1460.52 422.572 1458.83 Q422.572 1456.07 420.627 1454.34 Q418.706 1452.6 415.604 1452.6 Q413.405 1452.6 410.951 1453.37 Q408.521 1454.13 405.743 1455.68 L405.743 1450.96 Q408.567 1449.82 411.021 1449.25 Q413.474 1448.67 415.511 1448.67 Q420.882 1448.67 424.076 1451.35 Q427.271 1454.04 427.271 1458.53 Q427.271 1460.66 426.46 1462.58 Q425.673 1464.48 423.567 1467.07 Q422.988 1467.74 419.886 1470.96 Q416.785 1474.15 411.136 1479.92 Z\" fill=\"#000000\" fill-rule=\"evenodd\" fill-opacity=\"1\" /><path clip-path=\"url(#clip800)\" d=\"M 0 0 M708.058 1453.37 L696.253 1471.81 L708.058 1471.81 L708.058 1453.37 M706.831 1449.29 L712.711 1449.29 L712.711 1471.81 L717.641 1471.81 L717.641 1475.7 L712.711 1475.7 L712.711 1483.85 L708.058 1483.85 L708.058 1475.7 L692.456 1475.7 L692.456 1471.19 L706.831 1449.29 Z\" fill=\"#000000\" fill-rule=\"evenodd\" fill-opacity=\"1\" /><path clip-path=\"url(#clip800)\" d=\"M 0 0 M994.019 1464.71 Q990.871 1464.71 989.019 1466.86 Q987.19 1469.01 987.19 1472.76 Q987.19 1476.49 989.019 1478.67 Q990.871 1480.82 994.019 1480.82 Q997.167 1480.82 998.996 1478.67 Q1000.85 1476.49 1000.85 1472.76 Q1000.85 1469.01 998.996 1466.86 Q997.167 1464.71 994.019 1464.71 M1003.3 1450.06 L1003.3 1454.31 Q1001.54 1453.48 999.737 1453.04 Q997.954 1452.6 996.195 1452.6 Q991.565 1452.6 989.112 1455.73 Q986.681 1458.85 986.334 1465.17 Q987.7 1463.16 989.76 1462.09 Q991.82 1461 994.297 1461 Q999.505 1461 1002.51 1464.18 Q1005.55 1467.32 1005.55 1472.76 Q1005.55 1478.09 1002.4 1481.31 Q999.251 1484.52 994.019 1484.52 Q988.024 1484.52 984.852 1479.94 Q981.681 1475.33 981.681 1466.61 Q981.681 1458.41 985.57 1453.55 Q989.459 1448.67 996.01 1448.67 Q997.769 1448.67 999.551 1449.01 Q1001.36 1449.36 1003.3 1450.06 Z\" fill=\"#000000\" fill-rule=\"evenodd\" fill-opacity=\"1\" /><path clip-path=\"url(#clip800)\" d=\"M 0 0 M1282.18 1467.44 Q1278.85 1467.44 1276.92 1469.22 Q1275.03 1471 1275.03 1474.13 Q1275.03 1477.25 1276.92 1479.04 Q1278.85 1480.82 1282.18 1480.82 Q1285.51 1480.82 1287.43 1479.04 Q1289.36 1477.23 1289.36 1474.13 Q1289.36 1471 1287.43 1469.22 Q1285.54 1467.44 1282.18 1467.44 M1277.5 1465.45 Q1274.49 1464.71 1272.8 1462.65 Q1271.14 1460.59 1271.14 1457.63 Q1271.14 1453.48 1274.08 1451.07 Q1277.04 1448.67 1282.18 1448.67 Q1287.34 1448.67 1290.28 1451.07 Q1293.22 1453.48 1293.22 1457.63 Q1293.22 1460.59 1291.53 1462.65 Q1289.86 1464.71 1286.88 1465.45 Q1290.26 1466.24 1292.13 1468.53 Q1294.03 1470.82 1294.03 1474.13 Q1294.03 1479.15 1290.95 1481.84 Q1287.9 1484.52 1282.18 1484.52 Q1276.46 1484.52 1273.38 1481.84 Q1270.33 1479.15 1270.33 1474.13 Q1270.33 1470.82 1272.23 1468.53 Q1274.12 1466.24 1277.5 1465.45 M1275.79 1458.06 Q1275.79 1460.75 1277.46 1462.25 Q1279.15 1463.76 1282.18 1463.76 Q1285.19 1463.76 1286.88 1462.25 Q1288.59 1460.75 1288.59 1458.06 Q1288.59 1455.38 1286.88 1453.88 Q1285.19 1452.37 1282.18 1452.37 Q1279.15 1452.37 1277.46 1453.88 Q1275.79 1455.38 1275.79 1458.06 Z\" fill=\"#000000\" fill-rule=\"evenodd\" fill-opacity=\"1\" /><path clip-path=\"url(#clip800)\" d=\"M 0 0 M1547.62 1479.92 L1555.26 1479.92 L1555.26 1453.55 L1546.95 1455.22 L1546.95 1450.96 L1555.21 1449.29 L1559.89 1449.29 L1559.89 1479.92 L1567.53 1479.92 L1567.53 1483.85 L1547.62 1483.85 L1547.62 1479.92 Z\" fill=\"#000000\" fill-rule=\"evenodd\" fill-opacity=\"1\" /><path clip-path=\"url(#clip800)\" d=\"M 0 0 M1582.6 1452.37 Q1578.99 1452.37 1577.16 1455.94 Q1575.35 1459.48 1575.35 1466.61 Q1575.35 1473.71 1577.16 1477.28 Q1578.99 1480.82 1582.6 1480.82 Q1586.23 1480.82 1588.04 1477.28 Q1589.86 1473.71 1589.86 1466.61 Q1589.86 1459.48 1588.04 1455.94 Q1586.23 1452.37 1582.6 1452.37 M1582.6 1448.67 Q1588.41 1448.67 1591.46 1453.27 Q1594.54 1457.86 1594.54 1466.61 Q1594.54 1475.33 1591.46 1479.94 Q1588.41 1484.52 1582.6 1484.52 Q1576.79 1484.52 1573.71 1479.94 Q1570.65 1475.33 1570.65 1466.61 Q1570.65 1457.86 1573.71 1453.27 Q1576.79 1448.67 1582.6 1448.67 Z\" fill=\"#000000\" fill-rule=\"evenodd\" fill-opacity=\"1\" /><path clip-path=\"url(#clip800)\" d=\"M 0 0 M1836.98 1479.92 L1844.62 1479.92 L1844.62 1453.55 L1836.31 1455.22 L1836.31 1450.96 L1844.58 1449.29 L1849.25 1449.29 L1849.25 1479.92 L1856.89 1479.92 L1856.89 1483.85 L1836.98 1483.85 L1836.98 1479.92 Z\" fill=\"#000000\" fill-rule=\"evenodd\" fill-opacity=\"1\" /><path clip-path=\"url(#clip800)\" d=\"M 0 0 M1865.99 1479.92 L1882.31 1479.92 L1882.31 1483.85 L1860.36 1483.85 L1860.36 1479.92 Q1863.02 1477.16 1867.61 1472.53 Q1872.21 1467.88 1873.4 1466.54 Q1875.64 1464.01 1876.52 1462.28 Q1877.42 1460.52 1877.42 1458.83 Q1877.42 1456.07 1875.48 1454.34 Q1873.56 1452.6 1870.46 1452.6 Q1868.26 1452.6 1865.8 1453.37 Q1863.37 1454.13 1860.59 1455.68 L1860.59 1450.96 Q1863.42 1449.82 1865.87 1449.25 Q1868.33 1448.67 1870.36 1448.67 Q1875.73 1448.67 1878.93 1451.35 Q1882.12 1454.04 1882.12 1458.53 Q1882.12 1460.66 1881.31 1462.58 Q1880.52 1464.48 1878.42 1467.07 Q1877.84 1467.74 1874.74 1470.96 Q1871.64 1474.15 1865.99 1479.92 Z\" fill=\"#000000\" fill-rule=\"evenodd\" fill-opacity=\"1\" /><path clip-path=\"url(#clip800)\" d=\"M 0 0 M2124.51 1479.92 L2132.15 1479.92 L2132.15 1453.55 L2123.84 1455.22 L2123.84 1450.96 L2132.1 1449.29 L2136.78 1449.29 L2136.78 1479.92 L2144.41 1479.92 L2144.41 1483.85 L2124.51 1483.85 L2124.51 1479.92 Z\" fill=\"#000000\" fill-rule=\"evenodd\" fill-opacity=\"1\" /><path clip-path=\"url(#clip800)\" d=\"M 0 0 M2162.33 1453.37 L2150.53 1471.81 L2162.33 1471.81 L2162.33 1453.37 M2161.1 1449.29 L2166.98 1449.29 L2166.98 1471.81 L2171.91 1471.81 L2171.91 1475.7 L2166.98 1475.7 L2166.98 1483.85 L2162.33 1483.85 L2162.33 1475.7 L2146.73 1475.7 L2146.73 1471.19 L2161.1 1449.29 Z\" fill=\"#000000\" fill-rule=\"evenodd\" fill-opacity=\"1\" /><path clip-path=\"url(#clip800)\" d=\"M 0 0 M1187.41 1508.52 L1194.32 1508.52 L1206.12 1526.19 L1218 1508.52 L1224.9 1508.52 L1209.63 1531.34 L1225.92 1556.04 L1219.02 1556.04 L1205.65 1535.83 L1192.18 1556.04 L1185.25 1556.04 L1202.21 1530.68 L1187.41 1508.52 Z\" fill=\"#000000\" fill-rule=\"evenodd\" fill-opacity=\"1\" /><path clip-path=\"url(#clip800)\" d=\"M 0 0 M1252.79 1506.52 L1258.64 1506.52 L1258.64 1556.04 L1252.79 1556.04 L1252.79 1506.52 Z\" fill=\"#000000\" fill-rule=\"evenodd\" fill-opacity=\"1\" /><path clip-path=\"url(#clip800)\" d=\"M 0 0 M1280.99 1538.12 Q1273.89 1538.12 1271.15 1539.75 Q1268.41 1541.37 1268.41 1545.29 Q1268.41 1548.4 1270.45 1550.25 Q1272.52 1552.07 1276.05 1552.07 Q1280.92 1552.07 1283.85 1548.63 Q1286.81 1545.16 1286.81 1539.43 L1286.81 1538.12 L1280.99 1538.12 M1292.67 1535.71 L1292.67 1556.04 L1286.81 1556.04 L1286.81 1550.63 Q1284.81 1553.88 1281.81 1555.44 Q1278.82 1556.97 1274.49 1556.97 Q1269.02 1556.97 1265.77 1553.91 Q1262.56 1550.82 1262.56 1545.67 Q1262.56 1539.65 1266.57 1536.6 Q1270.61 1533.54 1278.6 1533.54 L1286.81 1533.54 L1286.81 1532.97 Q1286.81 1528.93 1284.14 1526.73 Q1281.49 1524.5 1276.69 1524.5 Q1273.63 1524.5 1270.74 1525.23 Q1267.84 1525.97 1265.17 1527.43 L1265.17 1522.02 Q1268.38 1520.78 1271.41 1520.17 Q1274.43 1519.54 1277.29 1519.54 Q1285.03 1519.54 1288.85 1523.55 Q1292.67 1527.56 1292.67 1535.71 Z\" fill=\"#000000\" fill-rule=\"evenodd\" fill-opacity=\"1\" /><path clip-path=\"url(#clip800)\" d=\"M 0 0 M1324.4 1538.25 Q1324.4 1531.79 1321.73 1528.13 Q1319.08 1524.44 1314.44 1524.44 Q1309.79 1524.44 1307.12 1528.13 Q1304.48 1531.79 1304.48 1538.25 Q1304.48 1544.71 1307.12 1548.4 Q1309.79 1552.07 1314.44 1552.07 Q1319.08 1552.07 1321.73 1548.4 Q1324.4 1544.71 1324.4 1538.25 M1304.48 1525.81 Q1306.32 1522.62 1309.12 1521.1 Q1311.95 1519.54 1315.87 1519.54 Q1322.36 1519.54 1326.4 1524.69 Q1330.48 1529.85 1330.48 1538.25 Q1330.48 1546.65 1326.4 1551.81 Q1322.36 1556.97 1315.87 1556.97 Q1311.95 1556.97 1309.12 1555.44 Q1306.32 1553.88 1304.48 1550.7 L1304.48 1556.04 L1298.59 1556.04 L1298.59 1506.52 L1304.48 1506.52 L1304.48 1525.81 Z\" fill=\"#000000\" fill-rule=\"evenodd\" fill-opacity=\"1\" /><path clip-path=\"url(#clip800)\" d=\"M 0 0 M1367.11 1536.76 L1367.11 1539.62 L1340.19 1539.62 Q1340.57 1545.67 1343.82 1548.85 Q1347.09 1552 1352.92 1552 Q1356.29 1552 1359.44 1551.17 Q1362.63 1550.35 1365.74 1548.69 L1365.74 1554.23 Q1362.59 1555.57 1359.28 1556.27 Q1355.97 1556.97 1352.57 1556.97 Q1344.04 1556.97 1339.04 1552 Q1334.08 1547.04 1334.08 1538.57 Q1334.08 1529.82 1338.79 1524.69 Q1343.53 1519.54 1351.55 1519.54 Q1358.74 1519.54 1362.91 1524.18 Q1367.11 1528.8 1367.11 1536.76 M1361.26 1535.04 Q1361.19 1530.23 1358.55 1527.37 Q1355.94 1524.5 1351.61 1524.5 Q1346.71 1524.5 1343.75 1527.27 Q1340.82 1530.04 1340.38 1535.07 L1361.26 1535.04 Z\" fill=\"#000000\" fill-rule=\"evenodd\" fill-opacity=\"1\" /><path clip-path=\"url(#clip800)\" d=\"M 0 0 M1373.26 1506.52 L1379.11 1506.52 L1379.11 1556.04 L1373.26 1556.04 L1373.26 1506.52 Z\" fill=\"#000000\" fill-rule=\"evenodd\" fill-opacity=\"1\" /><polyline clip-path=\"url(#clip802)\" style=\"stroke:#000000; stroke-width:2; stroke-opacity:0.1; fill:none\" points=\"\n",
       "  211.602,1372.62 2352.76,1372.62 \n",
       "  \"/>\n",
       "<polyline clip-path=\"url(#clip802)\" style=\"stroke:#000000; stroke-width:2; stroke-opacity:0.1; fill:none\" points=\"\n",
       "  211.602,1066.8 2352.76,1066.8 \n",
       "  \"/>\n",
       "<polyline clip-path=\"url(#clip802)\" style=\"stroke:#000000; stroke-width:2; stroke-opacity:0.1; fill:none\" points=\"\n",
       "  211.602,760.982 2352.76,760.982 \n",
       "  \"/>\n",
       "<polyline clip-path=\"url(#clip802)\" style=\"stroke:#000000; stroke-width:2; stroke-opacity:0.1; fill:none\" points=\"\n",
       "  211.602,455.164 2352.76,455.164 \n",
       "  \"/>\n",
       "<polyline clip-path=\"url(#clip802)\" style=\"stroke:#000000; stroke-width:2; stroke-opacity:0.1; fill:none\" points=\"\n",
       "  211.602,149.346 2352.76,149.346 \n",
       "  \"/>\n",
       "<polyline clip-path=\"url(#clip800)\" style=\"stroke:#000000; stroke-width:4; stroke-opacity:1; fill:none\" points=\"\n",
       "  211.602,1423.18 211.602,123.472 \n",
       "  \"/>\n",
       "<polyline clip-path=\"url(#clip800)\" style=\"stroke:#000000; stroke-width:4; stroke-opacity:1; fill:none\" points=\"\n",
       "  211.602,1372.62 237.296,1372.62 \n",
       "  \"/>\n",
       "<polyline clip-path=\"url(#clip800)\" style=\"stroke:#000000; stroke-width:4; stroke-opacity:1; fill:none\" points=\"\n",
       "  211.602,1066.8 237.296,1066.8 \n",
       "  \"/>\n",
       "<polyline clip-path=\"url(#clip800)\" style=\"stroke:#000000; stroke-width:4; stroke-opacity:1; fill:none\" points=\"\n",
       "  211.602,760.982 237.296,760.982 \n",
       "  \"/>\n",
       "<polyline clip-path=\"url(#clip800)\" style=\"stroke:#000000; stroke-width:4; stroke-opacity:1; fill:none\" points=\"\n",
       "  211.602,455.164 237.296,455.164 \n",
       "  \"/>\n",
       "<polyline clip-path=\"url(#clip800)\" style=\"stroke:#000000; stroke-width:4; stroke-opacity:1; fill:none\" points=\"\n",
       "  211.602,149.346 237.296,149.346 \n",
       "  \"/>\n",
       "<path clip-path=\"url(#clip800)\" d=\"M 0 0 M128.288 1358.42 Q124.677 1358.42 122.848 1361.98 Q121.043 1365.52 121.043 1372.65 Q121.043 1379.76 122.848 1383.32 Q124.677 1386.86 128.288 1386.86 Q131.922 1386.86 133.728 1383.32 Q135.556 1379.76 135.556 1372.65 Q135.556 1365.52 133.728 1361.98 Q131.922 1358.42 128.288 1358.42 M128.288 1354.71 Q134.098 1354.71 137.154 1359.32 Q140.232 1363.9 140.232 1372.65 Q140.232 1381.38 137.154 1385.98 Q134.098 1390.57 128.288 1390.57 Q122.478 1390.57 119.399 1385.98 Q116.343 1381.38 116.343 1372.65 Q116.343 1363.9 119.399 1359.32 Q122.478 1354.71 128.288 1354.71 Z\" fill=\"#000000\" fill-rule=\"evenodd\" fill-opacity=\"1\" /><path clip-path=\"url(#clip800)\" d=\"M 0 0 M145.302 1384.02 L150.186 1384.02 L150.186 1389.9 L145.302 1389.9 L145.302 1384.02 Z\" fill=\"#000000\" fill-rule=\"evenodd\" fill-opacity=\"1\" /><path clip-path=\"url(#clip800)\" d=\"M 0 0 M159.283 1385.96 L175.602 1385.96 L175.602 1389.9 L153.658 1389.9 L153.658 1385.96 Q156.32 1383.21 160.903 1378.58 Q165.51 1373.92 166.69 1372.58 Q168.936 1370.06 169.815 1368.32 Q170.718 1366.56 170.718 1364.87 Q170.718 1362.12 168.774 1360.38 Q166.852 1358.65 163.751 1358.65 Q161.552 1358.65 159.098 1359.41 Q156.667 1360.17 153.89 1361.73 L153.89 1357 Q156.714 1355.87 159.167 1355.29 Q161.621 1354.71 163.658 1354.71 Q169.028 1354.71 172.223 1357.4 Q175.417 1360.08 175.417 1364.57 Q175.417 1366.7 174.607 1368.62 Q173.82 1370.52 171.714 1373.11 Q171.135 1373.79 168.033 1377 Q164.931 1380.2 159.283 1385.96 Z\" fill=\"#000000\" fill-rule=\"evenodd\" fill-opacity=\"1\" /><path clip-path=\"url(#clip800)\" d=\"M 0 0 M126.205 1052.6 Q122.593 1052.6 120.765 1056.16 Q118.959 1059.7 118.959 1066.83 Q118.959 1073.94 120.765 1077.51 Q122.593 1081.05 126.205 1081.05 Q129.839 1081.05 131.644 1077.51 Q133.473 1073.94 133.473 1066.83 Q133.473 1059.7 131.644 1056.16 Q129.839 1052.6 126.205 1052.6 M126.205 1048.89 Q132.015 1048.89 135.07 1053.5 Q138.149 1058.08 138.149 1066.83 Q138.149 1075.56 135.07 1080.17 Q132.015 1084.75 126.205 1084.75 Q120.394 1084.75 117.316 1080.17 Q114.26 1075.56 114.26 1066.83 Q114.26 1058.08 117.316 1053.5 Q120.394 1048.89 126.205 1048.89 Z\" fill=\"#000000\" fill-rule=\"evenodd\" fill-opacity=\"1\" /><path clip-path=\"url(#clip800)\" d=\"M 0 0 M143.218 1078.2 L148.103 1078.2 L148.103 1084.08 L143.218 1084.08 L143.218 1078.2 Z\" fill=\"#000000\" fill-rule=\"evenodd\" fill-opacity=\"1\" /><path clip-path=\"url(#clip800)\" d=\"M 0 0 M166.019 1053.59 L154.214 1072.04 L166.019 1072.04 L166.019 1053.59 M164.792 1049.52 L170.672 1049.52 L170.672 1072.04 L175.602 1072.04 L175.602 1075.93 L170.672 1075.93 L170.672 1084.08 L166.019 1084.08 L166.019 1075.93 L150.417 1075.93 L150.417 1071.42 L164.792 1049.52 Z\" fill=\"#000000\" fill-rule=\"evenodd\" fill-opacity=\"1\" /><path clip-path=\"url(#clip800)\" d=\"M 0 0 M126.529 746.78 Q122.918 746.78 121.089 750.345 Q119.283 753.887 119.283 761.016 Q119.283 768.123 121.089 771.688 Q122.918 775.229 126.529 775.229 Q130.163 775.229 131.968 771.688 Q133.797 768.123 133.797 761.016 Q133.797 753.887 131.968 750.345 Q130.163 746.78 126.529 746.78 M126.529 743.077 Q132.339 743.077 135.394 747.683 Q138.473 752.266 138.473 761.016 Q138.473 769.743 135.394 774.35 Q132.339 778.933 126.529 778.933 Q120.718 778.933 117.64 774.35 Q114.584 769.743 114.584 761.016 Q114.584 752.266 117.64 747.683 Q120.718 743.077 126.529 743.077 Z\" fill=\"#000000\" fill-rule=\"evenodd\" fill-opacity=\"1\" /><path clip-path=\"url(#clip800)\" d=\"M 0 0 M143.542 772.382 L148.427 772.382 L148.427 778.262 L143.542 778.262 L143.542 772.382 Z\" fill=\"#000000\" fill-rule=\"evenodd\" fill-opacity=\"1\" /><path clip-path=\"url(#clip800)\" d=\"M 0 0 M164.075 759.118 Q160.927 759.118 159.075 761.271 Q157.246 763.424 157.246 767.174 Q157.246 770.901 159.075 773.077 Q160.927 775.229 164.075 775.229 Q167.223 775.229 169.052 773.077 Q170.903 770.901 170.903 767.174 Q170.903 763.424 169.052 761.271 Q167.223 759.118 164.075 759.118 M173.357 744.466 L173.357 748.725 Q171.598 747.891 169.792 747.452 Q168.01 747.012 166.251 747.012 Q161.621 747.012 159.167 750.137 Q156.737 753.262 156.39 759.581 Q157.755 757.567 159.815 756.503 Q161.876 755.415 164.352 755.415 Q169.561 755.415 172.57 758.586 Q175.602 761.734 175.602 767.174 Q175.602 772.498 172.454 775.715 Q169.306 778.933 164.075 778.933 Q158.079 778.933 154.908 774.35 Q151.737 769.743 151.737 761.016 Q151.737 752.822 155.626 747.961 Q159.515 743.077 166.065 743.077 Q167.825 743.077 169.607 743.424 Q171.413 743.771 173.357 744.466 Z\" fill=\"#000000\" fill-rule=\"evenodd\" fill-opacity=\"1\" /><path clip-path=\"url(#clip800)\" d=\"M 0 0 M126.783 440.963 Q123.172 440.963 121.343 444.528 Q119.538 448.069 119.538 455.199 Q119.538 462.305 121.343 465.87 Q123.172 469.412 126.783 469.412 Q130.417 469.412 132.223 465.87 Q134.052 462.305 134.052 455.199 Q134.052 448.069 132.223 444.528 Q130.417 440.963 126.783 440.963 M126.783 437.259 Q132.593 437.259 135.649 441.866 Q138.728 446.449 138.728 455.199 Q138.728 463.926 135.649 468.532 Q132.593 473.115 126.783 473.115 Q120.973 473.115 117.894 468.532 Q114.839 463.926 114.839 455.199 Q114.839 446.449 117.894 441.866 Q120.973 437.259 126.783 437.259 Z\" fill=\"#000000\" fill-rule=\"evenodd\" fill-opacity=\"1\" /><path clip-path=\"url(#clip800)\" d=\"M 0 0 M143.797 466.564 L148.681 466.564 L148.681 472.444 L143.797 472.444 L143.797 466.564 Z\" fill=\"#000000\" fill-rule=\"evenodd\" fill-opacity=\"1\" /><path clip-path=\"url(#clip800)\" d=\"M 0 0 M163.751 456.032 Q160.417 456.032 158.496 457.815 Q156.598 459.597 156.598 462.722 Q156.598 465.847 158.496 467.629 Q160.417 469.412 163.751 469.412 Q167.084 469.412 169.005 467.629 Q170.927 465.824 170.927 462.722 Q170.927 459.597 169.005 457.815 Q167.107 456.032 163.751 456.032 M159.075 454.041 Q156.065 453.301 154.376 451.24 Q152.709 449.18 152.709 446.217 Q152.709 442.074 155.649 439.666 Q158.612 437.259 163.751 437.259 Q168.913 437.259 171.852 439.666 Q174.792 442.074 174.792 446.217 Q174.792 449.18 173.102 451.24 Q171.436 453.301 168.45 454.041 Q171.829 454.828 173.704 457.12 Q175.602 459.412 175.602 462.722 Q175.602 467.745 172.524 470.43 Q169.468 473.115 163.751 473.115 Q158.033 473.115 154.954 470.43 Q151.899 467.745 151.899 462.722 Q151.899 459.412 153.797 457.12 Q155.695 454.828 159.075 454.041 M157.362 446.657 Q157.362 449.342 159.028 450.847 Q160.718 452.352 163.751 452.352 Q166.76 452.352 168.45 450.847 Q170.163 449.342 170.163 446.657 Q170.163 443.972 168.45 442.467 Q166.76 440.963 163.751 440.963 Q160.718 440.963 159.028 442.467 Q157.362 443.972 157.362 446.657 Z\" fill=\"#000000\" fill-rule=\"evenodd\" fill-opacity=\"1\" /><path clip-path=\"url(#clip800)\" d=\"M 0 0 M118.728 162.691 L126.367 162.691 L126.367 136.326 L118.056 137.992 L118.056 133.733 L126.32 132.066 L130.996 132.066 L130.996 162.691 L138.635 162.691 L138.635 166.626 L118.728 166.626 L118.728 162.691 Z\" fill=\"#000000\" fill-rule=\"evenodd\" fill-opacity=\"1\" /><path clip-path=\"url(#clip800)\" d=\"M 0 0 M143.704 160.747 L148.589 160.747 L148.589 166.626 L143.704 166.626 L143.704 160.747 Z\" fill=\"#000000\" fill-rule=\"evenodd\" fill-opacity=\"1\" /><path clip-path=\"url(#clip800)\" d=\"M 0 0 M163.658 135.145 Q160.047 135.145 158.218 138.71 Q156.413 142.252 156.413 149.381 Q156.413 156.488 158.218 160.052 Q160.047 163.594 163.658 163.594 Q167.292 163.594 169.098 160.052 Q170.927 156.488 170.927 149.381 Q170.927 142.252 169.098 138.71 Q167.292 135.145 163.658 135.145 M163.658 131.441 Q169.468 131.441 172.524 136.048 Q175.602 140.631 175.602 149.381 Q175.602 158.108 172.524 162.714 Q169.468 167.298 163.658 167.298 Q157.848 167.298 154.769 162.714 Q151.714 158.108 151.714 149.381 Q151.714 140.631 154.769 136.048 Q157.848 131.441 163.658 131.441 Z\" fill=\"#000000\" fill-rule=\"evenodd\" fill-opacity=\"1\" /><path clip-path=\"url(#clip800)\" d=\"M 0 0 M40.4842 869.957 L40.4842 863.051 L60.0269 849.874 L40.4842 836.792 L40.4842 829.885 L65.3741 846.691 L88.0042 846.691 L88.0042 853.152 L65.3741 853.152 L40.4842 869.957 Z\" fill=\"#000000\" fill-rule=\"evenodd\" fill-opacity=\"1\" /><path clip-path=\"url(#clip800)\" d=\"M 0 0 M38.479 803.022 L38.479 797.166 L88.0042 797.166 L88.0042 803.022 L38.479 803.022 Z\" fill=\"#000000\" fill-rule=\"evenodd\" fill-opacity=\"1\" /><path clip-path=\"url(#clip800)\" d=\"M 0 0 M70.0847 774.822 Q70.0847 781.92 71.7079 784.657 Q73.3312 787.394 77.2461 787.394 Q80.3653 787.394 82.2114 785.357 Q84.0256 783.288 84.0256 779.755 Q84.0256 774.886 80.5881 771.957 Q77.1188 768.997 71.3897 768.997 L70.0847 768.997 L70.0847 774.822 M67.6657 763.141 L88.0042 763.141 L88.0042 768.997 L82.5933 768.997 Q85.8398 771.003 87.3994 773.994 Q88.9272 776.986 88.9272 781.315 Q88.9272 786.789 85.8716 790.036 Q82.7843 793.251 77.6281 793.251 Q71.6125 793.251 68.5569 789.24 Q65.5014 785.198 65.5014 777.209 L65.5014 768.997 L64.9285 768.997 Q60.8862 768.997 58.6901 771.671 Q56.4621 774.313 56.4621 779.119 Q56.4621 782.174 57.1941 785.071 Q57.9262 787.967 59.3903 790.641 L53.9795 790.641 Q52.7381 787.426 52.1334 784.402 Q51.4968 781.379 51.4968 778.514 Q51.4968 770.78 55.5072 766.96 Q59.5176 763.141 67.6657 763.141 Z\" fill=\"#000000\" fill-rule=\"evenodd\" fill-opacity=\"1\" /><path clip-path=\"url(#clip800)\" d=\"M 0 0 M70.212 731.408 Q63.7508 731.408 60.0905 734.081 Q56.3984 736.723 56.3984 741.37 Q56.3984 746.017 60.0905 748.691 Q63.7508 751.332 70.212 751.332 Q76.6732 751.332 80.3653 748.691 Q84.0256 746.017 84.0256 741.37 Q84.0256 736.723 80.3653 734.081 Q76.6732 731.408 70.212 731.408 M57.7671 751.332 Q54.5842 749.486 53.0564 746.686 Q51.4968 743.853 51.4968 739.938 Q51.4968 733.445 56.6531 729.403 Q61.8093 725.329 70.212 725.329 Q78.6147 725.329 83.771 729.403 Q88.9272 733.445 88.9272 739.938 Q88.9272 743.853 87.3994 746.686 Q85.8398 749.486 82.657 751.332 L88.0042 751.332 L88.0042 757.221 L38.479 757.221 L38.479 751.332 L57.7671 751.332 Z\" fill=\"#000000\" fill-rule=\"evenodd\" fill-opacity=\"1\" /><path clip-path=\"url(#clip800)\" d=\"M 0 0 M68.7161 688.694 L71.5806 688.694 L71.5806 715.621 Q77.6281 715.239 80.8109 711.992 Q83.9619 708.714 83.9619 702.889 Q83.9619 699.516 83.1344 696.365 Q82.3069 693.182 80.6518 690.063 L86.1899 690.063 Q87.5267 693.214 88.227 696.524 Q88.9272 699.834 88.9272 703.24 Q88.9272 711.77 83.9619 716.767 Q78.9967 721.732 70.5303 721.732 Q61.7774 721.732 56.6531 717.021 Q51.4968 712.279 51.4968 704.258 Q51.4968 697.065 56.1438 692.895 Q60.7589 688.694 68.7161 688.694 M66.9973 694.55 Q62.1912 694.614 59.3266 697.256 Q56.4621 699.866 56.4621 704.194 Q56.4621 709.096 59.2312 712.056 Q62.0002 714.984 67.0292 715.43 L66.9973 694.55 Z\" fill=\"#000000\" fill-rule=\"evenodd\" fill-opacity=\"1\" /><path clip-path=\"url(#clip800)\" d=\"M 0 0 M38.479 682.551 L38.479 676.695 L88.0042 676.695 L88.0042 682.551 L38.479 682.551 Z\" fill=\"#000000\" fill-rule=\"evenodd\" fill-opacity=\"1\" /><path clip-path=\"url(#clip800)\" d=\"M 0 0 M1140.28 12.096 L1149.07 12.096 L1164.1 34.5785 L1179.21 12.096 L1188 12.096 L1168.55 41.141 L1189.29 72.576 L1180.5 72.576 L1163.49 46.8528 L1146.35 72.576 L1137.52 72.576 L1159.11 40.2903 L1140.28 12.096 Z\" fill=\"#000000\" fill-rule=\"evenodd\" fill-opacity=\"1\" /><path clip-path=\"url(#clip800)\" d=\"M 0 0 M1244.1 49.7694 Q1235.07 49.7694 1231.58 51.8354 Q1228.1 53.9013 1228.1 58.8839 Q1228.1 62.8538 1230.69 65.2034 Q1233.33 67.5124 1237.82 67.5124 Q1244.02 67.5124 1247.75 63.1374 Q1251.51 58.7219 1251.51 51.4303 L1251.51 49.7694 L1244.1 49.7694 M1258.97 46.6907 L1258.97 72.576 L1251.51 72.576 L1251.51 65.6895 Q1248.96 69.8214 1245.15 71.8063 Q1241.35 73.7508 1235.84 73.7508 Q1228.87 73.7508 1224.74 69.8619 Q1220.65 65.9325 1220.65 59.3701 Q1220.65 51.7138 1225.75 47.825 Q1230.89 43.9361 1241.06 43.9361 L1251.51 43.9361 L1251.51 43.2069 Q1251.51 38.0623 1248.11 35.2672 Q1244.75 32.4315 1238.63 32.4315 Q1234.74 32.4315 1231.06 33.3632 Q1227.37 34.295 1223.97 36.1584 L1223.97 29.2718 Q1228.06 27.692 1231.91 26.9223 Q1235.76 26.1121 1239.4 26.1121 Q1249.25 26.1121 1254.11 31.2163 Q1258.97 36.3204 1258.97 46.6907 Z\" fill=\"#000000\" fill-rule=\"evenodd\" fill-opacity=\"1\" /><path clip-path=\"url(#clip800)\" d=\"M 0 0 M1304.5 45.1919 L1304.5 72.576 L1297.05 72.576 L1297.05 45.4349 Q1297.05 38.994 1294.53 35.7938 Q1292.02 32.5936 1287 32.5936 Q1280.96 32.5936 1277.48 36.4419 Q1274 40.2903 1274 46.9338 L1274 72.576 L1266.5 72.576 L1266.5 27.2059 L1274 27.2059 L1274 34.2544 Q1276.67 30.163 1280.28 28.1376 Q1283.92 26.1121 1288.66 26.1121 Q1296.48 26.1121 1300.49 30.9732 Q1304.5 35.7938 1304.5 45.1919 Z\" fill=\"#000000\" fill-rule=\"evenodd\" fill-opacity=\"1\" /><path clip-path=\"url(#clip800)\" d=\"M 0 0 M1342.17 34.0924 L1342.17 9.54393 L1349.63 9.54393 L1349.63 72.576 L1342.17 72.576 L1342.17 65.7705 Q1339.82 69.8214 1336.22 71.8063 Q1332.65 73.7508 1327.63 73.7508 Q1319.41 73.7508 1314.22 67.1883 Q1309.08 60.6258 1309.08 49.9314 Q1309.08 39.2371 1314.22 32.6746 Q1319.41 26.1121 1327.63 26.1121 Q1332.65 26.1121 1336.22 28.0971 Q1339.82 30.0415 1342.17 34.0924 M1316.77 49.9314 Q1316.77 58.1548 1320.14 62.8538 Q1323.54 67.5124 1329.45 67.5124 Q1335.37 67.5124 1338.77 62.8538 Q1342.17 58.1548 1342.17 49.9314 Q1342.17 41.7081 1338.77 37.0496 Q1335.37 32.3505 1329.45 32.3505 Q1323.54 32.3505 1320.14 37.0496 Q1316.77 41.7081 1316.77 49.9314 Z\" fill=\"#000000\" fill-rule=\"evenodd\" fill-opacity=\"1\" /><path clip-path=\"url(#clip800)\" d=\"M 0 0 M1375.84 12.096 L1384.63 12.096 L1401.4 36.9686 L1418.05 12.096 L1426.84 12.096 L1405.45 43.7741 L1405.45 72.576 L1397.22 72.576 L1397.22 43.7741 L1375.84 12.096 Z\" fill=\"#000000\" fill-rule=\"evenodd\" fill-opacity=\"1\" /><polyline clip-path=\"url(#clip802)\" style=\"stroke:#009af9; stroke-width:4; stroke-opacity:1; fill:none\" points=\"\n",
       "  272.201,1102.19 416.484,258.984 560.766,463.627 705.049,1302.92 849.331,1105.64 993.614,160.256 1137.9,1386.4 1282.18,417.784 1426.46,1087.4 1570.74,829.299 \n",
       "  1715.03,1294.83 1859.31,599.529 2003.59,1064.2 2147.87,979.398 2292.16,887.697 \n",
       "  \"/>\n",
       "<path clip-path=\"url(#clip800)\" d=\"\n",
       "M1907.25 287.756 L2281.38 287.756 L2281.38 166.796 L1907.25 166.796  Z\n",
       "  \" fill=\"#ffffff\" fill-rule=\"evenodd\" fill-opacity=\"1\"/>\n",
       "<polyline clip-path=\"url(#clip800)\" style=\"stroke:#000000; stroke-width:4; stroke-opacity:1; fill:none\" points=\"\n",
       "  1907.25,287.756 2281.38,287.756 2281.38,166.796 1907.25,166.796 1907.25,287.756 \n",
       "  \"/>\n",
       "<polyline clip-path=\"url(#clip800)\" style=\"stroke:#009af9; stroke-width:4; stroke-opacity:1; fill:none\" points=\"\n",
       "  1931.04,227.276 2073.79,227.276 \n",
       "  \"/>\n",
       "<path clip-path=\"url(#clip800)\" d=\"M 0 0 M2110.77 244.556 L2097.58 209.996 L2102.46 209.996 L2113.41 239.093 L2124.38 209.996 L2129.24 209.996 L2116.07 244.556 L2110.77 244.556 Z\" fill=\"#000000\" fill-rule=\"evenodd\" fill-opacity=\"1\" /><path clip-path=\"url(#clip800)\" d=\"M 0 0 M2141.81 231.523 Q2136.65 231.523 2134.66 232.704 Q2132.67 233.884 2132.67 236.732 Q2132.67 239 2134.15 240.343 Q2135.66 241.662 2138.22 241.662 Q2141.77 241.662 2143.9 239.162 Q2146.05 236.639 2146.05 232.472 L2146.05 231.523 L2141.81 231.523 M2150.31 229.764 L2150.31 244.556 L2146.05 244.556 L2146.05 240.621 Q2144.59 242.982 2142.41 244.116 Q2140.24 245.227 2137.09 245.227 Q2133.11 245.227 2130.75 243.005 Q2128.41 240.759 2128.41 237.009 Q2128.41 232.634 2131.33 230.412 Q2134.27 228.19 2140.08 228.19 L2146.05 228.19 L2146.05 227.773 Q2146.05 224.834 2144.1 223.236 Q2142.18 221.616 2138.69 221.616 Q2136.47 221.616 2134.36 222.148 Q2132.25 222.681 2130.31 223.746 L2130.31 219.81 Q2132.65 218.908 2134.85 218.468 Q2137.04 218.005 2139.13 218.005 Q2144.75 218.005 2147.53 220.922 Q2150.31 223.838 2150.31 229.764 Z\" fill=\"#000000\" fill-rule=\"evenodd\" fill-opacity=\"1\" /><path clip-path=\"url(#clip800)\" d=\"M 0 0 M2154.78 208.537 L2159.03 208.537 L2159.03 244.556 L2154.78 244.556 L2154.78 208.537 Z\" fill=\"#000000\" fill-rule=\"evenodd\" fill-opacity=\"1\" /><path clip-path=\"url(#clip800)\" d=\"M 0 0 M2163.06 234.324 L2163.06 218.63 L2167.32 218.63 L2167.32 234.162 Q2167.32 237.843 2168.76 239.695 Q2170.19 241.523 2173.06 241.523 Q2176.51 241.523 2178.5 239.324 Q2180.52 237.125 2180.52 233.329 L2180.52 218.63 L2184.78 218.63 L2184.78 244.556 L2180.52 244.556 L2180.52 240.574 Q2178.97 242.935 2176.91 244.093 Q2174.87 245.227 2172.16 245.227 Q2167.69 245.227 2165.38 242.449 Q2163.06 239.671 2163.06 234.324 M2173.78 218.005 L2173.78 218.005 Z\" fill=\"#000000\" fill-rule=\"evenodd\" fill-opacity=\"1\" /><path clip-path=\"url(#clip800)\" d=\"M 0 0 M2211.42 230.528 L2211.42 232.611 L2191.84 232.611 Q2192.11 237.009 2194.47 239.324 Q2196.86 241.616 2201.09 241.616 Q2203.55 241.616 2205.84 241.014 Q2208.15 240.412 2210.42 239.209 L2210.42 243.236 Q2208.13 244.208 2205.72 244.718 Q2203.32 245.227 2200.84 245.227 Q2194.64 245.227 2191 241.616 Q2187.39 238.005 2187.39 231.847 Q2187.39 225.482 2190.82 221.755 Q2194.27 218.005 2200.1 218.005 Q2205.33 218.005 2208.36 221.385 Q2211.42 224.741 2211.42 230.528 M2207.16 229.278 Q2207.11 225.783 2205.19 223.699 Q2203.29 221.616 2200.15 221.616 Q2196.58 221.616 2194.43 223.63 Q2192.3 225.644 2191.97 229.301 L2207.16 229.278 Z\" fill=\"#000000\" fill-rule=\"evenodd\" fill-opacity=\"1\" /><path clip-path=\"url(#clip800)\" d=\"M 0 0 M2232.41 219.394 L2232.41 223.422 Q2230.61 222.496 2228.66 222.033 Q2226.72 221.57 2224.64 221.57 Q2221.47 221.57 2219.87 222.542 Q2218.29 223.514 2218.29 225.459 Q2218.29 226.94 2219.43 227.797 Q2220.56 228.63 2223.99 229.394 L2225.45 229.718 Q2229.98 230.69 2231.88 232.472 Q2233.8 234.232 2233.8 237.403 Q2233.8 241.014 2230.93 243.121 Q2228.09 245.227 2223.09 245.227 Q2221 245.227 2218.73 244.81 Q2216.49 244.417 2213.99 243.607 L2213.99 239.209 Q2216.35 240.435 2218.64 241.06 Q2220.93 241.662 2223.18 241.662 Q2226.19 241.662 2227.81 240.644 Q2229.43 239.602 2229.43 237.727 Q2229.43 235.991 2228.25 235.065 Q2227.09 234.139 2223.13 233.283 L2221.65 232.935 Q2217.69 232.102 2215.93 230.389 Q2214.17 228.653 2214.17 225.644 Q2214.17 221.986 2216.77 219.996 Q2219.36 218.005 2224.13 218.005 Q2226.49 218.005 2228.57 218.352 Q2230.65 218.699 2232.41 219.394 Z\" fill=\"#000000\" fill-rule=\"evenodd\" fill-opacity=\"1\" /></svg>\n"
      ]
     },
     "execution_count": 120,
     "metadata": {},
     "output_type": "execute_result"
    }
   ],
   "source": [
    "plot(x, z,  title=\"X and Y\", xlabel=\"X label\", ylabel=\"Y label\", label=\"Values\")"
   ]
  },
  {
   "cell_type": "code",
   "execution_count": null,
   "metadata": {},
   "outputs": [],
   "source": []
  }
 ],
 "metadata": {
  "kernelspec": {
   "display_name": "Julia 1.5.2",
   "language": "julia",
   "name": "julia-1.5"
  },
  "language_info": {
   "file_extension": ".jl",
   "mimetype": "application/julia",
   "name": "julia",
   "version": "1.5.2"
  }
 },
 "nbformat": 4,
 "nbformat_minor": 4
}
