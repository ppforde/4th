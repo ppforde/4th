{
 "cells": [
  {
   "cell_type": "markdown",
   "metadata": {},
   "source": [
    "# Solar Electric Programs Reported by NYSERDA\n",
    "---\n"
   ]
  },
  {
   "cell_type": "markdown",
   "metadata": {},
   "source": [
    "**Purpose:**\n",
    "\n",
    "* End-to-end exploratory data analysis\n",
    "* Explore challenges with using dates\n",
    "\n",
    "**Data Source:**\n",
    "\n",
    "https://data.ny.gov/"
   ]
  },
  {
   "cell_type": "code",
   "execution_count": null,
   "metadata": {},
   "outputs": [],
   "source": [
    "# system libraries\n",
    "import os\n",
    "import sys\n",
    "\n",
    "# check system information\n",
    "print('Python Information', sys.version)\n",
    "print('This is your current directory', os.getcwd())"
   ]
  },
  {
   "cell_type": "code",
   "execution_count": null,
   "metadata": {},
   "outputs": [],
   "source": [
    "# datetime libraries\n",
    "import datetime\n",
    "\n",
    "# assgin current date and time\n",
    "currentDate = datetime.date.today()\n",
    "currentTime = datetime.datetime.now()\n",
    "\n",
    "# check datetime information\n",
    "print('Today is {}'.format(currentDate))\n",
    "print('Today is', datetime.datetime.strftime(currentDate, '%m/%d/%Y'))\n",
    "print('The time is', datetime.datetime.strftime(currentTime, '%H:%M:%S'))"
   ]
  },
  {
   "cell_type": "code",
   "execution_count": null,
   "metadata": {},
   "outputs": [],
   "source": [
    "import pandas as pd\n",
    "pd.options.display.float_format = '{:,.2f}'.format\n",
    "pd.set_option('display.precision',2)\n",
    "pd.set_option('max_rows',100)\n",
    "pd.set_option('max_columns',100)\n",
    "\n",
    "import numpy as np\n",
    "\n",
    "import matplotlib.pyplot as plt\n",
    "\n",
    "import seaborn as sns\n",
    "sns.set_style('dark')\n",
    "\n",
    "print(pd.__version__)\n",
    "print(np.__version__)\n",
    "print(sns.__version__)"
   ]
  },
  {
   "cell_type": "code",
   "execution_count": null,
   "metadata": {},
   "outputs": [],
   "source": [
    "from dateutil import parser\n",
    "import glob"
   ]
  },
  {
   "cell_type": "code",
   "execution_count": null,
   "metadata": {},
   "outputs": [],
   "source": [
    "dates = ['07/31/2016', '7/31/16', '31-07-2016', '31-JUL-2016', '2016-07-31', 'July 31st, 2016', 'Jul.16', 'July.2016']\n",
    "\n",
    "for d in dates:\n",
    "    print(parser.parse(d))"
   ]
  },
  {
   "cell_type": "code",
   "execution_count": null,
   "metadata": {},
   "outputs": [],
   "source": [
    "dates = ['Reporting Period', 'Date Application Received', 'Date Completed']\n",
    "\n",
    "filename = 'https://data.ny.gov/api/views/3x8r-34rs/rows.csv?accessType=DOWNLOAD&sorting=true'\n",
    "\n",
    "df = pd.read_csv(filename, parse_dates=dates)\n",
    "df.info()"
   ]
  },
  {
   "cell_type": "code",
   "execution_count": null,
   "metadata": {},
   "outputs": [],
   "source": [
    "df.columns = df.columns.str.lower().str.replace(\" \",\"_\").str.replace(\"$\",\"\")\n",
    "df.columns"
   ]
  },
  {
   "cell_type": "code",
   "execution_count": null,
   "metadata": {},
   "outputs": [],
   "source": [
    "df.head(10)"
   ]
  },
  {
   "cell_type": "code",
   "execution_count": null,
   "metadata": {},
   "outputs": [],
   "source": [
    "df.head(3).T"
   ]
  },
  {
   "cell_type": "code",
   "execution_count": null,
   "metadata": {},
   "outputs": [],
   "source": [
    "df['electric_utility'].value_counts(dropna=False)"
   ]
  },
  {
   "cell_type": "code",
   "execution_count": null,
   "metadata": {},
   "outputs": [],
   "source": [
    "def assignments(x):\n",
    "    return {\n",
    "        'Consolidated Edison': 'CONED',\n",
    "        'National Grid': 'NATGRID',\n",
    "        'PSEG Long Island': 'PSEGLI',\n",
    "        'Orange and Rockland Utilities':'ORU',\n",
    "    }.get(x, 'Other')"
   ]
  },
  {
   "cell_type": "code",
   "execution_count": null,
   "metadata": {},
   "outputs": [],
   "source": [
    "df['utility'] = df['electric_utility'].apply(assignments)\n",
    "df['utility'].value_counts()"
   ]
  },
  {
   "cell_type": "code",
   "execution_count": null,
   "metadata": {},
   "outputs": [],
   "source": [
    "df.filter(regex='date').isna().sum()"
   ]
  },
  {
   "cell_type": "code",
   "execution_count": null,
   "metadata": {},
   "outputs": [],
   "source": [
    "df['application_year'] = df['date_application_received'].dt.year\n",
    "df['application_month'] = df['date_application_received'].dt.month"
   ]
  },
  {
   "cell_type": "code",
   "execution_count": null,
   "metadata": {},
   "outputs": [],
   "source": [
    "pivot = df.pivot_table(\n",
    "    index='application_year',\n",
    "    columns='application_month',\n",
    "    values='project_cost',\n",
    "    aggfunc=np.sum,\n",
    "    fill_value=0\n",
    ")\n",
    "pivot"
   ]
  },
  {
   "cell_type": "code",
   "execution_count": null,
   "metadata": {},
   "outputs": [],
   "source": [
    "idx = 'application_year'\n",
    "\n",
    "df[[idx, 'project_cost', 'incentive']]\\\n",
    ".groupby(idx).sum()\\\n",
    ".plot.bar(stacked=True, figsize=(14,6), width=.75, rot=0);"
   ]
  },
  {
   "cell_type": "code",
   "execution_count": null,
   "metadata": {},
   "outputs": [],
   "source": [
    "df.dropna(subset=['date_completed'], inplace=True)\n",
    "df['date_application_received'] = df['date_application_received'].astype(str).apply(lambda x: x[0:10])\n",
    "df['date_completed'] = df['date_completed'].astype(str).apply(lambda x: x[0:10])"
   ]
  },
  {
   "cell_type": "code",
   "execution_count": null,
   "metadata": {},
   "outputs": [],
   "source": [
    "business_days = []\n",
    "\n",
    "for row in df.itertuples():\n",
    "    business_days.append(np.busday_count(row.date_application_received,row.date_completed))\n",
    "    \n",
    "df['business_days'] = business_days\n",
    "\n",
    "df.head()"
   ]
  },
  {
   "cell_type": "code",
   "execution_count": null,
   "metadata": {},
   "outputs": [],
   "source": [
    "sns.distplot(df['business_days']);"
   ]
  },
  {
   "cell_type": "code",
   "execution_count": null,
   "metadata": {},
   "outputs": [],
   "source": [
    "g = sns.FacetGrid(data=df, col=\"utility\",)\n",
    "g = g.map(sns.distplot, \"business_days\")"
   ]
  },
  {
   "cell_type": "code",
   "execution_count": null,
   "metadata": {},
   "outputs": [],
   "source": [
    "sns.boxenplot(data=df, x='utility', y='business_days', color='red');"
   ]
  },
  {
   "cell_type": "code",
   "execution_count": null,
   "metadata": {},
   "outputs": [],
   "source": [
    "df.query(\"business_days < 0\")"
   ]
  },
  {
   "cell_type": "code",
   "execution_count": null,
   "metadata": {},
   "outputs": [],
   "source": [
    "df['business_days'].describe()"
   ]
  },
  {
   "cell_type": "code",
   "execution_count": null,
   "metadata": {},
   "outputs": [],
   "source": [
    "cut_days = pd.cut(df['business_days'], [-1000,0,10,20,30,60,90,360,3000])\n",
    "\n",
    "df.pivot_table(index=cut_days, columns='utility', values='project_cost', aggfunc=np.sum, fill_value=0)"
   ]
  },
  {
   "cell_type": "code",
   "execution_count": null,
   "metadata": {},
   "outputs": [],
   "source": [
    "df.groupby('project_number')[['project_cost', 'expected_kwh_annual_production']].sum().corr()"
   ]
  },
  {
   "cell_type": "code",
   "execution_count": null,
   "metadata": {},
   "outputs": [],
   "source": [
    "ax = sns.regplot(x=df['project_cost'], y=df['expected_kwh_annual_production'], color=\"b\", dropna=True);"
   ]
  },
  {
   "cell_type": "code",
   "execution_count": null,
   "metadata": {},
   "outputs": [],
   "source": [
    "# Show the results of a linear regression within each dataset\n",
    "sns.lmplot(\n",
    "    x='project_cost',\n",
    "    y='expected_kwh_annual_production',\n",
    "    col='utility',\n",
    "    hue='sector',\n",
    "    col_wrap=3,\n",
    "    ci=None,\n",
    "    palette='muted',\n",
    "    height=4,\n",
    "    scatter_kws={'s': 50, 'alpha': .4},\n",
    "    data=df.query(\"application_year == 2019\"),\n",
    ");"
   ]
  },
  {
   "cell_type": "code",
   "execution_count": null,
   "metadata": {},
   "outputs": [],
   "source": [
    "df['utility'].unique()"
   ]
  },
  {
   "cell_type": "code",
   "execution_count": null,
   "metadata": {},
   "outputs": [],
   "source": [
    "for utility in df['utility'].unique():\n",
    "    df.query(f\"utility == '{utility}'\").to_csv(f\"solar_df_{utility}.csv\", index=None)"
   ]
  },
  {
   "cell_type": "code",
   "execution_count": null,
   "metadata": {},
   "outputs": [],
   "source": [
    "glob.glob('solar_df*.csv')"
   ]
  },
  {
   "cell_type": "code",
   "execution_count": null,
   "metadata": {},
   "outputs": [],
   "source": [
    "counties = df.county.value_counts(dropna=False).reset_index()\n",
    "counties.rename(columns = {'index':'county', 'county':'total'}, inplace=True)\n",
    "counties"
   ]
  },
  {
   "cell_type": "code",
   "execution_count": null,
   "metadata": {},
   "outputs": [],
   "source": [
    "filename = 'https://data.ny.gov/api/views/4xc7-bukh/rows.csv?accessType=DOWNLOAD&sorting=true'\n",
    "\n",
    "cs = pd.read_csv(filename)\n",
    "cs.columns = cs.columns.str.replace(' ','-').str.lower()\n",
    "cs.info()"
   ]
  },
  {
   "cell_type": "code",
   "execution_count": null,
   "metadata": {},
   "outputs": [],
   "source": [
    "counties = pd.merge(left=counties, right=cs, how='inner')\n",
    "counties"
   ]
  },
  {
   "cell_type": "code",
   "execution_count": null,
   "metadata": {},
   "outputs": [],
   "source": [
    "import folium"
   ]
  },
  {
   "cell_type": "code",
   "execution_count": null,
   "metadata": {},
   "outputs": [],
   "source": [
    "# find the middle of the map\n",
    "median_lat = counties['latitude'].median()\n",
    "median_lon = counties['longitude'].median()\n",
    "\n",
    "# create the map\n",
    "m = folium.Map(location=(median_lat,median_lon), zoom_start=7, tiles='CartoDB Positron')\n",
    "\n",
    "# add markers to the map\n",
    "for index, row in counties.iterrows():\n",
    "    color_match = \"green\" if row['total'] > 7500 else 'blue'\n",
    "    tool_tip = \"County: {}, Total: {:,}\"\\\n",
    "    .format(row['county'], row['total'])\n",
    "    folium.Marker(location=(row['latitude'], row['longitude']),\n",
    "                  tooltip=tool_tip,\n",
    "                  icon=folium.Icon(color=color_match, icon='info-sign'),\n",
    "                  opacity=.4).add_to(m)\n",
    "\n",
    "# show the map\n",
    "m"
   ]
  },
  {
   "cell_type": "code",
   "execution_count": null,
   "metadata": {},
   "outputs": [],
   "source": []
  }
 ],
 "metadata": {
  "kernelspec": {
   "display_name": "Python 3",
   "language": "python",
   "name": "python3"
  },
  "language_info": {
   "codemirror_mode": {
    "name": "ipython",
    "version": 3
   },
   "file_extension": ".py",
   "mimetype": "text/x-python",
   "name": "python",
   "nbconvert_exporter": "python",
   "pygments_lexer": "ipython3",
   "version": "3.8.5"
  }
 },
 "nbformat": 4,
 "nbformat_minor": 4
}
