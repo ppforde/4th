{
 "cells": [
  {
   "cell_type": "code",
   "execution_count": null,
   "metadata": {},
   "outputs": [],
   "source": [
    "import pandas as pd\n",
    "import numpy as np\n",
    "from datetime import datetime"
   ]
  },
  {
   "cell_type": "markdown",
   "metadata": {},
   "source": [
    "## Biofuels"
   ]
  },
  {
   "cell_type": "code",
   "execution_count": null,
   "metadata": {},
   "outputs": [],
   "source": [
    "df = pd.DataFrame(\n",
    "    {\n",
    "        'Period':range(2000, 2011),\n",
    "        'United States':(105.54, 115.71, 140.29, 183.87, 223.29, 260.61, 334.95, 457.33, 649.68, 746.52, 887.62),\n",
    "        'Brazil':(183.89, 197.59, 216.93, 249.35, 251.72, 276.42, 307.31, 395.68, 486.35, 477.53, 527.32),\n",
    "        'Germany':(4.3, 5.4, 8.8, 14, 20.4, 35.8, 59.4, 63.8 ,65, 58, 62),\n",
    "        'India':(2.9, 3.0, 3.2, 3.3, 3.5, 3.9, 4.5, 4.7, 5.2, 7, 7),\n",
    "        'Malawi':(.2,) * 11,\n",
    "        'Australia':(0, 0, 0, 0, .10, .6, 1.7, 2.1, 3.4, 5.2, 7.9),        \n",
    "    }\n",
    ")\n",
    "\n",
    "\n",
    "df.info()"
   ]
  },
  {
   "cell_type": "code",
   "execution_count": null,
   "metadata": {},
   "outputs": [],
   "source": [
    "df.head()"
   ]
  },
  {
   "cell_type": "code",
   "execution_count": null,
   "metadata": {},
   "outputs": [],
   "source": [
    "pivot = df.melt(id_vars=['Period'], var_name='Location', value_name='Production')\n",
    "pivot"
   ]
  },
  {
   "cell_type": "code",
   "execution_count": null,
   "metadata": {},
   "outputs": [],
   "source": [
    "pivot.to_clipboard(excel=True, sep=\"\\t\", index=None)"
   ]
  },
  {
   "cell_type": "markdown",
   "metadata": {},
   "source": [
    "## Random Data"
   ]
  },
  {
   "cell_type": "code",
   "execution_count": null,
   "metadata": {},
   "outputs": [],
   "source": [
    "start_date, end_date = '2010-01-01', '2021-01-01'\n",
    "\n",
    "location_list = ['DE', 'CT', 'NY', 'NJ']\n",
    "location_prob = [.18,.23,.25,.34]\n",
    "\n",
    "employee_list = ['Pat', 'Leslie', \"Jes\", 'Sam']\n",
    "employee_prob = [.1,.2,.3,.4]\n",
    "\n",
    "current_date = datetime.now()\n",
    "\n",
    "N = 12000\n",
    "\n",
    "np.random.RandomState(seed=7)\n",
    "\n",
    "df = pd.DataFrame(\n",
    "    \n",
    "    {\n",
    "        'tran_date':np.random.choice(np.arange(start_date, end_date, dtype='datetime64[D]'), size=N),\n",
    "        'locations':np.random.choice(location_list, size=(N,), p=location_prob),\n",
    "        'employees':np.random.choice(employee_list, size=(N,), p=employee_prob),\n",
    "        'sales_hrs':np.random.choice(np.arange(1,25,1, dtype='int64'), size=N),\n",
    "        'sales_tot':np.random.normal(loc=1000, scale=20, size=N).round(2)\n",
    "    }\n",
    "    \n",
    ")\n",
    "\n",
    "df['docs_date'] = current_date.strftime(\"%Y-%m-%d %H:%M:%S\")\n",
    "df['forecasts'] = np.where(df['tran_date'] <= current_date.strftime(\"%Y-%m-%d\"), False, True)\n",
    "df.loc[df['tran_date'].dt.year == 2015, ['sales_tot']] = df['sales_tot'] * .65\n",
    "\n",
    "em = df['employees'] == 'Leslie'\n",
    "dt = df['tran_date'].between(\"2012-02-17\", \"2014-07-31\")\n",
    "\n",
    "df.loc[em & dt, ['sales_hrs', 'sales_tot']] = 0\n",
    "\n",
    "df.dropna(axis=0, inplace=True)\n",
    "\n",
    "df['sales_hrs']\n",
    "\n",
    "df.info()"
   ]
  },
  {
   "cell_type": "code",
   "execution_count": null,
   "metadata": {},
   "outputs": [],
   "source": [
    "df.head()"
   ]
  },
  {
   "cell_type": "code",
   "execution_count": null,
   "metadata": {},
   "outputs": [],
   "source": [
    "df.groupby(pd.Grouper(key='tran_date', freq='Y')).sum()\\\n",
    ".plot(subplots=True, marker='o', markerfacecolor='gray', lw=3, ls='--', figsize=(8,10));"
   ]
  },
  {
   "cell_type": "markdown",
   "metadata": {},
   "source": [
    "## Map Data"
   ]
  },
  {
   "cell_type": "code",
   "execution_count": null,
   "metadata": {},
   "outputs": [],
   "source": [
    "URL = 'https://www2.census.gov/geo/docs/reference/cenpop2010/CenPop2010_Mean_ST.txt'\n",
    "\n",
    "df = pd.read_csv(URL)\n",
    "\n",
    "df.info()"
   ]
  },
  {
   "cell_type": "code",
   "execution_count": null,
   "metadata": {},
   "outputs": [],
   "source": [
    "df.head()"
   ]
  },
  {
   "cell_type": "code",
   "execution_count": null,
   "metadata": {},
   "outputs": [],
   "source": []
  }
 ],
 "metadata": {
  "kernelspec": {
   "display_name": "Python 3",
   "language": "python",
   "name": "python3"
  },
  "language_info": {
   "codemirror_mode": {
    "name": "ipython",
    "version": 3
   },
   "file_extension": ".py",
   "mimetype": "text/x-python",
   "name": "python",
   "nbconvert_exporter": "python",
   "pygments_lexer": "ipython3",
   "version": "3.8.5"
  }
 },
 "nbformat": 4,
 "nbformat_minor": 4
}
