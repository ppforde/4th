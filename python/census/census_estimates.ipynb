{
 "cells": [
  {
   "cell_type": "markdown",
   "metadata": {},
   "source": [
    "# Census Estimates\n",
    "---"
   ]
  },
  {
   "cell_type": "markdown",
   "metadata": {},
   "source": [
    "**Purpose:**\n",
    "\n",
    "Working with \"wide\" data\n",
    "\n",
    "**Data Source:**\n",
    "\n",
    "https://www.census.gov/data/tables.html"
   ]
  },
  {
   "cell_type": "markdown",
   "metadata": {},
   "source": [
    "## Prepare environment to view wide formats"
   ]
  },
  {
   "cell_type": "code",
   "execution_count": null,
   "metadata": {},
   "outputs": [],
   "source": [
    "# this trick will reduce the borders on the cells and make the font a little smaller so that more columns will fit on the screen\n",
    "# Note: sometimes you have to run this cell again in order for it to work\n",
    "\n",
    "from IPython.core.display import display, HTML\n",
    "display(HTML(\"<style>.container { width:97% !important; font-size:90%;}</style>\"))"
   ]
  },
  {
   "cell_type": "code",
   "execution_count": null,
   "metadata": {},
   "outputs": [],
   "source": [
    "import numpy as np\n",
    "import pandas as pd\n",
    "\n",
    "# these pandas dataframe options will make the columns more legible\n",
    "\n",
    "pd.options.display.float_format = \"{:,.4f}\".format\n",
    "pd.set_option('display.precision', 4)\n",
    "pd.set_option('max_rows', 100)\n",
    "pd.set_option('max_columns', 250)"
   ]
  },
  {
   "cell_type": "code",
   "execution_count": null,
   "metadata": {},
   "outputs": [],
   "source": [
    "import matplotlib.pyplot as plt\n",
    "\n",
    "plt.style.use('seaborn-whitegrid')"
   ]
  },
  {
   "cell_type": "code",
   "execution_count": null,
   "metadata": {},
   "outputs": [],
   "source": [
    "site = \"http://www2.census.gov/programs-surveys/popest/datasets/{0}-{1}/national/totals/nst-est{1}-alldata.csv\"\n",
    "start_year, end_year = 2010, 2019\n",
    "\n",
    "url = site.format(start_year, end_year)\n",
    "print(url)"
   ]
  },
  {
   "cell_type": "code",
   "execution_count": null,
   "metadata": {},
   "outputs": [],
   "source": [
    "census_wide = pd.read_csv(url)\n",
    "census_wide.info()"
   ]
  },
  {
   "cell_type": "code",
   "execution_count": null,
   "metadata": {},
   "outputs": [],
   "source": [
    "census_wide.head()"
   ]
  },
  {
   "cell_type": "markdown",
   "metadata": {},
   "source": [
    "## Data Preparation (to reduce columns)"
   ]
  },
  {
   "cell_type": "code",
   "execution_count": null,
   "metadata": {},
   "outputs": [],
   "source": [
    "# peek at column names\n",
    "\n",
    "census_wide.columns"
   ]
  },
  {
   "cell_type": "code",
   "execution_count": null,
   "metadata": {},
   "outputs": [],
   "source": [
    "# shorten the column names\n",
    "\n",
    "census_wide.columns = census_wide.columns.str.lower().str.replace(\" \",\"_\").str.replace('estimate','est')"
   ]
  },
  {
   "cell_type": "code",
   "execution_count": null,
   "metadata": {},
   "outputs": [],
   "source": [
    "# peek at column types\n",
    "\n",
    "census_wide.dtypes"
   ]
  },
  {
   "cell_type": "code",
   "execution_count": null,
   "metadata": {},
   "outputs": [],
   "source": [
    "# reduce to the columns needs\n",
    "\n",
    "df = census_wide.filter(regex='sumlev|division|name|est\\d{4}')\n",
    "df.head()"
   ]
  },
  {
   "cell_type": "code",
   "execution_count": null,
   "metadata": {},
   "outputs": [],
   "source": [
    "# summarize by rows\n",
    "\n",
    "df.groupby('sumlev')['popest2019'].sum()"
   ]
  },
  {
   "cell_type": "code",
   "execution_count": null,
   "metadata": {},
   "outputs": [],
   "source": [
    "df['sumlev'].value_counts(dropna=False)"
   ]
  },
  {
   "cell_type": "code",
   "execution_count": null,
   "metadata": {},
   "outputs": [],
   "source": [
    "# replace dataframe with a filter based on rows and columns\n",
    "\n",
    "df = df[df['sumlev'] ==40].loc[:, 'name':'popest2019']\n",
    "df.head()"
   ]
  },
  {
   "cell_type": "code",
   "execution_count": null,
   "metadata": {},
   "outputs": [],
   "source": [
    "# rename a column\n",
    "\n",
    "df.rename(columns={'name':'state_name'}, inplace=True)\n",
    "df.head()"
   ]
  },
  {
   "cell_type": "code",
   "execution_count": null,
   "metadata": {},
   "outputs": [],
   "source": [
    "# set and index based on a column with unique values\n",
    "\n",
    "df.set_index('state_name', inplace=True)\n",
    "df.head()"
   ]
  },
  {
   "cell_type": "code",
   "execution_count": null,
   "metadata": {},
   "outputs": [],
   "source": [
    "# search for specific rows & columns by name\n",
    "\n",
    "df.loc['South Dakota':, 'popest2015':]"
   ]
  },
  {
   "cell_type": "code",
   "execution_count": null,
   "metadata": {},
   "outputs": [],
   "source": [
    "# search for specific rows & columns by index\n",
    "\n",
    "df.iloc[-11:, -5:]"
   ]
  },
  {
   "cell_type": "code",
   "execution_count": null,
   "metadata": {},
   "outputs": [],
   "source": [
    "# analyze by each row (axis = 0)\n",
    "\n",
    "df.style.highlight_max(axis=0).format(\"{:,.0f}\")"
   ]
  },
  {
   "cell_type": "code",
   "execution_count": null,
   "metadata": {},
   "outputs": [],
   "source": [
    "# analyze by each column (axis = 1)\n",
    "\n",
    "df.style.highlight_max(axis=1).format(\"{:,.0f}\")"
   ]
  },
  {
   "cell_type": "code",
   "execution_count": null,
   "metadata": {},
   "outputs": [],
   "source": [
    "# transpose the dataframe\n",
    "\n",
    "df.T"
   ]
  },
  {
   "cell_type": "code",
   "execution_count": null,
   "metadata": {},
   "outputs": [],
   "source": [
    "# review descriptive statistics\n",
    "\n",
    "df.T.describe().style.format(\"{:,.0f}\")"
   ]
  },
  {
   "cell_type": "code",
   "execution_count": null,
   "metadata": {},
   "outputs": [],
   "source": [
    "def format_number(x):\n",
    "    \"\"\"Format a number into B(billions), M(millions), or K(thousands)\"\"\"\n",
    "    if x >= 1_000_000_000:\n",
    "        return \"{:,.1f}B\".format(x*1e-9)\n",
    "    elif x >= 1_000_000:\n",
    "        return \"{:,.1f}M\".format(x*1e-6)\n",
    "    elif x >= 1_000: \n",
    "        return \"{:,.1f}K\".format(x*1e-3)\n",
    "    return str(x)\n",
    "\n",
    "test_numbers = [5, 500, 5000, 50_000, 500_000, 5_000_000, 5e9, 5e12]\n",
    "\n",
    "dict(zip(test_numbers, list(map(format_number, test_numbers))))"
   ]
  },
  {
   "cell_type": "code",
   "execution_count": null,
   "metadata": {},
   "outputs": [],
   "source": [
    "# view the dataframe using the format_number function\n",
    "df.applymap(format_number)"
   ]
  },
  {
   "cell_type": "code",
   "execution_count": null,
   "metadata": {},
   "outputs": [],
   "source": [
    "# review by plotting (notice plotting problems)\n",
    "\n",
    "df.plot();"
   ]
  },
  {
   "cell_type": "code",
   "execution_count": null,
   "metadata": {},
   "outputs": [],
   "source": [
    "# review by plotting against columns to correct problems\n",
    "\n",
    "for column, items in df.T.iteritems():\n",
    "    if items.mean() >= 15_000_000:\n",
    "        items.plot(legend=column, figsize=(10,6), rot=45)"
   ]
  },
  {
   "cell_type": "code",
   "execution_count": null,
   "metadata": {},
   "outputs": [],
   "source": [
    "# review averages for each index/row\n",
    "\n",
    "df.T.mean().sort_values(ascending=False).plot.bar(figsize=(14,6), rot=90, color='darkblue', grid=False)\n",
    "plt.title(\"Average Population by State\");"
   ]
  },
  {
   "cell_type": "code",
   "execution_count": null,
   "metadata": {},
   "outputs": [],
   "source": [
    "# review & highlight specific index/row\n",
    "\n",
    "color_map = np.where(df.T.mean() >= 10_000_000, 'crimson', 'grey')\n",
    "\n",
    "df.T.mean().plot.bar(figsize=(14,6), rot=90, color=color_map, alpha= .7, grid=False)\n",
    "plt.title(\"Average Population by State\");"
   ]
  },
  {
   "cell_type": "code",
   "execution_count": null,
   "metadata": {},
   "outputs": [],
   "source": [
    "# review the difference between each column\n",
    "\n",
    "df.diff(axis=1).dropna(how='all', axis=1).style.format(\"{:,.0f}\")"
   ]
  },
  {
   "cell_type": "code",
   "execution_count": null,
   "metadata": {},
   "outputs": [],
   "source": [
    "# review the percent change between each column\n",
    "\n",
    "df.pct_change(axis=1).fillna(0).style.format(\"{:,.3%}\")"
   ]
  },
  {
   "cell_type": "code",
   "execution_count": null,
   "metadata": {},
   "outputs": [],
   "source": [
    "# make a new dataframe based on the percent changes\n",
    "\n",
    "xf = df.pct_change(axis=1).fillna(0)\n",
    "xf"
   ]
  },
  {
   "cell_type": "code",
   "execution_count": null,
   "metadata": {},
   "outputs": [],
   "source": [
    "# add a prefix to the columns names to distinguish them from the prior dataframe\n",
    "\n",
    "xf = xf.add_prefix('pct_chg_')\n",
    "xf"
   ]
  },
  {
   "cell_type": "code",
   "execution_count": null,
   "metadata": {},
   "outputs": [],
   "source": [
    "# create a new dataframe which concatentates both\n",
    "\n",
    "dd = pd.concat([df, xf], axis=1)\n",
    "dd"
   ]
  },
  {
   "cell_type": "code",
   "execution_count": null,
   "metadata": {},
   "outputs": [],
   "source": []
  }
 ],
 "metadata": {
  "kernelspec": {
   "display_name": "Python 3",
   "language": "python",
   "name": "python3"
  },
  "language_info": {
   "codemirror_mode": {
    "name": "ipython",
    "version": 3
   },
   "file_extension": ".py",
   "mimetype": "text/x-python",
   "name": "python",
   "nbconvert_exporter": "python",
   "pygments_lexer": "ipython3",
   "version": "3.8.5"
  }
 },
 "nbformat": 4,
 "nbformat_minor": 4
}
