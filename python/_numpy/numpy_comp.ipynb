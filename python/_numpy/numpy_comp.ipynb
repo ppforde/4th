{
 "cells": [
  {
   "cell_type": "code",
   "execution_count": null,
   "metadata": {},
   "outputs": [],
   "source": [
    "import time\n",
    "\n",
    "import pandas as pd\n",
    "import numpy as np\n",
    "import matplotlib.pyplot as plt\n",
    "import seaborn as sns\n",
    "import math as m\n",
    "\n",
    "print('Pandas version', pd.__version__)\n",
    "print('Numpy version', np.__version__)"
   ]
  },
  {
   "cell_type": "code",
   "execution_count": null,
   "metadata": {},
   "outputs": [],
   "source": [
    "pd.options.display.float_format = '{:,.2f}'.format\n",
    "pd.set_option('display.precision', 2)\n",
    "pd.set_option('max_rows', 250)\n",
    "pd.set_option('max_columns', 250)\n",
    "\n",
    "plt.style.use('seaborn')"
   ]
  },
  {
   "cell_type": "code",
   "execution_count": null,
   "metadata": {},
   "outputs": [],
   "source": [
    "#import numba\n",
    "#@numba.jit\n",
    "def Auto_Loan(Loans, Rates, Periods):\n",
    "    Rates = Rates / 100 / 12\n",
    "    return (Rates * Loans / (1-m.pow(1 + Rates, -Periods)))"
   ]
  },
  {
   "cell_type": "code",
   "execution_count": null,
   "metadata": {},
   "outputs": [],
   "source": [
    "%time\n",
    "Auto_Loan(25515, 3.19, 72)"
   ]
  },
  {
   "cell_type": "code",
   "execution_count": null,
   "metadata": {},
   "outputs": [],
   "source": [
    "%time\n",
    "np.pmt(rate=(3.19/100/12), nper=72, pv=-25515)"
   ]
  },
  {
   "cell_type": "code",
   "execution_count": null,
   "metadata": {},
   "outputs": [],
   "source": [
    "print(Auto_Loan(25515, 3.19, 72))\n",
    "\n",
    "print(np.pmt(rate=(3.19/100/12), nper=72, pv=-25515))"
   ]
  },
  {
   "cell_type": "code",
   "execution_count": null,
   "metadata": {},
   "outputs": [],
   "source": [
    "states = np.array(['NJ','NY','PA'])\n",
    "states"
   ]
  },
  {
   "cell_type": "code",
   "execution_count": null,
   "metadata": {},
   "outputs": [],
   "source": [
    "ratios = np.array([.1, .85, .05])\n",
    "ratios"
   ]
  },
  {
   "cell_type": "code",
   "execution_count": null,
   "metadata": {},
   "outputs": [],
   "source": [
    "Cars = np.r_[22000:30001,41000,45000,51000:60001,105000]\n",
    "type(Cars)"
   ]
  },
  {
   "cell_type": "code",
   "execution_count": null,
   "metadata": {},
   "outputs": [],
   "source": [
    "Cars.size"
   ]
  },
  {
   "cell_type": "code",
   "execution_count": null,
   "metadata": {},
   "outputs": [],
   "source": [
    "30000 in Cars"
   ]
  },
  {
   "cell_type": "code",
   "execution_count": null,
   "metadata": {},
   "outputs": [],
   "source": [
    "30001 in Cars"
   ]
  },
  {
   "cell_type": "code",
   "execution_count": null,
   "metadata": {},
   "outputs": [],
   "source": [
    "Cars2 = np.random.randint(22000, 40000, 15)\n",
    "Cars2"
   ]
  },
  {
   "cell_type": "code",
   "execution_count": null,
   "metadata": {},
   "outputs": [],
   "source": [
    "Cars[np.isin(Cars, Cars2)]"
   ]
  },
  {
   "cell_type": "code",
   "execution_count": null,
   "metadata": {},
   "outputs": [],
   "source": [
    "sns.lineplot(x=np.arange(0,Cars.size), y=Cars);"
   ]
  },
  {
   "cell_type": "code",
   "execution_count": null,
   "metadata": {},
   "outputs": [],
   "source": [
    "np.median(Cars)"
   ]
  },
  {
   "cell_type": "code",
   "execution_count": null,
   "metadata": {},
   "outputs": [],
   "source": [
    "np.std(Cars)"
   ]
  },
  {
   "cell_type": "code",
   "execution_count": null,
   "metadata": {},
   "outputs": [],
   "source": [
    "np.busday_count('2019-01-01', '2020-01-01')"
   ]
  },
  {
   "cell_type": "code",
   "execution_count": null,
   "metadata": {},
   "outputs": [],
   "source": [
    "365 - (52*2)"
   ]
  },
  {
   "cell_type": "code",
   "execution_count": null,
   "metadata": {},
   "outputs": [],
   "source": [
    "nyd = [str(y) + '-01-01' for y in range(1970, 2031)]\n",
    "july4 = [str(y) + '-07-04' for y in range(1970, 2031)]\n",
    "xmas = [str(y) + '-12-25' for y in range(1970, 2031)]\n",
    "\n",
    "print(nyd[-7:])\n",
    "print(july4[-7:])\n",
    "print(xmas[-7:])"
   ]
  },
  {
   "cell_type": "code",
   "execution_count": null,
   "metadata": {},
   "outputs": [],
   "source": [
    "np.busday_count('2019-01-01', '2020-01-01', holidays=nyd + july4 + xmas)"
   ]
  },
  {
   "cell_type": "code",
   "execution_count": null,
   "metadata": {},
   "outputs": [],
   "source": [
    "N = 3000\n",
    "\n",
    "Start_Dates = np.random.choice(np.arange('2019-11-26', '2020-07-01', dtype='datetime64[D]'), replace=True, size=N)\n",
    "States = np.random.choice(states, size=(N), p=ratios)\n",
    "Loans = np.random.normal(loc=np.median(Cars), scale=1000, size=N).astype(int)\n",
    "Rates = np.random.choice(np.linspace(start=4.6, stop=5.2, num=6, dtype=np.float32), replace=True, size=N)\n",
    "Periods = np.random.choice(np.arange(12, 84, 12), replace=True, size=N)\n",
    "End_Dates = Start_Dates + (Periods * 30)\n",
    "Bus_Days = np.busday_count(Start_Dates, End_Dates)\n",
    "Luxury = np.where(Loans >= 50000, True, False)"
   ]
  },
  {
   "cell_type": "code",
   "execution_count": null,
   "metadata": {},
   "outputs": [],
   "source": [
    "#start = time.perf_counter_ns()\n",
    "\n",
    "Payments = np.pmt(rate=Rates/100/12, nper=Periods, pv=-Loans)\n",
    "\n",
    "#print(\"Processed in {:,} nanseconds\".format(time.perf_counter_ns()-start))"
   ]
  },
  {
   "cell_type": "code",
   "execution_count": null,
   "metadata": {},
   "outputs": [],
   "source": [
    "auto_np = np.empty(N, dtype={'names':('states','loans','rates','periods','payments','start_dates','end_dates', 'bus_days', 'luxury'),\n",
    "                             'formats':('U2','f8','f8','i8','f8','datetime64[D]','datetime64[D]', 'i8', 'bool')})"
   ]
  },
  {
   "cell_type": "code",
   "execution_count": null,
   "metadata": {},
   "outputs": [],
   "source": [
    "auto_np['states'] = States\n",
    "auto_np['loans'] = Loans\n",
    "auto_np['rates'] = Rates\n",
    "auto_np['periods'] = Periods\n",
    "auto_np['payments'] = Payments\n",
    "auto_np['start_dates'] = Start_Dates\n",
    "auto_np['end_dates'] = End_Dates\n",
    "auto_np['bus_days'] = Bus_Days\n",
    "auto_np['luxury'] = Luxury\n",
    "\n",
    "auto_np.size"
   ]
  },
  {
   "cell_type": "code",
   "execution_count": null,
   "metadata": {},
   "outputs": [],
   "source": [
    "print('${:,.0f}'.format(auto_np['payments'].sum()))"
   ]
  },
  {
   "cell_type": "code",
   "execution_count": null,
   "metadata": {},
   "outputs": [],
   "source": [
    "print('${:,.2f}'.format(auto_np['payments'].mean()))"
   ]
  },
  {
   "cell_type": "code",
   "execution_count": null,
   "metadata": {},
   "outputs": [],
   "source": [
    "print('${:,.2f}'.format(auto_np['payments'].max()))"
   ]
  },
  {
   "cell_type": "code",
   "execution_count": null,
   "metadata": {},
   "outputs": [],
   "source": [
    "auto_np[0]"
   ]
  },
  {
   "cell_type": "code",
   "execution_count": null,
   "metadata": {},
   "outputs": [],
   "source": [
    "np.set_printoptions(precision=2)"
   ]
  },
  {
   "cell_type": "code",
   "execution_count": null,
   "metadata": {},
   "outputs": [],
   "source": [
    "print(auto_np[0:5])"
   ]
  },
  {
   "cell_type": "code",
   "execution_count": null,
   "metadata": {},
   "outputs": [],
   "source": [
    "print(auto_np[-5:])"
   ]
  },
  {
   "cell_type": "code",
   "execution_count": null,
   "metadata": {},
   "outputs": [],
   "source": [
    "print(auto_np[auto_np['periods']==12][0:5])"
   ]
  },
  {
   "cell_type": "code",
   "execution_count": null,
   "metadata": {},
   "outputs": [],
   "source": [
    "auto_np[auto_np['payments'] > 600]['loans']"
   ]
  },
  {
   "cell_type": "code",
   "execution_count": null,
   "metadata": {},
   "outputs": [],
   "source": [
    "auto_np[auto_np['payments'] == auto_np['payments'].min()]['loans']"
   ]
  },
  {
   "cell_type": "code",
   "execution_count": null,
   "metadata": {},
   "outputs": [],
   "source": [
    "auto_np[auto_np['loans'] < 0]['loans']"
   ]
  },
  {
   "cell_type": "code",
   "execution_count": null,
   "metadata": {},
   "outputs": [],
   "source": [
    "np.unique(auto_np['states'])"
   ]
  },
  {
   "cell_type": "code",
   "execution_count": null,
   "metadata": {},
   "outputs": [],
   "source": [
    "sns.distplot(auto_np['loans']);"
   ]
  },
  {
   "cell_type": "code",
   "execution_count": null,
   "metadata": {},
   "outputs": [],
   "source": [
    "sns.distplot(auto_np['payments']);"
   ]
  },
  {
   "cell_type": "code",
   "execution_count": null,
   "metadata": {},
   "outputs": [],
   "source": [
    "sns.boxplot(x=auto_np['periods'], y=auto_np['payments']);"
   ]
  },
  {
   "cell_type": "code",
   "execution_count": null,
   "metadata": {},
   "outputs": [],
   "source": [
    "sns.countplot(x=auto_np['luxury'], alpha=.8);"
   ]
  },
  {
   "cell_type": "code",
   "execution_count": null,
   "metadata": {},
   "outputs": [],
   "source": [
    "sns.barplot(x=auto_np['states'], y=auto_np['payments']);"
   ]
  },
  {
   "cell_type": "code",
   "execution_count": null,
   "metadata": {},
   "outputs": [],
   "source": [
    "auto_np['payments'][0:10]"
   ]
  },
  {
   "cell_type": "code",
   "execution_count": null,
   "metadata": {},
   "outputs": [],
   "source": [
    "#auto_np['payments'].tofile(file='auto_payments.csv', format='%.0f', sep=';')"
   ]
  },
  {
   "cell_type": "code",
   "execution_count": null,
   "metadata": {},
   "outputs": [],
   "source": [
    "#auto_payments = np.fromfile(file='auto_payments.csv', sep=';')\n",
    "#auto_payments[0:10]"
   ]
  },
  {
   "cell_type": "code",
   "execution_count": null,
   "metadata": {},
   "outputs": [],
   "source": [
    "price_test = auto_np['loans'] > 50000\n",
    "payment_test = auto_np['payments'] < 1000\n",
    "\n",
    "auto_bool = np.logical_and(price_test, payment_test)\n",
    "\n",
    "auto_np[auto_bool].size"
   ]
  },
  {
   "cell_type": "code",
   "execution_count": null,
   "metadata": {},
   "outputs": [],
   "source": [
    "df = pd.DataFrame.from_records(auto_np[auto_bool])\n",
    "df.info()"
   ]
  },
  {
   "cell_type": "code",
   "execution_count": null,
   "metadata": {},
   "outputs": [],
   "source": [
    "df.head()"
   ]
  },
  {
   "cell_type": "code",
   "execution_count": null,
   "metadata": {},
   "outputs": [],
   "source": [
    "df.describe()"
   ]
  },
  {
   "cell_type": "code",
   "execution_count": null,
   "metadata": {},
   "outputs": [],
   "source": [
    "df.nsmallest(n=20, columns='payments')"
   ]
  },
  {
   "cell_type": "code",
   "execution_count": null,
   "metadata": {},
   "outputs": [],
   "source": [
    "cars = sns.load_dataset('mpg')\n",
    "cars.head()"
   ]
  },
  {
   "cell_type": "code",
   "execution_count": null,
   "metadata": {},
   "outputs": [],
   "source": [
    "cars.isna().sum()"
   ]
  },
  {
   "cell_type": "code",
   "execution_count": null,
   "metadata": {},
   "outputs": [],
   "source": [
    "cars.corr()"
   ]
  },
  {
   "cell_type": "code",
   "execution_count": null,
   "metadata": {},
   "outputs": [],
   "source": [
    "cars.dropna(subset=['horsepower'], inplace=True)"
   ]
  },
  {
   "cell_type": "code",
   "execution_count": null,
   "metadata": {},
   "outputs": [],
   "source": [
    "X = cars.horsepower.values\n",
    "Y = cars.mpg.values\n",
    "\n",
    "sns.regplot(X, Y );"
   ]
  },
  {
   "cell_type": "code",
   "execution_count": null,
   "metadata": {},
   "outputs": [],
   "source": [
    "# numpy polyfit\n",
    "\n",
    "# Creates a linear regression from the data points\n",
    "m, b = np.polyfit(x=X, y=Y, deg=1)\n",
    "\n",
    "print(\"m={:.02f},  b={:.02f}\".format(m, b))"
   ]
  },
  {
   "cell_type": "code",
   "execution_count": null,
   "metadata": {},
   "outputs": [],
   "source": [
    "# This is a simple y = mx + b line function\n",
    "def f(x):\n",
    "    return m*x + b\n",
    "\n",
    "# This generates the same scatter plot as before, but adds a line plot using the function above\n",
    "sns.scatterplot(x=X, y=Y, alpha=.4)\n",
    "sns.lineplot(X, f(X), color='grey');"
   ]
  },
  {
   "cell_type": "code",
   "execution_count": null,
   "metadata": {},
   "outputs": [],
   "source": [
    "fit = np.polyfit(x=X, y=Y, deg=1)\n",
    "\n",
    "fit"
   ]
  },
  {
   "cell_type": "code",
   "execution_count": null,
   "metadata": {},
   "outputs": [],
   "source": [
    "np.polyval(fit,75)"
   ]
  },
  {
   "cell_type": "code",
   "execution_count": null,
   "metadata": {},
   "outputs": [],
   "source": [
    "xval = 100\n",
    "\n",
    "sns.scatterplot(x=X, y=Y, alpha=.4)\n",
    "sns.scatterplot(x=[xval], y=[np.polyval(fit,xval)], color='r')\n",
    "sns.lineplot(X, f(X), color='grey');"
   ]
  },
  {
   "cell_type": "code",
   "execution_count": null,
   "metadata": {},
   "outputs": [],
   "source": [
    "from ipywidgets import interact\n",
    "\n",
    "@interact(xval=150)\n",
    "def plot(xval):\n",
    "    sns.scatterplot(x=X, y=Y, alpha=.4)\n",
    "    sns.scatterplot(x=[xval], y=[np.polyval(fit,xval)], color='r')\n",
    "    sns.lineplot(X, f(X), color='grey');\n"
   ]
  },
  {
   "cell_type": "code",
   "execution_count": null,
   "metadata": {},
   "outputs": [],
   "source": []
  }
 ],
 "metadata": {
  "kernelspec": {
   "display_name": "Python 3",
   "language": "python",
   "name": "python3"
  },
  "language_info": {
   "codemirror_mode": {
    "name": "ipython",
    "version": 3
   },
   "file_extension": ".py",
   "mimetype": "text/x-python",
   "name": "python",
   "nbconvert_exporter": "python",
   "pygments_lexer": "ipython3",
   "version": "3.8.3"
  }
 },
 "nbformat": 4,
 "nbformat_minor": 4
}
