{
 "cells": [
  {
   "cell_type": "code",
   "execution_count": null,
   "metadata": {},
   "outputs": [],
   "source": [
    "from IPython.core.display import display, HTML\n",
    "display(HTML(\"<style>.container { width:95% !important; font-size:100%;}</style>\"))"
   ]
  },
  {
   "cell_type": "code",
   "execution_count": null,
   "metadata": {
    "id": "U9icSIXROXxF"
   },
   "outputs": [],
   "source": [
    "from pprint import pprint\n",
    "from collections import Counter\n",
    "import csv\n",
    "import datetime\n",
    "import json\n",
    "\n",
    "from bson.son import SON\n",
    "from bson import json_util"
   ]
  },
  {
   "cell_type": "code",
   "execution_count": null,
   "metadata": {
    "colab": {
     "base_uri": "https://localhost:8080/",
     "height": 238
    },
    "id": "58Gz1qiROdOp",
    "outputId": "b753ad4f-10d0-49d0-8639-5eae34734ee2"
   },
   "outputs": [],
   "source": [
    "!pip install pyspark"
   ]
  },
  {
   "cell_type": "code",
   "execution_count": null,
   "metadata": {
    "colab": {
     "base_uri": "https://localhost:8080/",
     "height": 68
    },
    "id": "q1WioaG2OfMC",
    "outputId": "f2e4777c-c30a-4b4b-9de2-29a4c7627bf5"
   },
   "outputs": [],
   "source": [
    "!pip install pyarrow"
   ]
  },
  {
   "cell_type": "code",
   "execution_count": null,
   "metadata": {
    "id": "ZUDQ3JozOgw0"
   },
   "outputs": [],
   "source": [
    "from pyspark.sql import SparkSession, Row\n",
    "from pyspark.context import SparkContext\n",
    "from pyspark.sql.functions import *\n",
    "from pyspark.sql.types import *"
   ]
  },
  {
   "cell_type": "code",
   "execution_count": null,
   "metadata": {
    "id": "moYBi37sOxh7"
   },
   "outputs": [],
   "source": [
    "import pyarrow as pa\n",
    "import pyarrow.parquet as pq"
   ]
  },
  {
   "cell_type": "code",
   "execution_count": null,
   "metadata": {
    "colab": {
     "base_uri": "https://localhost:8080/",
     "height": 216
    },
    "id": "gdJyDi1vO2RL",
    "outputId": "71bd55e9-66e6-474b-b29c-70bad5d02c31"
   },
   "outputs": [],
   "source": [
    "session_name = \"USA\"\n",
    "\n",
    "spark = SparkSession.builder.appName(session_name).getOrCreate()\n",
    "spark"
   ]
  },
  {
   "cell_type": "code",
   "execution_count": null,
   "metadata": {
    "id": "hlAdfm6jPFSj"
   },
   "outputs": [],
   "source": [
    "sc = spark.sparkContext"
   ]
  },
  {
   "cell_type": "code",
   "execution_count": null,
   "metadata": {
    "id": "CeNjvKoFPOey"
   },
   "outputs": [],
   "source": [
    "usa_list = [\n",
    "  ('AL', 'Alabama', 'State', '7', 'South', 'East South Central', 'Montgomery', '32.371002', '-86.394550', '4863300'),\n",
    "  ('AK', 'Alaska', 'State', '1', 'West', 'Pacific', 'Juneau', '58.317506', '-134.417574', '741894'),\n",
    "  ('AZ', 'Arizona', 'State', '9', 'West', 'Mountain', 'Phoenix', '33.445968', '-112.101734', '6931071'),\n",
    "  ('AR', 'Arkansas', 'State', '4', 'South', 'West South Central', 'Little Rock', '34.745992', '-92.292611', '2988248'),\n",
    "  ('CA', 'California', 'State', '53', 'West', 'Pacific', 'Sacramento', '38.579504', '-121.487203', '39250017'),\n",
    "  ('CO', 'Colorado', 'State', '7', 'West', 'Mountain', 'Denver', '39.737859', '-104.991760', '5540545'),\n",
    "  ('CT', 'Connecticut', 'State', '5', 'Northeast', 'New England', 'Hartford', '41.763762', '-72.683864', '3576452'),\n",
    "  ('DC', 'Washington, D.C.', 'District', None, 'South', 'South Atlantic', 'District of Columbia', '38.906007', '-77.037571', '681170'),\n",
    "  ('DE', 'Delaware', 'State', '1', 'South', 'South Atlantic', 'Dover', '39.157875', '-75.525093', '952065'),\n",
    "  ('FL', 'Florida', 'State', '27', 'South', 'South Atlantic', 'Tallahassee', '30.438709', '-84.277800', '20612439'),\n",
    "  ('GA', 'Georgia', 'State', '14', 'South', 'South Atlantic', 'Atlanta', '33.749711', '-84.386617', '10310371'),\n",
    "  ('HI', 'Hawaii', 'State', '2', 'West', 'Pacific', 'Honolulu', '21.307870', '-157.860530', '1428557'),\n",
    "  ('ID', 'Idaho', 'State', '2', 'West', 'Mountain', 'Boise', '43.618434', '-116.211584', '1683140'),\n",
    "  ('IL', 'Illinois', 'State', '18', 'Midwest', 'East North Central', 'Springfield', '39.782024', '-89.644054', '12801539'),\n",
    "  ('IN', 'Indiana', 'State', '9', 'Midwest', 'East North Central', 'Indianapolis', '39.764395', '-86.149923', '6633053'),\n",
    "  ('IA', 'Iowa', 'State', '4', 'Midwest', 'West North Central', 'Des Moines', '41.599520', '-93.601024', '3134693'),\n",
    "  ('KS', 'Kansas', 'State', '4', 'Midwest', 'West North Central', 'Topeka', '39.057036', '-95.688120', '2907289'),\n",
    "  ('KY', 'Kentucky', 'State', '6', 'South', 'East South Central', 'Frankfort', '38.200376', '-84.872634', '4436974'),\n",
    "  ('LA', 'Louisiana', 'State', '6', 'South', 'West South Central', 'Baton Rouge', '30.458030', '-91.133393', '4681666'),\n",
    "  ('ME', 'Maine', 'State', '2', 'Northeast', 'New England', 'Augusta', '44.310730', '-69.778454', '1331479'),\n",
    "  ('MD', 'Maryland', 'State', '8', 'South', 'South Atlantic', 'Annapolis', '38.978390', '-76.492150', '6016447'),\n",
    "  ('MA', 'Massachusetts', 'State', '9', 'Northeast', 'New England', 'Boston', '42.360302', '-71.055442', '6811779'),\n",
    "  ('MI', 'Michigan', 'State', '14', 'Midwest', 'East North Central', 'Lansing', '42.733126', '-84.554570', '9928300'),\n",
    "  ('MN', 'Minnesota', 'State', '8', 'Midwest', 'West North Central', 'St. Paul', '44.953796', '-93.087686', '5519952'),\n",
    "  ('MS', 'Mississippi', 'State', '4', 'South', 'East South Central', 'Jackson', '32.298702', '-90.177903', '2988726'),\n",
    "  ('MO', 'Missouri', 'State', '8', 'Midwest', 'West North Central', 'Jefferson City', '38.576513', '-92.169960', '6093000'),\n",
    "  ('MT', 'Montana', 'State', '1', 'West', 'Mountain', 'Helena', '46.587808', '-112.024277', '1042520'),\n",
    "  ('NE', 'Nebraska', 'State', '3', 'Midwest', 'West North Central', 'Lincoln', '40.824494', '-96.680087', '1907116'),\n",
    "  ('NV', 'Nevada', 'State', '4', 'West', 'Mountain', 'Carson City', '39.162426', '-119.763287', '2940058'),\n",
    "  ('NH', 'New Hampshire', 'State', '2', 'Northeast', 'New England', 'Concord', '43.208013', '-71.539261', '1334795'),\n",
    "  ('NJ', 'New Jersey', 'State', '12', 'Northeast', 'Middle Atlantic', 'Trenton', '40.217190', '-74.741850', '8944469'),\n",
    "  ('NM', 'New Mexico', 'State', '3', 'West', 'Mountain', 'Santa Fe', '35.687214', '-105.937719', '2081015'),\n",
    "  ('NY', 'New York', 'State', '27', 'Northeast', 'Middle Atlantic', 'Albany', '42.652299', '-73.754720', '19745289'),\n",
    "  ('NC', 'North Carolina', 'State', '13', 'South', 'South Atlantic', 'Raleigh', '35.779712', '-78.632011', '10146788'),\n",
    "  ('ND', 'North Dakota', 'State', '1', 'Midwest', 'West North Central', 'Bismarck', '46.807880', '-100.782162', '757952'),\n",
    "  ('OH', 'Ohio', 'State', '16', 'Midwest', 'East North Central', 'Columbus', '39.961432', '-82.998850', '11614373'),\n",
    "  ('OK', 'Oklahoma', 'State', '5', 'South', 'West South Central', 'Oklahoma City', '35.468588', '-97.496371', '3923561'),\n",
    "  ('OR', 'Oregon', 'State', '5', 'West', 'Pacific', 'Salem', '44.943177', '-123.034389', '4093465'),\n",
    "  ('PA', 'Pennsylvania', 'State', '18', 'Northeast', 'Middle Atlantic', 'Harrisburg', '40.272972', '-76.883172', '12784227'),\n",
    "  ('RI', 'Rhode Island', 'State', '2', 'Northeast', 'New England', 'Providence', '41.823384', '-71.410697', '1056426'),\n",
    "  ('SC', 'South Carolina', 'State', '7', 'South', 'South Atlantic', 'Columbia', '34.000421', '-81.028292', '4961119'),\n",
    "  ('SD', 'South Dakota', 'State', '1', 'Midwest', 'West North Central', 'Pierre', '44.366713', '-100.342667', '865454'),\n",
    "  ('TN', 'Tennessee', 'State', '9', 'South', 'East South Central', 'Nashville', '36.164388', '-86.778386', '6651194'),\n",
    "  ('TX', 'Texas', 'State', '36', 'South', 'West South Central', 'Austin', '30.267368', '-97.737616', '27862596'),\n",
    "  ('UT', 'Utah', 'State', '4', 'West', 'Mountain', 'Salt Lake City', '40.759686', '-111.891648', '3051217'),\n",
    "  ('VT', 'Vermont', 'State', '1', 'Northeast', 'New England', 'Montpelier', '44.260050', '-72.573870', '624594'),\n",
    "  ('VA', 'Virginia', 'State', '11', 'South', 'South Atlantic', 'Richmond', '37.540431', '-77.432838', '8411808'),\n",
    "  ('WA', 'Washington', 'State', '10', 'West', 'Pacific', 'Olympia', '47.038158', '-122.897302', '7288000'),\n",
    "  ('WV', 'West Virginia', 'State', '3', 'South', 'South Atlantic', 'Charleston', '38.349233', '-81.632901', '1831102'),\n",
    "  ('WI', 'Wisconsin', 'State', '8', 'Midwest', 'East North Central', 'Madison', '43.072434', '-89.399899', '5778708'),\n",
    "  ('WY', 'Wyoming', 'State', '1', 'West', 'Mountain', 'Cheyenne', '41.140029', '-104.821135', '585501'),\n",
    "  ('PR', 'Puerto Rico', 'Territory', None, 'South', 'South Atlantic', 'San Juan', '18.465189', '-66.101552', '3411307'),\n",
    "  ('GU', 'Guam', 'Territory', None, 'South', 'Pacific', 'Hagåtña', '13.474292', '144.753015', '162742'),\n",
    "  ('VI', 'U.S. Virgin Islands', 'Territory', None, 'South', 'South Atlantic', 'Charlotte Amalie', '18.338427', '-64.938825', '106792'),\n",
    "  ('AS', 'American Samoa', 'Territory', None, 'South', 'Pacific', 'Pago Pago', '-14.271918', '-170.700754', '54194'),\n",
    "  ('MP', 'Northern Mariana Islands', 'Territory', None, 'South', 'Pacific', 'Saipan', '15.154782', '145.730151', '53467'),\n",
    "]"
   ]
  },
  {
   "cell_type": "code",
   "execution_count": null,
   "metadata": {
    "id": "Iugqsl2RPpbX"
   },
   "outputs": [],
   "source": [
    "usa_columns = (\n",
    "  'state_abbr',\n",
    "  'state_name',\n",
    "  'state_type',\n",
    "  'state_seats',\n",
    "  'state_region',\n",
    "  'state_division',\n",
    "  'state_capital',\n",
    "  'capital_latitude',\n",
    "  'capital_longitude',\n",
    "  'state_population',\n",
    ")"
   ]
  },
  {
   "cell_type": "code",
   "execution_count": null,
   "metadata": {
    "colab": {
     "base_uri": "https://localhost:8080/",
     "height": 119
    },
    "id": "_3FKH9Ece0df",
    "outputId": "8047c697-269e-4868-961d-68228c43a0a6"
   },
   "outputs": [],
   "source": [
    "def numint(x):\n",
    "    try:\n",
    "        return int(x)\n",
    "    except:\n",
    "        return 0\n",
    "      \n",
    "for item in ['', '55', 500, 'five', '5_000_000', None]:\n",
    "    print(numint(item))"
   ]
  },
  {
   "cell_type": "code",
   "execution_count": null,
   "metadata": {
    "id": "4LbrcCVjQYdH"
   },
   "outputs": [],
   "source": [
    "usa_dict = []\n",
    "\n",
    "for tup in usa_list:\n",
    "    row = dict(zip(usa_columns, tup))\n",
    "    row['state_seats'] = numint(row['state_seats'])\n",
    "    row['state_population'] = numint(row['state_population'])\n",
    "    row['capital_latitude'] = float(row['capital_latitude'])\n",
    "    row['capital_longitude'] = float(row['capital_longitude'])  \n",
    "    row['append_date_time'] = datetime.datetime.now().strftime(\"%Y-%m-%d %H:%M:%S\")\n",
    "    usa_dict.append(row)"
   ]
  },
  {
   "cell_type": "code",
   "execution_count": null,
   "metadata": {
    "colab": {
     "base_uri": "https://localhost:8080/",
     "height": 1000
    },
    "id": "kJiQecH4Q3Eo",
    "outputId": "c3b4af46-cbf2-4a3f-8060-da29b055f35c"
   },
   "outputs": [],
   "source": [
    "usa_dict"
   ]
  },
  {
   "cell_type": "code",
   "execution_count": null,
   "metadata": {
    "colab": {
     "base_uri": "https://localhost:8080/",
     "height": 34
    },
    "id": "GNbLn_Tqm5v-",
    "outputId": "ed1e3dbf-0ecf-41c6-fb67-a0a8e9703eaf"
   },
   "outputs": [],
   "source": [
    "Counter(row['state_region'] for row in usa_dict)"
   ]
  },
  {
   "cell_type": "code",
   "execution_count": null,
   "metadata": {
    "colab": {
     "base_uri": "https://localhost:8080/",
     "height": 187
    },
    "id": "SR9hucLzSJRw",
    "outputId": "4472afa6-f325-48e1-f6e8-7f7216326d5a"
   },
   "outputs": [],
   "source": [
    "Counter((row['state_region'], row['state_division']) for row in usa_dict)"
   ]
  },
  {
   "cell_type": "code",
   "execution_count": null,
   "metadata": {
    "id": "-teUH3iAQ4KA"
   },
   "outputs": [],
   "source": [
    "# save as CSV (Comma Separated Values)\n",
    "with open('usa_dataset.csv', mode='w', newline='', encoding='utf-8') as f:\n",
    "    writer = csv.DictWriter(f, fieldnames=usa_dict[0].keys())\n",
    "    writer.writeheader()\n",
    "    writer.writerows(usa_dict)"
   ]
  },
  {
   "cell_type": "code",
   "execution_count": null,
   "metadata": {
    "id": "9MDjBYWLYuq0"
   },
   "outputs": [],
   "source": [
    "# save as JSON (JavaScript Object Notation)\n",
    "with open(file='usa_dataset.json', mode='w') as fp:\n",
    "    json.dump(fp=fp, obj=usa_dict, indent=2, default=json_util.default)"
   ]
  },
  {
   "cell_type": "code",
   "execution_count": null,
   "metadata": {
    "id": "6mXgfF51dy1i"
   },
   "outputs": [],
   "source": [
    "from sqlalchemy import create_engine, MetaData, Table, Column, Integer, String, Float, DateTime"
   ]
  },
  {
   "cell_type": "code",
   "execution_count": null,
   "metadata": {
    "id": "31zmqLJXgGdv"
   },
   "outputs": [],
   "source": [
    "# This creates a database (if it does not exist) or opens the existing one\n",
    "engine = create_engine('sqlite:///usa_data.db', echo=False)"
   ]
  },
  {
   "cell_type": "code",
   "execution_count": null,
   "metadata": {
    "id": "0vKudssmgKdO"
   },
   "outputs": [],
   "source": [
    "meta = MetaData()\n",
    "\n",
    "usa = Table(\n",
    "    'usa_table', meta,\n",
    "    Column('state_abbr', String),\n",
    "    Column('state_name', String),\n",
    "    Column('state_type', String),\n",
    "    Column('state_seats', Integer),\n",
    "    Column('state_region', String),\n",
    "    Column('state_division', String),\n",
    "    Column('state_capital', String),\n",
    "    Column('capital_latitude', Float),\n",
    "    Column('capital_longitude', Float),\n",
    "    Column('state_population', Integer),\n",
    "    Column('append_date_time', String),\n",
    ")\n",
    "\n",
    "meta.create_all(engine)\n",
    "\n",
    "conn = engine.connect()"
   ]
  },
  {
   "cell_type": "code",
   "execution_count": null,
   "metadata": {
    "colab": {
     "base_uri": "https://localhost:8080/",
     "height": 34
    },
    "id": "7xvdxUGfhYwv",
    "outputId": "43fcdd15-9a23-4cce-9ad6-ae0d4473c1d9"
   },
   "outputs": [],
   "source": [
    "# SQL Alchemy is able to interpret this format for inserting records to the table\n",
    "\n",
    "conn.execute(usa.insert(), usa_dict)"
   ]
  },
  {
   "cell_type": "code",
   "execution_count": null,
   "metadata": {
    "id": "S4XeT_iBg0Fs"
   },
   "outputs": [],
   "source": [
    "import pandas as pd"
   ]
  },
  {
   "cell_type": "code",
   "execution_count": null,
   "metadata": {
    "colab": {
     "base_uri": "https://localhost:8080/",
     "height": 323
    },
    "id": "jmF2HWAYhp7R",
    "outputId": "81435ca6-f619-4df0-b9f9-6c29c3476fdb"
   },
   "outputs": [],
   "source": [
    "df = pd.read_csv('usa_dataset.csv', parse_dates=['append_date_time'])\n",
    "\n",
    "df.info()"
   ]
  },
  {
   "cell_type": "code",
   "execution_count": null,
   "metadata": {
    "colab": {
     "base_uri": "https://localhost:8080/",
     "height": 204
    },
    "id": "tjfaD7oEmc54",
    "outputId": "99109235-81ca-4ff1-e7bc-925930f2ded8"
   },
   "outputs": [],
   "source": [
    "df.head()"
   ]
  },
  {
   "cell_type": "code",
   "execution_count": null,
   "metadata": {
    "colab": {
     "base_uri": "https://localhost:8080/",
     "height": 323
    },
    "id": "gMtL0UzthtiO",
    "outputId": "1a208a91-6e48-4b9f-bcb6-bd8238b02357"
   },
   "outputs": [],
   "source": [
    "df = pd.read_json('usa_dataset.json', convert_dates=True)\n",
    "df.info()"
   ]
  },
  {
   "cell_type": "code",
   "execution_count": null,
   "metadata": {
    "colab": {
     "base_uri": "https://localhost:8080/",
     "height": 204
    },
    "id": "D4vi_fsdh2U6",
    "outputId": "3d3119d2-17eb-4fd8-9c87-02af3885cbf5"
   },
   "outputs": [],
   "source": [
    "df.head()"
   ]
  },
  {
   "cell_type": "code",
   "execution_count": null,
   "metadata": {
    "colab": {
     "base_uri": "https://localhost:8080/",
     "height": 323
    },
    "id": "vtlc07cKrIZ3",
    "outputId": "0edc8e45-2d64-475e-ddb2-2e01f6599cb6"
   },
   "outputs": [],
   "source": [
    "df = pd.read_sql(sql='select * from usa_table', con=conn, parse_dates=['append_date_time'])\n",
    "df.info()"
   ]
  },
  {
   "cell_type": "code",
   "execution_count": null,
   "metadata": {
    "colab": {
     "base_uri": "https://localhost:8080/",
     "height": 238
    },
    "id": "_OxjcZhzh9of",
    "outputId": "ce41703a-d0e6-44b0-d22b-71de420c56df"
   },
   "outputs": [],
   "source": [
    "fp = 'usa_dataset.csv'\n",
    "df = spark.read.format(\"csv\").option('header','true').option('inferSchema','true').load(fp)\n",
    "df.printSchema()"
   ]
  },
  {
   "cell_type": "code",
   "execution_count": null,
   "metadata": {
    "colab": {
     "base_uri": "https://localhost:8080/",
     "height": 238
    },
    "id": "2TCJymwnsOCf",
    "outputId": "a0762ef0-6460-432a-fd0e-5d2581cd0b0d"
   },
   "outputs": [],
   "source": [
    "df = df.withColumn('append_date_time', to_timestamp(col('append_date_time')))\n",
    "df.printSchema()"
   ]
  },
  {
   "cell_type": "code",
   "execution_count": null,
   "metadata": {
    "colab": {
     "base_uri": "https://localhost:8080/",
     "height": 204
    },
    "id": "-uOkQpFlq1r2",
    "outputId": "cd4feb2d-669b-4be2-8e2b-b3fcbc2dded8"
   },
   "outputs": [],
   "source": [
    "df.show(5)"
   ]
  },
  {
   "cell_type": "code",
   "execution_count": null,
   "metadata": {
    "colab": {
     "base_uri": "https://localhost:8080/",
     "height": 204
    },
    "id": "nsi-gDtIpvx-",
    "outputId": "5f348a53-c2ca-46f4-e9aa-45688965b018"
   },
   "outputs": [],
   "source": [
    "df.filter(df['state_seats']==0).show()"
   ]
  },
  {
   "cell_type": "code",
   "execution_count": null,
   "metadata": {
    "id": "6PIe3ybAqlna"
   },
   "outputs": [],
   "source": []
  }
 ],
 "metadata": {
  "colab": {
   "collapsed_sections": [],
   "name": "DataMaster.ipynb",
   "provenance": []
  },
  "kernelspec": {
   "display_name": "Python 3",
   "language": "python",
   "name": "python3"
  },
  "language_info": {
   "codemirror_mode": {
    "name": "ipython",
    "version": 3
   },
   "file_extension": ".py",
   "mimetype": "text/x-python",
   "name": "python",
   "nbconvert_exporter": "python",
   "pygments_lexer": "ipython3",
   "version": "3.7.3"
  }
 },
 "nbformat": 4,
 "nbformat_minor": 1
}
