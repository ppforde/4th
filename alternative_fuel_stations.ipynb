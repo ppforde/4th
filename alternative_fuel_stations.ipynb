{
 "cells": [
  {
   "cell_type": "markdown",
   "metadata": {},
   "source": [
    "# Alternative Fuel Stations\n",
    "---"
   ]
  },
  {
   "cell_type": "markdown",
   "metadata": {
    "colab_type": "text",
    "id": "3hNWxQilc17g"
   },
   "source": [
    "**Purpose:**\n",
    "\n",
    "Using file operations from the Python standard library\n",
    "\n",
    "**Data Source:**\n",
    "\n",
    "https://data.ny.gov/"
   ]
  },
  {
   "cell_type": "code",
   "execution_count": null,
   "metadata": {},
   "outputs": [],
   "source": [
    "# system libraries\n",
    "import os\n",
    "import sys\n",
    "\n",
    "# check system information\n",
    "print('Python Information', sys.version)\n",
    "print('This is your current directory', os.getcwd())"
   ]
  },
  {
   "cell_type": "code",
   "execution_count": null,
   "metadata": {},
   "outputs": [],
   "source": [
    "# datetime libraries\n",
    "import datetime\n",
    "\n",
    "# assgin current date and time\n",
    "currentDate = datetime.date.today()\n",
    "currentTime = datetime.datetime.now()\n",
    "\n",
    "# check datetime information\n",
    "print('Today is {}'.format(currentDate))\n",
    "print('Today is', datetime.datetime.strftime(currentDate, '%m/%d/%Y'))\n",
    "print('The time is', datetime.datetime.strftime(currentTime, '%H:%M:%S'))"
   ]
  },
  {
   "cell_type": "markdown",
   "metadata": {},
   "source": [
    "## Featured Libraries"
   ]
  },
  {
   "cell_type": "code",
   "execution_count": null,
   "metadata": {
    "colab": {},
    "colab_type": "code",
    "id": "moUl8KDLzuOR"
   },
   "outputs": [],
   "source": [
    "import csv\n",
    "import glob\n",
    "import zipfile\n",
    "import random\n",
    "import re\n",
    "from collections import Counter"
   ]
  },
  {
   "cell_type": "code",
   "execution_count": null,
   "metadata": {},
   "outputs": [],
   "source": [
    "!pip install wget"
   ]
  },
  {
   "cell_type": "code",
   "execution_count": null,
   "metadata": {},
   "outputs": [],
   "source": [
    "import wget"
   ]
  },
  {
   "cell_type": "code",
   "execution_count": null,
   "metadata": {},
   "outputs": [],
   "source": [
    "url = 'https://data.ny.gov/api/views/bpkx-gmh7/rows.csv?accessType=DOWNLOAD&sorting=true'\n",
    "print(url)"
   ]
  },
  {
   "cell_type": "code",
   "execution_count": null,
   "metadata": {},
   "outputs": [],
   "source": [
    "filename = wget.download(url=url)"
   ]
  },
  {
   "cell_type": "code",
   "execution_count": null,
   "metadata": {},
   "outputs": [],
   "source": [
    "print(filename)"
   ]
  },
  {
   "cell_type": "markdown",
   "metadata": {
    "colab_type": "text",
    "id": "r9agMDhLc17l"
   },
   "source": [
    "## Using Open (Readlines)"
   ]
  },
  {
   "cell_type": "code",
   "execution_count": null,
   "metadata": {
    "colab": {},
    "colab_type": "code",
    "id": "IH32ThEEc17r"
   },
   "outputs": [],
   "source": [
    "with open(filename, \"r\") as f:\n",
    "    header = f.readline()\n",
    "    data = f.readlines()"
   ]
  },
  {
   "cell_type": "code",
   "execution_count": null,
   "metadata": {
    "colab": {
     "base_uri": "https://localhost:8080/",
     "height": 1000
    },
    "colab_type": "code",
    "executionInfo": {
     "elapsed": 565,
     "status": "ok",
     "timestamp": 1588821592722,
     "user": {
      "displayName": "Gregg Atherley",
      "photoUrl": "",
      "userId": "03927844996374100516"
     },
     "user_tz": 240
    },
    "id": "W5nM3KO7c17u",
    "outputId": "6112b115-6511-4db3-9aca-524d3a1c863b"
   },
   "outputs": [],
   "source": [
    "header.split(\",\")"
   ]
  },
  {
   "cell_type": "code",
   "execution_count": null,
   "metadata": {
    "colab": {
     "base_uri": "https://localhost:8080/",
     "height": 34
    },
    "colab_type": "code",
    "executionInfo": {
     "elapsed": 738,
     "status": "ok",
     "timestamp": 1588821596758,
     "user": {
      "displayName": "Gregg Atherley",
      "photoUrl": "",
      "userId": "03927844996374100516"
     },
     "user_tz": 240
    },
    "id": "tjTu1m8Pc17z",
    "outputId": "a4f4228c-f79b-40a9-8e5f-5310297d7f05"
   },
   "outputs": [],
   "source": [
    "len(data)"
   ]
  },
  {
   "cell_type": "code",
   "execution_count": null,
   "metadata": {
    "colab": {},
    "colab_type": "code",
    "id": "k7Ou4GCJc172"
   },
   "outputs": [],
   "source": [
    "tesla = [x for x in data if \"tesla\" in x.lower()]"
   ]
  },
  {
   "cell_type": "code",
   "execution_count": null,
   "metadata": {
    "colab": {
     "base_uri": "https://localhost:8080/",
     "height": 34
    },
    "colab_type": "code",
    "executionInfo": {
     "elapsed": 842,
     "status": "ok",
     "timestamp": 1588821601474,
     "user": {
      "displayName": "Gregg Atherley",
      "photoUrl": "",
      "userId": "03927844996374100516"
     },
     "user_tz": 240
    },
    "id": "cE9mmHcwc175",
    "outputId": "5f8910e2-6915-4bda-9c4e-769c7cdcf40c"
   },
   "outputs": [],
   "source": [
    "len(tesla)"
   ]
  },
  {
   "cell_type": "code",
   "execution_count": null,
   "metadata": {
    "colab": {
     "base_uri": "https://localhost:8080/",
     "height": 122
    },
    "colab_type": "code",
    "executionInfo": {
     "elapsed": 940,
     "status": "ok",
     "timestamp": 1588821603812,
     "user": {
      "displayName": "Gregg Atherley",
      "photoUrl": "",
      "userId": "03927844996374100516"
     },
     "user_tz": 240
    },
    "id": "WvhiHKUIc179",
    "outputId": "74d1948d-0458-4d26-a1b2-6c86dc5d3296"
   },
   "outputs": [],
   "source": [
    "tesla[:5]"
   ]
  },
  {
   "cell_type": "code",
   "execution_count": null,
   "metadata": {
    "colab": {
     "base_uri": "https://localhost:8080/",
     "height": 122
    },
    "colab_type": "code",
    "executionInfo": {
     "elapsed": 614,
     "status": "ok",
     "timestamp": 1588821609032,
     "user": {
      "displayName": "Gregg Atherley",
      "photoUrl": "",
      "userId": "03927844996374100516"
     },
     "user_tz": 240
    },
    "id": "AtU38qOvc18A",
    "outputId": "ffa6689d-424a-426c-e0af-fc5bc2b6f24e"
   },
   "outputs": [],
   "source": [
    "tesla[-5:]"
   ]
  },
  {
   "cell_type": "code",
   "execution_count": null,
   "metadata": {
    "colab": {},
    "colab_type": "code",
    "id": "bMgMvp1Xc18D"
   },
   "outputs": [],
   "source": [
    "with open(file=\"Tesla.csv\", mode=\"w\") as f:\n",
    "    f.write(header)\n",
    "    f.writelines(tesla)"
   ]
  },
  {
   "cell_type": "markdown",
   "metadata": {
    "colab_type": "text",
    "id": "WX-9TH03c18G"
   },
   "source": [
    "## Read & Write Together"
   ]
  },
  {
   "cell_type": "code",
   "execution_count": null,
   "metadata": {
    "colab": {},
    "colab_type": "code",
    "id": "BxNsKZ2fc18H"
   },
   "outputs": [],
   "source": [
    "source_file = \"Tesla.csv\"\n",
    "target_file = \"My_Alternative_Selections.csv\"\n",
    "\n",
    "with open(source_file, mode='r') as source:\n",
    "    with open(target_file, mode='w') as target:\n",
    "        target.write(source.readline())\n",
    "        for line in source.readlines():\n",
    "            if \"Airport\" in line:\n",
    "                target.write(line)\n",
    "\n",
    "# try \"Airport\" to see 2 different files\n",
    "# try \"NY\" to make identical files"
   ]
  },
  {
   "cell_type": "markdown",
   "metadata": {
    "colab_type": "text",
    "id": "Z6EeojK-OWMG"
   },
   "source": [
    "## Compare files"
   ]
  },
  {
   "cell_type": "code",
   "execution_count": null,
   "metadata": {
    "colab": {
     "base_uri": "https://localhost:8080/",
     "height": 34
    },
    "colab_type": "code",
    "executionInfo": {
     "elapsed": 507,
     "status": "ok",
     "timestamp": 1588821620929,
     "user": {
      "displayName": "Gregg Atherley",
      "photoUrl": "",
      "userId": "03927844996374100516"
     },
     "user_tz": 240
    },
    "id": "MufDokQtOZBO",
    "outputId": "7f2e0088-bd77-4fac-f67b-d3fc1d9d5d7a"
   },
   "outputs": [],
   "source": [
    "with open(source_file, mode='r') as f1:\n",
    "    data1 = f1.readlines()[1:]\n",
    "\n",
    "with open(target_file, mode='r') as f2:\n",
    "    data2 = f2.readlines()[1:]\n",
    "\n",
    "data1 == data2"
   ]
  },
  {
   "cell_type": "code",
   "execution_count": null,
   "metadata": {
    "colab": {
     "base_uri": "https://localhost:8080/",
     "height": 1000
    },
    "colab_type": "code",
    "executionInfo": {
     "elapsed": 908,
     "status": "ok",
     "timestamp": 1588821624195,
     "user": {
      "displayName": "Gregg Atherley",
      "photoUrl": "",
      "userId": "03927844996374100516"
     },
     "user_tz": 240
    },
    "id": "0i74GOYYOt8H",
    "outputId": "79d046df-2972-42ce-be21-cc05a3365c2e"
   },
   "outputs": [],
   "source": [
    "set(data1) - set(data2)"
   ]
  },
  {
   "cell_type": "code",
   "execution_count": null,
   "metadata": {
    "colab": {
     "base_uri": "https://localhost:8080/",
     "height": 34
    },
    "colab_type": "code",
    "executionInfo": {
     "elapsed": 822,
     "status": "ok",
     "timestamp": 1588821629516,
     "user": {
      "displayName": "Gregg Atherley",
      "photoUrl": "",
      "userId": "03927844996374100516"
     },
     "user_tz": 240
    },
    "id": "BdGYJqdHO1f6",
    "outputId": "991a38d4-b193-4e45-d967-28ec2a38340f"
   },
   "outputs": [],
   "source": [
    "set(data2) - set(data1)"
   ]
  },
  {
   "cell_type": "code",
   "execution_count": null,
   "metadata": {
    "colab": {
     "base_uri": "https://localhost:8080/",
     "height": 105
    },
    "colab_type": "code",
    "executionInfo": {
     "elapsed": 294,
     "status": "ok",
     "timestamp": 1588821630522,
     "user": {
      "displayName": "Gregg Atherley",
      "photoUrl": "",
      "userId": "03927844996374100516"
     },
     "user_tz": 240
    },
    "id": "-guXU6x7m1JJ",
    "outputId": "51aa0147-86f6-4388-c8f1-cd16eb9e99d8"
   },
   "outputs": [],
   "source": [
    "set(data1).intersection(set(data2))"
   ]
  },
  {
   "cell_type": "code",
   "execution_count": null,
   "metadata": {
    "colab": {
     "base_uri": "https://localhost:8080/",
     "height": 105
    },
    "colab_type": "code",
    "executionInfo": {
     "elapsed": 537,
     "status": "ok",
     "timestamp": 1588821635450,
     "user": {
      "displayName": "Gregg Atherley",
      "photoUrl": "",
      "userId": "03927844996374100516"
     },
     "user_tz": 240
    },
    "id": "FrUmaRVcnDJw",
    "outputId": "753a5052-70fe-49a9-d4fb-2b0ba4c6a3e8"
   },
   "outputs": [],
   "source": [
    "set(data2).intersection(set(data1))"
   ]
  },
  {
   "cell_type": "markdown",
   "metadata": {
    "colab_type": "text",
    "id": "n4mA0c2cc18K"
   },
   "source": [
    "## Using CSV Reader"
   ]
  },
  {
   "cell_type": "code",
   "execution_count": null,
   "metadata": {
    "colab": {},
    "colab_type": "code",
    "id": "g2eVrRDOc18O"
   },
   "outputs": [],
   "source": [
    "with open(file=filename, newline=\"\", encoding='latin1', mode=\"r\") as f:\n",
    "    data = list(csv.reader(f, delimiter = \",\"))\n",
    "    header = data.pop(0)"
   ]
  },
  {
   "cell_type": "code",
   "execution_count": null,
   "metadata": {
    "colab": {
     "base_uri": "https://localhost:8080/",
     "height": 34
    },
    "colab_type": "code",
    "executionInfo": {
     "elapsed": 1478,
     "status": "ok",
     "timestamp": 1588821640879,
     "user": {
      "displayName": "Gregg Atherley",
      "photoUrl": "",
      "userId": "03927844996374100516"
     },
     "user_tz": 240
    },
    "id": "7zxIz82Xc18R",
    "outputId": "742b7ba6-c42f-42dd-c0f5-dfb620bf8025"
   },
   "outputs": [],
   "source": [
    "print('Total Rows: {:,}'.format(len(data)))"
   ]
  },
  {
   "cell_type": "code",
   "execution_count": null,
   "metadata": {
    "colab": {
     "base_uri": "https://localhost:8080/",
     "height": 122
    },
    "colab_type": "code",
    "executionInfo": {
     "elapsed": 507,
     "status": "ok",
     "timestamp": 1588821643174,
     "user": {
      "displayName": "Gregg Atherley",
      "photoUrl": "",
      "userId": "03927844996374100516"
     },
     "user_tz": 240
    },
    "id": "8ChZSuO2eINH",
    "outputId": "0bab8a8b-a767-4e64-997f-51198bd6770d"
   },
   "outputs": [],
   "source": [
    "for row in data[0:5]:\n",
    "    print(row)"
   ]
  },
  {
   "cell_type": "code",
   "execution_count": null,
   "metadata": {
    "colab": {
     "base_uri": "https://localhost:8080/",
     "height": 1000
    },
    "colab_type": "code",
    "executionInfo": {
     "elapsed": 835,
     "status": "ok",
     "timestamp": 1588821650298,
     "user": {
      "displayName": "Gregg Atherley",
      "photoUrl": "",
      "userId": "03927844996374100516"
     },
     "user_tz": 240
    },
    "id": "FwnWi65Kc18V",
    "outputId": "c9a8455e-0399-4f06-d364-62ded228dda7"
   },
   "outputs": [],
   "source": [
    "print('Checking a record...')\n",
    "for i, x in enumerate(random.choice(data)):\n",
    "    print(i, header[i], \":\", x)"
   ]
  },
  {
   "cell_type": "code",
   "execution_count": null,
   "metadata": {
    "colab": {
     "base_uri": "https://localhost:8080/",
     "height": 1000
    },
    "colab_type": "code",
    "executionInfo": {
     "elapsed": 606,
     "status": "ok",
     "timestamp": 1588821657877,
     "user": {
      "displayName": "Gregg Atherley",
      "photoUrl": "",
      "userId": "03927844996374100516"
     },
     "user_tz": 240
    },
    "id": "y6ufff4hc18b",
    "outputId": "7da9425c-0c73-474c-9b24-71de44ab6be2"
   },
   "outputs": [],
   "source": [
    "subset_data = ['Tesla']\n",
    "\n",
    "tesla_list = [x for y in subset_data for x in data if y in x[1]]\n",
    "\n",
    "list(zip(header, tesla_list[0]))"
   ]
  },
  {
   "cell_type": "code",
   "execution_count": null,
   "metadata": {
    "colab": {
     "base_uri": "https://localhost:8080/",
     "height": 1000
    },
    "colab_type": "code",
    "executionInfo": {
     "elapsed": 1918,
     "status": "ok",
     "timestamp": 1588821668824,
     "user": {
      "displayName": "Gregg Atherley",
      "photoUrl": "",
      "userId": "03927844996374100516"
     },
     "user_tz": 240
    },
    "id": "9nhoUwJOc18g",
    "outputId": "7607f8f1-7452-422d-c089-5a75e703eb45"
   },
   "outputs": [],
   "source": [
    "print('\\nChecking the fields...')\n",
    "for e, z in enumerate(header):\n",
    "    data_sets = [x[e] for x in data]\n",
    "    print(\"Index # {} for {} has {:,} records\".format(e,z,len(set(data_sets))))"
   ]
  },
  {
   "cell_type": "code",
   "execution_count": null,
   "metadata": {
    "colab": {
     "base_uri": "https://localhost:8080/",
     "height": 221
    },
    "colab_type": "code",
    "executionInfo": {
     "elapsed": 620,
     "status": "ok",
     "timestamp": 1588821672862,
     "user": {
      "displayName": "Gregg Atherley",
      "photoUrl": "",
      "userId": "03927844996374100516"
     },
     "user_tz": 240
    },
    "id": "ZQi7q-5Gc18l",
    "outputId": "7b233407-4117-4009-e2f2-cc185b515702"
   },
   "outputs": [],
   "source": [
    "print('\\nChecking some values...')\n",
    "for k, v in Counter(x[6] for x in data).most_common(10):\n",
    "    print(k, \">>> {:,}\".format(v))"
   ]
  },
  {
   "cell_type": "code",
   "execution_count": null,
   "metadata": {
    "colab": {},
    "colab_type": "code",
    "id": "Jp3QF_vgc18p"
   },
   "outputs": [],
   "source": [
    "with open(file='alt_energy.csv', newline='', encoding='utf-8', mode='w') as f:\n",
    "    writer = csv.writer(f)\n",
    "    writer.writerow(header)\n",
    "    writer.writerows([x for x in data if x[6] == '10019'])        "
   ]
  },
  {
   "cell_type": "code",
   "execution_count": null,
   "metadata": {
    "colab": {
     "base_uri": "https://localhost:8080/",
     "height": 34
    },
    "colab_type": "code",
    "executionInfo": {
     "elapsed": 28740,
     "status": "ok",
     "timestamp": 1588821708397,
     "user": {
      "displayName": "Gregg Atherley",
      "photoUrl": "",
      "userId": "03927844996374100516"
     },
     "user_tz": 240
    },
    "id": "L9BgCpoM6Ous",
    "outputId": "d474883c-e8b3-48c6-8c52-84b423baae57"
   },
   "outputs": [],
   "source": [
    "fuel_type_code = set(x[0] for x in data)\n",
    "fuel_type_code"
   ]
  },
  {
   "cell_type": "code",
   "execution_count": null,
   "metadata": {
    "colab": {},
    "colab_type": "code",
    "id": "gDd6xpgI78xu"
   },
   "outputs": [],
   "source": [
    "for code in fuel_type_code:\n",
    "    with open ('energy_type_code_{}.csv'.format(code), mode='w', newline='') as f:\n",
    "        writer = csv.writer(f)\n",
    "        writer.writerow(header)\n",
    "        for d in data:\n",
    "            if code == d[0]:\n",
    "                writer.writerow(d)"
   ]
  },
  {
   "cell_type": "code",
   "execution_count": null,
   "metadata": {
    "colab": {
     "base_uri": "https://localhost:8080/",
     "height": 102
    },
    "colab_type": "code",
    "executionInfo": {
     "elapsed": 566,
     "status": "ok",
     "timestamp": 1588821722635,
     "user": {
      "displayName": "Gregg Atherley",
      "photoUrl": "",
      "userId": "03927844996374100516"
     },
     "user_tz": 240
    },
    "id": "QPlgKSve-38k",
    "outputId": "266addfc-d7fa-4ec7-8f8e-735a3ac813ba"
   },
   "outputs": [],
   "source": [
    "ftc_files = glob.glob('energy_type_code*.csv')\n",
    "ftc_files"
   ]
  },
  {
   "cell_type": "code",
   "execution_count": null,
   "metadata": {
    "colab": {},
    "colab_type": "code",
    "id": "kforGFzXH4oH"
   },
   "outputs": [],
   "source": [
    "with zipfile.ZipFile(file='energy_type_codes.zip', mode='w') as zp:\n",
    "    for file in ftc_files:\n",
    "        zp.write(file)"
   ]
  },
  {
   "cell_type": "code",
   "execution_count": null,
   "metadata": {
    "colab": {
     "base_uri": "https://localhost:8080/",
     "height": 54
    },
    "colab_type": "code",
    "executionInfo": {
     "elapsed": 520,
     "status": "ok",
     "timestamp": 1588821728816,
     "user": {
      "displayName": "Gregg Atherley",
      "photoUrl": "",
      "userId": "03927844996374100516"
     },
     "user_tz": 240
    },
    "id": "jm6ITmpFH4cg",
    "outputId": "e3712ef1-c8e2-4b7e-9ad6-cfb2ae393496"
   },
   "outputs": [],
   "source": [
    "with zipfile.ZipFile(file='energy_type_codes.zip', mode='r') as uz:\n",
    "    print(uz.namelist())\n",
    "    uz.extractall('energy_type_codes_extract')"
   ]
  },
  {
   "cell_type": "markdown",
   "metadata": {
    "colab_type": "text",
    "id": "U53s96v-c18u"
   },
   "source": [
    "## Using CSV DictReader"
   ]
  },
  {
   "cell_type": "code",
   "execution_count": null,
   "metadata": {
    "colab": {},
    "colab_type": "code",
    "id": "dDU_2lNsc18w"
   },
   "outputs": [],
   "source": [
    "with open(file=filename, mode=\"r\") as csvfile:\n",
    "    csv.DictReader.fieldnames = header\n",
    "    data = list(csv.DictReader(csvfile))"
   ]
  },
  {
   "cell_type": "code",
   "execution_count": null,
   "metadata": {
    "colab": {
     "base_uri": "https://localhost:8080/",
     "height": 34
    },
    "colab_type": "code",
    "executionInfo": {
     "elapsed": 702,
     "status": "ok",
     "timestamp": 1588821747771,
     "user": {
      "displayName": "Gregg Atherley",
      "photoUrl": "",
      "userId": "03927844996374100516"
     },
     "user_tz": 240
    },
    "id": "dZz6Se79c184",
    "outputId": "c154af1c-4768-4568-b426-86435f3c92f1"
   },
   "outputs": [],
   "source": [
    "len(data)"
   ]
  },
  {
   "cell_type": "code",
   "execution_count": null,
   "metadata": {
    "colab": {
     "base_uri": "https://localhost:8080/",
     "height": 34
    },
    "colab_type": "code",
    "executionInfo": {
     "elapsed": 318,
     "status": "ok",
     "timestamp": 1588821748740,
     "user": {
      "displayName": "Gregg Atherley",
      "photoUrl": "",
      "userId": "03927844996374100516"
     },
     "user_tz": 240
    },
    "id": "-kpzuDLWc18-",
    "outputId": "01258f92-b127-454b-c228-59615e3edd3e"
   },
   "outputs": [],
   "source": [
    "type(data)"
   ]
  },
  {
   "cell_type": "code",
   "execution_count": null,
   "metadata": {
    "colab": {
     "base_uri": "https://localhost:8080/",
     "height": 34
    },
    "colab_type": "code",
    "executionInfo": {
     "elapsed": 863,
     "status": "ok",
     "timestamp": 1588821750649,
     "user": {
      "displayName": "Gregg Atherley",
      "photoUrl": "",
      "userId": "03927844996374100516"
     },
     "user_tz": 240
    },
    "id": "JFpRzALjc19B",
    "outputId": "e6712183-3848-4a91-88ff-1dbccdc1aa77"
   },
   "outputs": [],
   "source": [
    "type(data[1])"
   ]
  },
  {
   "cell_type": "code",
   "execution_count": null,
   "metadata": {
    "colab": {
     "base_uri": "https://localhost:8080/",
     "height": 1000
    },
    "colab_type": "code",
    "executionInfo": {
     "elapsed": 486,
     "status": "ok",
     "timestamp": 1588821751753,
     "user": {
      "displayName": "Gregg Atherley",
      "photoUrl": "",
      "userId": "03927844996374100516"
     },
     "user_tz": 240
    },
    "id": "41CKPcodc19F",
    "outputId": "f830a0da-27d0-4918-be6d-b5f77e76acea"
   },
   "outputs": [],
   "source": [
    "data[1]"
   ]
  },
  {
   "cell_type": "code",
   "execution_count": null,
   "metadata": {
    "colab": {
     "base_uri": "https://localhost:8080/",
     "height": 1000
    },
    "colab_type": "code",
    "executionInfo": {
     "elapsed": 553,
     "status": "ok",
     "timestamp": 1588821756796,
     "user": {
      "displayName": "Gregg Atherley",
      "photoUrl": "",
      "userId": "03927844996374100516"
     },
     "user_tz": 240
    },
    "id": "AO9U1Hzxc19I",
    "outputId": "75dc8ca6-523f-46ac-8139-c9d5fcc8d4bc"
   },
   "outputs": [],
   "source": [
    "for k,v in data[1].items():\n",
    "    print(k, \">>>\", v)"
   ]
  },
  {
   "cell_type": "code",
   "execution_count": null,
   "metadata": {
    "colab": {},
    "colab_type": "code",
    "id": "WFLoi176AyKG"
   },
   "outputs": [],
   "source": [
    "my_zips = []\n",
    "\n",
    "for x in data:\n",
    "    if x['ZIP'] == \"11801\":\n",
    "        my_zips.append(x)"
   ]
  },
  {
   "cell_type": "code",
   "execution_count": null,
   "metadata": {
    "colab": {
     "base_uri": "https://localhost:8080/",
     "height": 1000
    },
    "colab_type": "code",
    "executionInfo": {
     "elapsed": 579,
     "status": "ok",
     "timestamp": 1588821776363,
     "user": {
      "displayName": "Gregg Atherley",
      "photoUrl": "",
      "userId": "03927844996374100516"
     },
     "user_tz": 240
    },
    "id": "TUg9T67pc19P",
    "outputId": "66121d67-c94b-4fa4-acfd-c398b5972edc"
   },
   "outputs": [],
   "source": [
    "my_zips[0:4]"
   ]
  },
  {
   "cell_type": "code",
   "execution_count": null,
   "metadata": {
    "colab": {},
    "colab_type": "code",
    "id": "Pp2ida1mc19S"
   },
   "outputs": [],
   "source": [
    "with open('my_zips.csv', 'w', newline=\"\", encoding='utf-8') as f:\n",
    "    writer = csv.DictWriter(f, fieldnames=header)\n",
    "    writer.writeheader()\n",
    "    writer.writerows(my_zips)"
   ]
  },
  {
   "cell_type": "markdown",
   "metadata": {
    "colab_type": "text",
    "id": "c1RRx9tVKVxD"
   },
   "source": [
    "## Using Open & Regex"
   ]
  },
  {
   "cell_type": "code",
   "execution_count": null,
   "metadata": {
    "colab": {
     "base_uri": "https://localhost:8080/",
     "height": 357
    },
    "colab_type": "code",
    "executionInfo": {
     "elapsed": 656,
     "status": "ok",
     "timestamp": 1588821782196,
     "user": {
      "displayName": "Gregg Atherley",
      "photoUrl": "",
      "userId": "03927844996374100516"
     },
     "user_tz": 240
    },
    "id": "DD4SGyDRc19a",
    "outputId": "3d27f6e4-9a16-45a5-bc0d-de56f4a300ed"
   },
   "outputs": [],
   "source": [
    "with open(filename, 'r', newline='', encoding='latin1') as f:\n",
    "    data = f.read()\n",
    "    \n",
    "words = re.findall(r'\\w+', data)\n",
    "Counter(words).most_common(20)"
   ]
  },
  {
   "cell_type": "code",
   "execution_count": null,
   "metadata": {
    "colab": {
     "base_uri": "https://localhost:8080/",
     "height": 34
    },
    "colab_type": "code",
    "executionInfo": {
     "elapsed": 576,
     "status": "ok",
     "timestamp": 1588821786183,
     "user": {
      "displayName": "Gregg Atherley",
      "photoUrl": "",
      "userId": "03927844996374100516"
     },
     "user_tz": 240
    },
    "id": "KH_eqjkvc19g",
    "outputId": "e9e2577d-191b-41b8-a053-5782509a4d5e"
   },
   "outputs": [],
   "source": [
    "features = re.findall('(tesla|con ed|national grid|pseg)',data.lower())\n",
    "Counter(features)"
   ]
  },
  {
   "cell_type": "code",
   "execution_count": null,
   "metadata": {
    "colab": {
     "base_uri": "https://localhost:8080/",
     "height": 119
    },
    "colab_type": "code",
    "executionInfo": {
     "elapsed": 536,
     "status": "ok",
     "timestamp": 1586665013979,
     "user": {
      "displayName": "Gregg Atherley",
      "photoUrl": "",
      "userId": "03927844996374100516"
     },
     "user_tz": 240
    },
    "id": "Lb8xZed9Rs1m",
    "outputId": "2459117e-5727-4fc8-d065-498862894d90"
   },
   "outputs": [],
   "source": [
    "files = sorted(glob.glob(\"*energy*.csv\"))\n",
    "files"
   ]
  },
  {
   "cell_type": "code",
   "execution_count": null,
   "metadata": {
    "colab": {
     "base_uri": "https://localhost:8080/",
     "height": 68
    },
    "colab_type": "code",
    "executionInfo": {
     "elapsed": 309,
     "status": "ok",
     "timestamp": 1586665018040,
     "user": {
      "displayName": "Gregg Atherley",
      "photoUrl": "",
      "userId": "03927844996374100516"
     },
     "user_tz": 240
    },
    "id": "M50uriGhR4F7",
    "outputId": "ac5321e8-4d16-4aaa-e37e-ef5ceda16945"
   },
   "outputs": [],
   "source": [
    "query_item = \"Kings\"\n",
    "\n",
    "collector = {}\n",
    "for file in files:\n",
    "    with open(file, newline='', encoding='latin1') as f:\n",
    "        data = f.read()\n",
    "        if re.search(pattern=query_item, string=data):\n",
    "            collector[file] = len(re.findall(pattern=query_item, string=data))\n",
    "\n",
    "for k, v in collector.items():\n",
    "    print(k, \">>> {:,}\".format(v))"
   ]
  },
  {
   "cell_type": "markdown",
   "metadata": {},
   "source": [
    "## Delete files"
   ]
  },
  {
   "cell_type": "code",
   "execution_count": null,
   "metadata": {},
   "outputs": [],
   "source": [
    "files = sorted(glob.glob(\"*energy_type_code_*.csv\"))\n",
    "files"
   ]
  },
  {
   "cell_type": "code",
   "execution_count": null,
   "metadata": {},
   "outputs": [],
   "source": [
    "for file in files:\n",
    "    os.remove(file)"
   ]
  },
  {
   "cell_type": "code",
   "execution_count": null,
   "metadata": {},
   "outputs": [],
   "source": [
    "files = sorted(glob.glob(\"*energy_type_code_*.csv\"))\n",
    "files"
   ]
  },
  {
   "cell_type": "code",
   "execution_count": null,
   "metadata": {},
   "outputs": [],
   "source": []
  }
 ],
 "metadata": {
  "colab": {
   "collapsed_sections": [],
   "name": "Alternative_Fuel_Stations.ipynb",
   "provenance": [],
   "toc_visible": true
  },
  "kernelspec": {
   "display_name": "Python 3",
   "language": "python",
   "name": "python3"
  },
  "language_info": {
   "codemirror_mode": {
    "name": "ipython",
    "version": 3
   },
   "file_extension": ".py",
   "mimetype": "text/x-python",
   "name": "python",
   "nbconvert_exporter": "python",
   "pygments_lexer": "ipython3",
   "version": "3.8.5"
  }
 },
 "nbformat": 4,
 "nbformat_minor": 1
}
