{
 "cells": [
  {
   "cell_type": "markdown",
   "metadata": {},
   "source": [
    "# Stock Portfolio\n",
    "---"
   ]
  },
  {
   "cell_type": "markdown",
   "metadata": {},
   "source": [
    "**Purpose:**\n",
    "\n",
    "Dealing with Volume (too much) & Veloctity (too fast)\n",
    "\n",
    "**Data Source:**\n",
    "\n",
    "https://pandas-datareader.readthedocs.io/en/latest/\n",
    "\n"
   ]
  },
  {
   "cell_type": "code",
   "execution_count": null,
   "metadata": {},
   "outputs": [],
   "source": [
    "# system libraries\n",
    "import os\n",
    "import sys\n",
    "\n",
    "# check system information\n",
    "print('Python Information', sys.version)\n",
    "print('This is your current directory', os.getcwd())"
   ]
  },
  {
   "cell_type": "code",
   "execution_count": null,
   "metadata": {},
   "outputs": [],
   "source": [
    "# datetime libraries\n",
    "import datetime\n",
    "\n",
    "# assgin current date and time\n",
    "currentDate = datetime.date.today()\n",
    "currentTime = datetime.datetime.now()\n",
    "\n",
    "# check datetime information\n",
    "print('Today is {}'.format(currentDate))\n",
    "print('Today is', datetime.datetime.strftime(currentDate, '%m/%d/%Y'))\n",
    "print('The time is', datetime.datetime.strftime(currentTime, '%H:%M:%S'))"
   ]
  },
  {
   "cell_type": "code",
   "execution_count": null,
   "metadata": {},
   "outputs": [],
   "source": [
    "import datetime\n",
    "import re\n",
    "from collections import Counter\n",
    "import glob\n",
    "\n",
    "import pandas as pd\n",
    "import numpy as np\n",
    "import matplotlib.pyplot as plt"
   ]
  },
  {
   "cell_type": "code",
   "execution_count": null,
   "metadata": {},
   "outputs": [],
   "source": [
    "pd.options.display.float_format = '{:,.2f}'.format\n",
    "pd.set_option('display.precision', 2)\n",
    "pd.set_option('max_rows', 250)\n",
    "pd.set_option('max_columns', 250)\n",
    "\n",
    "from pylab import rcParams\n",
    "%matplotlib inline\n",
    "rcParams['figure.figsize'] = 10, 6\n",
    "plt.style.use('bmh')"
   ]
  },
  {
   "cell_type": "code",
   "execution_count": null,
   "metadata": {},
   "outputs": [],
   "source": [
    "!pip install pandas_datareader"
   ]
  },
  {
   "cell_type": "code",
   "execution_count": null,
   "metadata": {},
   "outputs": [],
   "source": [
    "import pandas_datareader as pdr"
   ]
  },
  {
   "cell_type": "code",
   "execution_count": null,
   "metadata": {},
   "outputs": [],
   "source": [
    "start_date = datetime.datetime(2015, 1, 1)\n",
    "end_date = datetime.datetime.now()"
   ]
  },
  {
   "cell_type": "code",
   "execution_count": null,
   "metadata": {},
   "outputs": [],
   "source": [
    "portfolio = {\n",
    "    'AMD':7.72,\n",
    "    'NVDA':62.20,\n",
    "    'MYL':43.99,\n",
    "    'BAC':15.94,\n",
    "    'NFLX':96.90,\n",
    "}\n",
    "\n",
    "portfolio"
   ]
  },
  {
   "cell_type": "code",
   "execution_count": null,
   "metadata": {},
   "outputs": [],
   "source": [
    "for key, val in portfolio.items():\n",
    "    \n",
    "    df = pdr.get_data_yahoo(key, start=start_date, end=end_date)\n",
    "    \n",
    "    plt.figure(figsize=(16,5))\n",
    "    df.Close.plot(color='navy', ls='solid', lw=0.5, label='Price')\n",
    "    \n",
    "    plt.hlines(xmin=df.index.min(), xmax=df.index.max(), y=val, ls='dashed', color='gray', label='Purchase')\n",
    "    \n",
    "    plt.title(\"Symbol {}, Highest: ${:,.2f}, Lowest: ${:,.2f}, Purchased: ${:,.2f}\"\\\n",
    "              .format(key, df.Close.max(), df.Close.min(), val))\n",
    "    \n",
    "    plt.fill_between(df.index, df.Close, color='b', alpha=0.1)\n",
    "    \n",
    "    plt.grid(alpha=0.5)\n",
    "    \n",
    "    plt.legend()\n",
    "    plt.show();    "
   ]
  },
  {
   "cell_type": "code",
   "execution_count": null,
   "metadata": {},
   "outputs": [],
   "source": [
    "exch = ['amex', 'nyse', 'nasdaq']\n",
    "\n",
    "URL = 'https://old.nasdaq.com/screening/companies-by-name.aspx?letter=0&exchange={}&render=download'\n",
    "\n",
    "for e in exch:\n",
    "    print(URL.format(e))"
   ]
  },
  {
   "cell_type": "code",
   "execution_count": null,
   "metadata": {},
   "outputs": [],
   "source": [
    "files = glob.glob(\"/Users/ppfor/Downloads/companylist*.csv\")\n",
    "files"
   ]
  },
  {
   "cell_type": "code",
   "execution_count": null,
   "metadata": {},
   "outputs": [],
   "source": [
    "nq = pd.concat([pd.read_csv(file, parse_dates=['IPOyear']).assign(Exchange=e) for file in files],\n",
    "               ignore_index=True)\n",
    "nq.info()"
   ]
  },
  {
   "cell_type": "code",
   "execution_count": null,
   "metadata": {},
   "outputs": [],
   "source": [
    "nq.columns = nq.columns.str.lower()\n",
    "nq.columns"
   ]
  },
  {
   "cell_type": "code",
   "execution_count": null,
   "metadata": {},
   "outputs": [],
   "source": [
    "nq.head()"
   ]
  },
  {
   "cell_type": "code",
   "execution_count": null,
   "metadata": {},
   "outputs": [],
   "source": [
    "nq[nq.duplicated(subset=['symbol'])]"
   ]
  },
  {
   "cell_type": "code",
   "execution_count": null,
   "metadata": {},
   "outputs": [],
   "source": [
    "nq[nq['symbol'] == 'AMOV']"
   ]
  },
  {
   "cell_type": "code",
   "execution_count": null,
   "metadata": {},
   "outputs": [],
   "source": [
    "nq.drop_duplicates(subset=['symbol'], keep='first', inplace=True)"
   ]
  },
  {
   "cell_type": "code",
   "execution_count": null,
   "metadata": {},
   "outputs": [],
   "source": [
    "nq.dropna(axis=1, how='all', inplace=True)\n",
    "nq.info()"
   ]
  },
  {
   "cell_type": "code",
   "execution_count": null,
   "metadata": {},
   "outputs": [],
   "source": [
    "nq.isna().sum()"
   ]
  },
  {
   "cell_type": "code",
   "execution_count": null,
   "metadata": {},
   "outputs": [],
   "source": [
    "sales = nq['lastsale'] >= 1\n",
    "market = nq['marketcap'].notna()\n",
    "\n",
    "nq = nq[sales & market]\n",
    "\n",
    "nq.info()"
   ]
  },
  {
   "cell_type": "code",
   "execution_count": null,
   "metadata": {},
   "outputs": [],
   "source": [
    "shares = pd.DataFrame({\n",
    "    'buy_date':pd.Timestamp('20160829'),\n",
    "    'symbol':['AMD', 'NVDA', 'MYL', 'NFLX', 'BAC'],\n",
    "    'buy_price':[7.72, 62.20, 43.99, 96.90, 15.94],\n",
    "    'shares':[150, 30, 25, 10, 65],\n",
    "})\n",
    "\n",
    "shares"
   ]
  },
  {
   "cell_type": "code",
   "execution_count": null,
   "metadata": {},
   "outputs": [],
   "source": [
    "shares.loc[shares['symbol'] == 'BAC', ['buy_date']] = pd.Timestamp('20160909')\n",
    "shares"
   ]
  },
  {
   "cell_type": "code",
   "execution_count": null,
   "metadata": {},
   "outputs": [],
   "source": [
    "shares = pd.merge(left=shares, right=nq, how='inner', left_on='symbol', right_on='symbol')\n",
    "shares"
   ]
  },
  {
   "cell_type": "code",
   "execution_count": null,
   "metadata": {},
   "outputs": [],
   "source": [
    "shares['total_value'] = shares.eval(\"(`lastsale` - `buy_price`) * shares \")\n",
    "shares['days_since'] = (datetime.datetime.today() - shares['buy_date']).dt.days\n",
    "shares[['symbol','name','industry','shares','buy_date','buy_price','lastsale','total_value','days_since']]"
   ]
  },
  {
   "cell_type": "code",
   "execution_count": null,
   "metadata": {},
   "outputs": [],
   "source": [
    "print(\"Total value ${:,.2f}\".format(shares['total_value'].sum()))"
   ]
  },
  {
   "cell_type": "code",
   "execution_count": null,
   "metadata": {},
   "outputs": [],
   "source": [
    "nq['sector'].value_counts(dropna=False)"
   ]
  },
  {
   "cell_type": "code",
   "execution_count": null,
   "metadata": {},
   "outputs": [],
   "source": [
    "names = \" \".join(nq.name.values)\n",
    "type(names)"
   ]
  },
  {
   "cell_type": "code",
   "execution_count": null,
   "metadata": {},
   "outputs": [],
   "source": [
    "words = re.findall(pattern='\\w+', string=names)\n",
    "Counter(words).most_common(20)"
   ]
  },
  {
   "cell_type": "code",
   "execution_count": null,
   "metadata": {},
   "outputs": [],
   "source": [
    "nq['sector'].fillna('Funds & Other', inplace=True)\n",
    "nq['sector'].value_counts(dropna=False)"
   ]
  },
  {
   "cell_type": "code",
   "execution_count": null,
   "metadata": {},
   "outputs": [],
   "source": [
    "nq['sector_groups'] = nq['sector'].apply(lambda x: 'Consumer Groups' if 'Consumer' in x else x)\n",
    "nq['sector_groups'].value_counts(dropna=False)"
   ]
  },
  {
   "cell_type": "code",
   "execution_count": null,
   "metadata": {},
   "outputs": [],
   "source": [
    "import seaborn as sns\n",
    "sns.set_style('darkgrid')"
   ]
  },
  {
   "cell_type": "code",
   "execution_count": null,
   "metadata": {},
   "outputs": [],
   "source": [
    "plt.figure(figsize=(14,10))\n",
    "plt.xticks(rotation=17)\n",
    "sns.countplot(x='sector_groups',  color='navy', data=nq);"
   ]
  },
  {
   "cell_type": "code",
   "execution_count": null,
   "metadata": {},
   "outputs": [],
   "source": [
    "plt.figure(figsize=(14,10))\n",
    "plt.xticks(rotation=17)\n",
    "sns.boxenplot(x='sector_groups', y='lastsale', data=nq);"
   ]
  },
  {
   "cell_type": "code",
   "execution_count": null,
   "metadata": {},
   "outputs": [],
   "source": [
    "nq.nlargest(n=10, columns='lastsale')"
   ]
  },
  {
   "cell_type": "code",
   "execution_count": null,
   "metadata": {},
   "outputs": [],
   "source": [
    "nq.nsmallest(n=10, columns='lastsale')"
   ]
  },
  {
   "cell_type": "code",
   "execution_count": null,
   "metadata": {},
   "outputs": [],
   "source": [
    "nq[nq['lastsale'].between(200,210)]"
   ]
  },
  {
   "cell_type": "code",
   "execution_count": null,
   "metadata": {},
   "outputs": [],
   "source": [
    "tech = nq['sector'] == \"Technology\"\n",
    "price = nq['lastsale'] > 250\n",
    "\n",
    "nq[tech & price]"
   ]
  },
  {
   "cell_type": "code",
   "execution_count": null,
   "metadata": {},
   "outputs": [],
   "source": [
    "nq[nq['name'].str.contains('Blackrock')]"
   ]
  },
  {
   "cell_type": "code",
   "execution_count": null,
   "metadata": {},
   "outputs": [],
   "source": [
    "xf = nq.groupby('sector_groups')\n",
    "list(xf.groups.keys())"
   ]
  },
  {
   "cell_type": "code",
   "execution_count": null,
   "metadata": {},
   "outputs": [],
   "source": [
    "xf.get_group('Technology')"
   ]
  },
  {
   "cell_type": "code",
   "execution_count": null,
   "metadata": {},
   "outputs": [],
   "source": [
    "from bokeh.plotting import figure, show, output_notebook\n",
    "from bokeh.models import (HoverTool, ColumnarDataSource, ColumnDataSource,\n",
    "                          NumeralTickFormatter, DatetimeTickFormatter, BoxAnnotation)\n",
    "\n",
    "from bokeh.layouts import gridplot, row"
   ]
  },
  {
   "cell_type": "code",
   "execution_count": null,
   "metadata": {},
   "outputs": [],
   "source": [
    "def bokeh_graph(Symbol):\n",
    "    \n",
    "    # get Meta Data for Symbol\n",
    "    \n",
    "    Security = pdr.nasdaq_trader.get_nasdaq_symbols().loc[[Symbol]]['Security Name'][0]\n",
    "    \n",
    "    # get Price/Volume Data for Symbol\n",
    "    df = pdr.get_data_yahoo(Symbol).reset_index()\n",
    "    \n",
    "    df['Dates'] = df['Date'].astype(str)\n",
    "    df['Volume'] = df['Volume'] / 1e6\n",
    "    df[\"Average\"] = df['Close'].mean()\n",
    "\n",
    "    source = ColumnDataSource(df)\n",
    "    \n",
    "    # first plot\n",
    "\n",
    "    p1 = figure(title=f\"Close ($) for {Symbol}\", x_axis_type='datetime', tools='', width=450, height=300)\n",
    "\n",
    "    p1.line(x='Date', y='Close', source=source, line_width=.75, color='green')\n",
    "    p1.line(x='Date', y='Average', source=source, line_width=2, line_dash='dashed', color='gray')\n",
    "    \n",
    "    p1.yaxis[0].formatter = NumeralTickFormatter(format=\"$,0\")\n",
    "\n",
    "    p1.add_tools(HoverTool(tooltips=[(\"Date\", \"@Dates\"), (\"Close\", \"$@Close{,.2f}\"), (\"Volume\", \"@Volume{,}M\")]))\n",
    "    \n",
    "    # second plot\n",
    "    \n",
    "    p2 = figure(title='Volume (M) for ' + Symbol, x_axis_type='linear', tools='', width=450, height=300)\n",
    "    \n",
    "    p2.circle(x='Volume', y='Close', source=source, alpha=.4, color='purple')\n",
    "    \n",
    "    p2.xaxis[0].formatter = NumeralTickFormatter(format=\",\")\n",
    "    p2.yaxis[0].formatter = NumeralTickFormatter(format=\"$,0\")\n",
    "    \n",
    "    \n",
    "    # arrange plots\n",
    "    \n",
    "    gp = gridplot([[p1, p2]])\n",
    "    \n",
    "    output_notebook()\n",
    "\n",
    "    show(gp)\n",
    "    \n",
    "    print('\\t'+Security)"
   ]
  },
  {
   "cell_type": "code",
   "execution_count": null,
   "metadata": {},
   "outputs": [],
   "source": [
    "bokeh_graph('AMD')"
   ]
  },
  {
   "cell_type": "code",
   "execution_count": null,
   "metadata": {},
   "outputs": [],
   "source": [
    "bokeh_graph('F')"
   ]
  },
  {
   "cell_type": "code",
   "execution_count": null,
   "metadata": {},
   "outputs": [],
   "source": [
    "today = datetime.datetime.today().strftime(\"%Y-%m-%d\")\n",
    "\n",
    "URL = (\"https://www.nasdaq.com/api/v1/historical/INDU/index/2020-07-23/\" + today)\n",
    "\n",
    "print(URL)"
   ]
  },
  {
   "cell_type": "code",
   "execution_count": null,
   "metadata": {},
   "outputs": [],
   "source": []
  }
 ],
 "metadata": {
  "kernelspec": {
   "display_name": "Python 3",
   "language": "python",
   "name": "python3"
  },
  "language_info": {
   "codemirror_mode": {
    "name": "ipython",
    "version": 3
   },
   "file_extension": ".py",
   "mimetype": "text/x-python",
   "name": "python",
   "nbconvert_exporter": "python",
   "pygments_lexer": "ipython3",
   "version": "3.8.5"
  }
 },
 "nbformat": 4,
 "nbformat_minor": 4
}
