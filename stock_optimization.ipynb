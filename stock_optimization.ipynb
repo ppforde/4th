{
 "cells": [
  {
   "cell_type": "code",
   "execution_count": null,
   "metadata": {},
   "outputs": [],
   "source": [
    "#!pip install pandas-datareader"
   ]
  },
  {
   "cell_type": "code",
   "execution_count": null,
   "metadata": {},
   "outputs": [],
   "source": [
    "#!pip install pandas-bokeh"
   ]
  },
  {
   "cell_type": "code",
   "execution_count": null,
   "metadata": {},
   "outputs": [],
   "source": [
    "import datetime"
   ]
  },
  {
   "cell_type": "code",
   "execution_count": null,
   "metadata": {},
   "outputs": [],
   "source": [
    "import pandas as pd\n",
    "import numpy as np"
   ]
  },
  {
   "cell_type": "code",
   "execution_count": null,
   "metadata": {},
   "outputs": [],
   "source": [
    "import pandas_datareader as pdr\n",
    "import pandas_bokeh\n",
    "\n",
    "pandas_bokeh.output_notebook()"
   ]
  },
  {
   "cell_type": "code",
   "execution_count": null,
   "metadata": {},
   "outputs": [],
   "source": [
    "shares = {'A', 'B', 'C', 'D', 'E', 'F'}\n",
    "shares"
   ]
  },
  {
   "cell_type": "code",
   "execution_count": null,
   "metadata": {},
   "outputs": [],
   "source": [
    "from pandas_datareader.nasdaq_trader import get_nasdaq_symbols\n",
    "\n",
    "symbols = get_nasdaq_symbols()\n",
    "symbols.loc[shares]"
   ]
  },
  {
   "cell_type": "code",
   "execution_count": null,
   "metadata": {},
   "outputs": [],
   "source": [
    "names = symbols.loc[shares]['Security Name'].to_dict()\n",
    "names"
   ]
  },
  {
   "cell_type": "code",
   "execution_count": null,
   "metadata": {},
   "outputs": [],
   "source": [
    "df = pd.DataFrame(data=None)\n",
    "\n",
    "for s in shares:\n",
    "    st = pdr.get_data_yahoo(s).reset_index()\n",
    "    st['Symbol'] = s    \n",
    "    df = df.append(st, ignore_index=True)\n",
    "    \n",
    "df['Names'] = df['Symbol'].map(names)\n",
    "    \n",
    "df.info()"
   ]
  },
  {
   "cell_type": "code",
   "execution_count": null,
   "metadata": {},
   "outputs": [],
   "source": [
    "df.sample(10)"
   ]
  },
  {
   "cell_type": "code",
   "execution_count": null,
   "metadata": {},
   "outputs": [],
   "source": [
    "df['Names'] = df['Names'].str.extract(\"(\\w+)\")\n",
    "df.sample(10)"
   ]
  },
  {
   "cell_type": "code",
   "execution_count": null,
   "metadata": {},
   "outputs": [],
   "source": [
    "pvt = df.pivot(index='Date', columns='Names', values='Close')\n",
    "pvt.head()"
   ]
  },
  {
   "cell_type": "code",
   "execution_count": null,
   "metadata": {},
   "outputs": [],
   "source": [
    "pvt.plot_bokeh(kind='line', line_width=.75, legend='top_left');"
   ]
  },
  {
   "cell_type": "code",
   "execution_count": null,
   "metadata": {},
   "outputs": [],
   "source": [
    "pvt.plot_bokeh(kind='area', line_width=.75, legend='top_left');"
   ]
  },
  {
   "cell_type": "code",
   "execution_count": null,
   "metadata": {},
   "outputs": [],
   "source": [
    "pvt.plot_bokeh(kind='area', stacked=True, normed=100, line_width=.75, legend=False);"
   ]
  },
  {
   "cell_type": "code",
   "execution_count": null,
   "metadata": {},
   "outputs": [],
   "source": [
    "pvt.tail(20)"
   ]
  },
  {
   "cell_type": "code",
   "execution_count": null,
   "metadata": {},
   "outputs": [],
   "source": [
    "pvt.tail(20).plot_bokeh(kind='point', line_width=.75, ylim=(0,120), legend=False);"
   ]
  },
  {
   "cell_type": "code",
   "execution_count": null,
   "metadata": {},
   "outputs": [],
   "source": [
    "sym = ['A', 'D', 'E']\n",
    "\n",
    "df.query(\"Symbol in @sym\").plot_bokeh(kind='scatter', x='Close', y='Volume', category='Symbol', line_color='white', alpha=.4, disable_scientific_axes=True);"
   ]
  },
  {
   "cell_type": "code",
   "execution_count": null,
   "metadata": {},
   "outputs": [],
   "source": [
    "plots = []\n",
    "\n",
    "colors = ['red', 'orange', 'yellow', 'green', 'blue', 'violet']\n",
    "\n",
    "for i, s in enumerate(sorted(shares)):\n",
    "    \n",
    "    p = df.query(\"Symbol == @s\").plot_bokeh(kind='scatter',\n",
    "                                            x='Close',\n",
    "                                            y='Volume',\n",
    "                                            category='Names',\n",
    "                                            alpha=.3,\n",
    "                                            color=colors[i],\n",
    "                                            line_width=0,\n",
    "                                            title=f\"Chart for: {s}\",\n",
    "                                            disable_scientific_axes=True,\n",
    "                                            hovertool=False,\n",
    "                                            legend=False,\n",
    "                                            show_figure=False);\n",
    "    plots.append(p)\n",
    "    \n",
    "pandas_bokeh.plot_grid([plots[:3], plots[3:]], plot_width=400);"
   ]
  },
  {
   "cell_type": "code",
   "execution_count": null,
   "metadata": {},
   "outputs": [],
   "source": [
    "grp = df.groupby('Names').mean()['Close']\n",
    "grp"
   ]
  },
  {
   "cell_type": "code",
   "execution_count": null,
   "metadata": {},
   "outputs": [],
   "source": [
    "grp.reset_index()"
   ]
  },
  {
   "cell_type": "code",
   "execution_count": null,
   "metadata": {},
   "outputs": [],
   "source": [
    "grp.plot_bokeh(kind='bar', color='blue', line_color='gray', legend=False);"
   ]
  },
  {
   "cell_type": "code",
   "execution_count": null,
   "metadata": {},
   "outputs": [],
   "source": [
    "np.histogram(df['Close'], 12)"
   ]
  },
  {
   "cell_type": "code",
   "execution_count": null,
   "metadata": {},
   "outputs": [],
   "source": [
    "np.linspace(1, 100, 12)"
   ]
  },
  {
   "cell_type": "code",
   "execution_count": null,
   "metadata": {},
   "outputs": [],
   "source": [
    "df['Close'].plot_bokeh(kind='hist', bins=np.linspace(1, 100, 12), color='pink', line_color='red', line_width=.5, legend=False);"
   ]
  },
  {
   "cell_type": "code",
   "execution_count": null,
   "metadata": {},
   "outputs": [],
   "source": [
    "xf = df[df['Date'] == df['Date'].max()].copy()\n",
    "xf"
   ]
  },
  {
   "cell_type": "code",
   "execution_count": null,
   "metadata": {},
   "outputs": [],
   "source": [
    "xf['Close'].values"
   ]
  },
  {
   "cell_type": "code",
   "execution_count": null,
   "metadata": {},
   "outputs": [],
   "source": [
    "np.random.randint(1,100, len(xf))"
   ]
  },
  {
   "cell_type": "code",
   "execution_count": null,
   "metadata": {},
   "outputs": [],
   "source": [
    "cnt = 0\n",
    "lns = len(xf)\n",
    "\n",
    "while True:\n",
    "    cnt += 1\n",
    "    try_shares = np.random.randint(1,100,lns)\n",
    "    #total_value = (xf['Close'].values * try_shares).sum()\n",
    "    total_value = np.dot(xf['Close'].values, try_shares).round(2)\n",
    "    if (total_value >= 27000) & (total_value <= 30000) & (cnt <= 1_000_000):\n",
    "        print(try_shares)\n",
    "        break\n",
    "    continue"
   ]
  },
  {
   "cell_type": "code",
   "execution_count": null,
   "metadata": {},
   "outputs": [],
   "source": [
    "print(f\"Number of tries: {cnt:,}\")"
   ]
  },
  {
   "cell_type": "code",
   "execution_count": null,
   "metadata": {},
   "outputs": [],
   "source": [
    "(xf['Close'].values * try_shares).sum().round(2)"
   ]
  },
  {
   "cell_type": "code",
   "execution_count": null,
   "metadata": {},
   "outputs": [],
   "source": [
    "xf['Shares'] = try_shares\n",
    "xf"
   ]
  },
  {
   "cell_type": "code",
   "execution_count": null,
   "metadata": {},
   "outputs": [],
   "source": [
    "from pandas_datareader import wb"
   ]
  },
  {
   "cell_type": "code",
   "execution_count": null,
   "metadata": {},
   "outputs": [],
   "source": [
    "country_data = wb.get_countries()\n",
    "country_data"
   ]
  },
  {
   "cell_type": "code",
   "execution_count": null,
   "metadata": {},
   "outputs": [],
   "source": [
    "country_data.dropna(subset=['longitude', 'latitude'], inplace=True)\n",
    "country_data"
   ]
  },
  {
   "cell_type": "code",
   "execution_count": null,
   "metadata": {},
   "outputs": [],
   "source": [
    "country_data.plot_bokeh.map(x='longitude', y='latitude', color='purple', hovertool_string=\"\"\"@{name}\"\"\", legend=False, figsize=(1000, 800));"
   ]
  },
  {
   "cell_type": "code",
   "execution_count": null,
   "metadata": {},
   "outputs": [],
   "source": [
    "indicator_df = wb.get_indicators()\n",
    "names = indicator_df.name.str.contains('energy')\n",
    "sources = indicator_df.source == \"World Development Indicators\"\n",
    "\n",
    "indicators = indicator_df[names & sources]\n",
    "\n",
    "indicators"
   ]
  },
  {
   "cell_type": "code",
   "execution_count": null,
   "metadata": {},
   "outputs": [],
   "source": [
    "matches = wb.search(\"pop.*\")\n",
    "matches.head()"
   ]
  },
  {
   "cell_type": "code",
   "execution_count": null,
   "metadata": {},
   "outputs": [],
   "source": [
    "start_year, end_year = 2005, 2015\n",
    "\n",
    "country_codes = ['CHN', 'IND', 'USA', 'IDN', 'BRA', 'MEX', 'JPN']\n",
    "indicator_codes = ['EG.USE.COMM.CL.ZS', 'EG.USE.COMM.FO.ZS']\n",
    "df = wb.download(indicator=indicator_codes, country=country_codes, start=start_year, end=end_year).dropna()\n",
    "\n",
    "type(df)"
   ]
  },
  {
   "cell_type": "code",
   "execution_count": null,
   "metadata": {},
   "outputs": [],
   "source": [
    "df"
   ]
  },
  {
   "cell_type": "code",
   "execution_count": null,
   "metadata": {},
   "outputs": [],
   "source": [
    "df.columns = ['alternative', 'fossil']"
   ]
  },
  {
   "cell_type": "code",
   "execution_count": null,
   "metadata": {},
   "outputs": [],
   "source": [
    "df.reset_index(inplace=True)\n",
    "df.info()"
   ]
  },
  {
   "cell_type": "code",
   "execution_count": null,
   "metadata": {},
   "outputs": [],
   "source": [
    "df.head()"
   ]
  },
  {
   "cell_type": "code",
   "execution_count": null,
   "metadata": {},
   "outputs": [],
   "source": [
    "df['year_end'] = df['year'].apply(lambda x: datetime.datetime(int(x), 12, 31))"
   ]
  },
  {
   "cell_type": "code",
   "execution_count": null,
   "metadata": {},
   "outputs": [],
   "source": [
    "df.head()"
   ]
  },
  {
   "cell_type": "code",
   "execution_count": null,
   "metadata": {},
   "outputs": [],
   "source": [
    "df.pivot_table(index='year_end', columns='country', values='alternative', fill_value=0).plot_bokeh(kind='line', line_width=.75, legend='bottom_left');"
   ]
  },
  {
   "cell_type": "code",
   "execution_count": null,
   "metadata": {},
   "outputs": [],
   "source": []
  }
 ],
 "metadata": {
  "kernelspec": {
   "display_name": "Python 3",
   "language": "python",
   "name": "python3"
  },
  "language_info": {
   "codemirror_mode": {
    "name": "ipython",
    "version": 3
   },
   "file_extension": ".py",
   "mimetype": "text/x-python",
   "name": "python",
   "nbconvert_exporter": "python",
   "pygments_lexer": "ipython3",
   "version": "3.8.5"
  }
 },
 "nbformat": 4,
 "nbformat_minor": 4
}
