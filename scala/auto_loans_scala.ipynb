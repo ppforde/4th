{
 "cells": [
  {
   "cell_type": "code",
   "execution_count": null,
   "metadata": {},
   "outputs": [],
   "source": [
    "println(\"Auto Loans\")"
   ]
  },
  {
   "cell_type": "code",
   "execution_count": null,
   "metadata": {},
   "outputs": [],
   "source": [
    "import Array._\n",
    "import Math._\n",
    "import java.util.Calendar\n",
    "import java.text.SimpleDateFormat\n",
    "import java.io._\n"
   ]
  },
  {
   "cell_type": "code",
   "execution_count": null,
   "metadata": {},
   "outputs": [],
   "source": [
    "def autoloan( presentValue:Int, numberPeriods:Int, interestRate:Double) : Double = {\n",
    "    var rate: Double = interestRate/100/12\n",
    "    var payment: Double = (rate * presentValue / (1 - Math.pow(1 + rate, -numberPeriods)))\n",
    "    return (Math.round(payment * 100.0) / 100.0)\n",
    "}"
   ]
  },
  {
   "cell_type": "code",
   "execution_count": null,
   "metadata": {},
   "outputs": [],
   "source": [
    "def statusUpdate( monthlyPayment: Double) : String = {\n",
    "\n",
    "    if (monthlyPayment < 500.0) {\n",
    "        return \"low\"\n",
    "    } else if (monthlyPayment > 600.0) {\n",
    "        return \"high\"\n",
    "    } else {\n",
    "        return \"ok\"\n",
    "    }\n",
    "}"
   ]
  },
  {
   "cell_type": "code",
   "execution_count": null,
   "metadata": {},
   "outputs": [],
   "source": [
    "var numberPeriods = Array(24, 36, 48, 60, 72)\n",
    "var form = new SimpleDateFormat(\"yyyy-MM-dd HH:mm:ss\")\n",
    "var c = Calendar.getInstance()\n",
    "var dateTime = form.format(c.getTime())\n",
    "\n",
    "var presentValue = 25000\n",
    "var interestRate = 4.7\n",
    "\n",
    "var countAll = 0\n",
    "var sumAll = 0.0\n",
    "\n",
    "var writer = new PrintWriter(new File(\"loans.csv\"))\n",
    "\n",
    "writer.write(\"LOAN,INTEREST,TERM,MONTHLY,STATUS,DATE\\n\")\n",
    "\n",
    "while (presentValue < 30000) {\n",
    "    \n",
    "    for (period <- numberPeriods ) {\n",
    "        \n",
    "        var monthlyPayment = autoloan(presentValue, period, interestRate)\n",
    "\n",
    "        var paymentStatus = statusUpdate(monthlyPayment)\n",
    "\n",
    "        println(s\"$presentValue, $interestRate, $period, $monthlyPayment, $paymentStatus, $dateTime\")\n",
    "\n",
    "        writer.write(s\"$presentValue,$interestRate,$period,$monthlyPayment,$paymentStatus,$dateTime\\n\")\n",
    "\n",
    "        countAll += 1\n",
    "\n",
    "        sumAll = sumAll + monthlyPayment\n",
    "    }\n",
    "\n",
    "    presentValue += 1000\n",
    "}\n",
    "\n",
    "writer.close()\n",
    "\n",
    "println(s\"\\nTotal records:$countAll & total payments:$sumAll\")"
   ]
  },
  {
   "cell_type": "code",
   "execution_count": null,
   "metadata": {},
   "outputs": [],
   "source": [
    "val df = spark.read.format(\"csv\").option(\"header\",true).option(\"inferSchema\",true).load(\"loans.csv\")"
   ]
  },
  {
   "cell_type": "code",
   "execution_count": null,
   "metadata": {},
   "outputs": [],
   "source": [
    "df.printSchema()"
   ]
  },
  {
   "cell_type": "code",
   "execution_count": null,
   "metadata": {},
   "outputs": [],
   "source": [
    "df.show()"
   ]
  },
  {
   "cell_type": "code",
   "execution_count": null,
   "metadata": {},
   "outputs": [],
   "source": []
  }
 ],
 "metadata": {
  "kernelspec": {
   "display_name": "spylon-kernel",
   "language": "scala",
   "name": "spylon-kernel"
  },
  "language_info": {
   "codemirror_mode": "text/x-scala",
   "file_extension": ".scala",
   "help_links": [
    {
     "text": "MetaKernel Magics",
     "url": "https://metakernel.readthedocs.io/en/latest/source/README.html"
    }
   ],
   "mimetype": "text/x-scala",
   "name": "scala",
   "pygments_lexer": "scala",
   "version": "0.4.1"
  }
 },
 "nbformat": 4,
 "nbformat_minor": 4
}
