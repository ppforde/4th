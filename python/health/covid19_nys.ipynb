{
 "cells": [
  {
   "cell_type": "markdown",
   "metadata": {},
   "source": [
    "# COVID-19 for New York State\n",
    "---"
   ]
  },
  {
   "cell_type": "markdown",
   "metadata": {},
   "source": [
    "**Purpose:**\n",
    "\n",
    "Review daily data\n",
    "\n",
    "**Data Source:**\n",
    "\n",
    "https://data.ny.gov/"
   ]
  },
  {
   "cell_type": "code",
   "execution_count": null,
   "metadata": {},
   "outputs": [],
   "source": [
    "import pandas as pd\n",
    "import numpy as np\n",
    "import matplotlib.pyplot as plt\n",
    "\n",
    "plt.style.use('seaborn-darkgrid')"
   ]
  },
  {
   "cell_type": "code",
   "execution_count": null,
   "metadata": {},
   "outputs": [],
   "source": [
    "URL = 'https://health.data.ny.gov/api/views/xdss-u53e/rows.csv?accessType=DOWNLOAD'"
   ]
  },
  {
   "cell_type": "code",
   "execution_count": null,
   "metadata": {},
   "outputs": [],
   "source": [
    "print(URL)"
   ]
  },
  {
   "cell_type": "markdown",
   "metadata": {},
   "source": [
    "## Analyze the Dataframes"
   ]
  },
  {
   "cell_type": "code",
   "execution_count": null,
   "metadata": {},
   "outputs": [],
   "source": [
    "df = pd.read_csv(URL, parse_dates=['Test Date'])\n",
    "df.info()"
   ]
  },
  {
   "cell_type": "code",
   "execution_count": null,
   "metadata": {},
   "outputs": [],
   "source": [
    "# check for missing data\n",
    "\n",
    "df.isna().sum()"
   ]
  },
  {
   "cell_type": "code",
   "execution_count": null,
   "metadata": {},
   "outputs": [],
   "source": [
    "# review sample data\n",
    "\n",
    "df.sample(10)"
   ]
  },
  {
   "cell_type": "code",
   "execution_count": null,
   "metadata": {},
   "outputs": [],
   "source": [
    "# review top 10\n",
    "\n",
    "df.nlargest(columns='New Positives', n=10)"
   ]
  },
  {
   "cell_type": "code",
   "execution_count": null,
   "metadata": {},
   "outputs": [],
   "source": [
    "# review zeroes\n",
    "\n",
    "df.query(\"`New Positives` == 0\")"
   ]
  },
  {
   "cell_type": "code",
   "execution_count": null,
   "metadata": {},
   "outputs": [],
   "source": [
    "# review by extact date\n",
    "\n",
    "df.groupby('Test Date').sum()\\\n",
    ".plot(subplots=True, alpha=.5, layout=(2,2), figsize=(14,10));"
   ]
  },
  {
   "cell_type": "code",
   "execution_count": null,
   "metadata": {},
   "outputs": [],
   "source": [
    "# review by monthly sum\n",
    "\n",
    "df.groupby(pd.Grouper(key='Test Date', freq='M')).sum()\\\n",
    ".plot(subplots=True, lw=3, ls='dashed', layout=(2,2), marker='o', markerfacecolor='k', figsize=(14,10));"
   ]
  },
  {
   "cell_type": "code",
   "execution_count": null,
   "metadata": {},
   "outputs": [],
   "source": [
    "# review by weekly average\n",
    "\n",
    "df.groupby(pd.Grouper(key='Test Date', freq='W')).mean()\\\n",
    ".plot.bar(subplots=True, layout=(2,2), figsize=(14,10));"
   ]
  },
  {
   "cell_type": "code",
   "execution_count": null,
   "metadata": {},
   "outputs": [],
   "source": [
    "# summarize by county\n",
    "\n",
    "df.groupby('County')['New Positives'].sum().sort_values()\\\n",
    ".plot.barh(figsize=(12,15));"
   ]
  },
  {
   "cell_type": "code",
   "execution_count": null,
   "metadata": {},
   "outputs": [],
   "source": [
    "# get geospatial info for counties\n",
    "\n",
    "URL = 'https://data.ny.gov/api/views/4xc7-bukh/rows.csv?accessType=DOWNLOAD&sorting=true'\n",
    "print(URL)"
   ]
  },
  {
   "cell_type": "code",
   "execution_count": null,
   "metadata": {},
   "outputs": [],
   "source": [
    "cs = pd.read_csv(URL)\n",
    "cs.info()"
   ]
  },
  {
   "cell_type": "code",
   "execution_count": null,
   "metadata": {},
   "outputs": [],
   "source": [
    "cs.head()"
   ]
  },
  {
   "cell_type": "code",
   "execution_count": null,
   "metadata": {},
   "outputs": [],
   "source": [
    "# use set to see if all the counties are there\n",
    "\n",
    "missing_county = set(df.County).difference(cs.County)\n",
    "missing_county"
   ]
  },
  {
   "cell_type": "code",
   "execution_count": null,
   "metadata": {},
   "outputs": [],
   "source": [
    "df[df['County'].isin(missing_county)]"
   ]
  },
  {
   "cell_type": "code",
   "execution_count": null,
   "metadata": {},
   "outputs": [],
   "source": [
    "missing_county = set(cs.County).difference(df.County)\n",
    "missing_county"
   ]
  },
  {
   "cell_type": "code",
   "execution_count": null,
   "metadata": {},
   "outputs": [],
   "source": [
    "# fix county name so that both dataframes will align\n",
    "\n",
    "cs['County'] = cs.County.str.replace('St Lawrence', 'St. Lawrence')"
   ]
  },
  {
   "cell_type": "code",
   "execution_count": null,
   "metadata": {},
   "outputs": [],
   "source": [
    "# merge dataframes based on the last test date\n",
    "\n",
    "xf = pd.merge(left=df[df['Test Date'] == df['Test Date'].max()], right=cs, how='left')\n",
    "xf.head()"
   ]
  },
  {
   "cell_type": "code",
   "execution_count": null,
   "metadata": {},
   "outputs": [],
   "source": [
    "# check for missing values\n",
    "\n",
    "xf.isna().sum()"
   ]
  },
  {
   "cell_type": "code",
   "execution_count": null,
   "metadata": {},
   "outputs": [],
   "source": [
    "# check to see if there is only the last date\n",
    "\n",
    "xf['Test Date'].unique()"
   ]
  },
  {
   "cell_type": "markdown",
   "metadata": {},
   "source": [
    "## Map the Dataframes"
   ]
  },
  {
   "cell_type": "code",
   "execution_count": null,
   "metadata": {},
   "outputs": [],
   "source": [
    "!pip install folium --upgrade"
   ]
  },
  {
   "cell_type": "code",
   "execution_count": null,
   "metadata": {},
   "outputs": [],
   "source": [
    "import folium"
   ]
  },
  {
   "cell_type": "code",
   "execution_count": null,
   "metadata": {},
   "outputs": [],
   "source": [
    "# find the middle of the map\n",
    "median_lat = xf.Latitude.median()\n",
    "median_lon = xf.Longitude.median()\n",
    "\n",
    "# create the map\n",
    "m = folium.Map(location=(median_lat,median_lon), zoom_start=7, tiles='CartoDB Positron')\n",
    "\n",
    "# add markers to the map\n",
    "for index, row in xf.iterrows():\n",
    "    color_match = \"red\" if row['Cumulative Number of Positives'] > 1000 else 'blue'\n",
    "    popup_string = \"County: {}, Positives: {:,}, Tests: {:,}\"\\\n",
    "    .format(row['County'], row['Cumulative Number of Positives'], row['Cumulative Number of Tests Performed'])\n",
    "    folium.Marker(location=(row['Latitude'], row['Longitude']),\n",
    "                  popup=popup_string,\n",
    "                  icon=folium.Icon(color=color_match, icon='info-sign'),\n",
    "                  opacity=.4).add_to(m)\n",
    "\n",
    "# show the map\n",
    "m"
   ]
  },
  {
   "cell_type": "code",
   "execution_count": null,
   "metadata": {},
   "outputs": [],
   "source": []
  },
  {
   "cell_type": "code",
   "execution_count": null,
   "metadata": {},
   "outputs": [],
   "source": []
  }
 ],
 "metadata": {
  "kernelspec": {
   "display_name": "Python 3",
   "language": "python",
   "name": "python3"
  },
  "language_info": {
   "codemirror_mode": {
    "name": "ipython",
    "version": 3
   },
   "file_extension": ".py",
   "mimetype": "text/x-python",
   "name": "python",
   "nbconvert_exporter": "python",
   "pygments_lexer": "ipython3",
   "version": "3.8.5"
  }
 },
 "nbformat": 4,
 "nbformat_minor": 2
}
