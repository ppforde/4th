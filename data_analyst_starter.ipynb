{
 "cells": [
  {
   "cell_type": "code",
   "execution_count": null,
   "metadata": {},
   "outputs": [],
   "source": [
    "import pandas as pd\n",
    "import numpy as np\n",
    "import matplotlib.pyplot as plt"
   ]
  },
  {
   "cell_type": "code",
   "execution_count": null,
   "metadata": {},
   "outputs": [],
   "source": [
    "plt.style.available"
   ]
  },
  {
   "cell_type": "code",
   "execution_count": null,
   "metadata": {},
   "outputs": [],
   "source": [
    "plt.style.use('bmh')"
   ]
  },
  {
   "cell_type": "code",
   "execution_count": null,
   "metadata": {},
   "outputs": [],
   "source": [
    "from datetime import datetime"
   ]
  },
  {
   "cell_type": "code",
   "execution_count": null,
   "metadata": {},
   "outputs": [],
   "source": [
    "from IPython.core.display import HTML, display\n",
    "\n",
    "CSS = \"\"\"\n",
    "@import url(\"https://fonts.googleapis.com/css?family=Fira Mono\");\n",
    "\n",
    ".container {\n",
    "    width: 97% !important;\n",
    "    font-size: 100%;\n",
    "}\n",
    "\n",
    "span {\n",
    "    font-family: 'Fira Mono'; color: black;\n",
    "}\n",
    "\n",
    "div.output_area pre {\n",
    "    font-family: 'Fira Mono'; font-size:100%; color:blue;\n",
    "}\n",
    "\n",
    "table.dataframe {\n",
    "    border-collapse: collapse;\n",
    "    border: none;\n",
    "}\n",
    "table.dataframe tr {\n",
    "    border: none;\n",
    "}\n",
    "table.dataframe td, table.dataframe th {\n",
    "    margin: 0;\n",
    "    border: 2px solid #ccf;\n",
    "    background-color: #f4f4ff;\n",
    "    padding-left: 0.25em;\n",
    "    padding-right: 0.25em;\n",
    "}\n",
    "table.dataframe th: not(:empty) {\n",
    "    border: 2px solid #ccf;\n",
    "    background-color: #f4f4ff;\n",
    "    text-align: center;\n",
    "    font-weight: normal;   \n",
    "}\n",
    "table.dataframe tr:nth-child(2) th empty {\n",
    "    border-left: none;\n",
    "    border-right: 2px dashed #888;\n",
    "}\n",
    "table.dataframe td {\n",
    "    border: 2px solid #ccf;\n",
    "    background-color: #f4f4ff;\n",
    "}\n",
    "\"\"\"\n",
    "\n",
    "HTML(f'<style>{CSS}</style>')"
   ]
  },
  {
   "cell_type": "code",
   "execution_count": null,
   "metadata": {},
   "outputs": [],
   "source": [
    "start_date, end_date = '2010-01-01', '2021-01-01'\n",
    "\n",
    "product_list = ['television', 'book', 'hoodie', 'sandals', 'kale chips', 'rug', 'cutlery set', 'mouse pad', 'toy train', 'gravel']\n",
    "\n",
    "location_list = ['DE', 'CT', 'NY', 'NJ']\n",
    "location_prob = [.18, .23, .25, .34]\n",
    "\n",
    "employee_list = ['Sam', 'Leslie', 'Jes', 'Pat', 'Jo']\n",
    "employee_prob = [.3, .3, .05, .2, .15]"
   ]
  },
  {
   "cell_type": "code",
   "execution_count": null,
   "metadata": {},
   "outputs": [],
   "source": [
    "current_date = datetime.now()\n",
    "print(current_date)"
   ]
  },
  {
   "cell_type": "code",
   "execution_count": null,
   "metadata": {},
   "outputs": [],
   "source": [
    "N = 37_200"
   ]
  },
  {
   "cell_type": "code",
   "execution_count": null,
   "metadata": {},
   "outputs": [],
   "source": [
    "np.random.RandomState(seed=7)\n",
    "\n",
    "df = pd.DataFrame.from_dict(\n",
    "    {\n",
    "        'trans_date': np.random.choice(np.arange(start_date, end_date, dtype='datetime64[D]'), size=N),\n",
    "        'location': np.random.choice(location_list, size=(N,), p=location_prob),\n",
    "        'employee': np.random.choice(employee_list, size=(N,), p=employee_prob),\n",
    "        'product': np.random.choice(product_list, size=(N,),),    \n",
    "        'sales_hrs': np.random.choice(np.arange(1, 25, 1), size=N),\n",
    "        'sales_tot': np.random.normal(loc=100, scale=2, size=N)\n",
    "    }\n",
    ")\n",
    "\n",
    "df['doc_date'] = current_date.strftime(\"%Y-%m-%d %H:%M:%S\")\n",
    "df['actuals'] = np.where(df['trans_date'] <= current_date, True, False)\n",
    "df.loc[df['trans_date'].dt.year == 2015, ['sales_tot']] = df['sales_tot'] * .82\n",
    "df.loc[(df['employee'] == 'Jes') & (df['trans_date'].between(\"2012-01-01\", \"2014-06-01\")), ['sales_hrs']] = 0\n",
    "df.dropna(axis=0, inplace=True)"
   ]
  },
  {
   "cell_type": "code",
   "execution_count": null,
   "metadata": {},
   "outputs": [],
   "source": [
    "df.info()"
   ]
  },
  {
   "cell_type": "code",
   "execution_count": null,
   "metadata": {},
   "outputs": [],
   "source": [
    "df.head()"
   ]
  },
  {
   "cell_type": "code",
   "execution_count": null,
   "metadata": {},
   "outputs": [],
   "source": [
    "df.sample()"
   ]
  },
  {
   "cell_type": "code",
   "execution_count": null,
   "metadata": {},
   "outputs": [],
   "source": [
    "df.describe()"
   ]
  },
  {
   "cell_type": "code",
   "execution_count": null,
   "metadata": {},
   "outputs": [],
   "source": [
    "df['actuals'].value_counts(dropna=False)"
   ]
  },
  {
   "cell_type": "code",
   "execution_count": null,
   "metadata": {},
   "outputs": [],
   "source": [
    "df['actuals'].value_counts(dropna=False).plot.pie();"
   ]
  },
  {
   "cell_type": "code",
   "execution_count": null,
   "metadata": {},
   "outputs": [],
   "source": [
    "df['employee'].value_counts(dropna=False).plot.bar(rot=0);"
   ]
  },
  {
   "cell_type": "code",
   "execution_count": null,
   "metadata": {},
   "outputs": [],
   "source": [
    "df['product'].value_counts(dropna=False).plot.bar(rot=0);"
   ]
  },
  {
   "cell_type": "code",
   "execution_count": null,
   "metadata": {},
   "outputs": [],
   "source": [
    "df['sales_tot'].plot.hist(grid=False);"
   ]
  },
  {
   "cell_type": "code",
   "execution_count": null,
   "metadata": {},
   "outputs": [],
   "source": [
    "df.boxplot(column='sales_hrs', by='employee');"
   ]
  },
  {
   "cell_type": "code",
   "execution_count": null,
   "metadata": {},
   "outputs": [],
   "source": [
    "df.groupby('trans_date').sum()"
   ]
  },
  {
   "cell_type": "code",
   "execution_count": null,
   "metadata": {},
   "outputs": [],
   "source": [
    "df.groupby('trans_date').sum().plot();"
   ]
  },
  {
   "cell_type": "code",
   "execution_count": null,
   "metadata": {},
   "outputs": [],
   "source": [
    "df.groupby('trans_date').sum().plot(subplots=True, figsize=(8,10), lw=.5);"
   ]
  },
  {
   "cell_type": "code",
   "execution_count": null,
   "metadata": {},
   "outputs": [],
   "source": [
    "df.groupby(pd.Grouper(key='trans_date', freq='Y')).sum()\\\n",
    ".plot(subplots=True, marker='o', markerfacecolor='k', lw=3, ls='--', figsize=(8,10));"
   ]
  },
  {
   "cell_type": "code",
   "execution_count": null,
   "metadata": {},
   "outputs": [],
   "source": [
    "df.groupby([pd.Grouper(key='trans_date', freq='Y'), 'product'])['sales_tot'].sum().unstack('product')\\\n",
    ".plot(subplots=True, marker='o', markerfacecolor='k', lw=3, ls='--', figsize=(8,16));"
   ]
  },
  {
   "cell_type": "code",
   "execution_count": null,
   "metadata": {},
   "outputs": [],
   "source": []
  }
 ],
 "metadata": {
  "kernelspec": {
   "display_name": "Python 3",
   "language": "python",
   "name": "python3"
  },
  "language_info": {
   "codemirror_mode": {
    "name": "ipython",
    "version": 3
   },
   "file_extension": ".py",
   "mimetype": "text/x-python",
   "name": "python",
   "nbconvert_exporter": "python",
   "pygments_lexer": "ipython3",
   "version": "3.8.3"
  }
 },
 "nbformat": 4,
 "nbformat_minor": 4
}
