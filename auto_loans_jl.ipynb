{
 "cells": [
  {
   "cell_type": "code",
   "execution_count": null,
   "metadata": {},
   "outputs": [],
   "source": [
    "using Printf\n",
    "using Dates"
   ]
  },
  {
   "cell_type": "code",
   "execution_count": null,
   "metadata": {},
   "outputs": [],
   "source": [
    "interest_rate = 4.7"
   ]
  },
  {
   "cell_type": "code",
   "execution_count": null,
   "metadata": {},
   "outputs": [],
   "source": [
    "current_date = Dates.format(now(), \"Y-mm-dd HH:MM:SS\")"
   ]
  },
  {
   "cell_type": "code",
   "execution_count": null,
   "metadata": {},
   "outputs": [],
   "source": [
    "count_all = Int64[]"
   ]
  },
  {
   "cell_type": "code",
   "execution_count": null,
   "metadata": {},
   "outputs": [],
   "source": [
    "sum_all = Float64[]"
   ]
  },
  {
   "cell_type": "code",
   "execution_count": null,
   "metadata": {},
   "outputs": [],
   "source": [
    "io = open(\"loans.csv\", \"w\")\n",
    "\n",
    "write(io, \"LOAN,TERM,INTEREST,MONTHLY,STATUS,DATE\\n\")\n",
    "\n",
    "for present_value = 25000:1000:29000, number_periods = 24:12:72\n",
    "    \n",
    "    irr = interest_rate/100/12\n",
    "    \n",
    "    monthly_payment = round((irr * present_value) / (1 - (1 + irr)  ^ -number_periods) * 100) / 100\n",
    "    \n",
    "    if monthly_payment <= 500\n",
    "        payment_status = \"low\"\n",
    "    elseif monthly_payment >= 600\n",
    "        payment_status = \"high\"\n",
    "    else\n",
    "        payment_status = \"ok\"\n",
    "    end\n",
    "    \n",
    "    @printf(\"%d, %d, %.1f, %.2f, %s, %s\\n\", present_value, number_periods, interest_rate, monthly_payment, payment_status, current_date)\n",
    "    \n",
    "    write(io, \"$present_value,$number_periods,$interest_rate,$monthly_payment,$payment_status,$current_date\\n\")\n",
    "    \n",
    "    push!(count_all, 1)\n",
    "    \n",
    "    push!(sum_all, monthly_payment)\n",
    "    \n",
    "end\n",
    "\n",
    "close(io)\n",
    "\n",
    "@printf(\"\\nTotal records: %d & total payments %.2f\\n\", sum(count_all), sum(sum_all))"
   ]
  },
  {
   "cell_type": "code",
   "execution_count": null,
   "metadata": {},
   "outputs": [],
   "source": []
  }
 ],
 "metadata": {
  "kernelspec": {
   "display_name": "Julia 1.5.1",
   "language": "julia",
   "name": "julia-1.5"
  },
  "language_info": {
   "file_extension": ".jl",
   "mimetype": "application/julia",
   "name": "julia",
   "version": "1.5.1"
  }
 },
 "nbformat": 4,
 "nbformat_minor": 4
}
