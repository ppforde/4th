{
 "cells": [
  {
   "cell_type": "markdown",
   "metadata": {},
   "source": [
    "# IMDB Datasets"
   ]
  },
  {
   "cell_type": "markdown",
   "metadata": {},
   "source": [
    "**Purpose:**\n",
    "\n",
    "Working with \"big\" data in Pandas\n",
    "\n",
    "**Data Source:**\n",
    "\n",
    "https://datasets.imdbws.com/"
   ]
  },
  {
   "cell_type": "code",
   "execution_count": null,
   "metadata": {
    "colab": {
     "base_uri": "https://localhost:8080/",
     "height": 51
    },
    "colab_type": "code",
    "id": "Gg9o1jgbcex7",
    "outputId": "684022f1-7ac4-49e2-d497-d9437dcaa225"
   },
   "outputs": [],
   "source": [
    "import sys\n",
    "\n",
    "print('Python info', sys.version)"
   ]
  },
  {
   "cell_type": "code",
   "execution_count": null,
   "metadata": {
    "colab": {
     "base_uri": "https://localhost:8080/",
     "height": 34
    },
    "colab_type": "code",
    "id": "Ze6Zt0God47Q",
    "outputId": "75eadefb-b6c4-49c0-9033-c59b70559164"
   },
   "outputs": [],
   "source": [
    "import os\n",
    "\n",
    "print('This is the curent directory', os.getcwd())"
   ]
  },
  {
   "cell_type": "code",
   "execution_count": null,
   "metadata": {
    "colab": {
     "base_uri": "https://localhost:8080/",
     "height": 68
    },
    "colab_type": "code",
    "id": "2NHFPn4seAZS",
    "outputId": "65f2ed00-a345-4d87-87b2-aa7611ba9eb9"
   },
   "outputs": [],
   "source": [
    "import datetime\n",
    "\n",
    "current_date = datetime.date.today()\n",
    "current_time = datetime.datetime.now()\n",
    "\n",
    "print(\"System date/time\", current_time)\n",
    "print('Current date', datetime.datetime.strftime(current_date, '%A %m/%d/%Y'))\n",
    "print('Current time', datetime.datetime.strftime(current_time, '%I:%M:%S %p'))"
   ]
  },
  {
   "cell_type": "code",
   "execution_count": null,
   "metadata": {
    "colab": {
     "base_uri": "https://localhost:8080/",
     "height": 68
    },
    "colab_type": "code",
    "id": "tOcZy3Jiegg_",
    "outputId": "70202546-9c0e-44f4-f199-57eb5a9fd805"
   },
   "outputs": [],
   "source": [
    "import pandas as pd\n",
    "import numpy as np\n",
    "import matplotlib as mpl\n",
    "import matplotlib.pyplot as plt\n",
    "\n",
    "print('Pandas version', pd.__version__)\n",
    "print('Numpy version', np.__version__)\n",
    "print('Matplotlib version', mpl.__version__)"
   ]
  },
  {
   "cell_type": "code",
   "execution_count": null,
   "metadata": {
    "colab": {},
    "colab_type": "code",
    "id": "_VqK-wSRetM-"
   },
   "outputs": [],
   "source": [
    "pd.options.display.float_format = '{:,.2f}'.format\n",
    "pd.set_option('display.precision', 2)\n",
    "pd.set_option('max_rows', 250)\n",
    "pd.set_option('max_columns', 250)\n",
    "\n",
    "from pylab import rcParams\n",
    "%matplotlib inline\n",
    "rcParams['figure.figsize'] = 5, 4\n",
    "plt.style.use('ggplot')"
   ]
  },
  {
   "cell_type": "code",
   "execution_count": null,
   "metadata": {
    "colab": {
     "base_uri": "https://localhost:8080/",
     "height": 71
    },
    "colab_type": "code",
    "id": "wtABPglxZnNH",
    "outputId": "e1257255-4a46-41cf-b8fd-664a7ffce706"
   },
   "outputs": [],
   "source": [
    "# read directly from a compressed file\n",
    "\n",
    "fname = 'https://datasets.imdbws.com/title.basics.tsv.gz'\n",
    "\n",
    "title_df = pd.read_table(filepath_or_buffer=fname,\n",
    "                         sep='\\t', na_values='\\\\N', encoding='utf8',\n",
    "                         dtype={'startYear':str, 'endYear':str})"
   ]
  },
  {
   "cell_type": "code",
   "execution_count": null,
   "metadata": {
    "colab": {
     "base_uri": "https://localhost:8080/",
     "height": 289
    },
    "colab_type": "code",
    "id": "ZfJJydncbNVB",
    "outputId": "40dff00e-a59b-4162-d7aa-09ad3ae1606f"
   },
   "outputs": [],
   "source": [
    "title_df.info()"
   ]
  },
  {
   "cell_type": "code",
   "execution_count": null,
   "metadata": {
    "colab": {
     "base_uri": "https://localhost:8080/",
     "height": 204
    },
    "colab_type": "code",
    "id": "Zhc-1-nIbiIG",
    "outputId": "c77d51d9-4824-4e51-d4f4-654ad88f6006"
   },
   "outputs": [],
   "source": [
    "title_df.head()"
   ]
  },
  {
   "cell_type": "code",
   "execution_count": null,
   "metadata": {
    "colab": {
     "base_uri": "https://localhost:8080/",
     "height": 187
    },
    "colab_type": "code",
    "id": "hl4tz5Hvfzlz",
    "outputId": "d7aaffb1-a162-4df2-8bbd-51f41d7f72f2"
   },
   "outputs": [],
   "source": [
    "title_df.isna().sum()"
   ]
  },
  {
   "cell_type": "code",
   "execution_count": null,
   "metadata": {
    "colab": {
     "base_uri": "https://localhost:8080/",
     "height": 359
    },
    "colab_type": "code",
    "id": "Lo7pGeOpbjMx",
    "outputId": "1021b810-1be5-4e6a-985e-1226cf557ed2"
   },
   "outputs": [],
   "source": [
    "title_df[title_df.primaryTitle.isna()]"
   ]
  },
  {
   "cell_type": "code",
   "execution_count": null,
   "metadata": {
    "colab": {},
    "colab_type": "code",
    "id": "XOfDqY67bzfY"
   },
   "outputs": [],
   "source": [
    "title_df.dropna(subset=['primaryTitle', 'originalTitle', 'startYear'], inplace=True)"
   ]
  },
  {
   "cell_type": "code",
   "execution_count": null,
   "metadata": {
    "colab": {
     "base_uri": "https://localhost:8080/",
     "height": 289
    },
    "colab_type": "code",
    "id": "ZR_w9efncJff",
    "outputId": "faae5bf4-1c17-4cfd-f07f-f5c8bf19ca8f"
   },
   "outputs": [],
   "source": [
    "title_df.info()"
   ]
  },
  {
   "cell_type": "code",
   "execution_count": null,
   "metadata": {
    "colab": {
     "base_uri": "https://localhost:8080/",
     "height": 68
    },
    "colab_type": "code",
    "id": "eKERTyl42NOc",
    "outputId": "e2f50b33-d713-479a-a925-7d7048f555b3"
   },
   "outputs": [],
   "source": [
    "title_df.isAdult.value_counts(dropna=False)"
   ]
  },
  {
   "cell_type": "code",
   "execution_count": null,
   "metadata": {
    "colab": {},
    "colab_type": "code",
    "id": "Yx75a8By2Vcs"
   },
   "outputs": [],
   "source": [
    "title_df = title_df[title_df.isAdult == 0]"
   ]
  },
  {
   "cell_type": "code",
   "execution_count": null,
   "metadata": {
    "colab": {
     "base_uri": "https://localhost:8080/",
     "height": 68
    },
    "colab_type": "code",
    "id": "SqX4uLmfdIqo",
    "outputId": "4f2253b8-0f95-4bf6-d4fd-d9d7bcc5e0db"
   },
   "outputs": [],
   "source": [
    "title_df.titleType.value_counts(dropna=False)"
   ]
  },
  {
   "cell_type": "code",
   "execution_count": null,
   "metadata": {
    "colab": {
     "base_uri": "https://localhost:8080/",
     "height": 1000
    },
    "colab_type": "code",
    "id": "ndPX019thEZX",
    "outputId": "060c9e55-cdb1-48e9-8fcc-de92cd1c4103"
   },
   "outputs": [],
   "source": [
    "title_df.genres.value_counts(dropna=False)"
   ]
  },
  {
   "cell_type": "code",
   "execution_count": null,
   "metadata": {
    "colab": {},
    "colab_type": "code",
    "id": "-kBpAsFOeC9K"
   },
   "outputs": [],
   "source": [
    "title_df['genres'] = title_df.genres.str.split(',')"
   ]
  },
  {
   "cell_type": "code",
   "execution_count": null,
   "metadata": {
    "colab": {
     "base_uri": "https://localhost:8080/",
     "height": 238
    },
    "colab_type": "code",
    "id": "jRXo6JdIevZC",
    "outputId": "f0987aad-b369-4aa3-fe2f-eb354470a336"
   },
   "outputs": [],
   "source": [
    "title_df.head()"
   ]
  },
  {
   "cell_type": "code",
   "execution_count": null,
   "metadata": {
    "colab": {
     "base_uri": "https://localhost:8080/",
     "height": 204
    },
    "colab_type": "code",
    "id": "dHuFMsRIe_mO",
    "outputId": "27e03e6c-28df-46b7-c7df-369b71605147"
   },
   "outputs": [],
   "source": [
    "title_df = title_df.explode('genres').reset_index()\n",
    "title_df.head()"
   ]
  },
  {
   "cell_type": "code",
   "execution_count": null,
   "metadata": {
    "colab": {
     "base_uri": "https://localhost:8080/",
     "height": 306
    },
    "colab_type": "code",
    "id": "Qo6SNyGhfFCf",
    "outputId": "7a386c2d-6deb-4418-caf1-c7f5cc468152"
   },
   "outputs": [],
   "source": [
    "title_df.info()"
   ]
  },
  {
   "cell_type": "code",
   "execution_count": null,
   "metadata": {},
   "outputs": [],
   "source": [
    "title_df.drop_duplicates(subset='tconst', keep='first', inplace=True)\n",
    "title_df.reset_index(inplace=True)\n",
    "title_df.info()"
   ]
  },
  {
   "cell_type": "code",
   "execution_count": null,
   "metadata": {},
   "outputs": [],
   "source": [
    "title_df.genres.value_counts(dropna=False)"
   ]
  },
  {
   "cell_type": "markdown",
   "metadata": {},
   "source": [
    "## Webscraping with Beautiful Soup"
   ]
  },
  {
   "cell_type": "code",
   "execution_count": null,
   "metadata": {
    "colab": {},
    "colab_type": "code",
    "id": "shW4hWVwKnTG"
   },
   "outputs": [],
   "source": [
    "import requests\n",
    "from bs4 import BeautifulSoup\n",
    "\n",
    "from pprint import pprint\n",
    "import re"
   ]
  },
  {
   "cell_type": "code",
   "execution_count": null,
   "metadata": {},
   "outputs": [],
   "source": [
    "# find the top 250 movies\n",
    "\n",
    "URL = 'https://m.imdb.com/chart/top'\n",
    "print(URL)"
   ]
  },
  {
   "cell_type": "code",
   "execution_count": null,
   "metadata": {},
   "outputs": [],
   "source": [
    "response = requests.get(URL)\n",
    "soup = BeautifulSoup(response.text, 'lxml')\n",
    "\n",
    "soup.title"
   ]
  },
  {
   "cell_type": "code",
   "execution_count": null,
   "metadata": {},
   "outputs": [],
   "source": [
    "soup.h1"
   ]
  },
  {
   "cell_type": "code",
   "execution_count": null,
   "metadata": {},
   "outputs": [],
   "source": [
    "data = []\n",
    "\n",
    "for link in soup.find_all(\"a\"):\n",
    "    data.append(link.get(\"href\", 'Empty'))\n",
    "    \n",
    "text_data = \" \".join(data)"
   ]
  },
  {
   "cell_type": "code",
   "execution_count": null,
   "metadata": {},
   "outputs": [],
   "source": [
    "# finding the title index pattern (tconst)\n",
    "\n",
    "movie_titles = re.findall(pattern=\"(tt\\d+)\", string=text_data)\n",
    "\n",
    "movie_titles = set(movie_titles)\n",
    "\n",
    "pprint(movie_titles, compact=True, width=80)\n",
    "print()\n",
    "print(len(movie_titles))"
   ]
  },
  {
   "cell_type": "code",
   "execution_count": null,
   "metadata": {
    "scrolled": true
   },
   "outputs": [],
   "source": [
    "top_movies = title_df.query(\"tconst in @movie_titles\")\n",
    "top_movies"
   ]
  },
  {
   "cell_type": "code",
   "execution_count": null,
   "metadata": {},
   "outputs": [],
   "source": [
    "top_movies.genres.value_counts().sort_values().plot.barh(figsize=(10,6));"
   ]
  },
  {
   "cell_type": "code",
   "execution_count": null,
   "metadata": {},
   "outputs": [],
   "source": [
    "top_movies.groupby(['startYear','genres'])['tconst'].count().unstack('genres').plot.bar(stacked=True, figsize=(18,6))\n",
    "plt.legend(bbox_to_anchor=(1.01, 1), loc=2, borderaxespad=0);"
   ]
  },
  {
   "cell_type": "code",
   "execution_count": null,
   "metadata": {},
   "outputs": [],
   "source": [
    "top_movies.query(\"startYear == '1995'\")"
   ]
  },
  {
   "cell_type": "code",
   "execution_count": null,
   "metadata": {},
   "outputs": [],
   "source": []
  }
 ],
 "metadata": {
  "colab": {
   "collapsed_sections": [],
   "name": "IMDB-Pandas.ipynb",
   "provenance": []
  },
  "kernelspec": {
   "display_name": "Python 3",
   "language": "python",
   "name": "python3"
  },
  "language_info": {
   "codemirror_mode": {
    "name": "ipython",
    "version": 3
   },
   "file_extension": ".py",
   "mimetype": "text/x-python",
   "name": "python",
   "nbconvert_exporter": "python",
   "pygments_lexer": "ipython3",
   "version": "3.8.3"
  }
 },
 "nbformat": 4,
 "nbformat_minor": 1
}
