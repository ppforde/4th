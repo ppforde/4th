{
 "cells": [
  {
   "cell_type": "code",
   "execution_count": null,
   "metadata": {},
   "outputs": [],
   "source": [
    "using Printf\n",
    "using Dates"
   ]
  },
  {
   "cell_type": "code",
   "execution_count": null,
   "metadata": {},
   "outputs": [],
   "source": [
    "interest_rate = 4.7"
   ]
  },
  {
   "cell_type": "code",
   "execution_count": null,
   "metadata": {},
   "outputs": [],
   "source": [
    "current_date = Dates.format(now(), \"Y-mm-dd HH:MM:SS\")"
   ]
  },
  {
   "cell_type": "code",
   "execution_count": null,
   "metadata": {},
   "outputs": [],
   "source": [
    "count_all = Int64[]"
   ]
  },
  {
   "cell_type": "code",
   "execution_count": null,
   "metadata": {},
   "outputs": [],
   "source": [
    "sum_all = Float64[]"
   ]
  },
  {
   "cell_type": "code",
   "execution_count": null,
   "metadata": {},
   "outputs": [],
   "source": [
    "io = open(\"loans.csv\", \"w\")\n",
    "\n",
    "write(io, \"LOAN,TERM,INTEREST,MONTHLY,STATUS,DATE\\n\")\n",
    "\n",
    "for present_value = 25000:1000:29000, number_periods = 24:12:72\n",
    "    \n",
    "    irr = interest_rate/100/12\n",
    "    \n",
    "    monthly_payment = round((irr * present_value) / (1 - (1 + irr)  ^ -number_periods) * 100) / 100\n",
    "    \n",
    "    if monthly_payment <= 500\n",
    "        payment_status = \"low\"\n",
    "    elseif monthly_payment >= 600\n",
    "        payment_status = \"high\"\n",
    "    else\n",
    "        payment_status = \"ok\"\n",
    "    end\n",
    "    \n",
    "    @printf(\"%d, %d, %.1f, %.2f, %s, %s\\n\",\n",
    "        present_value,\n",
    "        number_periods,\n",
    "        interest_rate,\n",
    "        monthly_payment,\n",
    "        payment_status,\n",
    "        current_date\n",
    "    )\n",
    "    \n",
    "    write(io, \"$present_value,$number_periods,$interest_rate,$monthly_payment,$payment_status,$current_date\\n\")\n",
    "    \n",
    "    push!(count_all, 1)\n",
    "    \n",
    "    push!(sum_all, monthly_payment)\n",
    "    \n",
    "end\n",
    "\n",
    "close(io)\n",
    "\n",
    "@printf(\"\\nTotal records: %d & total payments %.2f\\n\", sum(count_all), sum(sum_all))"
   ]
  },
  {
   "cell_type": "code",
   "execution_count": null,
   "metadata": {},
   "outputs": [],
   "source": [
    "using LinearAlgebra"
   ]
  },
  {
   "cell_type": "code",
   "execution_count": null,
   "metadata": {},
   "outputs": [],
   "source": [
    "pval_list = Float64[]"
   ]
  },
  {
   "cell_type": "code",
   "execution_count": null,
   "metadata": {},
   "outputs": [],
   "source": [
    "nper_list = Float64[]"
   ]
  },
  {
   "cell_type": "code",
   "execution_count": null,
   "metadata": {},
   "outputs": [],
   "source": [
    "irate_list = Float64[]"
   ]
  },
  {
   "cell_type": "code",
   "execution_count": null,
   "metadata": {},
   "outputs": [],
   "source": [
    "for pval = 25000:1000:29000, nper = 24:12:72\n",
    "    push!(pval_list, pval)\n",
    "    push!(nper_list, nper)\n",
    "    push!(irate_list, 4.7)\n",
    "end"
   ]
  },
  {
   "cell_type": "code",
   "execution_count": null,
   "metadata": {},
   "outputs": [],
   "source": [
    "nper_array = reshape(nper_list, 5, 5)"
   ]
  },
  {
   "cell_type": "code",
   "execution_count": null,
   "metadata": {},
   "outputs": [],
   "source": [
    "pval_array = reshape(pval_list, 5, 5)"
   ]
  },
  {
   "cell_type": "code",
   "execution_count": null,
   "metadata": {},
   "outputs": [],
   "source": [
    "irate_array = reshape(irate_list, 5, 5)"
   ]
  },
  {
   "cell_type": "code",
   "execution_count": null,
   "metadata": {},
   "outputs": [],
   "source": [
    "function auto_loan(loan::Float64, term::Float64, interest::Float64)\n",
    "    interest = interest / 100.0 /12.0\n",
    "    return (interest * loan) / (1.0 - (1.0 + interest)^ -term)\n",
    "end"
   ]
  },
  {
   "cell_type": "code",
   "execution_count": null,
   "metadata": {},
   "outputs": [],
   "source": [
    "auto_loan(25515.0, 72.0, 3.19)"
   ]
  },
  {
   "cell_type": "code",
   "execution_count": null,
   "metadata": {},
   "outputs": [],
   "source": [
    "# note: dot notation is needed to broadcast across all the arrays\n",
    "pmt = auto_loan.(pval_array, nper_array, irate_array)\n",
    "pmt"
   ]
  },
  {
   "cell_type": "code",
   "execution_count": null,
   "metadata": {},
   "outputs": [],
   "source": [
    "typeof(pmt)"
   ]
  },
  {
   "cell_type": "code",
   "execution_count": null,
   "metadata": {},
   "outputs": [],
   "source": []
  }
 ],
 "metadata": {
  "kernelspec": {
   "display_name": "Julia 1.5.2",
   "language": "julia",
   "name": "julia-1.5"
  },
  "language_info": {
   "file_extension": ".jl",
   "mimetype": "application/julia",
   "name": "julia",
   "version": "1.5.2"
  }
 },
 "nbformat": 4,
 "nbformat_minor": 4
}
