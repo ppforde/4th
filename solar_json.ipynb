{
 "cells": [
  {
   "cell_type": "code",
   "execution_count": null,
   "metadata": {},
   "outputs": [],
   "source": [
    "# system libraries\n",
    "import os\n",
    "import sys\n",
    "\n",
    "# check system information\n",
    "print('Python Information', sys.version)\n",
    "print('This is your current directory', os.getcwd())"
   ]
  },
  {
   "cell_type": "code",
   "execution_count": null,
   "metadata": {},
   "outputs": [],
   "source": [
    "# datetime libraries\n",
    "import datetime\n",
    "\n",
    "# assgin current date and time\n",
    "currentDate = datetime.date.today()\n",
    "currentTime = datetime.datetime.now()\n",
    "\n",
    "# check datetime information\n",
    "print('Today is {}'.format(currentDate))\n",
    "print('Today is', datetime.datetime.strftime(currentDate, '%m/%d/%Y'))\n",
    "print('The time is', datetime.datetime.strftime(currentTime, '%H:%M:%S'))"
   ]
  },
  {
   "cell_type": "code",
   "execution_count": null,
   "metadata": {},
   "outputs": [],
   "source": [
    "!pip install pymongo"
   ]
  },
  {
   "cell_type": "code",
   "execution_count": null,
   "metadata": {},
   "outputs": [],
   "source": [
    "import json\n",
    "from pprint import pprint\n",
    "import csv\n",
    "import random\n",
    "\n",
    "from bson.son import SON\n",
    "from bson import json_util"
   ]
  },
  {
   "cell_type": "code",
   "execution_count": null,
   "metadata": {},
   "outputs": [],
   "source": [
    "URL = 'https://data.ny.gov/api/views/3x8r-34rs/rows.csv?accessType=DOWNLOAD&sorting=true'\n",
    "\n",
    "print(URL)"
   ]
  },
  {
   "cell_type": "code",
   "execution_count": null,
   "metadata": {},
   "outputs": [],
   "source": [
    "filename = '/Users/ppfor/Downloads/Solar_Electric_Programs_Reported_by_NYSERDA__Beginning_2000.csv'\n",
    "\n",
    "with open(filename, newline=\"\", encoding='utf-8') as f:\n",
    "    solar_data = list(csv.reader(f, delimiter = \",\"))\n",
    "    solar_header = solar_data.pop(0)\n",
    "    \n",
    "print(\"Total rows: {:,}\".format(len(solar_data)))"
   ]
  },
  {
   "cell_type": "code",
   "execution_count": null,
   "metadata": {},
   "outputs": [],
   "source": [
    "for i, x in enumerate(random.choice(solar_data)):\n",
    "    print(i, solar_header[i], \":\", x)"
   ]
  },
  {
   "cell_type": "code",
   "execution_count": null,
   "metadata": {},
   "outputs": [],
   "source": [
    "def nums(x):\n",
    "    try:\n",
    "        return float(x)\n",
    "    except ValueError:\n",
    "        return 0\n",
    "    \n",
    "test = ['', '55', 500, 'five', '5_000', '5e6']\n",
    "\n",
    "list(map(nums, test))"
   ]
  },
  {
   "cell_type": "code",
   "execution_count": null,
   "metadata": {},
   "outputs": [],
   "source": [
    "def dates(x):\n",
    "    try:\n",
    "        return datetime.datetime.strptime(x, '%m/%d/%Y')\n",
    "    except:\n",
    "        return None\n",
    "    \n",
    "test = ['7/31/2016', '', 'None', 'July 31 2016']\n",
    "\n",
    "for item in list(map(dates, test)):\n",
    "    print(item)"
   ]
  },
  {
   "cell_type": "code",
   "execution_count": null,
   "metadata": {},
   "outputs": [],
   "source": [
    "def ymd(x):\n",
    "    try:\n",
    "        y = x.split(\"/\")[-1]\n",
    "        m = x.split(\"/\")[0]\n",
    "        d = x.split(\"/\")[1]\n",
    "        return SON(zip(('year', 'month', 'day'), (int(y), int(m), int(d))))\n",
    "    except:\n",
    "        return None\n",
    "    \n",
    "for item in test:\n",
    "    print(ymd(item))"
   ]
  },
  {
   "cell_type": "code",
   "execution_count": null,
   "metadata": {},
   "outputs": [],
   "source": [
    "solar_header = [x.replace(\" \",\"_\").replace(\"$\",\"\").replace(\"/\",\"_\").lower() for x in solar_header]\n",
    "solar_header"
   ]
  },
  {
   "cell_type": "code",
   "execution_count": null,
   "metadata": {},
   "outputs": [],
   "source": [
    "solar_json = []\n",
    "\n",
    "for row in solar_data:\n",
    "    \n",
    "    row = dict(zip(solar_header, row))\n",
    "    \n",
    "    row['reporting_period'] = dates(row['reporting_period'])\n",
    "    \n",
    "    row['date_application_received'] = ymd(row['date_application_received'])\n",
    "    \n",
    "    try:\n",
    "        row['date_completed'] = ymd(row['date_completed'])\n",
    "    except:\n",
    "        pass\n",
    "    \n",
    "    app_list0 = row['location_1'].split('\\n')\n",
    "    app_dict0 = dict(zip(['address', 'geo'], app_list0))\n",
    "    \n",
    "    row['location'] = app_dict0\n",
    "    \n",
    "    del row['location_1']\n",
    "    \n",
    "    for col in ['total_inverter_quantity', 'total_pv_module_quantity', \n",
    "                'project_cost', 'incentive','total_nameplate_kw_dc',\n",
    "                'expected_kwh_annual_production']:\n",
    "        row[col] = nums(row[col])\n",
    "        \n",
    "    row['current_date'] = datetime.datetime.now()\n",
    "    \n",
    "    solar_json.append(row)\n",
    "        \n",
    "        "
   ]
  },
  {
   "cell_type": "code",
   "execution_count": null,
   "metadata": {},
   "outputs": [],
   "source": [
    "for k, v in solar_json[0].items():\n",
    "    print(k, '>>>', v)"
   ]
  },
  {
   "cell_type": "code",
   "execution_count": null,
   "metadata": {},
   "outputs": [],
   "source": [
    "pprint(solar_json[0], width=132, indent=2)"
   ]
  },
  {
   "cell_type": "code",
   "execution_count": null,
   "metadata": {},
   "outputs": [],
   "source": [
    "with open('solar-data.json', 'w') as fp:\n",
    "    json.dump(fp=fp, obj=solar_json, indent=2, default=json_util.default)"
   ]
  },
  {
   "cell_type": "code",
   "execution_count": null,
   "metadata": {},
   "outputs": [],
   "source": [
    "with open('solar-data.json', 'r') as f:\n",
    "    json_data = json.load(f, object_hook=json_util.object_hook)"
   ]
  },
  {
   "cell_type": "code",
   "execution_count": null,
   "metadata": {},
   "outputs": [],
   "source": [
    "type(json_data)"
   ]
  },
  {
   "cell_type": "code",
   "execution_count": null,
   "metadata": {},
   "outputs": [],
   "source": [
    "type(json_data[0])"
   ]
  },
  {
   "cell_type": "code",
   "execution_count": null,
   "metadata": {},
   "outputs": [],
   "source": [
    "for k, v in json_data[0].items():\n",
    "    print(k, '>>>', v)"
   ]
  },
  {
   "cell_type": "code",
   "execution_count": null,
   "metadata": {},
   "outputs": [],
   "source": [
    "pprint(json_data[0], width=132, indent=2)"
   ]
  },
  {
   "cell_type": "code",
   "execution_count": null,
   "metadata": {},
   "outputs": [],
   "source": []
  }
 ],
 "metadata": {
  "kernelspec": {
   "display_name": "Python 3",
   "language": "python",
   "name": "python3"
  },
  "language_info": {
   "codemirror_mode": {
    "name": "ipython",
    "version": 3
   },
   "file_extension": ".py",
   "mimetype": "text/x-python",
   "name": "python",
   "nbconvert_exporter": "python",
   "pygments_lexer": "ipython3",
   "version": "3.8.3"
  }
 },
 "nbformat": 4,
 "nbformat_minor": 4
}
